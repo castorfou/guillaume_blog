{
 "cells": [
  {
   "cell_type": "markdown",
   "metadata": {},
   "source": [
    "# \"Conda and jupyter tips\"\n",
    "> \"some useful commands I daily use\"\n",
    "- show_tags: true\n",
    "- toc: true\n",
    "- branch: master\n",
    "- badges: false\n",
    "- comments: true\n",
    "- categories: [conda, jupyter] \n",
    "- image: https://avatars.githubusercontent.com/u/6392739?s=400&v=4"
   ]
  },
  {
   "cell_type": "markdown",
   "metadata": {},
   "source": [
    "# Keeping track of python environments"
   ]
  },
  {
   "cell_type": "markdown",
   "metadata": {},
   "source": [
    "I manage all my python environments with `conda` from `miniconda`."
   ]
  },
  {
   "cell_type": "markdown",
   "metadata": {},
   "source": [
    "## manual way"
   ]
  },
  {
   "cell_type": "markdown",
   "metadata": {},
   "source": [
    "However I don't have a strong process to keep track of my environment specifications. Usually I manually create an `env.txt` file under my projects. Keeping all commands I have used to create that environment."
   ]
  },
  {
   "cell_type": "code",
   "execution_count": 1,
   "metadata": {
    "ExecuteTime": {
     "end_time": "2021-02-16T08:28:31.058383Z",
     "start_time": "2021-02-16T08:28:30.947886Z"
    }
   },
   "outputs": [
    {
     "name": "stdout",
     "output_type": "stream",
     "text": [
      "env_name: mit_6S191\r\n",
      "libraries: python 3.7, tensorflow 2\r\n",
      "\r\n",
      "\r\n",
      "Installation commands:\r\n",
      "conda create -n mit_6S191 python=3.7\r\n",
      "conda activate mit_6S191\r\n",
      "\r\n",
      "conda install tensorflow tensorflow-gpu\r\n",
      "conda install -c conda-forge jupyter_contrib_nbextensions\r\n",
      "conda install matplotlib numpy opencv\r\n",
      "conda install -c pytorch torchvision\r\n",
      "conda install nb_conda\r\n"
     ]
    }
   ],
   "source": [
    "!cat /home/explore/git/guillaume/mit_6S191_Intro_to_deep_learning/env\\ \\ mit_6S191.txt"
   ]
  },
  {
   "cell_type": "markdown",
   "metadata": {},
   "source": [
    "What happens if I add packages in that environment. Or want to use that environment in another project. I have to remember the link between env name and project name.\n",
    "\n",
    "That is not robust."
   ]
  },
  {
   "cell_type": "markdown",
   "metadata": {},
   "source": [
    "## yml way"
   ]
  },
  {
   "cell_type": "markdown",
   "metadata": {},
   "source": [
    "Keeping a yml file could be a solution to keep track of environment specifications. It doesn't answer to my last concern though (linking env name and project name)\n",
    "\n",
    "But there is a limitation linked with channels."
   ]
  },
  {
   "cell_type": "code",
   "execution_count": 2,
   "metadata": {
    "ExecuteTime": {
     "end_time": "2021-02-16T08:33:46.090378Z",
     "start_time": "2021-02-16T08:33:44.974630Z"
    }
   },
   "outputs": [
    {
     "name": "stdout",
     "output_type": "stream",
     "text": [
      "name: fastai\r\n",
      "channels:\r\n",
      "  - defaults\r\n",
      "dependencies:\r\n",
      "  - python=3.8\r\n",
      "  - fastai\r\n",
      "  - jupyter\r\n",
      "  - jupyter_contrib_nbextensions\r\n",
      "  - fastbook\r\n",
      "prefix: /home/explore/miniconda3/envs/fastai\r\n"
     ]
    }
   ],
   "source": [
    "!conda env export --from-history"
   ]
  },
  {
   "cell_type": "markdown",
   "metadata": {},
   "source": [
    "In that example, `fastai` package should come from `fastai` channel but conda doesn't keep that information.\n",
    "\n",
    "Using \n",
    "```bash\n",
    "conda install -n my_env rdkit::rdkit\n",
    "```\n",
    "could be an option."
   ]
  },
  {
   "cell_type": "markdown",
   "metadata": {},
   "source": [
    "## automate yml way"
   ]
  },
  {
   "cell_type": "markdown",
   "metadata": {},
   "source": [
    "Since conda keeps active environment in env variable `CONDA_DEFAULT_ENV`, we can automatically create up-to-date yml file."
   ]
  },
  {
   "cell_type": "code",
   "execution_count": 3,
   "metadata": {
    "ExecuteTime": {
     "end_time": "2021-02-16T08:41:46.167705Z",
     "start_time": "2021-02-16T08:41:46.056975Z"
    }
   },
   "outputs": [
    {
     "name": "stdout",
     "output_type": "stream",
     "text": [
      "fastai\r\n"
     ]
    }
   ],
   "source": [
    "!echo $CONDA_DEFAULT_ENV"
   ]
  },
  {
   "cell_type": "code",
   "execution_count": 8,
   "metadata": {
    "ExecuteTime": {
     "end_time": "2021-02-16T08:43:41.442036Z",
     "start_time": "2021-02-16T08:43:40.243795Z"
    }
   },
   "outputs": [
    {
     "name": "stdout",
     "output_type": "stream",
     "text": [
      "/home/explore/temp/env_fastai.yml\r\n"
     ]
    }
   ],
   "source": [
    "!conda env export --from-history > ~/temp/env_`echo $CONDA_DEFAULT_ENV`.yml\n",
    "!ls ~/temp/env_`echo $CONDA_DEFAULT_ENV`.yml"
   ]
  },
  {
   "cell_type": "markdown",
   "metadata": {},
   "source": [
    "But for it to be usable, I will have to install package using the `<channel>::<package>` way."
   ]
  },
  {
   "cell_type": "code",
   "execution_count": 1,
   "metadata": {
    "ExecuteTime": {
     "end_time": "2021-02-16T09:03:15.366989Z",
     "start_time": "2021-02-16T09:03:15.257688Z"
    }
   },
   "outputs": [
    {
     "name": "stdout",
     "output_type": "stream",
     "text": [
      "#!/bin/bash\r\n",
      "conda env export --from-history > env_`echo $CONDA_DEFAULT_ENV`.yml\r\n"
     ]
    }
   ],
   "source": [
    "!cat /home/explore/git/guillaume/mit_6S191_Intro_to_deep_learning/create_yml.sh"
   ]
  },
  {
   "cell_type": "markdown",
   "metadata": {},
   "source": [
    "# Conda commands"
   ]
  },
  {
   "cell_type": "markdown",
   "metadata": {},
   "source": [
    "When managing conda environments, I very often fall on this documentation page which is simply great: [https://docs.conda.io/projects/conda/en/latest/user-guide/tasks/manage-environments.html](https://docs.conda.io/projects/conda/en/latest/user-guide/tasks/manage-environments.html)\n",
    "\n",
    "Next time I visit this page, I will enter entries here to track my common commands."
   ]
  },
  {
   "cell_type": "markdown",
   "metadata": {},
   "source": [
    "# Jupyter installation"
   ]
  },
  {
   "cell_type": "markdown",
   "metadata": {},
   "source": [
    "## Jupyter extensions"
   ]
  },
  {
   "cell_type": "markdown",
   "metadata": {},
   "source": [
    "I have already explained how to install jupyter extensions and the one I use.\n",
    "[update jupyter to include extensions](/guillaume_blog/fastai/jupyter/fastbook/2020/09/24/fastai-book.html#update-jupyter-to-include-extensions-(toc,-...))"
   ]
  },
  {
   "cell_type": "markdown",
   "metadata": {},
   "source": [
    "## nb_conda"
   ]
  },
  {
   "cell_type": "markdown",
   "metadata": {},
   "source": [
    "This is usefull to switch from environment to another without having to stop/restart jupyter.\n",
    "\n",
    "![](../images/nb_conda.png)"
   ]
  },
  {
   "cell_type": "code",
   "execution_count": null,
   "metadata": {},
   "outputs": [],
   "source": []
  }
 ],
 "metadata": {
  "kernelspec": {
   "display_name": "Python [conda env:fastai] *",
   "language": "python",
   "name": "conda-env-fastai-py"
  },
  "language_info": {
   "codemirror_mode": {
    "name": "ipython",
    "version": 3
   },
   "file_extension": ".py",
   "mimetype": "text/x-python",
   "name": "python",
   "nbconvert_exporter": "python",
   "pygments_lexer": "ipython3",
   "version": "3.8.2"
  },
  "toc": {
   "base_numbering": 1,
   "nav_menu": {},
   "number_sections": true,
   "sideBar": true,
   "skip_h1_title": false,
   "title_cell": "Table of Contents",
   "title_sidebar": "Contents",
   "toc_cell": false,
   "toc_position": {},
   "toc_section_display": true,
   "toc_window_display": true
  }
 },
 "nbformat": 4,
 "nbformat_minor": 4
}
