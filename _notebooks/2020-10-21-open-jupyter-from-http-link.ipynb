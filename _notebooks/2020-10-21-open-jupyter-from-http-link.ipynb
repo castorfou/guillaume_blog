{
 "cells": [
  {
   "cell_type": "markdown",
   "metadata": {},
   "source": [
    "# Open Jupyter Notebook with http launch instead of redirect file\n",
    "> usefull when starting jupyter notebook from WSL\n",
    "- show_tags: true\n",
    "- toc: true\n",
    "- branch: master\n",
    "- badges: false\n",
    "- comments: true\n",
    "- categories: [jupyter, WSL]"
   ]
  },
  {
   "cell_type": "markdown",
   "metadata": {},
   "source": [
    "# Where is the problem?"
   ]
  },
  {
   "cell_type": "markdown",
   "metadata": {},
   "source": [
    "Default configuration when launching jupyter notebook is to create a redirect file.\n",
    "\n",
    "Here is the explanation from config file `~/.jupyter/jupyter_notebook_config.py`.\n",
    "```\n",
    "## Disable launching browser by redirect file\n",
    "#\n",
    "#  For versions of notebook > 5.7.2, a security feature measure was added that\n",
    "#  prevented the authentication token used to launch the browser from being\n",
    "#  visible. This feature makes it difficult for other users on a multi-user\n",
    "#  system from running code in your Jupyter session as you.\n",
    "#\n",
    "#  However, some environments (like Windows Subsystem for Linux (WSL) and\n",
    "#  Chromebooks), launching a browser using a redirect file can lead the browser\n",
    "#  failing to load. This is because of the difference in file structures/paths\n",
    "#  between the runtime and the browser.\n",
    "#\n",
    "#  Disabling this setting to False will disable this behavior, allowing the\n",
    "#  browser to launch by using a URL and visible token (as before).\n",
    "#c.NotebookApp.use_redirect_file = True\n",
    "```"
   ]
  },
  {
   "cell_type": "markdown",
   "metadata": {},
   "source": [
    "And when launching `jupyter notebook` from WSL\n",
    "\n",
    "```\n",
    "(xgboost) guillaume@LL11LPC0PQARQ:~/git/d059-vld-ic$ jupyter notebook\n",
    "[I 13:09:57.346 NotebookApp] The port 8888 is already in use, trying another port.\n",
    "[I 13:09:57.370 NotebookApp] [jupyter_nbextensions_configurator] enabled 0.4.1\n",
    "[I 13:09:57.371 NotebookApp] Serving notebooks from local directory: /mnt/d/git/d059-vld-ic\n",
    "[I 13:09:57.372 NotebookApp] The Jupyter Notebook is running at:\n",
    "[I 13:09:57.373 NotebookApp] http://localhost:8889/?token=c3f77aea548937f5f563e0306d982d4332d26b0ed623e662\n",
    "[I 13:09:57.373 NotebookApp]  or http://127.0.0.1:8889/?token=c3f77aea548937f5f563e0306d982d4332d26b0ed623e662\n",
    "[I 13:09:57.374 NotebookApp] Use Control-C to stop this server and shut down all kernels (twice to skip confirmation).\n",
    "[C 13:10:00.384 NotebookApp]\n",
    "\n",
    "    To access the notebook, open this file in a browser:\n",
    "        file:///home/guillaume/.local/share/jupyter/runtime/nbserver-828-open.html\n",
    "    Or copy and paste one of these URLs:\n",
    "        http://localhost:8889/?token=c3f77aea548937f5f563e0306d982d4332d26b0ed623e662\n",
    "     or http://127.0.0.1:8889/?token=c3f77aea548937f5f563e0306d982d4332d26b0ed623e662\n",
    "```\n"
   ]
  },
  {
   "cell_type": "markdown",
   "metadata": {},
   "source": [
    "![alt text](../images/jupyter_fail.jpg \"jupyter with redirect file\")"
   ]
  },
  {
   "cell_type": "markdown",
   "metadata": {},
   "source": [
    "# Solution"
   ]
  },
  {
   "cell_type": "markdown",
   "metadata": {},
   "source": [
    "As given in https://stackoverflow.com/questions/57679894/how-to-change-jupyter-launch-from-file-to-url, \n",
    "\n",
    "update jupyter config file to change `#c.NotebookApp.use_redirect_file = True` to `c.NotebookApp.use_redirect_file = False`\n",
    "\n",
    "\n"
   ]
  },
  {
   "cell_type": "markdown",
   "metadata": {},
   "source": [
    "![alt text](../images/jupyter_success.jpg \"jupyter with http launch\")"
   ]
  },
  {
   "cell_type": "markdown",
   "metadata": {
    "ExecuteTime": {
     "end_time": "2020-10-21T11:20:26.201258Z",
     "start_time": "2020-10-21T11:20:26.195258Z"
    }
   },
   "source": [
    "<div>\n",
    "<img src=\"https://img-4.linternaute.com/4tC59wODQO-XwRW7aUvA2L0R8CU=/1240x/smart/58a870dd31204d018fb85beab5c21f09/ccmcms-linternaute/10082316.jpg\" width=\"400\">\n",
    "</div>"
   ]
  },
  {
   "cell_type": "code",
   "execution_count": null,
   "metadata": {},
   "outputs": [],
   "source": []
  }
 ],
 "metadata": {
  "kernelspec": {
   "display_name": "Python 3",
   "language": "python",
   "name": "python3"
  },
  "language_info": {
   "codemirror_mode": {
    "name": "ipython",
    "version": 3
   },
   "file_extension": ".py",
   "mimetype": "text/x-python",
   "name": "python",
   "nbconvert_exporter": "python",
   "pygments_lexer": "ipython3",
   "version": "3.8.2"
  },
  "toc": {
   "base_numbering": 1,
   "nav_menu": {},
   "number_sections": true,
   "sideBar": true,
   "skip_h1_title": false,
   "title_cell": "Table of Contents",
   "title_sidebar": "Contents",
   "toc_cell": false,
   "toc_position": {},
   "toc_section_display": true,
   "toc_window_display": false
  },
  "varInspector": {
   "cols": {
    "lenName": 16,
    "lenType": 16,
    "lenVar": 40
   },
   "kernels_config": {
    "python": {
     "delete_cmd_postfix": "",
     "delete_cmd_prefix": "del ",
     "library": "var_list.py",
     "varRefreshCmd": "print(var_dic_list())"
    },
    "r": {
     "delete_cmd_postfix": ") ",
     "delete_cmd_prefix": "rm(",
     "library": "var_list.r",
     "varRefreshCmd": "cat(var_dic_list()) "
    }
   },
   "types_to_exclude": [
    "module",
    "function",
    "builtin_function_or_method",
    "instance",
    "_Feature"
   ],
   "window_display": false
  }
 },
 "nbformat": 4,
 "nbformat_minor": 4
}
