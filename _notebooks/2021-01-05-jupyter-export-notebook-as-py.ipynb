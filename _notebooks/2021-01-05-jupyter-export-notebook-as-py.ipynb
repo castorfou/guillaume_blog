{
 "cells": [
  {
   "cell_type": "markdown",
   "metadata": {},
   "source": [
    "# \"Auto export python code from jupyter notebooks\"\n",
    "> \"because it is easier to search from .py files in text format. Using file save hooks from Jupyter, using nbconvert\"\n",
    "- show_tags: true\n",
    "- toc: true\n",
    "- branch: master\n",
    "- badges: false\n",
    "- comments: true\n",
    "- categories: [jupyter]"
   ]
  },
  {
   "cell_type": "markdown",
   "metadata": {},
   "source": [
    "This hack comes from https://github.com/jupyter/notebook/blob/master/docs/source/extending/savehooks.rst.\n",
    "\n"
   ]
  },
  {
   "cell_type": "markdown",
   "metadata": {},
   "source": [
    "# jupyter_notebook_config.py"
   ]
  },
  {
   "cell_type": "markdown",
   "metadata": {},
   "source": [
    "Here is the code:\n",
    "\n",
    "```python\n",
    "# Based off of https://github.com/jupyter/notebook/blob/master/docs/source/extending/savehooks.rst\n",
    "\n",
    "import io\n",
    "import os\n",
    "from notebook.utils import to_api_path\n",
    "\n",
    "_script_exporter = None\n",
    "_html_exporter = None\n",
    "\n",
    "def script_post_save(model, os_path, contents_manager, **kwargs):\n",
    "    \"\"\"convert notebooks to Python script after save with nbconvert\n",
    "\n",
    "    replaces `ipython notebook --script`\n",
    "    \"\"\"\n",
    "    from nbconvert.exporters.script import ScriptExporter\n",
    "    from nbconvert.exporters.html import HTMLExporter\n",
    "\n",
    "    if model['type'] != 'notebook':\n",
    "        return\n",
    "\n",
    "    global _script_exporter\n",
    "    if _script_exporter is None:\n",
    "        _script_exporter = ScriptExporter(parent=contents_manager)\n",
    "    log = contents_manager.log\n",
    "\n",
    "    global _html_exporter\n",
    "    if _html_exporter is None:\n",
    "        _html_exporter = HTMLExporter(parent=contents_manager)\n",
    "    log = contents_manager.log\n",
    "\n",
    "    # save .py file\n",
    "    base, ext = os.path.splitext(os_path)\n",
    "    script, resources = _script_exporter.from_filename(os_path)\n",
    "    # si le sous rep eports_py existe, on ecrit dedans, sinon on ecrit à la racine\n",
    "    sous_rep=''\n",
    "    repertoire=os.path.dirname(base)\n",
    "    if os.path.exists(repertoire+'/exports_py'):\n",
    "        sous_rep='/exports_py'\n",
    "    basename = os.path.basename(base)\n",
    "    script_fname = repertoire+ sous_rep+'/'+basename+resources.get('output_extension', '.txt')\n",
    "    log.info(\"base: {}, basename: {}, sous_rep: {}, repertoire: {}\".format(base, basename, sous_rep, repertoire))\n",
    "    log.info(\"script_fname: {}\".format(script_fname))\n",
    "    #script_fname = base + resources.get('output_extension', '.txt')\n",
    "    log.info(\"Saving script /%s\", to_api_path(script_fname, contents_manager.root_dir))\n",
    "    with io.open(script_fname, 'w', encoding='utf-8') as f:\n",
    "        f.write(script)\n",
    "\n",
    "\"\"\"\n",
    "    # save html\n",
    "    base, ext = os.path.splitext(os_path)\n",
    "    script, resources = _html_exporter.from_filename(os_path)\n",
    "    script_fname = base + resources.get('output_extension', '.txt')\n",
    "    log.info(\"Saving html /%s\", to_api_path(script_fname, contents_manager.root_dir))\n",
    "    with io.open(script_fname, 'w', encoding='utf-8') as f:\n",
    "        f.write(script)\n",
    "        \n",
    "\"\"\"\n",
    "\n",
    "c.FileContentsManager.post_save_hook = script_post_save\n",
    "```"
   ]
  },
  {
   "cell_type": "markdown",
   "metadata": {},
   "source": [
    "In this version, if a subfolder `exports_py` exists, .py version will be exported in it. Oherwise it will be exported in the notebook folder.\n",
    "\n",
    "Maybe in a later version it would be good to export only of this subfolder exists. (for example I don't need these py files when creating such a blog entry, even if my `.gitignore` won't publish .py files)\n",
    "\n",
    "And to remove the creation of `Untitled.txt` files when notebooks are just being created (and not yet named)."
   ]
  },
  {
   "cell_type": "markdown",
   "metadata": {},
   "source": [
    "# deployment"
   ]
  },
  {
   "cell_type": "markdown",
   "metadata": {},
   "source": [
    "Just save/merge this `jupyter_notebook_config.py` file ([download](https://github.com/castorfou/guillaume_blog/blob/master/files/jupyter_notebook_config.py.file)) to your jupyter home directory.\n",
    "\n",
    "According to [Config file and command line options](https://jupyter-notebook.readthedocs.io/en/stable/config.html) in jupyter documentation, it is located at `~/.jupyter`\n",
    "\n",
    "And in windows it is at `C:\\Users\\<yourID>\\.jupyter`\n",
    "\n",
    "\n",
    "This will be valid for all your conda environments."
   ]
  },
  {
   "cell_type": "markdown",
   "metadata": {},
   "source": [
    "# test"
   ]
  },
  {
   "cell_type": "markdown",
   "metadata": {},
   "source": [
    "```bash\n",
    "~/.jupyter$ cp ~/git/guillaume/blog/files/jupyter_notebook_config.py .\n",
    "```\n",
    "\n",
    "Restart Jupyter notebook server and click save on any notebook:\n",
    "\n",
    "![voila](../images/export_py.png \"voila!\")"
   ]
  },
  {
   "cell_type": "code",
   "execution_count": null,
   "metadata": {},
   "outputs": [],
   "source": []
  }
 ],
 "metadata": {
  "kernelspec": {
   "display_name": "Python [conda env:fastai]",
   "language": "python",
   "name": "conda-env-fastai-py"
  },
  "language_info": {
   "codemirror_mode": {
    "name": "ipython",
    "version": 3
   },
   "file_extension": ".py",
   "mimetype": "text/x-python",
   "name": "python",
   "nbconvert_exporter": "python",
   "pygments_lexer": "ipython3",
   "version": "3.8.2"
  },
  "toc": {
   "base_numbering": 1,
   "nav_menu": {},
   "number_sections": true,
   "sideBar": true,
   "skip_h1_title": false,
   "title_cell": "Table of Contents",
   "title_sidebar": "Contents",
   "toc_cell": false,
   "toc_position": {},
   "toc_section_display": true,
   "toc_window_display": true
  }
 },
 "nbformat": 4,
 "nbformat_minor": 4
}
