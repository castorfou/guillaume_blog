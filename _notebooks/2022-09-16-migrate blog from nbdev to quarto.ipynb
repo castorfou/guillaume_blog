{
 "cells": [
  {
   "cell_type": "markdown",
   "metadata": {},
   "source": [
    "# \"Blog - migrate to quarto\"\n",
    "> \"following migration guide from Hamel Hussain\"\n",
    "- show_tags: true\n",
    "- toc: true\n",
    "- branch: master\n",
    "- badges: false\n",
    "- comments: true\n",
    "- categories: [nbdev, quarto, fastpages]\n",
    "- image: images/icons/fastai.png\n"
   ]
  },
  {
   "cell_type": "markdown",
   "metadata": {},
   "source": [
    "# Inspiration"
   ]
  },
  {
   "cell_type": "markdown",
   "metadata": {},
   "source": [
    "Hamel just announced that [fastpages will be discontinued](https://forums.fast.ai/t/fastpages-deprecating-fastpages-in-favor-of-quarto/99095) as nbdev+quarto is now a valid option to provide a blogging platform.\n",
    "He has written a [migration guide](https://nbdev.fast.ai/tutorials/blogging.html) for that. \n",
    "\n",
    "This is my walkthrough.\n"
   ]
  },
  {
   "cell_type": "markdown",
   "metadata": {},
   "source": [
    "# Walkthrough"
   ]
  },
  {
   "cell_type": "markdown",
   "metadata": {},
   "source": [
    "## install quarto"
   ]
  },
  {
   "cell_type": "markdown",
   "metadata": {},
   "source": [
    "```bash\n",
    "$ sudo apt install quarto\n",
    "[sudo] password for guillaume:\n",
    "Reading package lists... Done\n",
    "Building dependency tree... Done\n",
    "Reading state information... Done\n",
    "quarto is already the newest version (1.1.189).\n",
    "0 upgraded, 0 newly installed, 0 to remove and 0 not upgraded.\n",
    "```\n",
    "\n",
    "will have to see what will happen on platforms where I don't have admin rights.\n",
    "\n",
    "Here Quarto is already present because I use it for nbdev2.\n"
   ]
  },
  {
   "cell_type": "markdown",
   "metadata": {},
   "source": [
    "## create repo `blog`"
   ]
  },
  {
   "cell_type": "markdown",
   "metadata": {},
   "source": [
    "I create `blog` repo on github.\n",
    "\n",
    "And I can now get it locally: `git clone https://github.com/castorfou/blog.git` (I am from office, only https is accepted)"
   ]
  },
  {
   "cell_type": "markdown",
   "metadata": {},
   "source": [
    "## create a quarto blog"
   ]
  },
  {
   "cell_type": "markdown",
   "metadata": {},
   "source": [
    "```bash\n",
    "cd ~/git/blog\n",
    "quarto create-project --type website:blog .\n",
    "quarto install extension quarto-ext/video\n",
    "```"
   ]
  },
  {
   "cell_type": "markdown",
   "metadata": {},
   "source": [
    "Issue here with \n",
    "\n",
    "```bash\n",
    "$ quarto install extension quarto-ext/video\n",
    "Sending fatal alert BadCertificate\n",
    "ERROR: TypeError: error sending request for url (https://github.com/quarto-ext/video/archive/refs/heads/main.tar.gz): error trying to connect: invalid peer certificate contents: invalid peer certificate: UnknownIssuer\n",
    "```\n",
    "\n",
    "I have opened an issue at https://github.com/quarto-ext/video/issues/27"
   ]
  },
  {
   "cell_type": "markdown",
   "metadata": {},
   "source": [
    "## copy former blog content - notebooks and markdown files"
   ]
  },
  {
   "cell_type": "markdown",
   "metadata": {},
   "source": [
    "Your new repo will have a `posts/` directory. \n",
    "\n",
    "This is where you will copy all of your notebook and markdown posts from fastpages. "
   ]
  },
  {
   "cell_type": "markdown",
   "metadata": {},
   "source": [
    "```bash\n",
    "cp -r ../guillaume_blog/_notebooks/* posts/\n",
    "cp -r ../guillaume_blog/_posts/* posts/\n",
    "```"
   ]
  },
  {
   "cell_type": "markdown",
   "metadata": {},
   "source": [
    "I have to fix some stuff here, \n",
    "\n",
    "some markdown posts have empty description which is not allowed by the migration process.\n",
    "\n",
    "To fix that I will run `sed -i -- 's/^description:[[:space:]*]$/description:\\ \\\"\\\"/' ~/git/blog/posts/*.md`\n",
    "\n",
    "Globally to identify culprit, I execute this:\n",
    "```bash\n",
    "for FILE in ../guillaume_blog/_posts/*; \\\n",
    "do echo $FILE; \\\n",
    "cp \"$FILE\" posts/; \\\n",
    "sed -i -- 's/^description:[[:space:]*]$/description:\\ \\\"\\\"/' ~/git/blog/posts/*.md; \\\n",
    "nbdev_migrate --path posts; \\\n",
    "rm -f posts/* 2> /dev/null; \\\n",
    "done;\n",
    "```"
   ]
  },
  {
   "cell_type": "markdown",
   "metadata": {},
   "source": [
    "```bash\n",
    "# empty description\n",
    "sed -i -- 's/^description:[[:space:]*]$/description:\\ \\\"\\\"/' ~/git/blog/posts/*.md\n",
    "# don't know what is wrong with this one, will see with Hamel\n",
    "rm posts/2021-02-10-college-de-france-representations-parcimonieuses.md\n",
    "# code should not be here\n",
    "rm posts/notebook2script.py \n",
    "rm -rf posts/exp\n",
    "```"
   ]
  },
  {
   "cell_type": "markdown",
   "metadata": {},
   "source": [
    "What was wrong with `2021-02-10-college-de-france-representations-parcimonieuses.md` was accents in title. Removing é with e fixed it."
   ]
  },
  {
   "cell_type": "markdown",
   "metadata": {},
   "source": [
    "## copy former blog content - images"
   ]
  },
  {
   "cell_type": "markdown",
   "metadata": {},
   "source": [
    "```bash\n",
    "cp -r ../guillaume_blog/images/* posts\n",
    "cp -r ../guillaume_blog/images/copied_from_nb/* posts\n",
    "```"
   ]
  },
  {
   "cell_type": "markdown",
   "metadata": {},
   "source": [
    "## migrate posts to quarto"
   ]
  },
  {
   "cell_type": "markdown",
   "metadata": {},
   "source": [
    "```bash\n",
    "conda activate dataset_tools #this is an env with nbdev installed\n",
    "nbdev_migrate --path posts\n",
    "```"
   ]
  },
  {
   "cell_type": "markdown",
   "metadata": {},
   "source": [
    "## update some files"
   ]
  },
  {
   "cell_type": "markdown",
   "metadata": {},
   "source": [
    "- `.gitignore`: we suggest adding `_site/` as well as dot files `.*`\n",
    "- `about.qmd`: I reuse my former `_pages/about.md`\n",
    "- `profile.jpg`: and use my profile picture"
   ]
  },
  {
   "cell_type": "code",
   "execution_count": 12,
   "metadata": {},
   "outputs": [
    {
     "name": "stdout",
     "output_type": "stream",
     "text": [
      "/.quarto/\r\n",
      "_site/\r\n",
      ".*\r\n"
     ]
    }
   ],
   "source": [
    "!cat ~/git/blog/.gitignore"
   ]
  },
  {
   "cell_type": "markdown",
   "metadata": {},
   "source": [
    "## preview"
   ]
  },
  {
   "cell_type": "markdown",
   "metadata": {},
   "source": [
    "```bash\n",
    "quarto preview\n",
    "```"
   ]
  },
  {
   "cell_type": "markdown",
   "metadata": {},
   "source": [
    "Here we can fix many thinks, and auto update rendered pages is just excellent!\n",
    "\n",
    "* move images from posts to posts/images (have to restart quarto preview after that)\n",
    "* delete the 2 examples (welcome and post-with-code)\n",
    "\n",
    "Will have to browse through all the site to see if all is properly rendered. \n",
    "> fix for broken links or Jekyll shortcodes (things with {% ... %}) that need to be converted to Quarto. Search the the Quarto documentation if you need help locating specific Quarto features.\n",
    "\n"
   ]
  },
  {
   "cell_type": "markdown",
   "metadata": {},
   "source": [
    "## publication"
   ]
  },
  {
   "cell_type": "markdown",
   "metadata": {},
   "source": [
    "There are 2 ways to publish. A straightforword one by calling `quarto publish`. And a more advanced one with github actions.\n",
    "\n",
    "Using my corporate PC, `quarto publish` fails so I will give github actions a try.\n",
    "\n",
    "### quarto publish\n",
    "\n",
    "```bash\n",
    "quarto publish\n",
    "```\n",
    "\n",
    ":heavy_check_mark: This is ok when publishing with home PC. \n",
    "\n",
    ":x: But fails when publishing with corporate PC."
   ]
  },
  {
   "cell_type": "markdown",
   "metadata": {},
   "source": [
    "shared it with community at discord:\n",
    "https://discord.com/channels/689892369998676007/1020178609605984267/1020631703653462038"
   ]
  },
  {
   "cell_type": "markdown",
   "metadata": {},
   "source": [
    "### github actions\n",
    "\n",
    "as explained in https://quarto.org/docs/publishing/quarto-pub.html#github-action\n",
    "\n",
    "#### _publish.yml\n",
    "\n",
    "First step is to set `_publish.yml`\n",
    "\n",
    "```bash\n",
    "- source: project\n",
    "  quarto-pub:\n",
    "    - id: \"5f3abafe-68f9-4c1d-835b-9d668b892001\"\n",
    "      url: \"https://castorfou.github.io/blog/\"\n",
    "```\n",
    "\n",
    "but what is this id?"
   ]
  },
  {
   "cell_type": "markdown",
   "metadata": {},
   "source": [
    "# Issues / improvments"
   ]
  },
  {
   "cell_type": "markdown",
   "metadata": {},
   "source": [
    "## quarto publishing issue behind firewall"
   ]
  },
  {
   "cell_type": "markdown",
   "metadata": {},
   "source": [
    "\n",
    "\n",
    "Identical to error happening when installing quarto extension\n",
    "\n",
    "https://github.com/quarto-ext/video/issues/27\n",
    "\n",
    "\n",
    "```bash\n",
    "$ quarto publish\n",
    "? Publish update to: › https://castorfou.github.io/blog/ (GitHub Pages)\n",
    "From https://github.com/castorfou/blog\n",
    " * branch            gh-pages   -> FETCH_HEAD\n",
    " \n",
    "origin  https://github.com/castorfou/blog.git (fetch)\n",
    "origin  https://github.com/castorfou/blog.git (push)\n",
    "To https://github.com/castorfou/blog.git\n",
    " + 0a3710d...1aeaf23 HEAD -> gh-pages (forced update)\n",
    "fatal: 'fadc274b' is not a working tree\n",
    "\n",
    "NOTE: GitHub Pages sites use caching so you might need to click the refresh\n",
    "button within your web browser to see changes after deployment.\n",
    "\n",
    "(\\) Deploying gh-pages branch to website (this may take a few minutes)Sending fatal alert BadCertificate\n",
    "[✓] Deploying gh-pages branch to website (this may take a few minutes)\n",
    "ERROR: TypeError: error sending request for url (https://castorfou.github.io/blog/.nojekyll): error trying to connect: invalid peer certificate contents: invalid peer certificate: UnknownIssuer\n",
    "```"
   ]
  },
  {
   "cell_type": "markdown",
   "metadata": {},
   "source": [
    "For context, I use quarto as a replacement of fastai/fastpages and followed a migration guide from Hamel Hussain asking for this installation.\n",
    "\n",
    "And I'm in a corporate environment with transparent proxies and self signed certificates. \n",
    "My system has updated CERT in /usr/local/share/ca-certificates/, and SSL_CERT_FILE environment variable pointing to updated corporate pem.\n",
    "\n",
    "```\n",
    "$ quarto install extension quarto-ext/lightbox\n",
    "Sending fatal alert BadCertificate\n",
    "ERROR: TypeError: error sending request for url (https://github.com/quarto-ext/lightbox/archive/refs/heads/main.tar.gz): error trying to connect: invalid peer certificate contents: invalid peer certificate: UnknownIssuer\n",
    "```\n",
    "It fails with the same message. \n",
    "When I run `quarto publish` I have the same issue.\n"
   ]
  },
  {
   "cell_type": "markdown",
   "metadata": {},
   "source": [
    "One option is to use github actions. Need to find what is this id used in _publish.yml"
   ]
  },
  {
   "cell_type": "markdown",
   "metadata": {},
   "source": [
    "## inline images are not properly rendered"
   ]
  },
  {
   "cell_type": "markdown",
   "metadata": {},
   "source": [
    "if I have 2 images in 2 cells, it works in jupyter notebook but it is not rendered properly when published."
   ]
  },
  {
   "cell_type": "markdown",
   "metadata": {},
   "source": [
    "## Albert Rapp as an example"
   ]
  },
  {
   "cell_type": "markdown",
   "metadata": {},
   "source": [
    "https://albert-rapp.de/posts/13_quarto_blog_writing_guide/13_quarto_blog_writing_guide.html"
   ]
  },
  {
   "cell_type": "markdown",
   "metadata": {},
   "source": [
    "## links are not rendered as links"
   ]
  },
  {
   "cell_type": "markdown",
   "metadata": {},
   "source": [
    "in jupyter, just typing url turns it into a link. Not with quarto.\n",
    "\n",
    "anyway to do it ?"
   ]
  },
  {
   "cell_type": "markdown",
   "metadata": {},
   "source": [
    "--test--"
   ]
  },
  {
   "cell_type": "code",
   "execution_count": null,
   "metadata": {},
   "outputs": [],
   "source": []
  }
 ],
 "metadata": {
  "kernelspec": {
   "display_name": "dataset_tools",
   "language": "python",
   "name": "dataset_tools"
  },
  "language_info": {
   "codemirror_mode": {
    "name": "ipython",
    "version": 3
   },
   "file_extension": ".py",
   "mimetype": "text/x-python",
   "name": "python",
   "nbconvert_exporter": "python",
   "pygments_lexer": "ipython3",
   "version": "3.9.13"
  },
  "toc": {
   "base_numbering": 1,
   "nav_menu": {},
   "number_sections": true,
   "sideBar": true,
   "skip_h1_title": false,
   "title_cell": "Table of Contents",
   "title_sidebar": "Contents",
   "toc_cell": false,
   "toc_position": {
    "height": "calc(100% - 180px)",
    "left": "10px",
    "top": "150px",
    "width": "367.198px"
   },
   "toc_section_display": true,
   "toc_window_display": true
  }
 },
 "nbformat": 4,
 "nbformat_minor": 4
}
