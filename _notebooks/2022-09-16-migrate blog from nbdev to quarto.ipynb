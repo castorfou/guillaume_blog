{
 "cells": [
  {
   "cell_type": "markdown",
   "metadata": {},
   "source": [
    "# \"Blog - migrate to quarto\"\n",
    "> \"following migration guide from Hamel Hussain\"\n",
    "- show_tags: true\n",
    "- toc: true\n",
    "- branch: master\n",
    "- badges: false\n",
    "- comments: true\n",
    "- categories: [nbdev, quarto, fastpages]\n",
    "- image: images/icons/fastai.png"
   ]
  },
  {
   "cell_type": "markdown",
   "metadata": {},
   "source": [
    "# Inspiration"
   ]
  },
  {
   "cell_type": "markdown",
   "metadata": {},
   "source": [
    "Hamel just announced that [fastpages will be discontinued](https://forums.fast.ai/t/fastpages-deprecating-fastpages-in-favor-of-quarto/99095) as nbdev+quarto is now a valid option to provide a blogging platform.\n",
    "He has written a [migration guide](https://nbdev.fast.ai/tutorials/blogging.html) for that. \n",
    "\n",
    "This is my walkthrough.\n"
   ]
  },
  {
   "cell_type": "markdown",
   "metadata": {},
   "source": [
    "# Walkthrough"
   ]
  },
  {
   "cell_type": "markdown",
   "metadata": {},
   "source": [
    "## install quarto"
   ]
  },
  {
   "cell_type": "markdown",
   "metadata": {},
   "source": [
    "```bash\n",
    "$ sudo apt install quarto\n",
    "[sudo] password for guillaume:\n",
    "Reading package lists... Done\n",
    "Building dependency tree... Done\n",
    "Reading state information... Done\n",
    "quarto is already the newest version (1.1.189).\n",
    "0 upgraded, 0 newly installed, 0 to remove and 0 not upgraded.\n",
    "```\n",
    "\n",
    "will have to see what will happen on platforms where I don't have admin rights.\n",
    "\n",
    "Here Quarto is already present because I use it for nbdev2.\n"
   ]
  },
  {
   "cell_type": "markdown",
   "metadata": {},
   "source": [
    "## create repo `blog`"
   ]
  },
  {
   "cell_type": "markdown",
   "metadata": {},
   "source": [
    "I create `blog` repo on github.\n",
    "\n",
    "And I can now get it locally: `git clone https://github.com/castorfou/blog.git` (I am from office, only https is accepted)"
   ]
  },
  {
   "cell_type": "markdown",
   "metadata": {},
   "source": [
    "## create a quarto blog"
   ]
  },
  {
   "cell_type": "markdown",
   "metadata": {},
   "source": [
    "```bash\n",
    "cd ~/git/blog\n",
    "quarto create-project --type website:blog .\n",
    "quarto install extension quarto-ext/video\n",
    "```"
   ]
  },
  {
   "cell_type": "markdown",
   "metadata": {},
   "source": [
    "Issue here with \n",
    "\n",
    "```bash\n",
    "$ quarto install extension quarto-ext/video\n",
    "Sending fatal alert BadCertificate\n",
    "ERROR: TypeError: error sending request for url (https://github.com/quarto-ext/video/archive/refs/heads/main.tar.gz): error trying to connect: invalid peer certificate contents: invalid peer certificate: UnknownIssuer\n",
    "```\n",
    "\n",
    "I have opened an issue at https://github.com/quarto-ext/video/issues/27"
   ]
  },
  {
   "cell_type": "markdown",
   "metadata": {},
   "source": [
    "## copy former blog content - notebooks and markdown files"
   ]
  },
  {
   "cell_type": "markdown",
   "metadata": {},
   "source": [
    "Your new repo will have a `posts/` directory. \n",
    "\n",
    "This is where you will copy all of your notebook and markdown posts from fastpages. "
   ]
  },
  {
   "cell_type": "markdown",
   "metadata": {},
   "source": [
    "```bash\n",
    "cp -r ../guillaume_blog/_notebooks/* posts/\n",
    "cp -r ../guillaume_blog/_posts/* posts/\n",
    "```"
   ]
  },
  {
   "cell_type": "markdown",
   "metadata": {},
   "source": [
    "I have to fix some stuff here, \n",
    "\n",
    "some markdown posts have empty description which is not allowed by the migration process.\n",
    "\n",
    "To fix that I will run `sed -i -- 's/^description:[[:space:]*]$/description:\\ \\\"\\\"/' ~/git/blog/posts/*.md`\n",
    "\n",
    "Globally to identify culprit, I execute this:\n",
    "```bash\n",
    "for FILE in ../guillaume_blog/_posts/*; \\\n",
    "do echo $FILE; \\\n",
    "cp \"$FILE\" posts/; \\\n",
    "sed -i -- 's/^description:[[:space:]*]$/description:\\ \\\"\\\"/' ~/git/blog/posts/*.md; \\\n",
    "nbdev_migrate --path posts; \\\n",
    "rm -f posts/* 2> /dev/null; \\\n",
    "done;\n",
    "```"
   ]
  },
  {
   "cell_type": "markdown",
   "metadata": {},
   "source": [
    "```bash\n",
    "# empty description\n",
    "sed -i -- 's/^description:[[:space:]*]$/description:\\ \\\"\\\"/' ~/git/blog/posts/*.md\n",
    "# don't know what is wrong with this one, will see with Hamel\n",
    "rm posts/2021-02-10-college-de-france-representations-parcimonieuses.md\n",
    "# code should not be here\n",
    "rm posts/notebook2script.py \n",
    "rm -rf posts/exp\n",
    "```"
   ]
  },
  {
   "cell_type": "markdown",
   "metadata": {},
   "source": [
    "## copy former blog content - images"
   ]
  },
  {
   "cell_type": "markdown",
   "metadata": {},
   "source": [
    "```bash\n",
    "cp -r ../guillaume_blog/images/* posts\n",
    "cp -r ../guillaume_blog/images/copied_from_nb/* posts\n",
    "```"
   ]
  },
  {
   "cell_type": "markdown",
   "metadata": {},
   "source": [
    "## migrate posts to quarto"
   ]
  },
  {
   "cell_type": "markdown",
   "metadata": {},
   "source": [
    "```bash\n",
    "conda activate dataset_tools #this is an env with nbdev installed\n",
    "nbdev_migrate --path posts\n",
    "```"
   ]
  }
 ],
 "metadata": {
  "kernelspec": {
   "display_name": "dataset_tools",
   "language": "python",
   "name": "dataset_tools"
  },
  "language_info": {
   "codemirror_mode": {
    "name": "ipython",
    "version": 3
   },
   "file_extension": ".py",
   "mimetype": "text/x-python",
   "name": "python",
   "nbconvert_exporter": "python",
   "pygments_lexer": "ipython3",
   "version": "3.9.13"
  },
  "toc": {
   "base_numbering": 1,
   "nav_menu": {},
   "number_sections": true,
   "sideBar": true,
   "skip_h1_title": false,
   "title_cell": "Table of Contents",
   "title_sidebar": "Contents",
   "toc_cell": false,
   "toc_position": {
    "height": "calc(100% - 180px)",
    "left": "10px",
    "top": "150px",
    "width": "367.198px"
   },
   "toc_section_display": true,
   "toc_window_display": true
  }
 },
 "nbformat": 4,
 "nbformat_minor": 4
}
