{
 "cells": [
  {
   "cell_type": "markdown",
   "metadata": {},
   "source": [
    "# \"Blog - migrate to quarto\"\n",
    "> \"following migration guide from Hamel Hussain\"\n",
    "- show_tags: true\n",
    "- toc: true\n",
    "- branch: master\n",
    "- badges: false\n",
    "- comments: true\n",
    "- categories: [nbdev, quarto, fastpages]\n",
    "- image: images/icons/fastai.png"
   ]
  },
  {
   "cell_type": "markdown",
   "metadata": {},
   "source": [
    "# Inspiration"
   ]
  },
  {
   "cell_type": "markdown",
   "metadata": {},
   "source": [
    "Hamel just announced that [fastpages will be discontinued](https://forums.fast.ai/t/fastpages-deprecating-fastpages-in-favor-of-quarto/99095) as nbdev+quarto is now a valid option to provide a blogging platform.\n",
    "He has written a [migration guide](https://nbdev.fast.ai/tutorials/blogging.html) for that. \n",
    "\n",
    "This is my walkthrough.\n"
   ]
  },
  {
   "cell_type": "markdown",
   "metadata": {},
   "source": [
    "# Walkthrough"
   ]
  },
  {
   "cell_type": "markdown",
   "metadata": {},
   "source": [
    "## install quarto"
   ]
  },
  {
   "cell_type": "markdown",
   "metadata": {},
   "source": [
    "```bash\n",
    "$ sudo apt install quarto\n",
    "[sudo] password for guillaume:\n",
    "Reading package lists... Done\n",
    "Building dependency tree... Done\n",
    "Reading state information... Done\n",
    "quarto is already the newest version (1.1.189).\n",
    "0 upgraded, 0 newly installed, 0 to remove and 0 not upgraded.\n",
    "```\n",
    "\n",
    "will have to see what will happen on platforms where I don't have admin rights.\n",
    "\n",
    "Here Quarto is already present because I use it for nbdev2.\n"
   ]
  },
  {
   "cell_type": "markdown",
   "metadata": {},
   "source": [
    "## create repo `blog`"
   ]
  },
  {
   "cell_type": "markdown",
   "metadata": {},
   "source": [
    "I create `blog` repo on github.\n",
    "\n",
    "And I can now get it locally: `git clone https://github.com/castorfou/blog.git` (I am from office, only https is accepted)"
   ]
  },
  {
   "cell_type": "markdown",
   "metadata": {},
   "source": [
    "## create a quarto blog"
   ]
  },
  {
   "cell_type": "markdown",
   "metadata": {},
   "source": [
    "```bash\n",
    "cd ~/git/blog\n",
    "quarto create-project --type website:blog .\n",
    "quarto install extension quarto-ext/video\n",
    "```"
   ]
  },
  {
   "cell_type": "markdown",
   "metadata": {},
   "source": [
    "Issue here with \n",
    "\n",
    "```bash\n",
    "$ quarto install extension quarto-ext/video\n",
    "Sending fatal alert BadCertificate\n",
    "ERROR: TypeError: error sending request for url (https://github.com/quarto-ext/video/archive/refs/heads/main.tar.gz): error trying to connect: invalid peer certificate contents: invalid peer certificate: UnknownIssuer\n",
    "```"
   ]
  },
  {
   "cell_type": "markdown",
   "metadata": {},
   "source": [
    "## copy former blog content - notebooks and markdown files"
   ]
  },
  {
   "cell_type": "markdown",
   "metadata": {},
   "source": [
    "Your new repo will have a `posts/` directory. \n",
    "\n",
    "This is where you will copy all of your notebook and markdown posts from fastpages. "
   ]
  },
  {
   "cell_type": "markdown",
   "metadata": {},
   "source": [
    "```bash\n",
    "cp -r ../guillaume_blog/_notebooks/* posts/\n",
    "cp -r ../guillaume_blog/_posts/* posts/\n",
    "```"
   ]
  },
  {
   "cell_type": "markdown",
   "metadata": {},
   "source": [
    "## copy former blog content - images"
   ]
  },
  {
   "cell_type": "markdown",
   "metadata": {},
   "source": [
    "```bash\n",
    "cp -r ../guillaume_blog/images/* posts\n",
    "cp -r ../guillaume_blog/images/copied_from_nb/* posts\n",
    "```"
   ]
  },
  {
   "cell_type": "markdown",
   "metadata": {},
   "source": [
    "## migrate posts to quarto"
   ]
  },
  {
   "cell_type": "markdown",
   "metadata": {},
   "source": [
    "```bash\n",
    "conda activate dataset_tools #this is an env with nbdev installed\n",
    "nbdev_migrate --path posts\n",
    "```"
   ]
  },
  {
   "cell_type": "markdown",
   "metadata": {},
   "source": [
    "Issue here with\n",
    "\n",
    "```bash\n",
    "$ nbdev_migrate --path posts\n",
    "Traceback (most recent call last):\n",
    "  File \"/home/guillaume/miniconda/envs/dataset_tools/lib/python3.9/sre_parse.py\", line 1051, in parse_template\n",
    "    this = chr(ESCAPES[this][1])\n",
    "KeyError: '\\\\x'\n",
    "\n",
    "During handling of the above exception, another exception occurred:\n",
    "\n",
    "Traceback (most recent call last):\n",
    "  File \"/home/guillaume/miniconda/envs/dataset_tools/bin/nbdev_migrate\", line 8, in <module>\n",
    "    sys.exit(nbdev_migrate())\n",
    "  File \"/home/guillaume/miniconda/envs/dataset_tools/lib/python3.9/site-packages/fastcore/script.py\", line 119, in _f\n",
    "    return tfunc(**merge(args, args_from_prog(func, xtra)))\n",
    "  File \"/home/guillaume/miniconda/envs/dataset_tools/lib/python3.9/site-packages/nbdev/migrate.py\", line 168, in nbdev_migrate\n",
    "    if f.name.endswith('.md'): migrate_md(f)\n",
    "  File \"/home/guillaume/miniconda/envs/dataset_tools/lib/python3.9/site-packages/nbdev/migrate.py\", line 153, in migrate_md\n",
    "    txt = fp_md_fm(path)\n",
    "  File \"/home/guillaume/miniconda/envs/dataset_tools/lib/python3.9/site-packages/nbdev/migrate.py\", line 89, in fp_md_fm\n",
    "    return _re_fm_md.sub(_dict2fm(fm), md)\n",
    "  File \"/home/guillaume/miniconda/envs/dataset_tools/lib/python3.9/re.py\", line 327, in _subx\n",
    "    template = _compile_repl(template, pattern)\n",
    "  File \"/home/guillaume/miniconda/envs/dataset_tools/lib/python3.9/re.py\", line 318, in _compile_repl\n",
    "    return sre_parse.parse_template(repl, pattern)\n",
    "  File \"/home/guillaume/miniconda/envs/dataset_tools/lib/python3.9/sre_parse.py\", line 1054, in parse_template\n",
    "    raise s.error('bad escape %s' % this, len(this))\n",
    "re.error: bad escape \\x at position 248 (line 10, column 23)\n",
    "```"
   ]
  },
  {
   "cell_type": "code",
   "execution_count": null,
   "metadata": {},
   "outputs": [],
   "source": []
  }
 ],
 "metadata": {
  "kernelspec": {
   "display_name": "dataset_tools",
   "language": "python",
   "name": "dataset_tools"
  },
  "language_info": {
   "codemirror_mode": {
    "name": "ipython",
    "version": 3
   },
   "file_extension": ".py",
   "mimetype": "text/x-python",
   "name": "python",
   "nbconvert_exporter": "python",
   "pygments_lexer": "ipython3",
   "version": "3.9.13"
  },
  "toc": {
   "base_numbering": 1,
   "nav_menu": {},
   "number_sections": true,
   "sideBar": true,
   "skip_h1_title": false,
   "title_cell": "Table of Contents",
   "title_sidebar": "Contents",
   "toc_cell": false,
   "toc_position": {
    "height": "calc(100% - 180px)",
    "left": "10px",
    "top": "150px",
    "width": "367.198px"
   },
   "toc_section_display": true,
   "toc_window_display": true
  }
 },
 "nbformat": 4,
 "nbformat_minor": 4
}
