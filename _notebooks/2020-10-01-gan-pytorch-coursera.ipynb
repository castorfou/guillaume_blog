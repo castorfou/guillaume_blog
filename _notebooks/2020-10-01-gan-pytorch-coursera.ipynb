{
 "cells": [
  {
   "cell_type": "markdown",
   "metadata": {},
   "source": [
    "# Generative Adversarial Networks (GANs) Specialization from Coursera\n",
    "> \"from Sharon Zhou, deeplearning.ai\"\n",
    "- show_tags: true\n",
    "- toc: true\n",
    "- branch: master\n",
    "- badges: false\n",
    "- comments: true\n",
    "- categories: [gan, pytorch]"
   ]
  },
  {
   "cell_type": "markdown",
   "metadata": {},
   "source": [
    "# Coursera"
   ]
  },
  {
   "cell_type": "markdown",
   "metadata": {},
   "source": [
    "This specialization comes in 3 courses.\n",
    "\n",
    "![alt text](../images/gan_specialization.png \"3 courses for gan specialization\")\n",
    "\n",
    "[Build Basic Generative Adversarial Networks](https://www.coursera.org/learn/build-basic-generative-adversarial-networks-gans/home/welcome)\n",
    "\n",
    "[Build Better Generative Adversarial Networks](https://www.coursera.org/learn/build-better-generative-adversarial-networks-gans/home/welcome)\n",
    "\n",
    "[Apply Generative Adversarial Networks](https://www.coursera.org/learn/apply-generative-adversarial-networks-gans/home/welcome)"
   ]
  },
  {
   "cell_type": "markdown",
   "metadata": {},
   "source": [
    "# env installation"
   ]
  },
  {
   "cell_type": "markdown",
   "metadata": {},
   "source": [
    "I am just getting the version from coursera to be sure I have the same behaviour."
   ]
  },
  {
   "cell_type": "code",
   "execution_count": 1,
   "metadata": {
    "colab": {},
    "colab_type": "code",
    "id": "fwp6T5ZMteDC"
   },
   "outputs": [],
   "source": [
    "import torch"
   ]
  },
  {
   "cell_type": "code",
   "execution_count": 2,
   "metadata": {},
   "outputs": [
    {
     "name": "stdout",
     "output_type": "stream",
     "text": [
      "1.4.0\n"
     ]
    }
   ],
   "source": [
    "print(torch.__version__)"
   ]
  },
  {
   "cell_type": "markdown",
   "metadata": {},
   "source": [
    "So I can now create a `gan` environment with appropriate lib versions.\n",
    "\n",
    "```bash\n",
    "conda create -n gan python=3.7\n",
    "conda activate gan\n",
    "conda install -c pytorch pytorch=1.4.0\n",
    "conda install jupyter matplotlib\n",
    "conda install -c conda-forge tqdm\n",
    "conda install -c pytorch torchvision\n",
    "```"
   ]
  },
  {
   "cell_type": "markdown",
   "metadata": {},
   "source": [
    "# git settings"
   ]
  },
  {
   "cell_type": "markdown",
   "metadata": {},
   "source": [
    "```bash\n",
    "echo \"# gan_specialization from coursera\" >> README.md\n",
    "git init\n",
    "git add README.md\n",
    "git commit -m \"first commit\"\n",
    "git branch -M master\n",
    "git remote add origin git@github.com:castorfou/gan_specialization.git\n",
    "git push -u origin master\n",
    "```"
   ]
  },
  {
   "cell_type": "markdown",
   "metadata": {},
   "source": [
    "I am pushing notebooks to [github](https://github.com/castorfou/gan_specialization)"
   ]
  },
  {
   "cell_type": "markdown",
   "metadata": {},
   "source": [
    "# Intro to PyTorch "
   ]
  },
  {
   "cell_type": "markdown",
   "metadata": {},
   "source": [
    "I have exported [Intro to Pytorch](https://github.com/castorfou/gan_specialization/blob/master/Intro_to_PyTorch.ipynb) notebook from coursera lab. \n",
    "\n",
    "To run it on my machine."
   ]
  },
  {
   "cell_type": "markdown",
   "metadata": {},
   "source": [
    "# Intro to GAN using tensorflow"
   ]
  },
  {
   "cell_type": "markdown",
   "metadata": {},
   "source": [
    "Versions of python seems incompatible between each other. (3.7 for pytorch, 3.6 for tensorflow=1.10)\n",
    "\n",
    "I create a new python environment:\n",
    "\n",
    "```bash\n",
    "conda create -n gan_tensorflow python=3.6\n",
    "conda activate gan_tensorflow\n",
    "conda install jupyter\n",
    "conda install -c conda-forge requests\n",
    "pip install tensorflow-gpu==1.15\n",
    "\n",
    "```"
   ]
  },
  {
   "cell_type": "code",
   "execution_count": null,
   "metadata": {},
   "outputs": [],
   "source": []
  }
 ],
 "metadata": {
  "kernelspec": {
   "display_name": "Python 3",
   "language": "python",
   "name": "python3"
  },
  "language_info": {
   "codemirror_mode": {
    "name": "ipython",
    "version": 3
   },
   "file_extension": ".py",
   "mimetype": "text/x-python",
   "name": "python",
   "nbconvert_exporter": "python",
   "pygments_lexer": "ipython3",
   "version": "3.8.2"
  },
  "toc": {
   "base_numbering": 1,
   "nav_menu": {},
   "number_sections": true,
   "sideBar": true,
   "skip_h1_title": false,
   "title_cell": "Table of Contents",
   "title_sidebar": "Contents",
   "toc_cell": false,
   "toc_position": {},
   "toc_section_display": true,
   "toc_window_display": true
  }
 },
 "nbformat": 4,
 "nbformat_minor": 4
}
