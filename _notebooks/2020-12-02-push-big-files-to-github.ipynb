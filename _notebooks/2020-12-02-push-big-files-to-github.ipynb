{
 "cells": [
  {
   "cell_type": "markdown",
   "metadata": {},
   "source": [
    "# \"Push large files to github: git-lfs\"\n",
    "> \"to answer to exceeding GitHub's file size limit of 100.00 MB\"\n",
    "- show_tags: true\n",
    "- toc: true\n",
    "- branch: master\n",
    "- badges: false\n",
    "- comments: true\n",
    "- categories: [git]\n",
    "- image: images/git.png"
   ]
  },
  {
   "cell_type": "markdown",
   "metadata": {},
   "source": [
    "# Where is the problem"
   ]
  },
  {
   "cell_type": "markdown",
   "metadata": {},
   "source": [
    "I am currently following deep learning specialization from Andrew Ng on coursera.\n",
    "\n",
    "In the course 4 about CNNs, there are some pre-trained yolo models that we use to do object detection. And these models come as large `.h5` files."
   ]
  },
  {
   "cell_type": "markdown",
   "metadata": {},
   "source": [
    "Because I run all programming assignments locally and keep everything (lectures + codes) on my local repo, when I pushed to github I got this error:\n",
    "\n",
    "``` bash\n",
    "(base) explore@explore-ThinkPad-P53:~/git/guillaume/deeplearning_specialization$ git push\n",
    "Enumerating objects: 247, done.\n",
    "Counting objects: 100% (247/247), done.\n",
    "Delta compression using up to 12 threads\n",
    "Compressing objects: 100% (239/239), done.\n",
    "Writing objects: 100% (242/242), 707.06 MiB | 4.74 MiB/s, done.\n",
    "Total 242 (delta 6), reused 0 (delta 0)\n",
    "remote: Resolving deltas: 100% (6/6), completed with 3 local objects.\n",
    "remote: warning: File notebooks/C4W3/nb_images/pred_video.mp4 is 85.44 MB; this is larger than GitHub's recommended maximum file size of 50.00 MB\n",
    "remote: warning: File notebooks/C4W3/nb_images/road_video.mp4 is 81.71 MB; this is larger than GitHub's recommended maximum file size of 50.00 MB\n",
    "remote: error: GH001: Large files detected. You may want to try Git Large File Storage - https://git-lfs.github.com.\n",
    "remote: error: Trace: 2d1944991c30279b831124b51e4aac57a17a860f2ef789b4e32801fb65282244\n",
    "remote: error: See http://git.io/iEPt8g for more information.\n",
    "remote: error: File notebooks/C4W2/ResNet50.h5 is 270.32 MB; this exceeds GitHub's file size limit of 100.00 MB\n",
    "remote: error: File notebooks/C4W3/model_data/yolo.h5 is 194.69 MB; this exceeds GitHub's file size limit of 100.00 MB\n",
    "To github.com:castorfou/deeplearning_specialization.git\n",
    " ! [remote rejected] master -> master (pre-receive hook declined)\n",
    " ```"
   ]
  },
  {
   "cell_type": "markdown",
   "metadata": {},
   "source": [
    "# Solution: git-lfs"
   ]
  },
  {
   "cell_type": "markdown",
   "metadata": {},
   "source": [
    "As explained in https://github.com/git-lfs/git-lfs/wiki/Tutorial, there is (always) a way to do it properly."
   ]
  },
  {
   "cell_type": "markdown",
   "metadata": {},
   "source": [
    "First it is a matter of installing git-lfs:\n",
    "\n",
    "`sudo apt-get install git-lfs`\n",
    "\n",
    "Then to setup git lfs\n",
    "\n",
    "`git lfs install`\n",
    "\n",
    "And then to \"migrate\" big files to lfs:\n",
    "\n",
    "`git lfs migrate import --include=\"*.mp4\"`\n",
    "\n",
    "`git lfs migrate import --include=\"*.h5\"`\n",
    "\n",
    "And now to `git push`"
   ]
  },
  {
   "cell_type": "markdown",
   "metadata": {},
   "source": [
    "``` bash\n",
    "(base) explore@explore-ThinkPad-P53:~/git/guillaume/deeplearning_specialization$ git push\n",
    "Uploading LFS objects: 100% (25/25), 954 MB | 37 MB/s, done.                                                                 \n",
    "Enumerating objects: 311, done.\n",
    "Counting objects: 100% (311/311), done.\n",
    "Delta compression using up to 12 threads\n",
    "Compressing objects: 100% (273/273), done.\n",
    "Writing objects: 100% (276/276), 60.49 MiB | 5.59 MiB/s, done.\n",
    "Total 276 (delta 18), reused 0 (delta 0)\n",
    "remote: Resolving deltas: 100% (18/18), completed with 16 local objects.\n",
    "To github.com:castorfou/deeplearning_specialization.git\n",
    "   d0d2dc2..004fa09  master -> master\n",
    "```"
   ]
  },
  {
   "cell_type": "code",
   "execution_count": null,
   "metadata": {},
   "outputs": [],
   "source": []
  }
 ],
 "metadata": {
  "kernelspec": {
   "display_name": "Python [conda env:fastai] *",
   "language": "python",
   "name": "conda-env-fastai-py"
  },
  "language_info": {
   "codemirror_mode": {
    "name": "ipython",
    "version": 3
   },
   "file_extension": ".py",
   "mimetype": "text/x-python",
   "name": "python",
   "nbconvert_exporter": "python",
   "pygments_lexer": "ipython3",
   "version": "3.8.2"
  },
  "toc": {
   "base_numbering": 1,
   "nav_menu": {},
   "number_sections": true,
   "sideBar": true,
   "skip_h1_title": false,
   "title_cell": "Table of Contents",
   "title_sidebar": "Contents",
   "toc_cell": false,
   "toc_position": {},
   "toc_section_display": true,
   "toc_window_display": false
  }
 },
 "nbformat": 4,
 "nbformat_minor": 4
}
