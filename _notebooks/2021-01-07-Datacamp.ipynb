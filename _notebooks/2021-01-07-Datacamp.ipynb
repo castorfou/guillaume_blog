{
 "cells": [
  {
   "cell_type": "markdown",
   "metadata": {},
   "source": [
    "# About my datacamp learning process\n",
    "> \"keep lectures, notebooks, progress, ... and git structure\"\n",
    "- show_tags: true\n",
    "- toc: true\n",
    "- branch: master\n",
    "- badges: false\n",
    "- comments: true\n",
    "- categories: [datacamp, data science]"
   ]
  },
  {
   "cell_type": "markdown",
   "metadata": {
    "heading_collapsed": true
   },
   "source": [
    "# Datacamp"
   ]
  },
  {
   "cell_type": "markdown",
   "metadata": {
    "hidden": true
   },
   "source": [
    "I started learning with [Datacamp](https://datacamp.com) in March 2019. This is a great resource and I recommend all datascience newcomers to give it a shot.\n",
    "\n",
    "What I like are the consistent courses content. There is an overall logic between all courses. And content is just incredible: more than 300 interactive courses. OK maybe you won't find all of them super useful but at least you can pick what is of interest for you. Following my learning process it takes me about 8 hours to complete a course.\n",
    "\n",
    "![Datacamp courses](../images/datacamp_courses.png)\n",
    "\n",
    "Career tracks are a smart way to help you build a 1st tour in your datascience journey. I followed `python programmer` (old version),  `data scientist with python` (old version) and `machine learning scientist with python` tracks. Mileage may vary but it is about 20 courses per track. Updated versions of tracks are now online and this is a mix between courses, projects and skills assessments. I have tested one project but it is a little bit too basic for me.\n",
    "\n",
    "![Datacamp Career tracks](../images/datacamp_career-tracks.png)\n",
    "\n",
    "There is a nice and smooth progress tracking system, and as in a game you earn XP for each achivement.\n",
    "\n",
    "![Datacamp Progress](../images/datacamp_progress.png)"
   ]
  },
  {
   "cell_type": "markdown",
   "metadata": {
    "heading_collapsed": true
   },
   "source": [
    "# Selecting courses"
   ]
  },
  {
   "cell_type": "markdown",
   "metadata": {
    "hidden": true
   },
   "source": [
    "A natural way to select courses is to browse through courses from career tracks. And I will complete courses from new version of career tracks. Or when I need to learn on a new domain, I just search for relevant courses (search engine is very good).\n",
    "\n",
    "I have 2 ways to track these courses: \n",
    "* bookmarks in Datacamp\n",
    "![](../images/datacamp_bookmarks.png)\n",
    "\n",
    "\n",
    "* entries in ITP (individual training plan, a big excel list of learning items I plan to follow)\n",
    "![](../images/itp.png)\n"
   ]
  },
  {
   "cell_type": "markdown",
   "metadata": {},
   "source": [
    "# Learning process"
   ]
  },
  {
   "cell_type": "markdown",
   "metadata": {},
   "source": [
    "## Starting a project"
   ]
  },
  {
   "cell_type": "markdown",
   "metadata": {},
   "source": [
    "As an example I will use \n",
    "\n",
    "![](../images/datacamp_example_course.png)\n",
    "\n",
    "which is a project from the new `Data Scientist` career track and which is in my ITP:\n",
    "\n",
    "![](../images/datacamp_itp.png)"
   ]
  },
  {
   "cell_type": "markdown",
   "metadata": {},
   "source": [
    "## Git repo - data-scientist-skills"
   ]
  },
  {
   "cell_type": "markdown",
   "metadata": {},
   "source": [
    "In my `data-scientist-skills` [github repo](https://github.com/castorfou/data-scientist-skills), I have 2 folders:\n",
    "* `Other datacamp courses` - where I keep lectures (pdf slides) from datacamp courses\n",
    "* `python-sandbox` - where I keep notebooks and data from datacamp exercises"
   ]
  },
  {
   "cell_type": "markdown",
   "metadata": {},
   "source": [
    "* creation of `Data Manipulation with pandas` folder under `Other datacamp courses`\n",
    "* creation of `data-manipulation-with-pandas` folder under `python-sandbox`\n",
    "* copy of `python-sandbox/_1project-template/` into `python-sandbox/data-manipulation-with-pandas` \n"
   ]
  },
  {
   "cell_type": "markdown",
   "metadata": {},
   "source": [
    "## Datacamp project template"
   ]
  },
  {
   "cell_type": "markdown",
   "metadata": {},
   "source": [
    "In this project template, \n",
    "![](../images/datacamp_project_template.png)\n",
    "\n",
    "* `data_from_datacamp` will store all data needed to launch datacamp exercises\n",
    "* `exports_py` will contain exports of notebooks in [txt/py format](https://castorfou.github.io/guillaume_blog/jupyter/2021/01/05/jupyter-export-notebook-as-py.html) (usefull to search on code patterns)\n",
    "* `start_env.sh` `start_env.bat` to launch jupyter notebook from the right conda env\n",
    "* `downloadfromFileIO.py` to download data files from my local notebooks (using in the background [file.io](https://file.io))\n",
    "* `uploadfromdatacamp.py` to upload data files from datacamp\n",
    "* `uploadfromdatacamp_examples.py` some examples to transfer dataframes, dataseries, lists, ...\n"
   ]
  },
  {
   "cell_type": "markdown",
   "metadata": {},
   "source": [
    "## Projects structure"
   ]
  },
  {
   "cell_type": "markdown",
   "metadata": {},
   "source": [
    "After initialisation, I have the following structure and content:\n",
    "\n",
    "![](../images/datacamp_folders.png)\n",
    "\n",
    "On your left lectures (one per chapter) and final certificate.\n",
    "\n",
    "On your right notebooks."
   ]
  },
  {
   "cell_type": "markdown",
   "metadata": {},
   "source": [
    "## Notebooks for exercises"
   ]
  },
  {
   "cell_type": "markdown",
   "metadata": {},
   "source": [
    "Just run the jupyter notebook environment by calling `start_env.sh`.\n",
    "\n",
    "Get the chapter title:\n",
    "\n",
    "![](../images/datacamp_chapter_title.png)\n",
    "\n",
    "And name the notebook accordingly:\n",
    "\n",
    "![](../images/datacamp_notebook.png)\n"
   ]
  },
  {
   "cell_type": "markdown",
   "metadata": {},
   "source": [
    "Then enter interactive instructions. I copy paste instructions using copy selection as markdown [firefox add-on](https://github.com/0x6b/copy-selection-as-markdown).\n",
    "\n",
    "![](../images/datacamp_instructions.png)\n",
    "\n"
   ]
  },
  {
   "cell_type": "markdown",
   "metadata": {},
   "source": [
    "Here in this example, if I want to follow instructions locally I need to have `homelessness` dataframe. \n",
    "\n",
    "I can use the following code from `uploadfromdatacamp_examples.py`"
   ]
  },
  {
   "cell_type": "code",
   "execution_count": null,
   "metadata": {},
   "outputs": [],
   "source": [
    "###################\n",
    "##### Dataframe\n",
    "###################\n",
    "\n",
    "#upload and download\n",
    "\n",
    "from downloadfromFileIO import saveFromFileIO\n",
    "\"\"\" à executer sur datacamp: (apres copie du code uploadfromdatacamp.py)\n",
    "uploadToFileIO(homelessness)\n",
    "\"\"\"\n",
    "\n",
    "tobedownloaded=\"\"\"\n",
    "{pandas.core.frame.DataFrame: {'homelessness.csv': 'https://file.io/vTM1t2ehXds4'}}\n",
    "\"\"\"\n",
    "prefixToc='1.1'\n",
    "prefix = saveFromFileIO(tobedownloaded, prefixToc=prefixToc, proxy=\"\")\n",
    "\n",
    "#initialisation\n",
    "\n",
    "import pandas as pd\n",
    "homelessness = pd.read_csv(prefix+'homelessness.csv',index_col=0)"
   ]
  },
  {
   "cell_type": "markdown",
   "metadata": {},
   "source": [
    "Before executing this cell, I have to copy/paste/execute `uploadfromdatacamp.py` content on datacamp server. And call\n",
    "```python\n",
    "uploadToFileIO(homelessness)\n",
    "```\n",
    "\n",
    "Then get the results last line\n",
    "```text\n",
    "In [2]:\n",
    "uploadToFileIO(homelessness)\n",
    " \n",
    "{\"success\":true,\"key\":\"vTM1t2ehXds4\",\"link\":\"https://file.io/vTM1t2ehXds4\",\"expiry\":\"14 days\"}\n",
    "{pandas.core.frame.DataFrame: {'homelessness.csv': 'https://file.io/vTM1t2ehXds4'}}\n",
    "```\n",
    "\n",
    "and copy it in `tobedownloaded` variable.\n",
    "\n",
    "Update prefixTOC to the good value (exercise 1.1 is the 1st one in first chapter) which is used as a prefix in data files.\n",
    "And update local variable name and csv file.\n",
    "\n",
    "Run the cell\n",
    "\n",
    "Here is the result\n",
    "```text\n",
    "Téléchargements à lancer\n",
    "{'pandas.core.frame.DataFrame': {'homelessness.csv': 'https://file.io/vTM1t2ehXds4'}}\n",
    "  % Total    % Received % Xferd  Average Speed   Time    Time     Time  Current\n",
    "                                 Dload  Upload   Total   Spent    Left  Speed\n",
    "100  2528    0  2528    0     0   4870      0 --:--:-- --:--:-- --:--:--  4870\n",
    "```\n",
    "\n",
    "And `homelessness` is available to be used.\n",
    "\n",
    "Files downloaded are in `data_from_datacamp` folder. \n",
    "\n",
    "![](../images/datacamp_datafile.png)\n",
    "\n",
    "And running again the cell won't download file from file.io, but will read the cached file. (delete file to force download)\n",
    "\n",
    "Full content of this notebook example at the [bottom](#Notebook-example-:-Introducing-DataFrames)"
   ]
  },
  {
   "cell_type": "markdown",
   "metadata": {},
   "source": [
    "## keep content in git"
   ]
  },
  {
   "cell_type": "markdown",
   "metadata": {
    "ExecuteTime": {
     "end_time": "2021-01-07T15:43:10.076174Z",
     "start_time": "2021-01-07T15:43:10.069487Z"
    }
   },
   "source": [
    "```bash\n",
    "\n",
    "~/git/guillaume/data-scientist-skills$ git add .\n",
    "\n",
    "~/git/guillaume/data-scientist-skills$ git commit -m 'start of data manipulation in pandas course'\n",
    "[master c8696ce] start of data manipulation in pandas course\n",
    " 45 files changed, 9010 insertions(+)\n",
    " create mode 100644 Other datacamp courses/Data Manipulation with pandas/chapter1.pdf\n",
    " create mode 100644 python-sandbox/data-manipulation-with-pandas/.ipynb_checkpoints/chapter1 - Transforming Data-checkpoint.ipynb\n",
    " create mode 100644 python-sandbox/data-manipulation-with-pandas/__pycache__/downloadfromFileIO.cpython-37.pyc\n",
    " create mode 100644 python-sandbox/data-manipulation-with-pandas/chapter1 - Transforming Data.ipynb\n",
    " create mode 100644 python-sandbox/data-manipulation-with-pandas/data_from_datacamp/.empty_dir.txt\n",
    " create mode 100644 python-sandbox/data-manipulation-with-pandas/data_from_datacamp/chapter1 - Transforming Data-Exercise1.1_3277903540843719836.lock\n",
    " create mode 100644 python-sandbox/data-manipulation-with-pandas/data_from_datacamp/chapter1 - Transforming Data-Exercise1.1_homelessness.csv\n",
    " create mode 100644 python-sandbox/data-manipulation-with-pandas/downloadfromFileIO.py\n",
    " create mode 100644 python-sandbox/data-manipulation-with-pandas/exports_py/.empty_dir.txt\n",
    " create mode 100644 python-sandbox/data-manipulation-with-pandas/exports_py/Untitled.py\n",
    " create mode 100644 python-sandbox/data-manipulation-with-pandas/exports_py/Untitled.txt\n",
    " create mode 100644 python-sandbox/data-manipulation-with-pandas/exports_py/chapter1 - Transforming Data.py\n",
    " create mode 100644 python-sandbox/data-manipulation-with-pandas/start_env.bat\n",
    " create mode 100755 python-sandbox/data-manipulation-with-pandas/start_env.sh\n",
    " create mode 100644 python-sandbox/data-manipulation-with-pandas/uploadfromdatacamp.py\n",
    " create mode 100644 python-sandbox/data-manipulation-with-pandas/uploadfromdatacamp_examples.py\n",
    "\n",
    "~/git/guillaume/data-scientist-skills$ git push\n",
    "Enumerating objects: 43, done.\n",
    "Counting objects: 100% (43/43), done.\n",
    "Delta compression using up to 12 threads\n",
    "Compressing objects: 100% (38/38), done.\n",
    "Writing objects: 100% (40/40), 5.75 MiB | 3.85 MiB/s, done.\n",
    "Total 40 (delta 8), reused 1 (delta 0)\n",
    "remote: Resolving deltas: 100% (8/8), completed with 3 local objects.\n",
    "To github.com:castorfou/data-scientist-skills.git\n",
    "   89f60e5..c8696ce  master -> master\n",
    "```\n"
   ]
  },
  {
   "cell_type": "markdown",
   "metadata": {},
   "source": [
    "## Update progress in ITP"
   ]
  },
  {
   "cell_type": "markdown",
   "metadata": {},
   "source": [
    "Datacamp is giving instant progress \n",
    "\n",
    "![](../images/datacamp_progress_bar.png)\n",
    "\n",
    "So I regularly report this progress (here 0.18/4=5%) in ITP."
   ]
  },
  {
   "cell_type": "markdown",
   "metadata": {},
   "source": [
    "## keep certificates"
   ]
  },
  {
   "cell_type": "markdown",
   "metadata": {},
   "source": [
    "I download and keep certificates with lectures.\n",
    "\n",
    "![](../images/datacamp_certificate.png)"
   ]
  },
  {
   "cell_type": "markdown",
   "metadata": {},
   "source": [
    "# Notebook example : Introducing DataFrames"
   ]
  },
  {
   "cell_type": "markdown",
   "metadata": {},
   "source": [
    "[Inspecting a DataFrame | Python](https://campus.datacamp.com/courses/data-manipulation-with-pandas/transforming-data?ex=2)\n",
    "\n",
    "> ## Inspecting a DataFrame\n",
    "> \n",
    "> When you get a new DataFrame to work with, the first thing you need to do is explore it and see what it contains. There are several useful methods and attributes for this.\n",
    "> \n",
    "> -   `.head()` returns the first few rows (the “head” of the DataFrame).\n",
    "> -   `.info()` shows information on each of the columns, such as the data type and number of missing values.\n",
    "> -   `.shape` returns the number of rows and columns of the DataFrame.\n",
    "> -   `.describe()` calculates a few summary statistics for each column.\n",
    "> \n",
    "> `homelessness` is a DataFrame containing estimates of homelessness in each U.S. state in 2018. The `individual` column is the number of homeless individuals not part of a family with children. The `family_members` column is the number of homeless individuals part of a family with children. The `state_pop` column is the state's total population.\n",
    "> \n",
    "> `pandas` is imported for you."
   ]
  },
  {
   "cell_type": "markdown",
   "metadata": {},
   "source": [
    "### init"
   ]
  },
  {
   "cell_type": "code",
   "execution_count": 1,
   "metadata": {
    "ExecuteTime": {
     "end_time": "2021-01-07T15:21:27.071960Z",
     "start_time": "2021-01-07T15:21:26.270374Z"
    }
   },
   "outputs": [
    {
     "name": "stdout",
     "output_type": "stream",
     "text": [
      "Téléchargements à lancer\n",
      "{'pandas.core.frame.DataFrame': {'homelessness.csv': 'https://file.io/vTM1t2ehXds4'}}\n",
      "  % Total    % Received % Xferd  Average Speed   Time    Time     Time  Current\n",
      "                                 Dload  Upload   Total   Spent    Left  Speed\n",
      "100  2528    0  2528    0     0   4870      0 --:--:-- --:--:-- --:--:--  4870\n",
      "\n"
     ]
    }
   ],
   "source": [
    "###################\n",
    "##### Dataframe\n",
    "###################\n",
    "\n",
    "#upload and download\n",
    "\n",
    "from downloadfromFileIO import saveFromFileIO\n",
    "\"\"\" à executer sur datacamp: (apres copie du code uploadfromdatacamp.py)\n",
    "uploadToFileIO(homelessness)\n",
    "\"\"\"\n",
    "\n",
    "tobedownloaded=\"\"\"\n",
    "{pandas.core.frame.DataFrame: {'homelessness.csv': 'https://file.io/vTM1t2ehXds4'}}\n",
    "\"\"\"\n",
    "prefixToc='1.1'\n",
    "prefix = saveFromFileIO(tobedownloaded, prefixToc=prefixToc, proxy=\"\")\n",
    "\n",
    "#initialisation\n",
    "\n",
    "import pandas as pd\n",
    "homelessness = pd.read_csv(prefix+'homelessness.csv',index_col=0)"
   ]
  },
  {
   "cell_type": "markdown",
   "metadata": {},
   "source": [
    "### code"
   ]
  },
  {
   "cell_type": "markdown",
   "metadata": {},
   "source": [
    "> Print the head of the `homelessness` DataFrame."
   ]
  },
  {
   "cell_type": "code",
   "execution_count": 2,
   "metadata": {
    "ExecuteTime": {
     "end_time": "2021-01-07T15:29:46.213878Z",
     "start_time": "2021-01-07T15:29:46.209184Z"
    }
   },
   "outputs": [
    {
     "name": "stdout",
     "output_type": "stream",
     "text": [
      "               region       state  individuals  family_members  state_pop\n",
      "0  East South Central     Alabama       2570.0           864.0    4887681\n",
      "1             Pacific      Alaska       1434.0           582.0     735139\n",
      "2            Mountain     Arizona       7259.0          2606.0    7158024\n",
      "3  West South Central    Arkansas       2280.0           432.0    3009733\n",
      "4             Pacific  California     109008.0         20964.0   39461588\n"
     ]
    }
   ],
   "source": [
    "# Print the head of the homelessness data\n",
    "print(homelessness.head())"
   ]
  },
  {
   "cell_type": "markdown",
   "metadata": {},
   "source": [
    "> Print information about the column types and missing values in `homelessness`."
   ]
  },
  {
   "cell_type": "code",
   "execution_count": 3,
   "metadata": {
    "ExecuteTime": {
     "end_time": "2021-01-07T15:30:27.785570Z",
     "start_time": "2021-01-07T15:30:27.776219Z"
    }
   },
   "outputs": [
    {
     "name": "stdout",
     "output_type": "stream",
     "text": [
      "<class 'pandas.core.frame.DataFrame'>\n",
      "Int64Index: 51 entries, 0 to 50\n",
      "Data columns (total 5 columns):\n",
      " #   Column          Non-Null Count  Dtype  \n",
      "---  ------          --------------  -----  \n",
      " 0   region          51 non-null     object \n",
      " 1   state           51 non-null     object \n",
      " 2   individuals     51 non-null     float64\n",
      " 3   family_members  51 non-null     float64\n",
      " 4   state_pop       51 non-null     int64  \n",
      "dtypes: float64(2), int64(1), object(2)\n",
      "memory usage: 2.4+ KB\n",
      "None\n"
     ]
    }
   ],
   "source": [
    "# Print information about homelessness\n",
    "print(homelessness.info())"
   ]
  },
  {
   "cell_type": "markdown",
   "metadata": {},
   "source": [
    "> Print the number of rows and columns in `homelessness`."
   ]
  },
  {
   "cell_type": "code",
   "execution_count": 4,
   "metadata": {
    "ExecuteTime": {
     "end_time": "2021-01-07T15:31:10.647402Z",
     "start_time": "2021-01-07T15:31:10.644569Z"
    }
   },
   "outputs": [
    {
     "name": "stdout",
     "output_type": "stream",
     "text": [
      "(51, 5)\n"
     ]
    }
   ],
   "source": [
    "# Print the shape of homelessness\n",
    "print(homelessness.shape)"
   ]
  },
  {
   "cell_type": "markdown",
   "metadata": {},
   "source": [
    "> Print some summary statistics that describe the `homelessness` DataFrame."
   ]
  },
  {
   "cell_type": "code",
   "execution_count": 5,
   "metadata": {
    "ExecuteTime": {
     "end_time": "2021-01-07T15:31:46.850956Z",
     "start_time": "2021-01-07T15:31:46.841292Z"
    }
   },
   "outputs": [
    {
     "name": "stdout",
     "output_type": "stream",
     "text": [
      "         individuals  family_members     state_pop\n",
      "count      51.000000       51.000000  5.100000e+01\n",
      "mean     7225.784314     3504.882353  6.405637e+06\n",
      "std     15991.025083     7805.411811  7.327258e+06\n",
      "min       434.000000       75.000000  5.776010e+05\n",
      "25%      1446.500000      592.000000  1.777414e+06\n",
      "50%      3082.000000     1482.000000  4.461153e+06\n",
      "75%      6781.500000     3196.000000  7.340946e+06\n",
      "max    109008.000000    52070.000000  3.946159e+07\n"
     ]
    }
   ],
   "source": [
    "# Print a description of homelessness\n",
    "print(homelessness.describe())"
   ]
  },
  {
   "cell_type": "markdown",
   "metadata": {},
   "source": [
    "![](../images/datacamp_success.png)"
   ]
  },
  {
   "cell_type": "code",
   "execution_count": null,
   "metadata": {},
   "outputs": [],
   "source": []
  }
 ],
 "metadata": {
  "kernelspec": {
   "display_name": "Python [conda env:datacamp] *",
   "language": "python",
   "name": "conda-env-datacamp-py"
  },
  "language_info": {
   "codemirror_mode": {
    "name": "ipython",
    "version": 3
   },
   "file_extension": ".py",
   "mimetype": "text/x-python",
   "name": "python",
   "nbconvert_exporter": "python",
   "pygments_lexer": "ipython3",
   "version": "3.7.9"
  },
  "toc": {
   "base_numbering": 1,
   "nav_menu": {},
   "number_sections": true,
   "sideBar": true,
   "skip_h1_title": false,
   "title_cell": "Table of Contents",
   "title_sidebar": "Contents",
   "toc_cell": false,
   "toc_position": {},
   "toc_section_display": true,
   "toc_window_display": true
  }
 },
 "nbformat": 4,
 "nbformat_minor": 4
}
