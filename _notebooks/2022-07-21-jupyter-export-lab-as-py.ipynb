{
 "cells": [
  {
   "cell_type": "markdown",
   "metadata": {},
   "source": [
    "# \"Auto export python code from jupyter lab\"\n",
    "> \"because it is easier to search from .py files in text format. Using nbautoexports in jupyter lab\"\n",
    "- show_tags: true\n",
    "- toc: true\n",
    "- branch: master\n",
    "- badges: false\n",
    "- comments: true\n",
    "- categories: [jupyter]"
   ]
  },
  {
   "cell_type": "markdown",
   "metadata": {},
   "source": [
    "This hack comes from [EASIER CODE REVIEWS FOR JUPYTER NOTEBOOKS WITH NBAUTOEXPORT](https://drivendata.co/blog/nbautoexport-jupyter-code-review/).\n",
    "\n"
   ]
  },
  {
   "cell_type": "markdown",
   "metadata": {},
   "source": [
    "# Install NBAUTOEXPORT"
   ]
  },
  {
   "cell_type": "markdown",
   "metadata": {},
   "source": [
    "You should install it in the same virtual environment that you are running Jupyter Notebook or JupyterLab from."
   ]
  },
  {
   "cell_type": "markdown",
   "metadata": {},
   "source": [
    "```bash\n",
    "# in base (from in _conda_env/base.txt)\n",
    "pip install nbautoexport\n",
    "```"
   ]
  },
  {
   "cell_type": "code",
   "execution_count": 2,
   "metadata": {
    "execution": {
     "iopub.execute_input": "2022-07-21T07:06:07.014039Z",
     "iopub.status.busy": "2022-07-21T07:06:07.013586Z",
     "iopub.status.idle": "2022-07-21T07:06:07.144620Z",
     "shell.execute_reply": "2022-07-21T07:06:07.143464Z",
     "shell.execute_reply.started": "2022-07-21T07:06:07.014003Z"
    },
    "tags": []
   },
   "outputs": [
    {
     "name": "stdout",
     "output_type": "stream",
     "text": [
      "conda install -y mamba -n base -c conda-forge\n",
      "mamba init\n",
      "mamba install -y nb_conda_kernels\n",
      "mamba install -y -c conda-forge jupyterlab jupyterlab-git\n",
      "mamba install -y ipywidgets\n",
      "\n",
      "mamba install -y -c conda-forge jupyterlab_execute_time\n",
      "#and change in jupyter lab : Settings- > Advanced Settings Editor -> Notebook: {\"recordTiming\": true} \n",
      "\n",
      "pip install --upgrade nvitop\n",
      "\n",
      "jupyter labextension install jupyterlab-spreadsheet\n",
      "pip install jupyterlab-tabular-data-editor\n",
      "pip install nbautoexport\n"
     ]
    }
   ],
   "source": [
    "!cat ~/_conda_env/base.txt"
   ]
  },
  {
   "cell_type": "markdown",
   "metadata": {},
   "source": [
    "There are two main steps to setting up nbautoexport:\n",
    "\n",
    "- Install nbautoexport as a post-save hook with Jupyter (once per machine you use it on)\n",
    "- Configure a notebooks directory (once per project you are working on)"
   ]
  },
  {
   "cell_type": "markdown",
   "metadata": {},
   "source": [
    "# Install nbautoexport as a post-save hook "
   ]
  },
  {
   "cell_type": "markdown",
   "metadata": {},
   "source": [
    "```bash\n",
    "# from base environment\n",
    "nbautoexport install\n",
    "\n",
    "> nbautoexport post-save hook successfully installed with Jupyter.\n",
    "> If a Jupyter server is already running, you will need to restart it for nbautoexport to work.\n",
    "```"
   ]
  },
  {
   "cell_type": "markdown",
   "metadata": {},
   "source": [
    "# Configure a notebooks directory"
   ]
  },
  {
   "cell_type": "markdown",
   "metadata": {},
   "source": [
    "```bash\n",
    "# from your notebooks directory\n",
    "nbautoexport configure .\n",
    "```"
   ]
  },
  {
   "cell_type": "markdown",
   "metadata": {},
   "source": [
    "It creates this file `.nbautoexport`"
   ]
  },
  {
   "cell_type": "markdown",
   "metadata": {},
   "source": [
    "```bash\n",
    "───────┬───────────────────────────────────────────────────────────\n",
    "       │ File: .nbautoexport\n",
    "───────┼───────────────────────────────────────────────────────────\n",
    "   1   │ {\n",
    "   2   │   \"export_formats\": [\n",
    "   3   │     \"script\"\n",
    "   4   │   ],\n",
    "   5   │   \"organize_by\": \"extension\",\n",
    "   6   │   \"clean\": {\n",
    "   7   │     \"exclude\": []\n",
    "   8   │   }\n",
    "   9   │ }\n",
    "───────┴───────────────────────────────────────────────────────────\n",
    "```"
   ]
  },
  {
   "cell_type": "markdown",
   "metadata": {},
   "source": [
    "# Test"
   ]
  },
  {
   "cell_type": "markdown",
   "metadata": {},
   "source": [
    "After running it in my blog `_notebooks` directory, and saving a notebook; a `script` directory and `.py` file with notebook content are created\n",
    "\n",
    "```bash\n",
    "(base) guillaume@LL11LPC0PQARQ:~/git/guillaume_blog/_notebooks$ tree\n",
    ".\n",
    "├── .nbautoexport\n",
    "├── 2022-07-21-jupyter-export-lab-as-py.ipynb\n",
    "├── README.md\n",
    "└── script\n",
    "    └── 2022-07-21-jupyter-export-lab-as-py.py\n",
    "```\n",
    "\n",
    "`2022-07-21-jupyter-export-lab-as-py.py` has been created as expected\n",
    "\n",
    "I can now delete `.nbautoexport` and it won't happen in that directory"
   ]
  },
  {
   "cell_type": "code",
   "execution_count": null,
   "metadata": {},
   "outputs": [],
   "source": []
  }
 ],
 "metadata": {
  "kernelspec": {
   "display_name": "JANUS_GRAM_model",
   "language": "python",
   "name": "janus_gram_model"
  },
  "language_info": {
   "codemirror_mode": {
    "name": "ipython",
    "version": 3
   },
   "file_extension": ".py",
   "mimetype": "text/x-python",
   "name": "python",
   "nbconvert_exporter": "python",
   "pygments_lexer": "ipython3",
   "version": "3.9.12"
  },
  "toc": {
   "base_numbering": 1,
   "nav_menu": {},
   "number_sections": true,
   "sideBar": true,
   "skip_h1_title": false,
   "title_cell": "Table of Contents",
   "title_sidebar": "Contents",
   "toc_cell": false,
   "toc_position": {},
   "toc_section_display": true,
   "toc_window_display": true
  }
 },
 "nbformat": 4,
 "nbformat_minor": 4
}
