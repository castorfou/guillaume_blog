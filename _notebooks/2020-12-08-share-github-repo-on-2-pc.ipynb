{
 "cells": [
  {
   "cell_type": "markdown",
   "metadata": {},
   "source": [
    "# \"Repo with 2 remote-urls\"\n",
    "> \"share data-scientist-skills repo with gitlab and github\"\n",
    "- show_tags: true\n",
    "- toc: true\n",
    "- branch: master\n",
    "- badges: false\n",
    "- comments: true\n",
    "- categories: [git]\n",
    "- image: images/git.png"
   ]
  },
  {
   "cell_type": "markdown",
   "metadata": {},
   "source": [
    "# from github"
   ]
  },
  {
   "cell_type": "markdown",
   "metadata": {},
   "source": [
    "I have just created this empty repo: https://github.com/castorfou/data-scientist-skills"
   ]
  },
  {
   "cell_type": "markdown",
   "metadata": {},
   "source": [
    "# from existing local repo connected to gitlab"
   ]
  },
  {
   "cell_type": "markdown",
   "metadata": {},
   "source": [
    "Add the new remote url to github, name it github\n",
    "\n",
    "``` bash\n",
    "(base) guillaume@LL11LPC0PQARQ:~/git/data-scientist-skills$ git remote add github https://github.com/castorfou/data-scientist-skills.git\n",
    "```\n",
    "\n",
    "Or this is possible to use ssh protocol: `git remote add origin git@github.com:castorfou/data-scientist-skills.git`\n",
    "\n",
    "Push repo to this new remote url: `git push -u github`\n",
    "\n",
    "``` bash\n",
    "(base) guillaume@LL11LPC0PQARQ:~/git/data-scientist-skills$ git push -u github\n",
    "Username for 'https://github.com': castorfou\n",
    "Password for 'https://castorfou@github.com':\n",
    "Counting objects: 4736, done.\n",
    "Delta compression using up to 8 threads.\n",
    "Compressing objects: 100% (3171/3171), done.\n",
    "Writing objects: 100% (4736/4736), 630.97 MiB | 9.08 MiB/s, done.\n",
    "Total 4736 (delta 1549), reused 4538 (delta 1458)\n",
    "remote: Resolving deltas: 100% (1549/1549), done.\n",
    "To https://github.com/castorfou/data-scientist-skills.git\n",
    " * [new branch]      master -> master\n",
    "Branch 'master' set up to track remote branch 'master' from 'github'.\n",
    "```"
   ]
  },
  {
   "cell_type": "markdown",
   "metadata": {},
   "source": [
    "# for new local repo"
   ]
  },
  {
   "cell_type": "markdown",
   "metadata": {},
   "source": [
    "Clone the new repo: `git clone git@github.com:castorfou/data-scientist-skills.git`"
   ]
  },
  {
   "cell_type": "markdown",
   "metadata": {},
   "source": [
    "And I want to have same names for same remotes: `git remote rename origin github`"
   ]
  },
  {
   "cell_type": "markdown",
   "metadata": {},
   "source": [
    "So now it is quite easy to update from different remote repo:\n",
    "\n",
    "``` bash\n",
    "cat refresh_from_github.sh \n",
    "#!/bin/bash\n",
    "git fetch github\n",
    "git pull\n",
    "```"
   ]
  },
  {
   "cell_type": "code",
   "execution_count": null,
   "metadata": {},
   "outputs": [],
   "source": []
  }
 ],
 "metadata": {
  "kernelspec": {
   "display_name": "Python [conda env:fastai] *",
   "language": "python",
   "name": "conda-env-fastai-py"
  },
  "language_info": {
   "codemirror_mode": {
    "name": "ipython",
    "version": 3
   },
   "file_extension": ".py",
   "mimetype": "text/x-python",
   "name": "python",
   "nbconvert_exporter": "python",
   "pygments_lexer": "ipython3",
   "version": "3.8.2"
  },
  "toc": {
   "base_numbering": 1,
   "nav_menu": {},
   "number_sections": true,
   "sideBar": true,
   "skip_h1_title": false,
   "title_cell": "Table of Contents",
   "title_sidebar": "Contents",
   "toc_cell": false,
   "toc_position": {},
   "toc_section_display": true,
   "toc_window_display": false
  },
  "varInspector": {
   "cols": {
    "lenName": 16,
    "lenType": 16,
    "lenVar": 40
   },
   "kernels_config": {
    "python": {
     "delete_cmd_postfix": "",
     "delete_cmd_prefix": "del ",
     "library": "var_list.py",
     "varRefreshCmd": "print(var_dic_list())"
    },
    "r": {
     "delete_cmd_postfix": ") ",
     "delete_cmd_prefix": "rm(",
     "library": "var_list.r",
     "varRefreshCmd": "cat(var_dic_list()) "
    }
   },
   "types_to_exclude": [
    "module",
    "function",
    "builtin_function_or_method",
    "instance",
    "_Feature"
   ],
   "window_display": false
  }
 },
 "nbformat": 4,
 "nbformat_minor": 4
}
