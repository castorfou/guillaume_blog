{
 "cells": [
  {
   "cell_type": "markdown",
   "metadata": {},
   "source": [
    "# \"How To Install Packages from the Jupyter Notebook\"\n",
    "> \"and why this is so messy\"\n",
    "- show_tags: true\n",
    "- toc: true\n",
    "- branch: master\n",
    "- badges: false\n",
    "- comments: true\n",
    "- categories: [jupyter, conda]"
   ]
  },
  {
   "cell_type": "markdown",
   "metadata": {},
   "source": [
    "This is directly from https://jakevdp.github.io/blog/2017/12/05/installing-python-packages-from-jupyter/.\n",
    "\n",
    "Here are my own experimentations following this article detailed explanations."
   ]
  },
  {
   "cell_type": "markdown",
   "metadata": {},
   "source": [
    "# Quick Fix: How To Install Packages from the Jupyter Notebook"
   ]
  },
  {
   "attachments": {},
   "cell_type": "markdown",
   "metadata": {},
   "source": [
    "![](../images/conda_jupyter.png)"
   ]
  },
  {
   "cell_type": "code",
   "execution_count": 1,
   "metadata": {
    "ExecuteTime": {
     "end_time": "2021-01-13T08:20:21.630984Z",
     "start_time": "2021-01-13T08:20:18.583232Z"
    }
   },
   "outputs": [
    {
     "name": "stdout",
     "output_type": "stream",
     "text": [
      "Collecting package metadata (current_repodata.json): done\n",
      "Solving environment: done\n",
      "\n",
      "# All requested packages already installed.\n",
      "\n"
     ]
    }
   ],
   "source": [
    "# Install a conda package in the current Jupyter kernel\n",
    "import sys\n",
    "!conda install --yes --prefix {sys.prefix} matplotlib"
   ]
  },
  {
   "cell_type": "markdown",
   "metadata": {},
   "source": [
    "# The Details: Why is Installation from Jupyter so Messy?"
   ]
  },
  {
   "cell_type": "markdown",
   "metadata": {},
   "source": [
    "## How your operating system locates executables"
   ]
  },
  {
   "cell_type": "code",
   "execution_count": 2,
   "metadata": {
    "ExecuteTime": {
     "end_time": "2021-01-13T08:24:48.901125Z",
     "start_time": "2021-01-13T08:24:48.779147Z"
    }
   },
   "outputs": [
    {
     "name": "stdout",
     "output_type": "stream",
     "text": [
      "/home/explore/gems/bin:/home/explore/miniconda3/envs/pytorch/bin:/home/explore/miniconda3/condabin:/home/explore/.local/bin:/usr/local/sbin:/usr/local/bin:/usr/sbin:/usr/bin:/sbin:/bin:/usr/games:/usr/local/games:/snap/bin\r\n"
     ]
    }
   ],
   "source": [
    "!echo $PATH"
   ]
  },
  {
   "cell_type": "code",
   "execution_count": 4,
   "metadata": {
    "ExecuteTime": {
     "end_time": "2021-01-13T08:25:11.986129Z",
     "start_time": "2021-01-13T08:25:11.868008Z"
    }
   },
   "outputs": [
    {
     "name": "stdout",
     "output_type": "stream",
     "text": [
      "python is /home/explore/miniconda3/envs/pytorch/bin/python\r\n"
     ]
    }
   ],
   "source": [
    "!type python"
   ]
  },
  {
   "cell_type": "markdown",
   "metadata": {},
   "source": [
    "You can optionally add the -a tag to see all available versions of the command in your current shell environment; for example:"
   ]
  },
  {
   "cell_type": "code",
   "execution_count": 5,
   "metadata": {
    "ExecuteTime": {
     "end_time": "2021-01-13T08:25:23.419472Z",
     "start_time": "2021-01-13T08:25:23.311910Z"
    }
   },
   "outputs": [
    {
     "name": "stdout",
     "output_type": "stream",
     "text": [
      "python is /home/explore/miniconda3/envs/pytorch/bin/python\r\n",
      "python is /usr/bin/python\r\n"
     ]
    }
   ],
   "source": [
    "!type -a python"
   ]
  },
  {
   "cell_type": "code",
   "execution_count": 6,
   "metadata": {
    "ExecuteTime": {
     "end_time": "2021-01-13T08:25:46.220230Z",
     "start_time": "2021-01-13T08:25:46.109877Z"
    }
   },
   "outputs": [
    {
     "name": "stdout",
     "output_type": "stream",
     "text": [
      "conda is /home/explore/miniconda3/condabin/conda\r\n"
     ]
    }
   ],
   "source": [
    "!type -a conda"
   ]
  },
  {
   "cell_type": "markdown",
   "metadata": {},
   "source": [
    "## How Python locates packages"
   ]
  },
  {
   "cell_type": "code",
   "execution_count": 7,
   "metadata": {
    "ExecuteTime": {
     "end_time": "2021-01-13T08:26:12.411908Z",
     "start_time": "2021-01-13T08:26:12.405611Z"
    }
   },
   "outputs": [
    {
     "data": {
      "text/plain": [
       "['/home/explore/git/guillaume/blog/_notebooks',\n",
       " '/home/explore/miniconda3/envs/pytorch/lib/python38.zip',\n",
       " '/home/explore/miniconda3/envs/pytorch/lib/python3.8',\n",
       " '/home/explore/miniconda3/envs/pytorch/lib/python3.8/lib-dynload',\n",
       " '',\n",
       " '/home/explore/miniconda3/envs/pytorch/lib/python3.8/site-packages',\n",
       " '/home/explore/miniconda3/envs/pytorch/lib/python3.8/site-packages/IPython/extensions',\n",
       " '/home/explore/.ipython']"
      ]
     },
     "execution_count": 7,
     "metadata": {},
     "output_type": "execute_result"
    }
   ],
   "source": [
    "import sys\n",
    "sys.path"
   ]
  },
  {
   "cell_type": "markdown",
   "metadata": {},
   "source": [
    "By default, the first place Python looks for a module is an empty path, meaning the current working directory. If the module is not found there, it goes down the list of locations until the module is found. You can find out which location has been used using the `__path__` attribute of an imported module:"
   ]
  },
  {
   "cell_type": "code",
   "execution_count": 8,
   "metadata": {
    "ExecuteTime": {
     "end_time": "2021-01-13T08:28:31.196407Z",
     "start_time": "2021-01-13T08:28:31.143317Z"
    }
   },
   "outputs": [
    {
     "data": {
      "text/plain": [
       "['/home/explore/miniconda3/envs/pytorch/lib/python3.8/site-packages/numpy']"
      ]
     },
     "execution_count": 8,
     "metadata": {},
     "output_type": "execute_result"
    }
   ],
   "source": [
    "import numpy\n",
    "numpy.__path__"
   ]
  },
  {
   "cell_type": "markdown",
   "metadata": {},
   "source": [
    "by printing the sys.path variables for each of the available python executables in my path, using Jupyter's delightful ability to mix Python and bash commands in a single code block:"
   ]
  },
  {
   "cell_type": "code",
   "execution_count": 9,
   "metadata": {
    "ExecuteTime": {
     "end_time": "2021-01-13T08:29:19.648869Z",
     "start_time": "2021-01-13T08:29:19.366058Z"
    }
   },
   "outputs": [
    {
     "name": "stdout",
     "output_type": "stream",
     "text": [
      "/usr/bin/python\n",
      "['', '/usr/lib/python2.7', '/usr/lib/python2.7/plat-x86_64-linux-gnu', '/usr/lib/python2.7/lib-tk', '/usr/lib/python2.7/lib-old', '/usr/lib/python2.7/lib-dynload', '/home/explore/.local/lib/python2.7/site-packages', '/usr/local/lib/python2.7/dist-packages', '/usr/local/lib/python2.7/dist-packages/PyCapture2-0.0.0-py2.7-linux-x86_64.egg', '/usr/lib/python2.7/dist-packages']\n",
      "\n",
      "/home/explore/miniconda3/envs/pytorch/bin/python\n",
      "['', '/home/explore/miniconda3/envs/pytorch/lib/python38.zip', '/home/explore/miniconda3/envs/pytorch/lib/python3.8', '/home/explore/miniconda3/envs/pytorch/lib/python3.8/lib-dynload', '/home/explore/miniconda3/envs/pytorch/lib/python3.8/site-packages']\n",
      "\n"
     ]
    }
   ],
   "source": [
    "paths = !type -a python\n",
    "for path in set(paths):\n",
    "    path = path.split()[-1]\n",
    "    print(path)\n",
    "    !{path} -c \"import sys; print(sys.path)\"\n",
    "    print()"
   ]
  },
  {
   "cell_type": "markdown",
   "metadata": {},
   "source": [
    "`pip install` will install in the Python in the same path:"
   ]
  },
  {
   "cell_type": "code",
   "execution_count": 10,
   "metadata": {
    "ExecuteTime": {
     "end_time": "2021-01-13T08:31:18.885538Z",
     "start_time": "2021-01-13T08:31:18.778292Z"
    }
   },
   "outputs": [
    {
     "name": "stdout",
     "output_type": "stream",
     "text": [
      "pip is /home/explore/miniconda3/envs/pytorch/bin/pip\r\n"
     ]
    }
   ],
   "source": [
    "!type pip"
   ]
  },
  {
   "cell_type": "markdown",
   "metadata": {},
   "source": [
    "`conda install` will install in the active conda envt"
   ]
  },
  {
   "cell_type": "code",
   "execution_count": 11,
   "metadata": {
    "ExecuteTime": {
     "end_time": "2021-01-13T08:31:48.077781Z",
     "start_time": "2021-01-13T08:31:47.714550Z"
    }
   },
   "outputs": [
    {
     "name": "stdout",
     "output_type": "stream",
     "text": [
      "# conda environments:\r\n",
      "#\r\n",
      "base                     /home/explore/miniconda3\r\n",
      "d059                     /home/explore/miniconda3/envs/d059\r\n",
      "datacamp                 /home/explore/miniconda3/envs/datacamp\r\n",
      "deeplearning_specialization     /home/explore/miniconda3/envs/deeplearning_specialization\r\n",
      "deeplearning_specialization_keras     /home/explore/miniconda3/envs/deeplearning_specialization_keras\r\n",
      "deeplearning_specialization_tf1     /home/explore/miniconda3/envs/deeplearning_specialization_tf1\r\n",
      "drl_handson              /home/explore/miniconda3/envs/drl_handson\r\n",
      "fastai                   /home/explore/miniconda3/envs/fastai\r\n",
      "gan                      /home/explore/miniconda3/envs/gan\r\n",
      "gan_tensorflow           /home/explore/miniconda3/envs/gan_tensorflow\r\n",
      "mit_6002x                /home/explore/miniconda3/envs/mit_6002x\r\n",
      "pytorch               *  /home/explore/miniconda3/envs/pytorch\r\n",
      "squeezebox               /home/explore/miniconda3/envs/squeezebox\r\n",
      "\r\n"
     ]
    }
   ],
   "source": [
    "!conda env list"
   ]
  },
  {
   "cell_type": "markdown",
   "metadata": {},
   "source": [
    "The reason both pip and conda default to the conda pytorch environment is that this is the Python environment I used to launch the notebook."
   ]
  },
  {
   "cell_type": "markdown",
   "metadata": {},
   "source": [
    "## How Jupyter executes code: Jupyter Kernels"
   ]
  },
  {
   "cell_type": "code",
   "execution_count": 12,
   "metadata": {
    "ExecuteTime": {
     "end_time": "2021-01-13T08:33:24.149405Z",
     "start_time": "2021-01-13T08:33:23.778109Z"
    }
   },
   "outputs": [
    {
     "name": "stdout",
     "output_type": "stream",
     "text": [
      "Available kernels:\r\n",
      "  python2    /home/explore/.local/share/jupyter/kernels/python2\r\n",
      "  python3    /home/explore/miniconda3/envs/pytorch/share/jupyter/kernels/python3\r\n"
     ]
    }
   ],
   "source": [
    "!jupyter kernelspec list"
   ]
  },
  {
   "cell_type": "code",
   "execution_count": 13,
   "metadata": {
    "ExecuteTime": {
     "end_time": "2021-01-13T08:34:05.394293Z",
     "start_time": "2021-01-13T08:34:05.283318Z"
    }
   },
   "outputs": [
    {
     "name": "stdout",
     "output_type": "stream",
     "text": [
      "{\r\n",
      " \"argv\": [\r\n",
      "  \"/home/explore/miniconda3/envs/pytorch/bin/python\",\r\n",
      "  \"-m\",\r\n",
      "  \"ipykernel_launcher\",\r\n",
      "  \"-f\",\r\n",
      "  \"{connection_file}\"\r\n",
      " ],\r\n",
      " \"display_name\": \"Python 3\",\r\n",
      " \"language\": \"python\"\r\n",
      "}"
     ]
    }
   ],
   "source": [
    "!cat /home/explore/miniconda3/envs/pytorch/share/jupyter/kernels/python3/kernel.json"
   ]
  },
  {
   "cell_type": "markdown",
   "metadata": {},
   "source": [
    "If you'd like to create a new kernel, you can do so using the jupyter ipykernel command; for example, I created the above kernels for my primary conda environments using the following as a template:\n",
    "\n",
    "```bash\n",
    "$ source activate myenv\n",
    "$ python -m ipykernel install --user --name myenv --display-name \"Python (myenv)\"\n",
    "```"
   ]
  },
  {
   "cell_type": "markdown",
   "metadata": {},
   "source": [
    "# The Root of the Issue"
   ]
  },
  {
   "cell_type": "markdown",
   "metadata": {},
   "source": [
    "The root of the issue is this: the shell environment is determined when the Jupyter notebook is launched, while the Python executable is determined by the kernel, and the two do not necessarily match. In other words, there is no guarantee that the python, pip, and conda in your $PATH will be compatible with the python executable used by the notebook."
   ]
  },
  {
   "cell_type": "markdown",
   "metadata": {},
   "source": [
    "Recall that the `python` in your path can be determined using"
   ]
  },
  {
   "cell_type": "code",
   "execution_count": 15,
   "metadata": {
    "ExecuteTime": {
     "end_time": "2021-01-13T08:37:57.772335Z",
     "start_time": "2021-01-13T08:37:57.656705Z"
    }
   },
   "outputs": [
    {
     "name": "stdout",
     "output_type": "stream",
     "text": [
      "python is /home/explore/miniconda3/envs/pytorch/bin/python\r\n"
     ]
    }
   ],
   "source": [
    "!type python"
   ]
  },
  {
   "cell_type": "markdown",
   "metadata": {},
   "source": [
    "The Python executable being used in the notebook can be determined using"
   ]
  },
  {
   "cell_type": "code",
   "execution_count": 14,
   "metadata": {
    "ExecuteTime": {
     "end_time": "2021-01-13T08:37:06.146914Z",
     "start_time": "2021-01-13T08:37:06.144200Z"
    }
   },
   "outputs": [
    {
     "data": {
      "text/plain": [
       "'/home/explore/miniconda3/envs/pytorch/bin/python'"
      ]
     },
     "execution_count": 14,
     "metadata": {},
     "output_type": "execute_result"
    }
   ],
   "source": [
    "sys.executable"
   ]
  },
  {
   "cell_type": "markdown",
   "metadata": {},
   "source": [
    "<div class=\"alert alert-info\">Note<p>when the 2 differs, boom!</p></div>\n",
    "     \n",
    "     "
   ]
  }
 ],
 "metadata": {
  "kernelspec": {
   "display_name": "Python 3",
   "language": "python",
   "name": "python3"
  },
  "language_info": {
   "codemirror_mode": {
    "name": "ipython",
    "version": 3
   },
   "file_extension": ".py",
   "mimetype": "text/x-python",
   "name": "python",
   "nbconvert_exporter": "python",
   "pygments_lexer": "ipython3",
   "version": "3.8.5"
  },
  "toc": {
   "base_numbering": 1,
   "nav_menu": {},
   "number_sections": true,
   "sideBar": true,
   "skip_h1_title": false,
   "title_cell": "Table of Contents",
   "title_sidebar": "Contents",
   "toc_cell": false,
   "toc_position": {},
   "toc_section_display": true,
   "toc_window_display": true
  }
 },
 "nbformat": 4,
 "nbformat_minor": 4
}
