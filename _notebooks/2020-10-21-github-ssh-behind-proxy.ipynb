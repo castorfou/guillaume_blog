{
 "cells": [
  {
   "cell_type": "markdown",
   "metadata": {},
   "source": [
    "# Use git with github (ssh) behind corporate proxy\n",
    "> using corkscrew to tunnel ssh through http proxy\n",
    "- show_tags: true\n",
    "- toc: true\n",
    "- branch: master\n",
    "- badges: false\n",
    "- comments: true\n",
    "- categories: [git, WSL]\n",
    "- image: images/git.png"
   ]
  },
  {
   "cell_type": "markdown",
   "metadata": {},
   "source": [
    "# Configuration"
   ]
  },
  {
   "cell_type": "markdown",
   "metadata": {},
   "source": [
    "![alt text](../images/git_config.png \"github gitlab inside outside\")\n"
   ]
  },
  {
   "cell_type": "markdown",
   "metadata": {},
   "source": [
    "I use 2 kinds of repo. gitlab for internal/corporate projects, hosted inside my company. github for public/pet projects and as a blogging platform. 3 days a week I am inside company, 4 days a week outside.\n",
    "\n",
    "Green lines are the natural path to collaborate. \n",
    "\n",
    "When outside I don't have proxy configuration or firewall, and I can directly access github. I cannot access to gitlab but I don't want to address it now, this is why it is set as a black line. (if this is really needed I have a vpn access and this is as being inside)\n",
    "\n",
    "When inside, I use internal proxy. I can directly access gitlab. But I want to access github in a transparent way. And yes from both Windows and Linux (WSL). This is the red line.\n"
   ]
  },
  {
   "cell_type": "markdown",
   "metadata": {},
   "source": [
    "# Setup the red line"
   ]
  },
  {
   "cell_type": "markdown",
   "metadata": {},
   "source": [
    "Here is the https://stackoverflow.com/questions/21318535/how-to-setup-corkscrew-to-connect-to-github-through-draconian-proxy discussion.\n",
    "\n",
    "1st step is to install workscrew: `sudo apt install corkscrew`"
   ]
  },
  {
   "cell_type": "markdown",
   "metadata": {},
   "source": [
    "Then I create 2 ssh config files:\n",
    "\n",
    "```bash\n",
    "(base) guillaume@LL11LPC0PQARQ:~/proxy_files$ cat ssh_config_noproxy\n",
    "Host github.com\n",
    "IdentityFile ~/.ssh/id_rsa_gmail\n",
    "\n",
    "Host gitlab.<mycompany>.com\n",
    "IdentityFile ~/.ssh/id_rsa\n",
    "\n",
    "(base) guillaume@LL11LPC0PQARQ:~/proxy_files$ cat ssh_config_proxy\n",
    "Host github.com\n",
    "ProxyCommand /usr/bin/corkscrew <my_proxy_hostname> <my_proxy_port> %h %p\n",
    "IdentityFile ~/.ssh/id_rsa_gmail\n",
    "\n",
    "Host gitlab.<mycompany>.com\n",
    "IdentityFile ~/.ssh/id_rsa\n",
    "```"
   ]
  },
  {
   "cell_type": "markdown",
   "metadata": {},
   "source": [
    "It is just a matter of linking appropriate files when I am in or out of corporate network.\n",
    "\n",
    "As in `my_ip.sh`:\n",
    "\n",
    "```bash\n",
    "# Set Proxy\n",
    "function setproxy() {\n",
    "     echo \"Calling setproxy\"\n",
    "     export {http,https,ftp}_proxy=\"http://proxy_ip:80\"\n",
    "     export {HTTP,HTTPS,FTP}_PROXY=\"http://proxy_ip:80\"\n",
    "     #proxy for wget\n",
    "     ln -sf ~/proxy_files/.wgetrc_proxy ~/.wgetrc\n",
    "     #proxy for apt\n",
    "     #sudo ln -sf ~/proxy_files/apt_proxy.conf /etc/apt/apt.conf.d/proxy.conf\n",
    "     #proxy for conda\n",
    "     ln -sf ~/proxy_files/.condarc_proxy ~/.condarc\n",
    "     #proxy for git\n",
    "     git config --global http.proxy http://proxy_ip:80\n",
    "     ln -sf ~/proxy_files/ssh_config_proxy ~/.ssh/config\n",
    "}\n",
    "\n",
    "# Unset Proxy\n",
    "function unsetproxy() {\n",
    "     echo \"Calling unsetproxy\"\n",
    "     unset {http,https,ftp}_proxy\n",
    "     unset {HTTP,HTTPS,FTP}_PROXY\n",
    "     #no proxy for wget\n",
    "     ln -sf ~/proxy_files/.wgetrc_noproxy ~/.wgetrc\n",
    "     #no proxy for apt\n",
    "     #sudo rm -f /etc/apt/apt.conf.d/proxy.conf\n",
    "     #no proxy for conda\n",
    "     ln -sf ~/proxy_files/.condarc_noproxy ~/.condarc\n",
    "     #no proxy for git\n",
    "     git config --global --unset http.proxy\n",
    "     ln -sf ~/proxy_files/ssh_config_noproxy ~/.ssh/config\n",
    "}\n",
    "```"
   ]
  },
  {
   "cell_type": "markdown",
   "metadata": {},
   "source": [
    "# July-21: Update following change of entreprise network"
   ]
  },
  {
   "cell_type": "markdown",
   "metadata": {},
   "source": [
    "Now that we are behing GlobalProxy protection, we get some transparent proxy (good!) with no ssh access (bad).\n",
    "\n",
    "```bash\n",
    "$  ssh -Tvv git@github.com\n",
    "OpenSSH_7.6p1 Ubuntu-4ubuntu0.3, OpenSSL 1.0.2n  7 Dec 2017\n",
    "debug1: Reading configuration data /home/guillaume/.ssh/config\n",
    "debug1: /home/guillaume/.ssh/config line 1: Applying options for github.com\n",
    "debug1: Reading configuration data /etc/ssh/ssh_config\n",
    "debug1: /etc/ssh/ssh_config line 19: Applying options for *\n",
    "debug1: Executing proxy command: exec /bin/nc -X 5 -x 192.168.50.202:1080 github.com 22\n",
    "debug1: permanently_drop_suid: 1000\n",
    "debug1: identity file /home/guillaume/.ssh/id_rsa_gmail type 0\n",
    "debug1: key_load_public: No such file or directory\n",
    "debug1: identity file /home/guillaume/.ssh/id_rsa_gmail-cert type -1\n",
    "debug1: Local version string SSH-2.0-OpenSSH_7.6p1 Ubuntu-4ubuntu0.3\n",
    "ssh_exchange_identification: Connection closed by remote host\n",
    "```\n",
    "\n",
    "\n",
    "First step is to get rid of [socks5 configuration](https://castorfou.github.io/guillaume_blog/blog/git-avec-proxy-socks.html) "
   ]
  },
  {
   "cell_type": "markdown",
   "metadata": {},
   "source": [
    "## Revert socks5 for git"
   ]
  },
  {
   "cell_type": "markdown",
   "metadata": {
    "ExecuteTime": {
     "end_time": "2021-07-05T07:19:49.142086Z",
     "start_time": "2021-07-05T07:19:49.136485Z"
    }
   },
   "source": [
    "Just by commenting ProxyCommand in ssh for github"
   ]
  },
  {
   "cell_type": "markdown",
   "metadata": {
    "ExecuteTime": {
     "end_time": "2021-07-05T07:20:00.664283Z",
     "start_time": "2021-07-05T07:20:00.659375Z"
    }
   },
   "source": [
    "```bash\n",
    "$ cat .ssh/config\n",
    "Host github.com\n",
    "IdentityFile ~/.ssh/id_rsa_gmail\n",
    "#ProxyCommand /bin/nc -X 5 -x 192.168.50.202:1080 %h %p\n",
    "\n",
    "Host gitlab.michelin.com\n",
    "IdentityFile ~/.ssh/id_rsa\n",
    "```"
   ]
  },
  {
   "cell_type": "markdown",
   "metadata": {},
   "source": [
    "Second step is to migrate remote-url from ssh to https:"
   ]
  },
  {
   "cell_type": "markdown",
   "metadata": {},
   "source": [
    "## from git ssh to git https"
   ]
  },
  {
   "cell_type": "markdown",
   "metadata": {
    "ExecuteTime": {
     "end_time": "2021-07-05T07:12:51.097869Z",
     "start_time": "2021-07-05T07:12:50.929799Z"
    }
   },
   "source": [
    "```bash\n",
    "$ git remote set-url origin https://githib.com/castorfou/mit_600.2x.git\n",
    "$ git remote -v\n",
    "origin  https://github.com/castorfou/mit_600.2x.git (fetch)\n",
    "origin  https://github.com/castorfou/mit_600.2x.git (push)\n",
    "```"
   ]
  },
  {
   "cell_type": "markdown",
   "metadata": {},
   "source": [
    "This allows to fetch and pull updates\n",
    "```bash\n",
    "git fetch\n",
    "git pull\n",
    "```"
   ]
  },
  {
   "cell_type": "markdown",
   "metadata": {},
   "source": [
    "Lastly to setup passwordless access to github"
   ]
  },
  {
   "cell_type": "markdown",
   "metadata": {},
   "source": [
    "## Github token to access passwordless using https"
   ]
  },
  {
   "cell_type": "markdown",
   "metadata": {},
   "source": [
    "From https://clarusway.com/passwordless-usage-of-private-git-repositories/\n"
   ]
  },
  {
   "cell_type": "markdown",
   "metadata": {},
   "source": [
    "To Generate token in github:\n",
    "- (profile > Settings > Developer settings > Personal access tokens)\n",
    "- Generate new token\n",
    "- Select repo section\n",
    "\n",
    "Integrate into git config:\n",
    "- copy token into `.git/config` remote url ( from `url = https://github.com/castorfou/guillaume_blog.git` to `url = https://mytoken@github.com/castorfou/guillaume_blog.git`)"
   ]
  },
  {
   "cell_type": "code",
   "execution_count": null,
   "metadata": {},
   "outputs": [],
   "source": []
  }
 ],
 "metadata": {
  "kernelspec": {
   "display_name": "Python 3",
   "language": "python",
   "name": "python3"
  },
  "language_info": {
   "codemirror_mode": {
    "name": "ipython",
    "version": 3
   },
   "file_extension": ".py",
   "mimetype": "text/x-python",
   "name": "python",
   "nbconvert_exporter": "python",
   "pygments_lexer": "ipython3",
   "version": "3.8.10"
  },
  "toc": {
   "base_numbering": 1,
   "nav_menu": {},
   "number_sections": true,
   "sideBar": true,
   "skip_h1_title": false,
   "title_cell": "Table of Contents",
   "title_sidebar": "Contents",
   "toc_cell": false,
   "toc_position": {},
   "toc_section_display": true,
   "toc_window_display": true
  },
  "varInspector": {
   "cols": {
    "lenName": 16,
    "lenType": 16,
    "lenVar": 40
   },
   "kernels_config": {
    "python": {
     "delete_cmd_postfix": "",
     "delete_cmd_prefix": "del ",
     "library": "var_list.py",
     "varRefreshCmd": "print(var_dic_list())"
    },
    "r": {
     "delete_cmd_postfix": ") ",
     "delete_cmd_prefix": "rm(",
     "library": "var_list.r",
     "varRefreshCmd": "cat(var_dic_list()) "
    }
   },
   "types_to_exclude": [
    "module",
    "function",
    "builtin_function_or_method",
    "instance",
    "_Feature"
   ],
   "window_display": false
  }
 },
 "nbformat": 4,
 "nbformat_minor": 4
}
