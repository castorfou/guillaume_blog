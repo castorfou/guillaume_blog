{
 "cells": [
  {
   "cell_type": "markdown",
   "id": "metropolitan-sierra",
   "metadata": {
    "heading_collapsed": true,
    "slideshow": {
     "slide_type": "slide"
    }
   },
   "source": [
    "# \"Autogenerate documentation from custom python classes\"\n",
    "> \"pdoc3 - installation, generation, browse documentation\"\n",
    "- show_tags: true\n",
    "- toc: true\n",
    "- branch: master\n",
    "- badges: false\n",
    "- comments: true\n",
    "- categories: [python]\n",
    "- image: https://pdoc3.github.io/pdoc/logo.png"
   ]
  },
  {
   "cell_type": "markdown",
   "id": "empty-exception",
   "metadata": {
    "slideshow": {
     "slide_type": "subslide"
    }
   },
   "source": [
    "# Installation\n"
   ]
  },
  {
   "cell_type": "code",
   "execution_count": 1,
   "id": "manual-steal",
   "metadata": {
    "ExecuteTime": {
     "end_time": "2021-06-30T11:57:33.754753Z",
     "start_time": "2021-06-30T11:57:33.341372Z"
    }
   },
   "outputs": [
    {
     "name": "stdout",
     "output_type": "stream",
     "text": [
      "# conda environments:\r\n",
      "#\r\n",
      "base                     /home/explore/miniconda3\r\n",
      "aniti                    /home/explore/miniconda3/envs/aniti\r\n",
      "audioclass               /home/explore/miniconda3/envs/audioclass\r\n",
      "coursera_rl              /home/explore/miniconda3/envs/coursera_rl\r\n",
      "d059                  *  /home/explore/miniconda3/envs/d059\r\n",
      "datacamp                 /home/explore/miniconda3/envs/datacamp\r\n",
      "deeplearning_specialization     /home/explore/miniconda3/envs/deeplearning_specialization\r\n",
      "deeplearning_specialization_keras     /home/explore/miniconda3/envs/deeplearning_specialization_keras\r\n",
      "deeplearning_specialization_tf1     /home/explore/miniconda3/envs/deeplearning_specialization_tf1\r\n",
      "drl_handson              /home/explore/miniconda3/envs/drl_handson\r\n",
      "drl_simonini             /home/explore/miniconda3/envs/drl_simonini\r\n",
      "fastai                   /home/explore/miniconda3/envs/fastai\r\n",
      "fastaudio                /home/explore/miniconda3/envs/fastaudio\r\n",
      "gan                      /home/explore/miniconda3/envs/gan\r\n",
      "gan_tensorflow           /home/explore/miniconda3/envs/gan_tensorflow\r\n",
      "macos                    /home/explore/miniconda3/envs/macos\r\n",
      "minecraft                /home/explore/miniconda3/envs/minecraft\r\n",
      "mit_6002x                /home/explore/miniconda3/envs/mit_6002x\r\n",
      "mit_6S191                /home/explore/miniconda3/envs/mit_6S191\r\n",
      "pycaret                  /home/explore/miniconda3/envs/pycaret\r\n",
      "pytorch                  /home/explore/miniconda3/envs/pytorch\r\n",
      "scikit-learn-course      /home/explore/miniconda3/envs/scikit-learn-course\r\n",
      "shap                     /home/explore/miniconda3/envs/shap\r\n",
      "squeezebox               /home/explore/miniconda3/envs/squeezebox\r\n",
      "stablebaselines3         /home/explore/miniconda3/envs/stablebaselines3\r\n",
      "zoe                      /home/explore/miniconda3/envs/zoe\r\n",
      "\r\n"
     ]
    }
   ],
   "source": [
    "!conda env list"
   ]
  },
  {
   "cell_type": "code",
   "execution_count": 2,
   "id": "latest-phenomenon",
   "metadata": {
    "ExecuteTime": {
     "end_time": "2021-06-30T11:57:44.418565Z",
     "start_time": "2021-06-30T11:57:36.472312Z"
    }
   },
   "outputs": [
    {
     "name": "stdout",
     "output_type": "stream",
     "text": [
      "Collecting package metadata (current_repodata.json): done\n",
      "Solving environment: / \n",
      "The environment is inconsistent, please check the package plan carefully\n",
      "The following packages are causing the inconsistency:\n",
      "\n",
      "  - defaults/linux-64::matplotlib==3.3.2=0\n",
      "  - defaults/linux-64::matplotlib-base==3.3.2=py38h817c723_0\n",
      "  - defaults/linux-64::spacy==2.3.2=py38hfd86e86_0\n",
      "  - pytorch/linux-64::torchvision==0.8.1=py38_cu110\n",
      "  - defaults/linux-64::numpy==1.19.2=py38h54aff64_0\n",
      "  - defaults/linux-64::thinc==7.4.1=py38hfd86e86_0\n",
      "  - defaults/linux-64::cython-blis==0.4.1=py38h7b6447c_1\n",
      "  - fastai/noarch::fastprogress==1.0.0=pyh39e3cac_0\n",
      "  - fastai/noarch::fastai==2.1.4=py_0\n",
      "  - defaults/linux-64::mkl_random==1.1.1=py38h0573a6f_0\n",
      "  - pytorch/linux-64::pytorch==1.7.0=py3.8_cuda11.0.221_cudnn8.0.3_0\n",
      "  - defaults/linux-64::pandas==1.1.3=py38he6710b0_0\n",
      "  - fastai/noarch::fastscript==1.0.0=0\n",
      "  - defaults/linux-64::scipy==1.5.2=py38h0b6359f_0\n",
      "  - defaults/linux-64::mkl_fft==1.2.0=py38h23d657b_0\n",
      "  - fastai/noarch::fastbook==0.0.14=py_0\n",
      "  - defaults/linux-64::scikit-learn==0.23.2=py38h0573a6f_0\n",
      "done\n",
      "\n",
      "## Package Plan ##\n",
      "\n",
      "  environment location: /home/explore/miniconda3/envs/d059\n",
      "\n",
      "  added / updated specs:\n",
      "    - pdoc3\n",
      "\n",
      "\n",
      "The following NEW packages will be INSTALLED:\n",
      "\n",
      "  mako               pkgs/main/noarch::mako-1.1.4-pyhd3eb1b0_0\n",
      "  markdown           pkgs/main/linux-64::markdown-3.3.4-py38h06a4308_0\n",
      "  pdoc3              pkgs/main/noarch::pdoc3-0.9.2-pyhd3eb1b0_0\n",
      "\n",
      "The following packages will be UPDATED:\n",
      "\n",
      "  ca-certificates                              2020.10.14-0 --> 2021.5.25-h06a4308_1\n",
      "  certifi            pkgs/main/noarch::certifi-2020.6.20-p~ --> pkgs/main/linux-64::certifi-2021.5.30-py38h06a4308_0\n",
      "  mkl_fft                              1.2.0-py38h23d657b_0 --> 1.3.0-py38h54f3939_0\n",
      "  openssl                                 1.1.1h-h7b6447c_0 --> 1.1.1k-h27cfd23_0\n",
      "  scipy                                1.5.2-py38h0b6359f_0 --> 1.6.2-py38h91f5cce_0\n",
      "\n",
      "\n",
      "Preparing transaction: done\n",
      "Verifying transaction: done\n",
      "Executing transaction: done\n"
     ]
    }
   ],
   "source": [
    "import sys\n",
    "!conda install --yes --prefix {sys.prefix} pdoc3\n"
   ]
  },
  {
   "cell_type": "markdown",
   "id": "generous-princess",
   "metadata": {},
   "source": [
    "# Generate documentation from .py files"
   ]
  },
  {
   "cell_type": "code",
   "execution_count": 6,
   "id": "drawn-tours",
   "metadata": {
    "ExecuteTime": {
     "end_time": "2021-06-30T12:05:33.605814Z",
     "start_time": "2021-06-30T12:05:32.680839Z"
    }
   },
   "outputs": [
    {
     "name": "stdout",
     "output_type": "stream",
     "text": [
      "/home/explore/git/guillaume/d059/exp/html/init_D059.html\r\n"
     ]
    }
   ],
   "source": [
    "!pdoc --html --output-dir /home/explore/git/guillaume/d059/exp/html /home/explore/git/guillaume/d059/exp/init_D059.py"
   ]
  },
  {
   "cell_type": "markdown",
   "id": "herbal-clear",
   "metadata": {},
   "source": [
    "This is the way to generate doc:\n",
    "\n",
    "```bash\n",
    "pdoc --html --output-dir exp/html exp/my_classe.py\n",
    "```"
   ]
  },
  {
   "cell_type": "markdown",
   "id": "least-origin",
   "metadata": {},
   "source": [
    "## force refresh of doc\n",
    "\n",
    "in case of existing html file"
   ]
  },
  {
   "cell_type": "markdown",
   "id": "curious-bracelet",
   "metadata": {},
   "source": [
    "```bash\n",
    "pdoc --html --output-dir exp/html --force exp/my_classe.py\n",
    "```"
   ]
  },
  {
   "cell_type": "markdown",
   "id": "large-office",
   "metadata": {},
   "source": [
    "# Example"
   ]
  },
  {
   "cell_type": "markdown",
   "id": "unlikely-hydrogen",
   "metadata": {},
   "source": [
    "<iframe title=\"Doc\" marginheight=\"0\" src=\"https://castorfou.github.io/guillaume_blog/files/DateFab_NumTombee_Dataset.html\" width=\"800\" height=\"500\" frameborder=\"0\">\n",
    "</iframe>    "
   ]
  },
  {
   "cell_type": "markdown",
   "id": "e188cb57",
   "metadata": {},
   "source": [
    "# Proper docstring to get nice output"
   ]
  },
  {
   "cell_type": "markdown",
   "id": "bcda417b",
   "metadata": {},
   "source": [
    "Here is an example that gives good result:\n",
    "\n",
    "```python\n",
    "    \"\"\"\n",
    "    Un wrapper de lecture de contenu.\n",
    "    En fonction de la nature du fichier (extension), appelle le bon lecteur.\n",
    "    Les extensions supportées sont :\n",
    "        - .csv : pour appel à pd.read_csv. (Les colonnes Unnamed seront supprimées)\n",
    "        - .xls, .xlsx : pour appel à pd.read_excel\n",
    "        - .accdb : pour appel à pd.read_sql (disponible uniquement sous Windows)\n",
    "    Prend en parametre le nom complet du fichier csv, avec son extension. Et les options à passer.\n",
    "    Si un nom de colonne contient Date, le type datetime64 est appliqué.\n",
    "    Renvoie le dataframe correspondant.\n",
    "\n",
    "    Examples\n",
    "    --------\n",
    "    >>> getRawContent(root_data+'Stam-CC/MCCSC 25625.csv', sep=';', decimal=',', dayfirst=True)\n",
    "    >>> getRawContent(root_data+'Stam-CC/ExportData 25625.xlsx', sheet_name='ExportData 25625 MCCS')\n",
    "    >>> getRawContent(root_data +  '/accessDB/Datos 19_12.accdb', tablename='Datos_GR02_25625')\n",
    "\n",
    "    Parameters\n",
    "    ----------\n",
    "    filename : string\n",
    "        Emplacement du fichier. Format complet avec l'extension\n",
    "        Ex: root_data+'Stam-CC/MCCSC 25625.csv'\n",
    "    options : **keyword args, optional\n",
    "        Arguments valides dans l'appel à pandas.read_csv, ou pandas.read_excel, ou pandas_read_sql : https://pandas.pydata.org/pandas-docs/stable/reference/api/pandas.read_csv.html\n",
    "        Ex: sep=';', decimal=',', dayfirst=True\n",
    "        Ex: **{'sep':';', 'decimal':',', 'dayfirst':True}\n",
    "\n",
    "    Returns\n",
    "    -------\n",
    "    dataframe\n",
    "        Dataframe correspondant au filename avec les options de lecture associées.\n",
    "    \"\"\"\n",
    "```\n",
    "\n",
    "that results as\n",
    "\n",
    "![pdoc docstring](../images/pdoc_docstring.jpg)"
   ]
  },
  {
   "cell_type": "code",
   "execution_count": null,
   "id": "a25cd9cb",
   "metadata": {},
   "outputs": [],
   "source": []
  }
 ],
 "metadata": {
  "kernelspec": {
   "display_name": "Python 3",
   "language": "python",
   "name": "python3"
  },
  "language_info": {
   "codemirror_mode": {
    "name": "ipython",
    "version": 3
   },
   "file_extension": ".py",
   "mimetype": "text/x-python",
   "name": "python",
   "nbconvert_exporter": "python",
   "pygments_lexer": "ipython3",
   "version": "3.8.10"
  },
  "toc": {
   "base_numbering": 1,
   "nav_menu": {},
   "number_sections": true,
   "sideBar": true,
   "skip_h1_title": false,
   "title_cell": "Table of Contents",
   "title_sidebar": "Contents",
   "toc_cell": false,
   "toc_position": {},
   "toc_section_display": true,
   "toc_window_display": true
  },
  "varInspector": {
   "cols": {
    "lenName": 16,
    "lenType": 16,
    "lenVar": 40
   },
   "kernels_config": {
    "python": {
     "delete_cmd_postfix": "",
     "delete_cmd_prefix": "del ",
     "library": "var_list.py",
     "varRefreshCmd": "print(var_dic_list())"
    },
    "r": {
     "delete_cmd_postfix": ") ",
     "delete_cmd_prefix": "rm(",
     "library": "var_list.r",
     "varRefreshCmd": "cat(var_dic_list()) "
    }
   },
   "types_to_exclude": [
    "module",
    "function",
    "builtin_function_or_method",
    "instance",
    "_Feature"
   ],
   "window_display": false
  }
 },
 "nbformat": 4,
 "nbformat_minor": 5
}
