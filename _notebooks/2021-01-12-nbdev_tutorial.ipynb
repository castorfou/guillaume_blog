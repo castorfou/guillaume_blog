{
 "cells": [
  {
   "cell_type": "markdown",
   "metadata": {},
   "source": [
    "# \"Hello nbdev\"\n",
    "> \"walkthrough nbdev tutorial (from fastai team)\"\n",
    "- show_tags: true\n",
    "- toc: true\n",
    "- branch: master\n",
    "- badges: false\n",
    "- comments: true\n",
    "- categories: [fastai, nbdev, jupyter]"
   ]
  },
  {
   "cell_type": "markdown",
   "metadata": {},
   "source": [
    "# Resources"
   ]
  },
  {
   "cell_type": "markdown",
   "metadata": {},
   "source": [
    "Everything is under [nbdev](https://nbdev.fast.ai) website.\n",
    "\n",
    "3 resources worth to be mentioning:\n",
    "* nbdev [tutorial video](https://www.youtube.com/watch?v=Hrs7iEYmRmg) on youtube; 1 year old but seems still valid\n",
    "* nbdev [tutorial page](https://nbdev.fast.ai/tutorial)\n",
    "* nbdev [github repo](https://github.com/fastai/nbdev)\n",
    "\n",
    "What I plan to do is to watch the video part, and keep note of my progress in this blog entry."
   ]
  },
  {
   "cell_type": "markdown",
   "metadata": {},
   "source": [
    "# Walkthrough tutorial"
   ]
  },
  {
   "cell_type": "markdown",
   "metadata": {},
   "source": [
    "## repo creation\n",
    "\n",
    "As suggested by Jeremy, I start by creating a github repo named `hello_nbdev` from a nbdev template.\n",
    "\n",
    "It is just about clicking this link: https://github.com/fastai/nbdev_template/generate. If I am logged in github it will show the proper page."
   ]
  },
  {
   "cell_type": "markdown",
   "metadata": {},
   "source": [
    "## github pages"
   ]
  },
  {
   "cell_type": "markdown",
   "metadata": {},
   "source": [
    "Documentation will be hosted at github (can be hosted anywhere but github seems a straightforward option) and to do that we have to setup github pages:\n",
    "\n",
    "> Settings > Options > Github pages > Source > Master (branch) > /docs (folder) > Save\n",
    "\n",
    "And when done\n",
    "![](../images/nbdev_pages.png)"
   ]
  },
  {
   "cell_type": "markdown",
   "metadata": {},
   "source": [
    "Now we can insert this doc url as our repo website setting:\n",
    "\n",
    "> repo home > <> code > about (edit repo details) > Website"
   ]
  },
  {
   "cell_type": "markdown",
   "metadata": {},
   "source": [
    "## Edit settings.ini"
   ]
  },
  {
   "cell_type": "markdown",
   "metadata": {},
   "source": [
    "Everything is in this file.\n",
    "\n",
    "Just edit directly from github.\n",
    "\n",
    "```text\n",
    "lib_name = nbdev_template\n",
    "# For Enterprise Git add variable repo_name and company name\n",
    "# repo_name = analytics\n",
    "# company_name = nike\n",
    "\n",
    "user = fastai\n",
    "# description = A description of your project\n",
    "# keywords = some keywords\n",
    "# author = Your Name\n",
    "# author_email = email@example.com\n",
    "# copyright = Your Name or Company Name\n",
    "```\n",
    "\n",
    "to\n",
    "\n",
    "```text\n",
    "lib_name = hello_nbdev\n",
    "user = castorfou\n",
    "description = A tutorial walkthrough with nbdev\n",
    "keywords = fastai nbdev tutorial\n",
    "author = Guillaume Ramelet\n",
    "author_email = guillaume.ramelet@gmail.com\n",
    "copyright = Guillaume R.\n",
    "```\n",
    "\n",
    "and commit changes\n"
   ]
  },
  {
   "cell_type": "markdown",
   "metadata": {},
   "source": [
    "## Clone repo"
   ]
  },
  {
   "cell_type": "markdown",
   "metadata": {},
   "source": [
    "```bash\n",
    "~/git/guillaume$ git clone git@github.com:castorfou/hello_nbdev.git\n",
    "Cloning into 'hello_nbdev'...\n",
    "remote: Enumerating objects: 106, done.\n",
    "remote: Counting objects: 100% (106/106), done.\n",
    "remote: Compressing objects: 100% (94/94), done.\n",
    "remote: Total 106 (delta 7), reused 81 (delta 4), pack-reused 0\n",
    "Receiving objects: 100% (106/106), 1.02 MiB | 2.45 MiB/s, done.\n",
    "Resolving deltas: 100% (7/7), done.\n",
    "```"
   ]
  },
  {
   "cell_type": "markdown",
   "metadata": {},
   "source": [
    "## Setup nbdev python environment"
   ]
  },
  {
   "cell_type": "markdown",
   "metadata": {},
   "source": [
    "It is not specifically mentionned in the video. For this walkthrough I will use my existing `fastai` environment.\n",
    "\n",
    "\n",
    "```bash\n",
    "~/git/guillaume$ conda activate fastai\n",
    "~/git/guillaume$ nbdev_\n",
    "nbdev_build_docs         nbdev_diff_nbs           nbdev_test_nbs\n",
    "nbdev_build_lib          nbdev_fix_merge          nbdev_trust_nbs\n",
    "nbdev_bump_version       nbdev_install_git_hooks  nbdev_update_lib\n",
    "nbdev_clean_nbs          nbdev_nb2md              nbdev_upgrade\n",
    "nbdev_conda_package      nbdev_new                \n",
    "nbdev_detach             nbdev_read_nbs\n",
    "```"
   ]
  },
  {
   "cell_type": "markdown",
   "metadata": {},
   "source": [
    "As expected nbdev is already integrated in it."
   ]
  },
  {
   "cell_type": "markdown",
   "metadata": {},
   "source": [
    "Otherwise my guess is that I have to run \n",
    "`conda install -c fastai nbdev` under my python env."
   ]
  },
  {
   "cell_type": "markdown",
   "metadata": {},
   "source": [
    "## Install git hooks"
   ]
  },
  {
   "cell_type": "markdown",
   "metadata": {},
   "source": [
    "```bash\n",
    "(fastai) ~/git/guillaume/hello_nbdev$ nbdev_install_git_hooks \n",
    "Executing: git config --local include.path ../.gitconfig\n",
    "Success: hooks are installed and repo's .gitconfig is now trusted\n",
    "```"
   ]
  },
  {
   "cell_type": "markdown",
   "metadata": {},
   "source": [
    "### deal with conflicts"
   ]
  },
  {
   "cell_type": "markdown",
   "metadata": {},
   "source": [
    "If needed in case of conflict, Jeremy explains one can call `nbdev_fix_merge filename.ipynb` and it will use the standard conflict marker to help you identify and fix the conflict."
   ]
  },
  {
   "cell_type": "markdown",
   "metadata": {},
   "source": [
    "## Open 00_core.ipynb"
   ]
  },
  {
   "cell_type": "markdown",
   "metadata": {},
   "source": [
    "### create lib (we start with a core module) "
   ]
  },
  {
   "cell_type": "markdown",
   "metadata": {},
   "source": [
    "Just following Jeremy's instructions.\n",
    "* Create say_hello function\n",
    "* Use it (example)\n",
    "* Test it (assert)"
   ]
  },
  {
   "cell_type": "markdown",
   "metadata": {},
   "source": [
    "### build_lib"
   ]
  },
  {
   "cell_type": "markdown",
   "metadata": {},
   "source": [
    "We can call `nbdev_build_lib` from anywhere in the repo.\n",
    "\n",
    "```bash\n",
    "(fastai) ~/git/guillaume/hello_nbdev$ nbdev_build_lib \n",
    "Converted 00_core.ipynb.\n",
    "Converted index.ipynb.\n",
    "```\n",
    "\n",
    "and it creates files, under `hello_nbdev`\n",
    "\n",
    "```bash\n",
    "hello_nbdev$ ls hello_nbdev/\n",
    "core.py  __init__.py  _nbdev.py  __pycache__\n",
    "```"
   ]
  },
  {
   "cell_type": "markdown",
   "metadata": {},
   "source": [
    "### Module Documentation"
   ]
  },
  {
   "cell_type": "markdown",
   "metadata": {},
   "source": [
    "There are 2 levels of documentation. Documentation for your library that will be in `index.ipynb` and documentation for your modules that will be directly created from your code/notebooks `00_core.ipynb`, etc\n",
    "\n",
    "And to generate this documentation it will be just a matter of calling `nbdev_build_docs`."
   ]
  },
  {
   "cell_type": "markdown",
   "metadata": {},
   "source": [
    "## Library documentation into index.ipynb"
   ]
  },
  {
   "cell_type": "markdown",
   "metadata": {},
   "source": [
    "### create doc"
   ]
  },
  {
   "cell_type": "markdown",
   "metadata": {},
   "source": [
    "Documentation (what will be puclished) is in `index.ipynb`.\n",
    "\n",
    "This is an **actual** documentation. Documentation won't be written in markdown. It will be executed as code and rendered as such. How great is that."
   ]
  },
  {
   "cell_type": "markdown",
   "metadata": {},
   "source": [
    "To make it happen we have to import our lib just freshly generated."
   ]
  },
  {
   "cell_type": "code",
   "execution_count": null,
   "metadata": {},
   "outputs": [],
   "source": [
    "#hide\n",
    "from hello_nbdev.core import *"
   ]
  },
  {
   "cell_type": "markdown",
   "metadata": {},
   "source": [
    "And now we can use all the part of our lib to explain how it works and why it is great."
   ]
  },
  {
   "cell_type": "code",
   "execution_count": 2,
   "metadata": {
    "ExecuteTime": {
     "end_time": "2021-01-12T09:11:43.447197Z",
     "start_time": "2021-01-12T09:11:43.423878Z"
    }
   },
   "outputs": [
    {
     "data": {
      "text/plain": [
       "'Hello Guillaume!'"
      ]
     },
     "execution_count": 2,
     "metadata": {},
     "output_type": "execute_result"
    }
   ],
   "source": [
    "say_hello(\"Guillaume\")"
   ]
  },
  {
   "cell_type": "markdown",
   "metadata": {},
   "source": [
    "### build_docs"
   ]
  },
  {
   "cell_type": "markdown",
   "metadata": {},
   "source": [
    "We have to call `nbdev_build_docs` from our repo root.\n",
    "\n",
    "```python\n",
    "(fastai) ~/git/guillaume/hello_nbdev$ nbdev_build_docs \n",
    "converting: /home/explore/git/guillaume/hello_nbdev/00_core.ipynb\n",
    "converting /home/explore/git/guillaume/hello_nbdev/index.ipynb to README.md\n",
    "```\n"
   ]
  },
  {
   "cell_type": "markdown",
   "metadata": {},
   "source": [
    "### commit to publish docs"
   ]
  },
  {
   "cell_type": "markdown",
   "metadata": {},
   "source": [
    "Here is the list of files to be pushed:\n",
    "\n",
    "```bash\n",
    "git status\n",
    "\n",
    "Changes to be committed:\n",
    "\tmodified:   00_core.ipynb\n",
    "\tnew file:   00_core.py\n",
    "\tnew file:   Makefile\n",
    "\tmodified:   README.md\n",
    "\tnew file:   docs/_config.yml\n",
    "\tmodified:   docs/_data/sidebars/home_sidebar.yml\n",
    "\tnew file:   docs/_data/topnav.yml\n",
    "\tnew file:   docs/core.html\n",
    "\tnew file:   docs/index.html\n",
    "\tmodified:   docs/sidebar.json\n",
    "\tnew file:   hello_nbdev/__init__.py\n",
    "\tnew file:   hello_nbdev/_nbdev.py\n",
    "\tnew file:   hello_nbdev/core.py\n",
    "\tmodified:   index.ipynb\n",
    "\tnew file:   index.py\n",
    "```"
   ]
  },
  {
   "cell_type": "markdown",
   "metadata": {},
   "source": [
    "#### __init__.py"
   ]
  },
  {
   "cell_type": "markdown",
   "metadata": {},
   "source": [
    "Just add `from .core import *` to `__init__.py`"
   ]
  },
  {
   "cell_type": "code",
   "execution_count": 1,
   "metadata": {
    "ExecuteTime": {
     "end_time": "2021-01-12T09:28:14.239013Z",
     "start_time": "2021-01-12T09:28:14.129314Z"
    }
   },
   "outputs": [
    {
     "name": "stdout",
     "output_type": "stream",
     "text": [
      "__version__ = \"0.0.1\"\r\n",
      "from .core import *\r\n"
     ]
    }
   ],
   "source": [
    "!cat /home/explore/git/guillaume/hello_nbdev/hello_nbdev/__init__.py"
   ]
  },
  {
   "cell_type": "markdown",
   "metadata": {},
   "source": [
    "So that we can easily use `hello_nbdev` without mentioning `core` module"
   ]
  },
  {
   "cell_type": "code",
   "execution_count": 3,
   "metadata": {
    "ExecuteTime": {
     "end_time": "2021-01-12T09:30:19.909916Z",
     "start_time": "2021-01-12T09:30:19.903972Z"
    }
   },
   "outputs": [],
   "source": [
    "#hide\n",
    "from hello_nbdev import *"
   ]
  },
  {
   "cell_type": "markdown",
   "metadata": {},
   "source": [
    "#### commit and push"
   ]
  },
  {
   "cell_type": "markdown",
   "metadata": {},
   "source": [
    "```bash\n",
    "(fastai) ~/git/guillaume/hello_nbdev$ git commit -m 'initial commit'\n",
    "[master 3484db7] initial commit\n",
    " 15 files changed, 520 insertions(+), 31 deletions(-)\n",
    " create mode 100644 00_core.py\n",
    " create mode 100644 Makefile\n",
    " create mode 100644 docs/_config.yml\n",
    " create mode 100644 docs/_data/topnav.yml\n",
    " create mode 100644 docs/core.html\n",
    " create mode 100644 docs/index.html\n",
    " create mode 100644 hello_nbdev/__init__.py\n",
    " create mode 100644 hello_nbdev/_nbdev.py\n",
    " create mode 100644 hello_nbdev/core.py\n",
    " create mode 100644 index.py\n",
    "(fastai) ~/git/guillaume/hello_nbdev$ git push\n",
    "Enumerating objects: 30, done.\n",
    "Counting objects: 100% (30/30), done.\n",
    "Delta compression using up to 12 threads\n",
    "Compressing objects: 100% (19/19), done.\n",
    "Writing objects: 100% (21/21), 4.87 KiB | 2.44 MiB/s, done.\n",
    "Total 21 (delta 7), reused 0 (delta 0)\n",
    "remote: Resolving deltas: 100% (7/7), completed with 5 local objects.\n",
    "remote: \n",
    "remote: GitHub found 1 vulnerability on castorfou/hello_nbdev's default branch (1 low). To find out more, visit:\n",
    "remote:      https://github.com/castorfou/hello_nbdev/security/dependabot/docs/Gemfile.lock/nokogiri/open\n",
    "remote: \n",
    "To github.com:castorfou/hello_nbdev.git\n",
    "   3aec9f4..3484db7  master -> master\n",
    "```\n"
   ]
  },
  {
   "cell_type": "markdown",
   "metadata": {},
   "source": [
    "### And documentation is ready"
   ]
  },
  {
   "cell_type": "markdown",
   "metadata": {},
   "source": [
    "https://castorfou.github.io/hello_nbdev/\n",
    "\n",
    "![](../images/nbdev_docs.png)"
   ]
  },
  {
   "cell_type": "markdown",
   "metadata": {},
   "source": [
    "# Going further"
   ]
  },
  {
   "cell_type": "markdown",
   "metadata": {},
   "source": [
    "Now that we have a 1st simple example up and running, we can go further with:\n",
    "* classes\n",
    "* autoreload tip\n",
    "* launch nbdev_build_lib from jupyter\n",
    "* run tests in parallel"
   ]
  },
  {
   "cell_type": "markdown",
   "metadata": {},
   "source": [
    "## Classes\n",
    "\n",
    "Following tutorial, we can create class `HelloSayer` and document our methods by calling `show_doc(HelloSayer.say)`.\n",
    "\n",
    "We can decide to add entries into `index.ipynb` if this is something worth having at the library level."
   ]
  },
  {
   "cell_type": "markdown",
   "metadata": {},
   "source": [
    "## autoreload"
   ]
  },
  {
   "cell_type": "markdown",
   "metadata": {},
   "source": [
    "By adding these lines"
   ]
  },
  {
   "cell_type": "code",
   "execution_count": 2,
   "metadata": {
    "ExecuteTime": {
     "end_time": "2021-01-12T09:48:07.302657Z",
     "start_time": "2021-01-12T09:48:07.287410Z"
    }
   },
   "outputs": [],
   "source": [
    "%load_ext autoreload\n",
    "%autoreload 2"
   ]
  },
  {
   "cell_type": "markdown",
   "metadata": {},
   "source": [
    "your notebook automatically reads in the new modules as soon as the python file changes"
   ]
  },
  {
   "cell_type": "markdown",
   "metadata": {},
   "source": [
    "## launch nbdev scripts directly from jupyter"
   ]
  },
  {
   "cell_type": "markdown",
   "metadata": {},
   "source": [
    "Make it your last cell"
   ]
  },
  {
   "cell_type": "code",
   "execution_count": 14,
   "metadata": {
    "ExecuteTime": {
     "end_time": "2021-01-12T09:59:32.455729Z",
     "start_time": "2021-01-12T09:59:32.437517Z"
    }
   },
   "outputs": [
    {
     "name": "stdout",
     "output_type": "stream",
     "text": [
      "Converted 00_core.ipynb.\n",
      "Converted index.ipynb.\n"
     ]
    }
   ],
   "source": [
    "from nbdev.export import notebook2script; notebook2script()"
   ]
  },
  {
   "cell_type": "markdown",
   "metadata": {},
   "source": [
    "## run tests in parallel"
   ]
  },
  {
   "cell_type": "markdown",
   "metadata": {},
   "source": [
    "Just run `nbdev_test_nbs`\n",
    "\n",
    "If your notebook  starts with _, it will be excluded from the test list."
   ]
  },
  {
   "cell_type": "markdown",
   "metadata": {},
   "source": [
    "# Jekyll to view documentation locally\n"
   ]
  },
  {
   "cell_type": "markdown",
   "metadata": {},
   "source": [
    "Jekyll is the web server to properly render documentation. This is what is used at github pages."
   ]
  },
  {
   "cell_type": "markdown",
   "metadata": {},
   "source": [
    "## Installation and setup"
   ]
  },
  {
   "cell_type": "markdown",
   "metadata": {},
   "source": [
    "From https://jekyllrb.com/docs/installation/ubuntu/,\n",
    "\n",
    "`sudo apt-get install ruby-full build-essential zlib1g-dev`"
   ]
  },
  {
   "cell_type": "markdown",
   "metadata": {},
   "source": [
    "Install variables to use gem:\n",
    "\n",
    "```bash\n",
    "echo '# Install Ruby Gems to ~/gems' >> ~/.bashrc\n",
    "echo 'export GEM_HOME=\"$HOME/gems\"' >> ~/.bashrc\n",
    "echo 'export PATH=\"$HOME/gems/bin:$PATH\"' >> ~/.bashrc\n",
    "source ~/.bashrc\n",
    "```"
   ]
  },
  {
   "cell_type": "markdown",
   "metadata": {},
   "source": [
    "Install Jekyll and Builder:\n",
    "\n",
    "`gem install jekyll bundler`"
   ]
  },
  {
   "cell_type": "markdown",
   "metadata": {},
   "source": [
    "## Setup our lib to use Jekyll"
   ]
  },
  {
   "cell_type": "markdown",
   "metadata": {},
   "source": [
    "From our `docs` folder, launch `bundle install`\n",
    "\n",
    "```bash\n",
    "(fastai) ~/git/guillaume/hello_nbdev/docs$ bundle install\n",
    "Fetching gem metadata from https://rubygems.org/.........\n",
    "Using concurrent-ruby 1.1.7\n",
    "....\n",
    "Bundle complete! 4 Gemfile dependencies, 90 gems now installed.\n",
    "Use `bundle info [gemname]` to see where a bundled gem is installed.\n",
    "```"
   ]
  },
  {
   "cell_type": "markdown",
   "metadata": {},
   "source": [
    "## Use it"
   ]
  },
  {
   "cell_type": "markdown",
   "metadata": {},
   "source": [
    "From repo root, launch `make docs_serve`\n",
    "\n",
    "```bash\n",
    "(fastai) ~/git/guillaume/hello_nbdev$ make docs_serve\n",
    "cd docs && bundle exec jekyll serve\n",
    "Configuration file: /home/explore/git/guillaume/hello_nbdev/docs/_config.yml\n",
    "            Source: /home/explore/git/guillaume/hello_nbdev/docs\n",
    "       Destination: /home/explore/git/guillaume/hello_nbdev/docs/_site\n",
    " Incremental build: disabled. Enable with --incremental\n",
    "      Generating... \n",
    "   GitHub Metadata: No GitHub API authentication could be found. Some fields may be missing or have incorrect data.\n",
    "                    done in 0.098 seconds.\n",
    "/home/explore/gems/gems/pathutil-0.16.2/lib/pathutil.rb:502: warning: Using the last argument as keyword parameters is deprecated\n",
    " Auto-regeneration: enabled for '/home/explore/git/guillaume/hello_nbdev/docs'\n",
    "    Server address: http://127.0.0.1:4000/hello_nbdev//\n",
    "  Server running... press ctrl-c to stop.\n",
    "```"
   ]
  },
  {
   "cell_type": "markdown",
   "metadata": {},
   "source": [
    "It is available locally at http://127.0.0.1:4000/hello_nbdev/\n",
    "\n",
    "![](../images/nbdev_jekyll.png)"
   ]
  },
  {
   "cell_type": "markdown",
   "metadata": {},
   "source": [
    "# Skipped"
   ]
  },
  {
   "cell_type": "markdown",
   "metadata": {},
   "source": [
    "I have not gone through pypi publication and console_scripts.\n",
    "\n",
    "I don't have the need for the moment, if I need that I will add an entry here."
   ]
  },
  {
   "cell_type": "code",
   "execution_count": null,
   "metadata": {},
   "outputs": [],
   "source": []
  }
 ],
 "metadata": {
  "kernelspec": {
   "display_name": "Python [conda env:fastai] *",
   "language": "python",
   "name": "conda-env-fastai-py"
  },
  "language_info": {
   "codemirror_mode": {
    "name": "ipython",
    "version": 3
   },
   "file_extension": ".py",
   "mimetype": "text/x-python",
   "name": "python",
   "nbconvert_exporter": "python",
   "pygments_lexer": "ipython3",
   "version": "3.8.2"
  },
  "toc": {
   "base_numbering": 1,
   "nav_menu": {},
   "number_sections": true,
   "sideBar": true,
   "skip_h1_title": false,
   "title_cell": "Table of Contents",
   "title_sidebar": "Contents",
   "toc_cell": false,
   "toc_position": {},
   "toc_section_display": true,
   "toc_window_display": true
  }
 },
 "nbformat": 4,
 "nbformat_minor": 4
}
