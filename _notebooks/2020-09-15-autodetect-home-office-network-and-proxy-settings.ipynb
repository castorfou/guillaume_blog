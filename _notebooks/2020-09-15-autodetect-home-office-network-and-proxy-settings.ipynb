{
 "cells": [
  {
   "cell_type": "markdown",
   "metadata": {},
   "source": [
    "# Autodetect Home / Office network + Proxy\n",
    "> \"Depending on my location (home, office, hotspot), I want my network configuration to adapt and set the proper settings: proxy for http, conda, git, etc\"\n",
    "- show_tags: true\n",
    "- toc: true\n",
    "- branch: master\n",
    "- badges: false\n",
    "- comments: true\n",
    "- categories: [WSL, linux, bash]"
   ]
  },
  {
   "cell_type": "markdown",
   "metadata": {},
   "source": [
    "## IP detection"
   ]
  },
  {
   "cell_type": "markdown",
   "metadata": {},
   "source": [
    "Command to get IP address is as follow:\n",
    "\n",
    "```bash\n",
    "IP=`ifconfig | grep 'inet '| grep -v '127.0.0.1' | cut -d: -f2 | awk '{ print $2}'`\n",
    "```"
   ]
  },
  {
   "cell_type": "markdown",
   "metadata": {},
   "source": [
    "I can then check how IP is setup:\n",
    "- empty: no network attached, in that case nothing to do\n",
    "- HOME_IP=192.168.1.241: based on MAC I give fixed IP to my computers (out of DHCP scope)\n",
    "- S8_IP=192.168.: hotspot from samsung is using 192.168. addresses\n",
    "- OFFICE_IP=10.: office network uses 10. addresses\n",
    "\n"
   ]
  },
  {
   "cell_type": "markdown",
   "metadata": {},
   "source": [
    "Detect if variable `IP` is set:\n",
    "\n",
    "```bash\n",
    "if [ -z \"$IP\" ]; then\n",
    "        echo \"Not connected to any network\"\n",
    "fi\n",
    "```"
   ]
  },
  {
   "cell_type": "markdown",
   "metadata": {},
   "source": [
    "## Network detection and proxy settings\n"
   ]
  },
  {
   "cell_type": "markdown",
   "metadata": {},
   "source": [
    "Depending on my network, I have to set or unset proxy.\n",
    "\n",
    "Here is the 1st version:\n",
    "\n",
    "```bash\n",
    "(xgboost) guillaume@LL11LPC0PQARQ:~$ cat my_ip.sh\n",
    "#!/bin/bash\n",
    "\n",
    "IP=`ifconfig | grep 'inet '| grep -v '127.0.0.1' | cut -d: -f2 | awk '{ print $2}'`\n",
    "HOME_IP=192.168.1.241\n",
    "OFFICE_IP=10.\n",
    "S8_IP=192.168.\n",
    "\n",
    "# Set Proxy\n",
    "function setproxy() {\n",
    "     echo \"Calling setproxy\"\n",
    "     export {http,https,ftp}_proxy=\"http://proxy_ip:80\"\n",
    "     export {HTTP,HTTPS,FTP}_PROXY=\"http://proxy_ip:80\"\n",
    "}\n",
    "\n",
    "# Unset Proxy\n",
    "function unsetproxy() {\n",
    "     echo \"Calling unsetproxy\"\n",
    "     unset {http,https,ftp}_proxy\n",
    "     unset {HTTP,HTTPS,FTP}_PROXY\n",
    "}\n",
    "\n",
    "if [ -z \"$IP\" ]; then\n",
    "        echo \"Not connected to any network\"\n",
    "else\n",
    "        echo \"Connected and IP address is: $IP\"\n",
    "\n",
    "        if [[ \"$IP\" == \"$HOME_IP\" ]]; then\n",
    "                echo \"Connected at home from freebox pop --> no proxy\"\n",
    "                unsetproxy\n",
    "        else\n",
    "                if [[ \"$IP\" == \"$S8_IP\"* ]]; then\n",
    "                     echo \"Connected with mobile phone --> no proxy\"\n",
    "                     unsetproxy\n",
    "                fi\n",
    "                if [[ \"$IP\" == \"$OFFICE_IP\"* ]]; then\n",
    "                        echo \"Connected from Office --> proxy\"\n",
    "                        setproxy\n",
    "                fi\n",
    "        fi\n",
    "fi\n",
    "```\n"
   ]
  },
  {
   "cell_type": "markdown",
   "metadata": {},
   "source": [
    "## Call this script: source"
   ]
  },
  {
   "cell_type": "markdown",
   "metadata": {},
   "source": [
    "If I want these environment variables to be available from parent shell, I have to call my script with source.\n",
    "\n",
    "```bash\n",
    "(xgboost) guillaume@LL11LPC0PQARQ:~$ source my_ip.sh\n",
    "Connected and IP address is: 10.xxx.xxx.xxx\n",
    "192.168.1.241\n",
    "Connected from Office --> proxy\n",
    "Calling setproxy\n",
    "```"
   ]
  },
  {
   "cell_type": "markdown",
   "metadata": {},
   "source": [
    "And I will auto launch this script each time I open a terminal by adding `source my_ip.sh` at the end of `.bashrc`"
   ]
  },
  {
   "cell_type": "markdown",
   "metadata": {},
   "source": [
    "## git and keep dot configuration files: config"
   ]
  },
  {
   "cell_type": "markdown",
   "metadata": {},
   "source": [
    "Another great practice from Jeremy Howard: \n",
    "From https://developer.atlassian.com/blog/2016/02/best-way-to-store-dotfiles-git-bare-repo/\n",
    "and\n",
    "https://www.atlassian.com/git/tutorials/dotfiles\n",
    "\n"
   ]
  },
  {
   "cell_type": "markdown",
   "metadata": {},
   "source": [
    "I will create a blog entry about that later."
   ]
  },
  {
   "cell_type": "markdown",
   "metadata": {
    "ExecuteTime": {
     "end_time": "2020-09-15T07:56:02.813860Z",
     "start_time": "2020-09-15T07:56:02.808556Z"
    }
   },
   "source": [
    "```\n",
    "config add .bashrc my_ip.sh\n",
    "config commit -m 'detect network and set proxy'\n",
    "config push\n",
    "```\n"
   ]
  },
  {
   "cell_type": "markdown",
   "metadata": {},
   "source": [
    "## wget: proxy / no proxy"
   ]
  },
  {
   "cell_type": "markdown",
   "metadata": {},
   "source": [
    "I store proxy conf files under `~/proxy_files/`"
   ]
  },
  {
   "cell_type": "markdown",
   "metadata": {},
   "source": [
    "For wget: 2 files\n",
    "```bash\n",
    "$ cat proxy_files/.wgetrc_noproxy\n",
    "use_proxy=no\n",
    "$ cat proxy_files/.wgetrc_proxy\n",
    "use_proxy=yes\n",
    "http_proxy=proxy_ip:80\n",
    "https_proxy=proxy_ip:80\n",
    "```\n"
   ]
  },
  {
   "cell_type": "markdown",
   "metadata": {},
   "source": [
    "And enabling proxy for wget: `ln -sf ~/proxy_files/.wgetrc_proxy ~/.wgetrc`\n",
    "\n",
    "Disabling proxy for wget: `ln -sf ~/proxy_files/.wgetrc_noproxy ~/.wgetrc`"
   ]
  },
  {
   "cell_type": "markdown",
   "metadata": {},
   "source": [
    "So the updated functions `setproxy` and `unsetproxy` are:\n",
    "\n",
    "```bash\n",
    "# Set Proxy\n",
    "function setproxy() {\n",
    "     echo \"Calling setproxy\"\n",
    "     export {http,https,ftp}_proxy=\"http://proxy_ip:80\"\n",
    "     export {HTTP,HTTPS,FTP}_PROXY=\"http://proxy_ip:80\"\n",
    "     #proxy for wget\n",
    "     ln -sf ~/proxy_files/.wgetrc_proxy ~/.wgetrc\n",
    "}\n",
    "\n",
    "# Unset Proxy\n",
    "function unsetproxy() {\n",
    "     echo \"Calling unsetproxy\"\n",
    "     unset {http,https,ftp}_proxy\n",
    "     unset {HTTP,HTTPS,FTP}_PROXY\n",
    "     #no proxy for wget\n",
    "     ln -sf ~/proxy_files/.wgetrc_noproxy ~/.wgetrc\n",
    "}\n",
    "```"
   ]
  },
  {
   "cell_type": "markdown",
   "metadata": {},
   "source": [
    "## apt-get: proxy / no proxy"
   ]
  },
  {
   "cell_type": "markdown",
   "metadata": {
    "ExecuteTime": {
     "end_time": "2020-09-15T09:31:32.844308Z",
     "start_time": "2020-09-15T09:31:32.839187Z"
    }
   },
   "source": [
    "I store proxy conf files under `~/proxy_files/`"
   ]
  },
  {
   "cell_type": "markdown",
   "metadata": {},
   "source": [
    "For apt, 1 file\n",
    "```bash\n",
    "$ cat proxy_files/apt_proxy.conf\n",
    "Acquire {\n",
    "  HTTP::proxy \"http://proxy_ip:80\";\n",
    "  HTTPS::proxy \"http://proxy_ip:80\";\n",
    "}\n",
    "```"
   ]
  },
  {
   "cell_type": "markdown",
   "metadata": {},
   "source": [
    "And enabling proxy for apt: `sudo ln -sf ~/proxy_files/apt_proxy.conf /etc/apt/apt.conf.d/proxy.conf`\n",
    "\n",
    "Disabling proxy for wget: `sudo rm -f /etc/apt/apt.conf.d/proxy.conf`"
   ]
  },
  {
   "cell_type": "markdown",
   "metadata": {},
   "source": [
    "{% include alert.html text=\"Refactor to avoid password request each time it is launched\" %}\n",
    "\n",
    "for the moment I have just commented out these lines"
   ]
  },
  {
   "cell_type": "markdown",
   "metadata": {},
   "source": [
    "So the updated functions `setproxy` and `unsetproxy` are:\n",
    "\n",
    "```bash\n",
    "# Set Proxy\n",
    "function setproxy() {\n",
    "     echo \"Calling setproxy\"\n",
    "     export {http,https,ftp}_proxy=\"http://proxy_ip:80\"\n",
    "     export {HTTP,HTTPS,FTP}_PROXY=\"http://proxy_ip:80\"\n",
    "     #proxy for wget\n",
    "     ln -sf ~/proxy_files/.wgetrc_proxy ~/.wgetrc\n",
    "     #proxy for apt\n",
    "     #sudo ln -sf ~/proxy_files/apt_proxy.conf /etc/apt/apt.conf.d/proxy.conf\n",
    "}\n",
    "\n",
    "# Unset Proxy\n",
    "function unsetproxy() {\n",
    "     echo \"Calling unsetproxy\"\n",
    "     unset {http,https,ftp}_proxy\n",
    "     unset {HTTP,HTTPS,FTP}_PROXY\n",
    "     #no proxy for wget\n",
    "     ln -sf ~/proxy_files/.wgetrc_noproxy ~/.wgetrc\n",
    "     #no proxy for apt\n",
    "     #sudo rm -f /etc/apt/apt.conf.d/proxy.conf\n",
    "}\n",
    "```"
   ]
  },
  {
   "cell_type": "markdown",
   "metadata": {},
   "source": [
    "## Sept-21 2020: IP detection to be changed after WSL2"
   ]
  },
  {
   "cell_type": "markdown",
   "metadata": {},
   "source": [
    "With WSL2, IP address is from 172 network.\n",
    "\n",
    "This looks like a virtual internal address. More detail at that address: https://github.com/microsoft/WSL/issues/4150.\n",
    "\n",
    "{% include alert.html text=\"to update IP detection\" %}"
   ]
  },
  {
   "cell_type": "markdown",
   "metadata": {},
   "source": [
    "## Oct-21 2020: Use git with github (ssh) behind corporate proxy"
   ]
  },
  {
   "cell_type": "markdown",
   "metadata": {},
   "source": [
    "Here is the new configuration explained in my blog entry [Use git with github (ssh) behind corporate proxy](/guillaume_blog/git/wsl/2020/10/21/github-ssh-behind-proxy.html)\n",
    "\n",
    "It is just a matter of linking appropriate files when I am in or out of corporate network.\n",
    "\n",
    "As in `my_ip.sh`:\n",
    "\n",
    "```bash\n",
    "# Set Proxy\n",
    "function setproxy() {\n",
    "     echo \"Calling setproxy\"\n",
    "     export {http,https,ftp}_proxy=\"http://proxy_ip:80\"\n",
    "     export {HTTP,HTTPS,FTP}_PROXY=\"http://proxy_ip:80\"\n",
    "     #proxy for wget\n",
    "     ln -sf ~/proxy_files/.wgetrc_proxy ~/.wgetrc\n",
    "     #proxy for apt\n",
    "     #sudo ln -sf ~/proxy_files/apt_proxy.conf /etc/apt/apt.conf.d/proxy.conf\n",
    "     #proxy for conda\n",
    "     ln -sf ~/proxy_files/.condarc_proxy ~/.condarc\n",
    "     #proxy for git\n",
    "     git config --global http.proxy http://proxy_ip:80\n",
    "     ln -sf ~/proxy_files/ssh_config_proxy ~/.ssh/config\n",
    "}\n",
    "\n",
    "# Unset Proxy\n",
    "function unsetproxy() {\n",
    "     echo \"Calling unsetproxy\"\n",
    "     unset {http,https,ftp}_proxy\n",
    "     unset {HTTP,HTTPS,FTP}_PROXY\n",
    "     #no proxy for wget\n",
    "     ln -sf ~/proxy_files/.wgetrc_noproxy ~/.wgetrc\n",
    "     #no proxy for apt\n",
    "     #sudo rm -f /etc/apt/apt.conf.d/proxy.conf\n",
    "     #no proxy for conda\n",
    "     ln -sf ~/proxy_files/.condarc_noproxy ~/.condarc\n",
    "     #no proxy for git\n",
    "     git config --global --unset http.proxy\n",
    "     ln -sf ~/proxy_files/ssh_config_noproxy ~/.ssh/config\n",
    "}\n",
    "```"
   ]
  },
  {
   "cell_type": "code",
   "execution_count": null,
   "metadata": {},
   "outputs": [],
   "source": []
  }
 ],
 "metadata": {
  "kernelspec": {
   "display_name": "Python 3",
   "language": "python",
   "name": "python3"
  },
  "language_info": {
   "codemirror_mode": {
    "name": "ipython",
    "version": 3
   },
   "file_extension": ".py",
   "mimetype": "text/x-python",
   "name": "python",
   "nbconvert_exporter": "python",
   "pygments_lexer": "ipython3",
   "version": "3.8.2"
  },
  "toc": {
   "base_numbering": 1,
   "nav_menu": {},
   "number_sections": true,
   "sideBar": true,
   "skip_h1_title": false,
   "title_cell": "Table of Contents",
   "title_sidebar": "Contents",
   "toc_cell": false,
   "toc_position": {},
   "toc_section_display": true,
   "toc_window_display": true
  },
  "varInspector": {
   "cols": {
    "lenName": 16,
    "lenType": 16,
    "lenVar": 40
   },
   "kernels_config": {
    "python": {
     "delete_cmd_postfix": "",
     "delete_cmd_prefix": "del ",
     "library": "var_list.py",
     "varRefreshCmd": "print(var_dic_list())"
    },
    "r": {
     "delete_cmd_postfix": ") ",
     "delete_cmd_prefix": "rm(",
     "library": "var_list.r",
     "varRefreshCmd": "cat(var_dic_list()) "
    }
   },
   "types_to_exclude": [
    "module",
    "function",
    "builtin_function_or_method",
    "instance",
    "_Feature"
   ],
   "window_display": false
  }
 },
 "nbformat": 4,
 "nbformat_minor": 4
}
