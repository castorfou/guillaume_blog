{
 "cells": [
  {
   "cell_type": "markdown",
   "metadata": {
    "ExecuteTime": {
     "end_time": "2021-01-14T06:43:53.617487Z",
     "start_time": "2021-01-14T06:43:53.614877Z"
    }
   },
   "source": [
    "# \"Java installation on Ubuntu 20.04\"\n",
    "> \"Oracle JRE under Ubuntu focal using linuxuprising/java\"\n",
    "- show_tags: true\n",
    "- toc: true\n",
    "- branch: master\n",
    "- badges: false\n",
    "- comments: true\n",
    "- categories: [ubuntu, java]"
   ]
  },
  {
   "cell_type": "markdown",
   "metadata": {},
   "source": [
    "Following these instructions: https://www.digitalocean.com/community/tutorials/how-to-install-java-with-apt-on-ubuntu-20-04-fr."
   ]
  },
  {
   "cell_type": "markdown",
   "metadata": {},
   "source": [
    "# Current configuration"
   ]
  },
  {
   "cell_type": "code",
   "execution_count": 2,
   "metadata": {
    "ExecuteTime": {
     "end_time": "2021-01-14T06:47:43.119171Z",
     "start_time": "2021-01-14T06:47:42.984242Z"
    }
   },
   "outputs": [
    {
     "name": "stdout",
     "output_type": "stream",
     "text": [
      "openjdk 11.0.9.1 2020-11-04\r\n",
      "OpenJDK Runtime Environment (build 11.0.9.1+1-Ubuntu-0ubuntu1.20.04)\r\n",
      "OpenJDK 64-Bit Server VM (build 11.0.9.1+1-Ubuntu-0ubuntu1.20.04, mixed mode, sharing)\r\n"
     ]
    }
   ],
   "source": [
    "!java --version"
   ]
  },
  {
   "cell_type": "markdown",
   "metadata": {},
   "source": [
    "# Download Oracle JDK 11"
   ]
  },
  {
   "cell_type": "markdown",
   "metadata": {},
   "source": [
    "From https://launchpad.net/~linuxuprising/+archive/ubuntu/java/+packages, I can identify the focal version:\n",
    "\n",
    "`oracle-java11-installer-local - 11.0.9-1~linuxuprising0\t(changes file)\tlogix2\t2020-10-22\tPublished\tFocal\tJava`"
   ]
  },
  {
   "cell_type": "markdown",
   "metadata": {},
   "source": [
    "I download the given version from Oracle website: https://www.oracle.com/java/technologies/javase-jdk11-downloads.html. **Java SE Development Kit 11.0.9** **Linux x64 Compressed Archive**\n",
    "\n",
    "\n",
    "And yes you have to login with an oracle account to download it."
   ]
  },
  {
   "cell_type": "markdown",
   "metadata": {},
   "source": [
    "# Installation via linuxuprising/java"
   ]
  },
  {
   "cell_type": "markdown",
   "metadata": {
    "ExecuteTime": {
     "end_time": "2021-01-14T06:56:13.090200Z",
     "start_time": "2021-01-14T06:56:07.536379Z"
    }
   },
   "source": [
    "```bash\n",
    "sudo add-apt-repository ppa:linuxuprising/java\n",
    "sudo apt update\n",
    "sudo mkdir -p /var/cache/oracle-jdk11-installer-local/\n",
    "sudo cp ~/Downloads/jdk-11.0.9_linux-x64_bin.tar.gz /var/cache/oracle-jdk11-installer-local/\n",
    "sudo apt install oracle-java11-installer-local\n",
    "```\n",
    "\n",
    "After accepting the license agreement, installation is running"
   ]
  },
  {
   "cell_type": "markdown",
   "metadata": {},
   "source": [
    "# Check"
   ]
  },
  {
   "cell_type": "markdown",
   "metadata": {},
   "source": [
    "```bash\n",
    "$ sudo update-alternatives --config java\n",
    "There are 2 choices for the alternative java (providing /usr/bin/java).\n",
    "\n",
    "  Selection    Path                                         Priority   Status\n",
    "------------------------------------------------------------\n",
    "  0            /usr/lib/jvm/java-11-openjdk-amd64/bin/java   1111      auto mode\n",
    "  1            /usr/lib/jvm/java-11-openjdk-amd64/bin/java   1111      manual mode\n",
    "* 2            /usr/lib/jvm/java-11-oracle/bin/java          1091      manual mode\n",
    "```"
   ]
  },
  {
   "cell_type": "markdown",
   "metadata": {},
   "source": [
    "# Environment variable"
   ]
  },
  {
   "cell_type": "markdown",
   "metadata": {},
   "source": [
    "Enter `/usr/lib/jvm/java-11-oracle` as your JAVA_HOME variable in `/etc/environment`\n",
    "\n",
    "```bash\n",
    "$ cat /etc/environment\n",
    "PATH=\"/usr/local/sbin:/usr/local/bin:/usr/sbin:/usr/bin:/sbin:/bin:/usr/games:/usr/local/games:/snap/bin\"\n",
    "JAVA_HOME=\"/usr/lib/jvm/java-11-oracle\"\n",
    "$ source /etc/environment\n",
    "$ echo $JAVA_HOME\n",
    "/usr/lib/jvm/java-11-oracle\n",
    "```"
   ]
  },
  {
   "cell_type": "code",
   "execution_count": null,
   "metadata": {},
   "outputs": [],
   "source": []
  }
 ],
 "metadata": {
  "kernelspec": {
   "display_name": "Python [conda env:fastai] *",
   "language": "python",
   "name": "conda-env-fastai-py"
  },
  "language_info": {
   "codemirror_mode": {
    "name": "ipython",
    "version": 3
   },
   "file_extension": ".py",
   "mimetype": "text/x-python",
   "name": "python",
   "nbconvert_exporter": "python",
   "pygments_lexer": "ipython3",
   "version": "3.8.2"
  },
  "toc": {
   "base_numbering": 1,
   "nav_menu": {},
   "number_sections": true,
   "sideBar": true,
   "skip_h1_title": false,
   "title_cell": "Table of Contents",
   "title_sidebar": "Contents",
   "toc_cell": false,
   "toc_position": {},
   "toc_section_display": true,
   "toc_window_display": false
  }
 },
 "nbformat": 4,
 "nbformat_minor": 4
}
