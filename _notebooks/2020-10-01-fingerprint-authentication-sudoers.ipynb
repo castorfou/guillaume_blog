{
 "cells": [
  {
   "cell_type": "markdown",
   "metadata": {
    "ExecuteTime": {
     "end_time": "2020-10-01T07:15:06.614672Z",
     "start_time": "2020-10-01T07:15:06.604427Z"
    }
   },
   "source": [
    "# Use fingerprint to authenticate on Ubuntu, and passwordless on some apps\n",
    "> \"Fingerprints, sudoers\"\n",
    "- show_tags: true\n",
    "- toc: true\n",
    "- branch: master\n",
    "- badges: false\n",
    "- comments: true\n",
    "- categories: [ubuntu]"
   ]
  },
  {
   "cell_type": "markdown",
   "metadata": {},
   "source": [
    "# Fingerprint authentication"
   ]
  },
  {
   "cell_type": "markdown",
   "metadata": {},
   "source": [
    "![alt text](../images/fingerprint.png \"Users settings: Fingerprint login\")"
   ]
  },
  {
   "cell_type": "markdown",
   "metadata": {},
   "source": [
    "Just by activating Fingerprint login, quite surprisingly it has been working directly."
   ]
  },
  {
   "cell_type": "markdown",
   "metadata": {},
   "source": [
    "# Passwordless commands"
   ]
  },
  {
   "cell_type": "markdown",
   "metadata": {},
   "source": [
    "Because I have changed my password for a quite complex one, I am interested to launch some sudo commands without prompt of password.\n",
    "\n",
    "[How to run sudo commands without password](https://www.cyberciti.biz/faq/linux-unix-running-sudo-command-without-a-password/)"
   ]
  },
  {
   "cell_type": "markdown",
   "metadata": {},
   "source": [
    "Use `visudo` to update `/etc/sudoers`. I understand there is some syntax check to avoid mistake when editing this file. You don't want to be left with a defective sudo system."
   ]
  },
  {
   "cell_type": "markdown",
   "metadata": {},
   "source": [
    "I have just added this line. `explore` is my username. I can add additional commands after a comma (e.g. `/bin/systemctl restart httpd.service, /bin/kill`)\n",
    "\n",
    "```bash\n",
    "explore\tALL = NOPASSWD:\t/usr/bin/apt\n",
    "```"
   ]
  },
  {
   "cell_type": "code",
   "execution_count": null,
   "metadata": {},
   "outputs": [],
   "source": []
  }
 ],
 "metadata": {
  "kernelspec": {
   "display_name": "Python [conda env:fastai] *",
   "language": "python",
   "name": "conda-env-fastai-py"
  },
  "language_info": {
   "codemirror_mode": {
    "name": "ipython",
    "version": 3
   },
   "file_extension": ".py",
   "mimetype": "text/x-python",
   "name": "python",
   "nbconvert_exporter": "python",
   "pygments_lexer": "ipython3",
   "version": "3.8.2"
  },
  "toc": {
   "base_numbering": 1,
   "nav_menu": {},
   "number_sections": true,
   "sideBar": true,
   "skip_h1_title": false,
   "title_cell": "Table of Contents",
   "title_sidebar": "Contents",
   "toc_cell": false,
   "toc_position": {},
   "toc_section_display": true,
   "toc_window_display": false
  }
 },
 "nbformat": 4,
 "nbformat_minor": 4
}
