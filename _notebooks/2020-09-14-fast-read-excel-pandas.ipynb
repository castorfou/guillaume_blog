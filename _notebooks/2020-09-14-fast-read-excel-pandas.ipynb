{
 "cells": [
  {
   "cell_type": "markdown",
   "metadata": {},
   "source": [
    "# Fast read Excel files with pandas (cvs caching)\n",
    "\n",
    "- title: \"Fast read Excel files with pandas\"\n",
    "- description: \"my way to fast read big Excel files with Pandas using cvs cache\"\n",
    "- show_tags: true\n",
    "- toc: true\n",
    "- branch: master\n",
    "- badges: false\n",
    "- comments: true\n",
    "- categories: [pandas]"
   ]
  },
  {
   "cell_type": "markdown",
   "metadata": {},
   "source": [
    "## Problem description"
   ]
  },
  {
   "cell_type": "markdown",
   "metadata": {},
   "source": [
    "### initial settings"
   ]
  },
  {
   "cell_type": "code",
   "execution_count": 1,
   "metadata": {
    "ExecuteTime": {
     "end_time": "2020-09-14T09:22:11.119548Z",
     "start_time": "2020-09-14T09:22:10.921882Z"
    }
   },
   "outputs": [],
   "source": [
    "#hide\n",
    "import pandas as pd\n",
    "import numpy as np\n",
    "import os.path, platform\n",
    "\n",
    "root_secured_disk=\"Z:\\\\\"\n",
    "if (platform.system()=='Linux'):\n",
    "    root_secured_disk=\"/mnt/z/\"\n",
    "\n",
    "root_data = root_secured_disk+'data/'\n"
   ]
  },
  {
   "cell_type": "markdown",
   "metadata": {},
   "source": [
    "### measure_time decorator"
   ]
  },
  {
   "cell_type": "code",
   "execution_count": 3,
   "metadata": {
    "ExecuteTime": {
     "end_time": "2020-09-14T09:22:21.482650Z",
     "start_time": "2020-09-14T09:22:21.478491Z"
    }
   },
   "outputs": [],
   "source": [
    "from functools import wraps\n",
    "from time import time\n",
    "def measure_time(func):\n",
    "    @wraps(func)\n",
    "    def _time_it(*args, **kwargs):\n",
    "        start = int(round(time() * 1000))\n",
    "        try:\n",
    "            return func(*args, **kwargs)\n",
    "        finally:\n",
    "            end_ = int(round(time() * 1000)) - start\n",
    "            print(f\"Total execution time: {end_ if end_ > 0 else 0} ms\")\n",
    "    return _time_it"
   ]
  },
  {
   "cell_type": "markdown",
   "metadata": {},
   "source": [
    "### read big excel file with pandas"
   ]
  },
  {
   "cell_type": "code",
   "execution_count": 4,
   "metadata": {
    "ExecuteTime": {
     "end_time": "2020-09-14T09:23:19.159450Z",
     "start_time": "2020-09-14T09:23:19.156398Z"
    }
   },
   "outputs": [],
   "source": [
    "big_excel_file = root_data+'/pandas-caching/big_excel_file.xlsx'"
   ]
  },
  {
   "cell_type": "code",
   "execution_count": 5,
   "metadata": {
    "ExecuteTime": {
     "end_time": "2020-09-14T09:23:23.804242Z",
     "start_time": "2020-09-14T09:23:23.801382Z"
    }
   },
   "outputs": [],
   "source": [
    "@measure_time\n",
    "def load_excel(file):\n",
    "    dataframe = pd.read_excel(file)\n",
    "    return dataframe\n"
   ]
  },
  {
   "cell_type": "code",
   "execution_count": 6,
   "metadata": {
    "ExecuteTime": {
     "end_time": "2020-09-14T09:24:12.277847Z",
     "start_time": "2020-09-14T09:23:36.079527Z"
    }
   },
   "outputs": [
    {
     "name": "stdout",
     "output_type": "stream",
     "text": [
      "Total execution time: 36196 ms\n"
     ]
    }
   ],
   "source": [
    "dataframe = load_excel(big_excel_file)"
   ]
  },
  {
   "cell_type": "markdown",
   "metadata": {
    "ExecuteTime": {
     "end_time": "2020-09-09T14:08:38.764857Z",
     "start_time": "2020-09-09T14:08:02.497664Z"
    }
   },
   "source": [
    "{% include alert.html text=\"Waouh, 36 sec to read this file!\" %}"
   ]
  },
  {
   "cell_type": "markdown",
   "metadata": {},
   "source": [
    "### read converted csv file (turned to csv from excel using excel)"
   ]
  },
  {
   "cell_type": "code",
   "execution_count": 7,
   "metadata": {
    "ExecuteTime": {
     "end_time": "2020-09-14T09:25:22.933781Z",
     "start_time": "2020-09-14T09:25:22.930993Z"
    }
   },
   "outputs": [],
   "source": [
    "csv_file = root_data+'/pandas-caching/big_csv_file_turned_from_excel.csv'"
   ]
  },
  {
   "cell_type": "code",
   "execution_count": 8,
   "metadata": {
    "ExecuteTime": {
     "end_time": "2020-09-14T09:25:26.363619Z",
     "start_time": "2020-09-14T09:25:26.359974Z"
    }
   },
   "outputs": [],
   "source": [
    "@measure_time\n",
    "def load_csv(file):\n",
    "    dataframe = pd.read_csv(file, sep=';', decimal=',')\n",
    "    return dataframe"
   ]
  },
  {
   "cell_type": "code",
   "execution_count": 9,
   "metadata": {
    "ExecuteTime": {
     "end_time": "2020-09-14T09:25:32.069388Z",
     "start_time": "2020-09-14T09:25:31.230467Z"
    }
   },
   "outputs": [
    {
     "name": "stdout",
     "output_type": "stream",
     "text": [
      "Total execution time: 836 ms\n"
     ]
    }
   ],
   "source": [
    "df_csv = load_csv(csv_file)"
   ]
  },
  {
   "cell_type": "markdown",
   "metadata": {
    "ExecuteTime": {
     "end_time": "2020-09-09T14:49:15.019429Z",
     "start_time": "2020-09-09T14:49:14.762530Z"
    }
   },
   "source": [
    "{% include alert.html text=\"Much better, 0.8 sec!\" %}"
   ]
  },
  {
   "cell_type": "markdown",
   "metadata": {},
   "source": [
    "## Caching library"
   ]
  },
  {
   "cell_type": "code",
   "execution_count": 1,
   "metadata": {
    "ExecuteTime": {
     "end_time": "2020-09-14T13:48:45.256301Z",
     "start_time": "2020-09-14T13:48:45.249263Z"
    }
   },
   "outputs": [],
   "source": [
    "import os\n",
    "\n",
    "def read_CachedXLS(filename, forceReload = False, **options):\n",
    "    \"\"\"\n",
    "    Part d'un fichier excel natif (filename).\n",
    "    Si le dataframe caché correspondant n'existe pas encore, alors sauve le dataframe caché au format csv dans le rep source.\n",
    "    (s'il existe et si forceReload==True, alors écrase le dataframe caché existant par une nouvelle version)\n",
    "    Lit le dataframe caché correspondant avec les **options et retourne le dataframe.\n",
    "    \n",
    "    Examples\n",
    "    --------\n",
    "    >>> filename = '/mnt/z/data/Stam-CC/ExportData 25625.xlsx'\n",
    "        forceReload = False\n",
    "        option={'dayfirst':True, 'parse_dates':['Fecha de Medida', 'Fecha de Fabricacion'], 'sheetname':0}\n",
    "        getCachedXLSRaw(filename, forceRelead, **option).info()\n",
    "\n",
    "    Parameters\n",
    "    ----------\n",
    "    filename : string\n",
    "        Emplacement du fichier XLS. Avec l'extension. Format complet\n",
    "        Ex: '/mnt/z/data/Stam-CC/ExportData 25625.xlsx'\n",
    "    forceReload : boolean, optional, default value = False\n",
    "        Si forceReload == True, le fichier sera relu et sauvé même s'il existe déjà en cache\n",
    "    options : **keyword args, optional\n",
    "        Arguments de lecture du fichier XLS :  https://pandas.pydata.org/pandas-docs/stable/reference/api/pandas.read_csv.html\n",
    "        Ex: sheetname=1\n",
    "\n",
    "    Returns\n",
    "    -------\n",
    "    dataframe\n",
    "        Dataframe correspondant \n",
    "    \"\"\"\n",
    "    \n",
    "    #split pour ne garder que le nom sans le chemin de filename : Stam-CC/ExportData 25625 --> ExportData 25625\n",
    "    dataframe_filename = os.path.dirname(filename)+'/'+os.path.basename(filename)+'.csv'\n",
    "    #bug de pandas.to_csv quand il y a des espaces ?\n",
    "    dataframe_filename = dataframe_filename.replace(\" \", \"_\")\n",
    "\n",
    "    dataframe=[]\n",
    "    xls_toget = False\n",
    "    \n",
    "    #print(dataframe_filename)\n",
    "    if (forceReload and os.path.exists(dataframe_filename)):\n",
    "        print(\"Cached file \"+dataframe_filename+\" déjà existant mais forceReload=True - FORCE RELOAD\")\n",
    "        xls_toget = True\n",
    "        \n",
    "    if (not os.path.exists(dataframe_filename)):\n",
    "        print(\"Cached file  \"+dataframe_filename+\" inexistant - read_CachedXLS\")\n",
    "        xls_toget = True\n",
    "        \n",
    "    if (xls_toget):\n",
    "        dataframe = pd.read_excel(filename, **options)\n",
    "        dataframe.to_csv(dataframe_filename)\n",
    "    else:\n",
    "        print(\"Cached file \"+dataframe_filename+\" existe en cache, relecture\")\n",
    "    \n",
    "    #index_col pour ignorer les n° de lignes excel \n",
    "    options['sep']=','\n",
    "    options['decimal']='.'\n",
    "    options['skiprows']=0\n",
    "    options.pop('sheet_name')\n",
    "    dataframe = pd.read_csv(dataframe_filename,**options)\n",
    "    return dataframe"
   ]
  },
  {
   "cell_type": "code",
   "execution_count": 15,
   "metadata": {
    "ExecuteTime": {
     "end_time": "2020-09-14T09:27:25.876504Z",
     "start_time": "2020-09-14T09:27:25.841974Z"
    }
   },
   "outputs": [
    {
     "name": "stdout",
     "output_type": "stream",
     "text": [
      "Cached file /mnt/z/data//pandas-caching/big_excel_file.xlsx.csv existe en cache, relecture\n",
      "et voila\n"
     ]
    }
   ],
   "source": [
    "option={'sheet_name':0}\n",
    "read_CachedXLS(big_excel_file, **option)\n",
    "print(\"et voila\")\n"
   ]
  },
  {
   "cell_type": "code",
   "execution_count": null,
   "metadata": {},
   "outputs": [],
   "source": []
  }
 ],
 "metadata": {
  "kernelspec": {
   "display_name": "Python 3",
   "language": "python",
   "name": "python3"
  },
  "language_info": {
   "codemirror_mode": {
    "name": "ipython",
    "version": 3
   },
   "file_extension": ".py",
   "mimetype": "text/x-python",
   "name": "python",
   "nbconvert_exporter": "python",
   "pygments_lexer": "ipython3",
   "version": "3.8.2"
  },
  "toc": {
   "base_numbering": 1,
   "nav_menu": {},
   "number_sections": true,
   "sideBar": true,
   "skip_h1_title": false,
   "title_cell": "Table of Contents",
   "title_sidebar": "Contents",
   "toc_cell": false,
   "toc_position": {},
   "toc_section_display": true,
   "toc_window_display": true
  },
  "varInspector": {
   "cols": {
    "lenName": 16,
    "lenType": 16,
    "lenVar": 40
   },
   "kernels_config": {
    "python": {
     "delete_cmd_postfix": "",
     "delete_cmd_prefix": "del ",
     "library": "var_list.py",
     "varRefreshCmd": "print(var_dic_list())"
    },
    "r": {
     "delete_cmd_postfix": ") ",
     "delete_cmd_prefix": "rm(",
     "library": "var_list.r",
     "varRefreshCmd": "cat(var_dic_list()) "
    }
   },
   "types_to_exclude": [
    "module",
    "function",
    "builtin_function_or_method",
    "instance",
    "_Feature"
   ],
   "window_display": false
  }
 },
 "nbformat": 4,
 "nbformat_minor": 4
}
