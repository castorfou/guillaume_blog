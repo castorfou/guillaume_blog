{
 "cells": [
  {
   "cell_type": "markdown",
   "metadata": {},
   "source": [
    "# Conda activate from bash scripts\n",
    "> \"how to launch bash scripts with an effective conda environment: conda activate, ...\"\n",
    "- show_tags: true\n",
    "- toc: true\n",
    "- branch: master\n",
    "- badges: false\n",
    "- comments: true\n",
    "- categories: [conda, bash]"
   ]
  },
  {
   "cell_type": "markdown",
   "metadata": {},
   "source": [
    "# Can't execute `conda activate` from bash script"
   ]
  },
  {
   "cell_type": "markdown",
   "metadata": {},
   "source": [
    "Good description of the problem in [conda github](https://github.com/conda/conda/issues/7980).\n",
    "\n",
    "Calling `conda activate` from a bash script will raise some errors:\n",
    "\n",
    "```bash\n",
    "CommandNotFoundError: Your shell has not been properly configured to use 'conda activate'.\n",
    "To initialize your shell, run\n",
    "    $ conda init <SHELL_NAME>\n",
    "\n",
    "Currently supported shells are:\n",
    "  - bash\n",
    "  - fish\n",
    "  - tcsh\n",
    "  - xonsh\n",
    "  - zsh\n",
    "  - powershell\n",
    "\n",
    "See 'conda init --help' for more information and options.\n",
    "```\n"
   ]
  },
  {
   "cell_type": "markdown",
   "metadata": {},
   "source": [
    "# source ~/your_conda/etc/profile.d/conda.sh"
   ]
  },
  {
   "cell_type": "markdown",
   "metadata": {},
   "source": [
    "It is just a matter of sourcing the conda bash settings before calling conda activate.\n",
    "\n",
    "In m case I have installed conda in `~/miniconda3`, I just have to call `source ~/miniconda3/etc/profile.d/conda.sh`"
   ]
  },
  {
   "cell_type": "markdown",
   "metadata": {},
   "source": [
    "# Example to run my blogging environment"
   ]
  },
  {
   "cell_type": "markdown",
   "metadata": {},
   "source": [
    "```bash\n",
    "#!/bin/bash\n",
    "source ~/miniconda3/etc/profile.d/conda.sh\n",
    "cd ~/git/guillaume/guillaume_blog/_notebooks\n",
    "conda activate fastai\n",
    "jupyter notebook\n",
    "```"
   ]
  },
  {
   "cell_type": "code",
   "execution_count": null,
   "metadata": {},
   "outputs": [],
   "source": []
  }
 ],
 "metadata": {
  "kernelspec": {
   "display_name": "Python [conda env:fastai] *",
   "language": "python",
   "name": "conda-env-fastai-py"
  },
  "language_info": {
   "codemirror_mode": {
    "name": "ipython",
    "version": 3
   },
   "file_extension": ".py",
   "mimetype": "text/x-python",
   "name": "python",
   "nbconvert_exporter": "python",
   "pygments_lexer": "ipython3",
   "version": "3.8.2"
  },
  "toc": {
   "base_numbering": 1,
   "nav_menu": {},
   "number_sections": true,
   "sideBar": true,
   "skip_h1_title": false,
   "title_cell": "Table of Contents",
   "title_sidebar": "Contents",
   "toc_cell": false,
   "toc_position": {},
   "toc_section_display": true,
   "toc_window_display": true
  }
 },
 "nbformat": 4,
 "nbformat_minor": 4
}
