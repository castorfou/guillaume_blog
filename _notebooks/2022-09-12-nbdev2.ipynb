{
 "cells": [
  {
   "cell_type": "markdown",
   "metadata": {},
   "source": [
    "# \"nbdev2 - first steps\"\n",
    "> \"by Jeremy Howard and Hamel Hussain\"\n",
    "- show_tags: true\n",
    "- toc: true\n",
    "- branch: master\n",
    "- badges: false\n",
    "- comments: true\n",
    "- categories: [nbdev, fastai, jupyter]\n",
    "- image: images/icons/fastai.png"
   ]
  },
  {
   "cell_type": "markdown",
   "metadata": {},
   "source": [
    "fastai has just released [nbdev2](https://nbdev.fast.ai/).\n",
    "\n",
    "This is a complete rewrite with quarto. I like how they displayed features in that card\n",
    "\n",
    "![](https://nbdev.fast.ai/images/card.png)"
   ]
  },
  {
   "cell_type": "markdown",
   "metadata": {},
   "source": [
    "# Support"
   ]
  },
  {
   "cell_type": "markdown",
   "metadata": {},
   "source": [
    "There is a [nbdev section](https://forums.fast.ai/c/nbdev/48) in fastai forum.\n",
    "\n",
    "There is a channel #nbdev-help at fastai discord. Never posted there.\n",
    "\n",
    "And [issues page](https://github.com/fastai/nbdev/issues) in github fastai/nbdev repo."
   ]
  },
  {
   "cell_type": "markdown",
   "metadata": {},
   "source": [
    "# Walkthrough"
   ]
  },
  {
   "cell_type": "markdown",
   "metadata": {},
   "source": [
    "There is a 90 min video: [nbdev tutorial](https://www.youtube.com/watch?v=l7zS8Ld4_iA&ab_channel=JeremyHoward) -- zero to published project in 90 minutes\n",
    "\n",
    "I follow here this tutorial.\n",
    "\n",
    "Here are the big steps:"
   ]
  },
  {
   "cell_type": "markdown",
   "metadata": {},
   "source": [
    "## create github project"
   ]
  },
  {
   "cell_type": "markdown",
   "metadata": {},
   "source": [
    "- create a new project with github: [dataset_tools](https://github.com/castorfou/dataset_tools). Give a description it will be reused by nbdev"
   ]
  },
  {
   "cell_type": "markdown",
   "metadata": {},
   "source": [
    "## integrate `nbdev` in your python environment"
   ]
  },
  {
   "cell_type": "markdown",
   "metadata": {},
   "source": [
    "- create a local conda env `dataset_tools` with what is required to develop this library"
   ]
  },
  {
   "cell_type": "code",
   "execution_count": 12,
   "metadata": {},
   "outputs": [
    {
     "name": "stdout",
     "output_type": "stream",
     "text": [
      "conda remove --name dataset_tools --all\r\n",
      "conda create --name dataset_tools python=3.9\r\n",
      "conda activate dataset_tools\r\n",
      "conda install ipykernel\r\n",
      "python -m ipykernel install --user --name=dataset_tools\r\n",
      "pip install nbdev -U\r\n",
      "pip install pandas\r\n"
     ]
    }
   ],
   "source": [
    "!cat /home/guillaume/_conda_env/dataset_tools.txt"
   ]
  },
  {
   "cell_type": "code",
   "execution_count": 11,
   "metadata": {},
   "outputs": [
    {
     "name": "stdout",
     "output_type": "stream",
     "text": [
      "nbdev              2.2.10\r\n"
     ]
    }
   ],
   "source": [
    "import sys\n",
    "!{sys.prefix}/bin/pip list|grep nbdev"
   ]
  },
  {
   "cell_type": "markdown",
   "metadata": {},
   "source": [
    "## clone repo and turned it into a nbdev repo"
   ]
  },
  {
   "cell_type": "markdown",
   "metadata": {},
   "source": [
    "- clone repo `dataset_tools` and turn it into a nbdev repo\n"
   ]
  },
  {
   "cell_type": "markdown",
   "metadata": {},
   "source": [
    "```bash\n",
    "git clone git@github.com:castorfou/dataset_tools.git\n",
    "conda activate dataset_tools\n",
    "cd dataset_tools\n",
    "```"
   ]
  },
  {
   "cell_type": "markdown",
   "metadata": {},
   "source": [
    "## nbdev_ commands are ready to be used"
   ]
  },
  {
   "cell_type": "markdown",
   "metadata": {},
   "source": [
    "* nbdev can be used from here. For example `nbdev_help`  to display all nbdev_ commands and what it does. And more detail can be got with `-h`: `nbdev_new -h`"
   ]
  },
  {
   "cell_type": "code",
   "execution_count": 14,
   "metadata": {},
   "outputs": [
    {
     "name": "stdout",
     "output_type": "stream",
     "text": [
      "\u001b[1m\u001b[94mnbdev_bump_version\u001b[0m              Increment version in settings.ini by one\n",
      "\u001b[1m\u001b[94mnbdev_changelog\u001b[0m                 Create a CHANGELOG.md file from closed and labeled GitHub issues\n",
      "\u001b[1m\u001b[94mnbdev_clean\u001b[0m                     Clean all notebooks in `fname` to avoid merge conflicts\n",
      "\u001b[1m\u001b[94mnbdev_conda\u001b[0m                     Create a `meta.yaml` file ready to be built into a package, and optionally build and upload it\n",
      "\u001b[1m\u001b[94mnbdev_create_config\u001b[0m             Create a config file.\n",
      "\u001b[1m\u001b[94mnbdev_deploy\u001b[0m                    Deploy docs to GitHub Pages\n",
      "\u001b[1m\u001b[94mnbdev_docs\u001b[0m                      Create Quarto docs and README.md\n",
      "\u001b[1m\u001b[94mnbdev_export\u001b[0m                    Export notebooks in `path` to Python modules\n",
      "\u001b[1m\u001b[94mnbdev_filter\u001b[0m                    A notebook filter for Quarto\n",
      "\u001b[1m\u001b[94mnbdev_fix\u001b[0m                       Create working notebook from conflicted notebook `nbname`\n",
      "\u001b[1m\u001b[94mnbdev_help\u001b[0m                      Show help for all console scripts\n",
      "\u001b[1m\u001b[94mnbdev_install\u001b[0m                   Install Quarto and the current library\n",
      "\u001b[1m\u001b[94mnbdev_install_hooks\u001b[0m             Install Jupyter and git hooks to automatically clean, trust, and fix merge conflicts in notebooks\n",
      "\u001b[1m\u001b[94mnbdev_install_quarto\u001b[0m            Install latest Quarto on macOS or Linux, prints instructions for Windows\n",
      "\u001b[1m\u001b[94mnbdev_merge\u001b[0m                     Git merge driver for notebooks\n",
      "\u001b[1m\u001b[94mnbdev_migrate\u001b[0m                   Convert all directives and callouts in `fname` from v1 to v2\n",
      "\u001b[1m\u001b[94mnbdev_new\u001b[0m                       Create an nbdev project.\n",
      "\u001b[1m\u001b[94mnbdev_prepare\u001b[0m                   Export, test, and clean notebooks, and render README if needed\n",
      "\u001b[1m\u001b[94mnbdev_preview\u001b[0m                   Preview docs locally\n",
      "\u001b[1m\u001b[94mnbdev_pypi\u001b[0m                      Create and upload Python package to PyPI\n",
      "\u001b[1m\u001b[94mnbdev_quarto\u001b[0m                    Create Quarto docs and README.md\n",
      "\u001b[1m\u001b[94mnbdev_readme\u001b[0m                    Render README.md from index.ipynb\n",
      "\u001b[1m\u001b[94mnbdev_release_both\u001b[0m              Release both conda and PyPI packages\n",
      "\u001b[1m\u001b[94mnbdev_release_gh\u001b[0m                Calls `nbdev_changelog`, lets you edit the result, then pushes to git and calls `nbdev_release_git`\n",
      "\u001b[1m\u001b[94mnbdev_release_git\u001b[0m               Tag and create a release in GitHub for the current version\n",
      "\u001b[1m\u001b[94mnbdev_sidebar\u001b[0m                   Create sidebar.yml\n",
      "\u001b[1m\u001b[94mnbdev_test\u001b[0m                      Test in parallel notebooks matching `path`, passing along `flags`\n",
      "\u001b[1m\u001b[94mnbdev_trust\u001b[0m                     Trust notebooks matching `fname`\n",
      "\u001b[1m\u001b[94mnbdev_update\u001b[0m                    Propagate change in modules matching `fname` to notebooks that created them\n"
     ]
    }
   ],
   "source": [
    "!{sys.prefix}/bin/nbdev_help"
   ]
  },
  {
   "cell_type": "markdown",
   "metadata": {},
   "source": [
    "* `nbdev_new`. It is creating the structure and files such as settings.ini.\n",
    "* from base environment we can start `jupyter notebook`. It is advised to install nb_extensions (`pip install jupyter_contrib_nbextensions`), and activate TOC2. Open `00_core.ipynb` with `dataset_tools` kernel. Rename `00_core.ipynb` --> `00_container.ipynb`"
   ]
  },
  {
   "cell_type": "markdown",
   "metadata": {},
   "source": [
    "## and `#| ` prefix in notebooks as well"
   ]
  },
  {
   "cell_type": "markdown",
   "metadata": {},
   "source": [
    "Jeremy explains then what are `#|` used by quarto and nbdev.\n",
    "\n",
    "And for example `#| hide` will allow to be executed but hide in your documentation.\n",
    "\n",
    "Actually from a single notebook, you have 3 usages:\n",
    "* the notebook by itself -  all cells are executed, whatever are the prefix `#|` that you display on cells\n",
    "* the python file -  only the cells with `#| export` will be published in a python file referenced as `#| default_exp <name of python file>`. A new file is genreated when `nbdev_export` is called.\n",
    "* the documentation - all cells are used, except the one started with `#| hide`. Seems to be dynamically generated (when `nbdev_preview` is running?). `#| export` are handled specifically: if you have import, nothing is displayed. If you have code, definitions and docstrings are exported, and arguments as well."
   ]
  },
  {
   "cell_type": "markdown",
   "metadata": {},
   "source": [
    "There is an easy way to describe arguments of a function.\n",
    "\n",
    "Just make some indentation with comments such as in\n",
    "\n",
    "```python\n",
    "    def __init__(self, \n",
    "                 cle : str, # la clé du container\n",
    "                 dataset : pd.DataFrame = None, # le dataset\n",
    "                 colonnes_a_masquer : list = [], # les colonnes à masquer\n",
    "                 colonnes_a_conserver : list = [] # les colonnes qui ne seront pas transformées\n",
    "                ):\n",
    "```"
   ]
  },
  {
   "cell_type": "markdown",
   "metadata": {},
   "source": [
    "### show_doc"
   ]
  },
  {
   "cell_type": "markdown",
   "metadata": {},
   "source": [
    "and we can directly see the effect of it by calling `show_doc` (`show_doc(Container)`). You can even call show_doc on code not written with nbdev, or not even written by you."
   ]
  },
  {
   "cell_type": "code",
   "execution_count": 17,
   "metadata": {
    "ExecuteTime": {
     "end_time": "2022-09-12T09:01:42.139428Z",
     "start_time": "2022-09-12T09:01:41.974851Z"
    }
   },
   "outputs": [
    {
     "name": "stderr",
     "output_type": "stream",
     "text": [
      "/home/guillaume/miniconda/envs/dataset_tools/lib/python3.9/site-packages/fastcore/docscrape.py:225: UserWarning: Unknown section See Also\n",
      "  else: warn(msg)\n",
      "/home/guillaume/miniconda/envs/dataset_tools/lib/python3.9/site-packages/fastcore/docscrape.py:225: UserWarning: Unknown section Examples\n",
      "  else: warn(msg)\n"
     ]
    },
    {
     "data": {
      "text/markdown": [
       "---\n",
       "\n",
       "### DataFrame\n",
       "\n",
       ">      DataFrame (data=None, index:Axes|None=None, columns:Axes|None=None,\n",
       ">                 dtype:Dtype|None=None, copy:bool|None=None)\n",
       "\n",
       "Two-dimensional, size-mutable, potentially heterogeneous tabular data.\n",
       "\n",
       "Data structure also contains labeled axes (rows and columns).\n",
       "Arithmetic operations align on both row and column labels. Can be\n",
       "thought of as a dict-like container for Series objects. The primary\n",
       "pandas data structure.\n",
       "\n",
       "|    | **Type** | **Default** | **Details** |\n",
       "| -- | -------- | ----------- | ----------- |\n",
       "| data | NoneType | None | Dict can contain Series, arrays, constants, dataclass or list-like objects. If<br>data is a dict, column order follows insertion-order. If a dict contains Series<br>which have an index defined, it is aligned by its index.<br><br>.. versionchanged:: 0.25.0<br>   If data is a list of dicts, column order follows insertion-order. |\n",
       "| index | Axes \\| None | None | Index to use for resulting frame. Will default to RangeIndex if<br>no indexing information part of input data and no index provided. |\n",
       "| columns | Axes \\| None | None | Column labels to use for resulting frame when data does not have them,<br>defaulting to RangeIndex(0, 1, 2, ..., n). If data contains column labels,<br>will perform column selection instead. |\n",
       "| dtype | Dtype \\| None | None | Data type to force. Only a single dtype is allowed. If None, infer. |\n",
       "| copy | bool \\| None | None | Copy data from inputs.<br>For dict data, the default of None behaves like ``copy=True``.  For DataFrame<br>or 2d ndarray input, the default of None behaves like ``copy=False``.<br><br>.. versionchanged:: 1.3.0 |"
      ],
      "text/plain": [
       "---\n",
       "\n",
       "### DataFrame\n",
       "\n",
       ">      DataFrame (data=None, index:Axes|None=None, columns:Axes|None=None,\n",
       ">                 dtype:Dtype|None=None, copy:bool|None=None)\n",
       "\n",
       "Two-dimensional, size-mutable, potentially heterogeneous tabular data.\n",
       "\n",
       "Data structure also contains labeled axes (rows and columns).\n",
       "Arithmetic operations align on both row and column labels. Can be\n",
       "thought of as a dict-like container for Series objects. The primary\n",
       "pandas data structure.\n",
       "\n",
       "|    | **Type** | **Default** | **Details** |\n",
       "| -- | -------- | ----------- | ----------- |\n",
       "| data | NoneType | None | Dict can contain Series, arrays, constants, dataclass or list-like objects. If<br>data is a dict, column order follows insertion-order. If a dict contains Series<br>which have an index defined, it is aligned by its index.<br><br>.. versionchanged:: 0.25.0<br>   If data is a list of dicts, column order follows insertion-order. |\n",
       "| index | Axes \\| None | None | Index to use for resulting frame. Will default to RangeIndex if<br>no indexing information part of input data and no index provided. |\n",
       "| columns | Axes \\| None | None | Column labels to use for resulting frame when data does not have them,<br>defaulting to RangeIndex(0, 1, 2, ..., n). If data contains column labels,<br>will perform column selection instead. |\n",
       "| dtype | Dtype \\| None | None | Data type to force. Only a single dtype is allowed. If None, infer. |\n",
       "| copy | bool \\| None | None | Copy data from inputs.<br>For dict data, the default of None behaves like ``copy=True``.  For DataFrame<br>or 2d ndarray input, the default of None behaves like ``copy=False``.<br><br>.. versionchanged:: 1.3.0 |"
      ]
     },
     "execution_count": 17,
     "metadata": {},
     "output_type": "execute_result"
    }
   ],
   "source": [
    "from nbdev.showdoc import *\n",
    "import pandas as pd\n",
    "show_doc(pd.DataFrame)"
   ]
  },
  {
   "cell_type": "markdown",
   "metadata": {},
   "source": [
    "### unit testing"
   ]
  },
  {
   "cell_type": "markdown",
   "metadata": {},
   "source": [
    "There are some basic testing functionalty available by importing fastcore. `from fastcore.test import *`\n",
    "\n",
    "With `test_eq` very closed to `assert` and `test_ne` closed to `assert not`"
   ]
  },
  {
   "cell_type": "code",
   "execution_count": 20,
   "metadata": {
    "ExecuteTime": {
     "end_time": "2022-09-12T09:27:07.251089Z",
     "start_time": "2022-09-12T09:27:07.243921Z"
    }
   },
   "outputs": [
    {
     "data": {
      "text/markdown": [
       "---\n",
       "\n",
       "[source](https://github.com/fastai/fastcore/blob/master/fastcore/test.py#LNone){target=\"_blank\" style=\"float:right; font-size:smaller\"}\n",
       "\n",
       "### test_ne\n",
       "\n",
       ">      test_ne (a, b)\n",
       "\n",
       "`test` that `a!=b`"
      ],
      "text/plain": [
       "---\n",
       "\n",
       "[source](https://github.com/fastai/fastcore/blob/master/fastcore/test.py#LNone){target=\"_blank\" style=\"float:right; font-size:smaller\"}\n",
       "\n",
       "### test_ne\n",
       "\n",
       ">      test_ne (a, b)\n",
       "\n",
       "`test` that `a!=b`"
      ]
     },
     "execution_count": 20,
     "metadata": {},
     "output_type": "execute_result"
    }
   ],
   "source": [
    "from fastcore.test import *\n",
    "show_doc(test_eq)\n",
    "show_doc(test_ne)"
   ]
  },
  {
   "cell_type": "markdown",
   "metadata": {},
   "source": [
    "This is convenient to integrate all the unit tests that way. When you will export by running `Restart & Run All`, if an error is met, export won't be done."
   ]
  },
  {
   "cell_type": "markdown",
   "metadata": {},
   "source": [
    "And one can run `nbdev_test` from the command line."
   ]
  },
  {
   "cell_type": "markdown",
   "metadata": {},
   "source": [
    "### @patch - define method out of its class"
   ]
  },
  {
   "cell_type": "markdown",
   "metadata": {},
   "source": [
    "Just by adding this import\n",
    "\n",
    "```python\n",
    "from fastcore.utils import *\n",
    "```\n",
    "\n",
    "one can use\n",
    "```python\n",
    "@patch\n",
    "def new_method(self:myclass):\n",
    "    pass\n",
    "```\n"
   ]
  },
  {
   "cell_type": "markdown",
   "metadata": {},
   "source": [
    "### `nbdev_export`"
   ]
  },
  {
   "cell_type": "markdown",
   "metadata": {},
   "source": [
    "from command line, one can run `nbdev_export`\n",
    "\n",
    "or directly from jupyter, for example will be executing `Restart & Run All`\n",
    "\n",
    "```python\n",
    "#| hide\n",
    "import nbdev; nbdev.nbdev_export()\n",
    "```\n",
    "\n"
   ]
  },
  {
   "cell_type": "markdown",
   "metadata": {},
   "source": [
    "And we can install it to be used directly by running `pip install -e .`\n",
    "\n",
    "It means that you can now import your project with\n",
    "\n",
    "`from dataset_tools.container import *`"
   ]
  },
  {
   "cell_type": "markdown",
   "metadata": {},
   "source": [
    "When it will be published (pypi or conda), it will be installable by calling\n",
    "\n",
    "`pip install dataset-tools`\n",
    "\n",
    "or\n",
    "\n",
    "`conda install -c fastai dataset-tools`\n",
    "\n",
    "NB: see how `_` has been turned into `-`, and for that to happen we have to update `lib_name` and `lib_path` in `settings.ini` by replacing `_`with `-`\n",
    "\n",
    "NB2: it is still confusing for me. It looks like modifying `lib_path` is not a good optiom."
   ]
  },
  {
   "cell_type": "markdown",
   "metadata": {},
   "source": [
    "### index.ipynb"
   ]
  },
  {
   "cell_type": "markdown",
   "metadata": {},
   "source": [
    "Here it is a good idea to give overview about how to use it.\n",
    "\n",
    "By importing your library and start using it.\n",
    "\n",
    "And it will be exported as the homepage of your lib.\n",
    "\n",
    "Just have to decide what should land in index and what should land in module page."
   ]
  },
  {
   "cell_type": "markdown",
   "metadata": {},
   "source": [
    "### `nbdev_preview`"
   ]
  },
  {
   "cell_type": "markdown",
   "metadata": {},
   "source": [
    "Just run it from command line\n",
    "\n",
    "```bash\n",
    "nbdev_preview\n",
    "```\n",
    "\n",
    "and it is accessible from http://localhost:3000.\n",
    "\n",
    "This is a quarto webserver. The 1st time you launch it it will install quarto for you. On ubuntu this is a standard package so it will be updated regularly.\n"
   ]
  },
  {
   "cell_type": "code",
   "execution_count": 22,
   "metadata": {
    "ExecuteTime": {
     "end_time": "2022-09-12T10:00:57.349093Z",
     "start_time": "2022-09-12T10:00:53.838159Z"
    }
   },
   "outputs": [
    {
     "name": "stdout",
     "output_type": "stream",
     "text": [
      "········\n",
      "[sudo] password for guillaume: Package: quarto\n",
      "Status: install ok installed\n",
      "Priority: optional\n",
      "Section: user/text\n",
      "Installed-Size: 242759\n",
      "Maintainer: RStudio, PBC <quarto@rstudio.org>\n",
      "Architecture: amd64\n",
      "Version: 1.1.189\n",
      "Description: Quarto is an academic, scientific, and technical publishing system built on Pandoc.\n",
      "Description-md5: 516c872f9c3577457bbd01eac38f8130\n",
      "Homepage: https://github.com/quarto-dev/quarto-cli\n",
      "\n"
     ]
    }
   ],
   "source": [
    "from getpass import getpass\n",
    "!echo {getpass()} | sudo -S apt-cache show quarto"
   ]
  },
  {
   "cell_type": "markdown",
   "metadata": {},
   "source": [
    "### `nbdev_test`"
   ]
  },
  {
   "cell_type": "markdown",
   "metadata": {},
   "source": [
    "As mentionned earlier, one can run `nbdev_test` to execute all tests in all notebooks.\n",
    "\n",
    "If it fails, Hamel has shared his dev workflow. He runs `Restart kernel & run All`, and use `%debug` magic command to enter debug mode.\n",
    "\n",
    "You then have access to all `ipdb` commands such as h for help, p `var` to print content of `var`, w for stacktraces"
   ]
  },
  {
   "cell_type": "code",
   "execution_count": 24,
   "metadata": {
    "ExecuteTime": {
     "end_time": "2022-09-12T12:46:31.638551Z",
     "start_time": "2022-09-12T12:44:45.229875Z"
    }
   },
   "outputs": [
    {
     "name": "stdout",
     "output_type": "stream",
     "text": [
      "> \u001b[0;32m/tmp/ipykernel_2453/349085080.py\u001b[0m(1)\u001b[0;36m<cell line: 1>\u001b[0;34m()\u001b[0m\n",
      "\u001b[0;32m----> 1 \u001b[0;31m\u001b[0mshow_doc\u001b[0m\u001b[0;34m(\u001b[0m\u001b[0mtest_eq\u001b[0m\u001b[0;34m)\u001b[0m\u001b[0;34m\u001b[0m\u001b[0;34m\u001b[0m\u001b[0m\n",
      "\u001b[0m\n",
      "ipdb> h\n",
      "\n",
      "Documented commands (type help <topic>):\n",
      "========================================\n",
      "EOF    commands   enable    ll        pp       s                until \n",
      "a      condition  exit      longlist  psource  skip_hidden      up    \n",
      "alias  cont       h         n         q        skip_predicates  w     \n",
      "args   context    help      next      quit     source           whatis\n",
      "b      continue   ignore    p         r        step             where \n",
      "break  d          interact  pdef      restart  tbreak         \n",
      "bt     debug      j         pdoc      return   u              \n",
      "c      disable    jump      pfile     retval   unalias        \n",
      "cl     display    l         pinfo     run      undisplay      \n",
      "clear  down       list      pinfo2    rv       unt            \n",
      "\n",
      "Miscellaneous help topics:\n",
      "==========================\n",
      "exec  pdb\n",
      "\n",
      "ipdb> q\n"
     ]
    }
   ],
   "source": [
    "%debug"
   ]
  },
  {
   "cell_type": "markdown",
   "metadata": {},
   "source": [
    "### Golden rule: don't mix imports and code"
   ]
  },
  {
   "cell_type": "markdown",
   "metadata": {},
   "source": [
    "For a reason it is asked not to mix cells with imports and code.\n",
    "\n",
    "I am not sure what is the core reason for that. Something due to show_doc or doc generation?\n",
    "\n",
    "During my tests, I have seen something complaining about it after running `nbdev_export` or `nbdev_test` but cannot reproduce that. Hmmm\n"
   ]
  },
  {
   "cell_type": "markdown",
   "metadata": {},
   "source": [
    "### `nbdev_clean`"
   ]
  },
  {
   "cell_type": "markdown",
   "metadata": {},
   "source": [
    "Just to remove unnecessary metadata in ipynb files."
   ]
  },
  {
   "cell_type": "markdown",
   "metadata": {},
   "source": [
    "Will open an issue, because it fails to run here\n",
    "\n",
    "```bash\n",
    "(dataset_tools) guillaume@LK06LPF2LTSSL:~/git/dataset_tools$ nbdev_clean\n",
    "/home/guillaume/miniconda/envs/dataset_tools/lib/python3.9/site-packages/nbdev/clean.py:110: UserWarning: Failed to clean notebook\n",
    "  warn(f'{warn_msg}')\n",
    "/home/guillaume/miniconda/envs/dataset_tools/lib/python3.9/site-packages/nbdev/clean.py:111: UserWarning: clean_ids\n",
    "  warn(e)\n",
    "/home/guillaume/miniconda/envs/dataset_tools/lib/python3.9/site-packages/nbdev/clean.py:111: UserWarning: clean_ids\n",
    "  warn(e)\n",
    "```"
   ]
  },
  {
   "cell_type": "markdown",
   "metadata": {},
   "source": [
    "### push to github"
   ]
  },
  {
   "cell_type": "markdown",
   "metadata": {},
   "source": [
    "Not a bad thing to run all these stuff\n",
    "\n",
    "```bash\n",
    "nbdev_clean\n",
    "git diff\n",
    "git status\n",
    "git add -A\n",
    "nbdev_export\n",
    "nbdev_test\n",
    "nbdev_docs\n",
    "git commit -am'init version'\n",
    "git push\n",
    "\n",
    "```"
   ]
  },
  {
   "cell_type": "markdown",
   "metadata": {},
   "source": [
    "Note that for a reason nbdev_clean is failing\n",
    "```bash\n",
    "/home/guillaume/miniconda/envs/dataset_tools/lib/python3.9/site-packages/nbdev/clean.py:110: UserWarning: Failed to clean notebook\n",
    "  warn(f'{warn_msg}')\n",
    "/home/guillaume/miniconda/envs/dataset_tools/lib/python3.9/site-packages/nbdev/clean.py:111: UserWarning: clean_ids\n",
    "  warn(e)\n",
    "/home/guillaume/miniconda/envs/dataset_tools/lib/python3.9/site-packages/nbdev/clean.py:111: UserWarning: clean_ids\n",
    "  warn(e)\n",
    "```\n",
    "\n",
    "And Hamel suggests to add `clean_ids = True` in settings.ini\n",
    "\n"
   ]
  },
  {
   "cell_type": "markdown",
   "metadata": {},
   "source": [
    "`nbdev_docs`is pushing the content of index.ipynb to README.md"
   ]
  },
  {
   "cell_type": "markdown",
   "metadata": {},
   "source": [
    "### define dep"
   ]
  },
  {
   "cell_type": "markdown",
   "metadata": {},
   "source": [
    "Just modify `settings.ini`to add dependancies (here pandas)"
   ]
  },
  {
   "cell_type": "markdown",
   "metadata": {},
   "source": [
    "```bash\n",
    "# end of settings.ini\n",
    "[..]\n",
    "### Optional ###\n",
    "requirements = fastcore pandas\n",
    "# dev_requirements =\n",
    "# console_scripts =\n",
    "clean_ids = True\n",
    "```"
   ]
  },
  {
   "cell_type": "markdown",
   "metadata": {},
   "source": [
    "Et voila!, doc is available at https://castorfou.github.io/dataset_tools/ and you can push that address to your repo settings"
   ]
  },
  {
   "cell_type": "markdown",
   "metadata": {},
   "source": [
    "### publish to Pypi, conda, ..."
   ]
  },
  {
   "cell_type": "markdown",
   "metadata": {},
   "source": [
    "This is done by calling `nbdev_pypi`or `nbdev_conda`.\n",
    "And it is modifying settings.ini to increment version number. (very much as `nbdev_bump_version` does)\n",
    "\n",
    "There are other commands such as `nbdev_release_xxx` the seems to do quite the same for git."
   ]
  },
  {
   "cell_type": "markdown",
   "metadata": {},
   "source": [
    "# Gitlab integration\n"
   ]
  },
  {
   "cell_type": "markdown",
   "metadata": {},
   "source": [
    "because this is the platform we use at Michelin, I will need to make it work with our internal gitlab instance.\n",
    "\n",
    "There is on-going work to make it happen:\n",
    "\n",
    "* from Hamel Husain - enhancement request [Support gitlab](https://github.com/fastai/nbdev/issues/945)\n",
    "* and from fastai community in forum: [Nbdev and Gitlab (source links)](https://forums.fast.ai/t/nbdev-and-gitlab-source-links/98867), [Example: nbdev on Gitlab](https://forums.fast.ai/t/example-nbdev-on-gitlab/98890)"
   ]
  },
  {
   "cell_type": "markdown",
   "metadata": {},
   "source": [
    "## my tests with our internal gitlab"
   ]
  },
  {
   "attachments": {
    "image.png": {
     "image/png": "[encoded data removed]"
    }
   },
   "cell_type": "markdown",
   "metadata": {},
   "source": [
    "![image.png](attachment:image.png)"
   ]
  },
  {
   "cell_type": "code",
   "execution_count": null,
   "metadata": {},
   "outputs": [],
   "source": []
  }
 ],
 "metadata": {
  "kernelspec": {
   "display_name": "dataset_tools",
   "language": "python",
   "name": "dataset_tools"
  },
  "language_info": {
   "codemirror_mode": {
    "name": "ipython",
    "version": 3
   },
   "file_extension": ".py",
   "mimetype": "text/x-python",
   "name": "python",
   "nbconvert_exporter": "python",
   "pygments_lexer": "ipython3",
   "version": "3.9.13"
  },
  "toc": {
   "base_numbering": 1,
   "nav_menu": {},
   "number_sections": true,
   "sideBar": true,
   "skip_h1_title": false,
   "title_cell": "Table of Contents",
   "title_sidebar": "Contents",
   "toc_cell": false,
   "toc_position": {
    "height": "calc(100% - 180px)",
    "left": "10px",
    "top": "150px",
    "width": "367.198px"
   },
   "toc_section_display": true,
   "toc_window_display": true
  }
 },
 "nbformat": 4,
 "nbformat_minor": 4
}
