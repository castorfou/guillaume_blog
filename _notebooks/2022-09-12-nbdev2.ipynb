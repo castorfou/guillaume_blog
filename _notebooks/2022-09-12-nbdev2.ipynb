{
 "cells": [
  {
   "cell_type": "markdown",
   "metadata": {},
   "source": [
    "# \"nbdev2 - first steps\"\n",
    "> \"by Jeremy Howard and Hamel Hussain\"\n",
    "- show_tags: true\n",
    "- toc: true\n",
    "- branch: master\n",
    "- badges: false\n",
    "- comments: true\n",
    "- categories: [nbdev, fastai, jupyter]\n",
    "- image: images/icons/fastai.png"
   ]
  },
  {
   "cell_type": "markdown",
   "metadata": {},
   "source": [
    "fastai has just released [nbdev2](https://nbdev.fast.ai/).\n",
    "\n",
    "This is a complete rewrite with quarto. I like how they displayed features in that card\n",
    "\n",
    "![](https://nbdev.fast.ai/images/card.png)"
   ]
  },
  {
   "cell_type": "markdown",
   "metadata": {},
   "source": [
    "# Support"
   ]
  },
  {
   "cell_type": "markdown",
   "metadata": {},
   "source": [
    "There is a [nbdev section](https://forums.fast.ai/c/nbdev/48) in fastai forum.\n",
    "\n",
    "There is a channel #nbdev-help at fastai discord. Never posted there.\n",
    "\n",
    "And [issues page](https://github.com/fastai/nbdev/issues) in github fastai/nbdev repo."
   ]
  },
  {
   "cell_type": "markdown",
   "metadata": {},
   "source": [
    "# Walkthrough"
   ]
  },
  {
   "cell_type": "markdown",
   "metadata": {},
   "source": [
    "There is a 90 min video: [nbdev tutorial](https://www.youtube.com/watch?v=l7zS8Ld4_iA&ab_channel=JeremyHoward) -- zero to published project in 90 minutes\n",
    "\n",
    "I follow here this tutorial.\n",
    "\n",
    "Here are the big steps:\n",
    "\n",
    "- create a new project with github: [dataset_tools](https://github.com/castorfou/dataset_tools). Give a description it will be reused by nbdev\n",
    "- create a local conda env `dataset_tools` with what is required to develop this library"
   ]
  },
  {
   "cell_type": "code",
   "execution_count": 1,
   "metadata": {},
   "outputs": [
    {
     "name": "stdout",
     "output_type": "stream",
     "text": [
      "conda remove --name dataset_tools --all\r\n",
      "conda create --name dataset_tools python=3.9\r\n",
      "conda activate dataset_tools\r\n",
      "conda install ipykernel\r\n",
      "python -m ipykernel install --user --name=dataset_tools\r\n",
      "pip install nbdev\r\n",
      "pip install pandas\r\n"
     ]
    }
   ],
   "source": [
    "!cat /home/guillaume/_conda_env/dataset_tools.txt"
   ]
  },
  {
   "cell_type": "markdown",
   "metadata": {},
   "source": [
    "- clone repo `dataset_tools` and turn it into a nbdev repo\n"
   ]
  },
  {
   "cell_type": "markdown",
   "metadata": {},
   "source": [
    "```bash\n",
    "git clone git@github.com:castorfou/dataset_tools.git\n",
    "conda activate dataset_tools\n",
    "cd dataset_tools\n",
    "```"
   ]
  },
  {
   "cell_type": "markdown",
   "metadata": {},
   "source": [
    "* nbdev can be used from here. For example `nbdev_help`  to display all nbdev_ commands and what it does. And more detail can be got with `-h`: `nbdev_new -h`\n",
    "* `nbdev_new`. It is creating the structure and files such as settings.ini.\n",
    "* from base environment we can start `jupyter notebook`. It is advised to install nb_extensions (`pip install jupyter_contrib_nbextensions`), and activate TOC2. Open `00_core.ipynb` with `dataset_tools` kernel. Rename `00_core.ipynb` --> `00_container.ipynb`"
   ]
  },
  {
   "cell_type": "markdown",
   "metadata": {},
   "source": [
    "# Gitlab integration\n"
   ]
  },
  {
   "cell_type": "markdown",
   "metadata": {},
   "source": [
    "because this is the platform we use at Michelin, I will need to make it work with our internal gitlab instance.\n",
    "\n",
    "There is on-going work to make it happen:\n",
    "\n",
    "* from Hamel Husain - enhancement request [Support gitlab](https://github.com/fastai/nbdev/issues/945)\n",
    "* and from fastai community in forum: [Nbdev and Gitlab (source links)](https://forums.fast.ai/t/nbdev-and-gitlab-source-links/98867), [Example: nbdev on Gitlab](https://forums.fast.ai/t/example-nbdev-on-gitlab/98890)"
   ]
  },
  {
   "cell_type": "code",
   "execution_count": null,
   "metadata": {},
   "outputs": [],
   "source": []
  }
 ],
 "metadata": {
  "kernelspec": {
   "display_name": "dataset_tools",
   "language": "python",
   "name": "dataset_tools"
  },
  "language_info": {
   "codemirror_mode": {
    "name": "ipython",
    "version": 3
   },
   "file_extension": ".py",
   "mimetype": "text/x-python",
   "name": "python",
   "nbconvert_exporter": "python",
   "pygments_lexer": "ipython3",
   "version": "3.9.13"
  },
  "toc": {
   "base_numbering": 1,
   "nav_menu": {},
   "number_sections": true,
   "sideBar": true,
   "skip_h1_title": false,
   "title_cell": "Table of Contents",
   "title_sidebar": "Contents",
   "toc_cell": false,
   "toc_position": {
    "height": "calc(100% - 180px)",
    "left": "10px",
    "top": "150px",
    "width": "367.198px"
   },
   "toc_section_display": true,
   "toc_window_display": true
  }
 },
 "nbformat": 4,
 "nbformat_minor": 4
}
