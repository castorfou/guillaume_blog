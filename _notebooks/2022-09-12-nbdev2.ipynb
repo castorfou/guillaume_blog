{
 "cells": [
  {
   "cell_type": "markdown",
   "metadata": {},
   "source": [
    "# \"nbdev2 - first steps\"\n",
    "> \"by Jeremy Howard and Hamel Hussain\"\n",
    "- show_tags: true\n",
    "- toc: true\n",
    "- branch: master\n",
    "- badges: false\n",
    "- comments: true\n",
    "- categories: [nbdev, fastai, jupyter]\n",
    "- image: images/icons/fastai.png"
   ]
  },
  {
   "cell_type": "markdown",
   "metadata": {},
   "source": [
    "fastai has just released [nbdev2](https://nbdev.fast.ai/).\n",
    "\n",
    "This is a complete rewrite with quarto. I like how they displayed features in that card\n",
    "\n",
    "![](https://nbdev.fast.ai/images/card.png)"
   ]
  },
  {
   "cell_type": "markdown",
   "metadata": {},
   "source": [
    "# Support"
   ]
  },
  {
   "cell_type": "markdown",
   "metadata": {},
   "source": [
    "There is a [nbdev section](https://forums.fast.ai/c/nbdev/48) in fastai forum.\n",
    "\n",
    "There is a channel #nbdev-help at fastai discord. Never posted there.\n",
    "\n",
    "And [issues page](https://github.com/fastai/nbdev/issues) in github fastai/nbdev repo."
   ]
  },
  {
   "cell_type": "markdown",
   "metadata": {},
   "source": [
    "# Walkthrough"
   ]
  },
  {
   "cell_type": "markdown",
   "metadata": {},
   "source": [
    "There is a 90 min video: [nbdev tutorial](https://www.youtube.com/watch?v=l7zS8Ld4_iA&ab_channel=JeremyHoward) -- zero to published project in 90 minutes\n",
    "\n",
    "I follow here this tutorial.\n",
    "\n",
    "Here are the big steps:"
   ]
  },
  {
   "cell_type": "markdown",
   "metadata": {},
   "source": [
    "## create github project"
   ]
  },
  {
   "cell_type": "markdown",
   "metadata": {},
   "source": [
    "- create a new project with github: [dataset_tools](https://github.com/castorfou/dataset_tools). Give a description it will be reused by nbdev"
   ]
  },
  {
   "cell_type": "markdown",
   "metadata": {},
   "source": [
    "## integrate `nbdev` in your python environment"
   ]
  },
  {
   "cell_type": "markdown",
   "metadata": {},
   "source": [
    "- create a local conda env `dataset_tools` with what is required to develop this library"
   ]
  },
  {
   "cell_type": "code",
   "execution_count": 12,
   "metadata": {},
   "outputs": [
    {
     "name": "stdout",
     "output_type": "stream",
     "text": [
      "conda remove --name dataset_tools --all\r\n",
      "conda create --name dataset_tools python=3.9\r\n",
      "conda activate dataset_tools\r\n",
      "conda install ipykernel\r\n",
      "python -m ipykernel install --user --name=dataset_tools\r\n",
      "pip install nbdev -U\r\n",
      "pip install pandas\r\n"
     ]
    }
   ],
   "source": [
    "!cat /home/guillaume/_conda_env/dataset_tools.txt"
   ]
  },
  {
   "cell_type": "code",
   "execution_count": 11,
   "metadata": {},
   "outputs": [
    {
     "name": "stdout",
     "output_type": "stream",
     "text": [
      "nbdev              2.2.10\r\n"
     ]
    }
   ],
   "source": [
    "import sys\n",
    "!{sys.prefix}/bin/pip list|grep nbdev"
   ]
  },
  {
   "cell_type": "markdown",
   "metadata": {},
   "source": [
    "## clone repo and turned it into a nbdev repo"
   ]
  },
  {
   "cell_type": "markdown",
   "metadata": {},
   "source": [
    "- clone repo `dataset_tools` and turn it into a nbdev repo\n"
   ]
  },
  {
   "cell_type": "markdown",
   "metadata": {},
   "source": [
    "```bash\n",
    "git clone git@github.com:castorfou/dataset_tools.git\n",
    "conda activate dataset_tools\n",
    "cd dataset_tools\n",
    "```"
   ]
  },
  {
   "cell_type": "markdown",
   "metadata": {},
   "source": [
    "## nbdev_ commands are ready to be used"
   ]
  },
  {
   "cell_type": "markdown",
   "metadata": {},
   "source": [
    "* nbdev can be used from here. For example `nbdev_help`  to display all nbdev_ commands and what it does. And more detail can be got with `-h`: `nbdev_new -h`"
   ]
  },
  {
   "cell_type": "code",
   "execution_count": 14,
   "metadata": {},
   "outputs": [
    {
     "name": "stdout",
     "output_type": "stream",
     "text": [
      "\u001b[1m\u001b[94mnbdev_bump_version\u001b[0m              Increment version in settings.ini by one\n",
      "\u001b[1m\u001b[94mnbdev_changelog\u001b[0m                 Create a CHANGELOG.md file from closed and labeled GitHub issues\n",
      "\u001b[1m\u001b[94mnbdev_clean\u001b[0m                     Clean all notebooks in `fname` to avoid merge conflicts\n",
      "\u001b[1m\u001b[94mnbdev_conda\u001b[0m                     Create a `meta.yaml` file ready to be built into a package, and optionally build and upload it\n",
      "\u001b[1m\u001b[94mnbdev_create_config\u001b[0m             Create a config file.\n",
      "\u001b[1m\u001b[94mnbdev_deploy\u001b[0m                    Deploy docs to GitHub Pages\n",
      "\u001b[1m\u001b[94mnbdev_docs\u001b[0m                      Create Quarto docs and README.md\n",
      "\u001b[1m\u001b[94mnbdev_export\u001b[0m                    Export notebooks in `path` to Python modules\n",
      "\u001b[1m\u001b[94mnbdev_filter\u001b[0m                    A notebook filter for Quarto\n",
      "\u001b[1m\u001b[94mnbdev_fix\u001b[0m                       Create working notebook from conflicted notebook `nbname`\n",
      "\u001b[1m\u001b[94mnbdev_help\u001b[0m                      Show help for all console scripts\n",
      "\u001b[1m\u001b[94mnbdev_install\u001b[0m                   Install Quarto and the current library\n",
      "\u001b[1m\u001b[94mnbdev_install_hooks\u001b[0m             Install Jupyter and git hooks to automatically clean, trust, and fix merge conflicts in notebooks\n",
      "\u001b[1m\u001b[94mnbdev_install_quarto\u001b[0m            Install latest Quarto on macOS or Linux, prints instructions for Windows\n",
      "\u001b[1m\u001b[94mnbdev_merge\u001b[0m                     Git merge driver for notebooks\n",
      "\u001b[1m\u001b[94mnbdev_migrate\u001b[0m                   Convert all directives and callouts in `fname` from v1 to v2\n",
      "\u001b[1m\u001b[94mnbdev_new\u001b[0m                       Create an nbdev project.\n",
      "\u001b[1m\u001b[94mnbdev_prepare\u001b[0m                   Export, test, and clean notebooks, and render README if needed\n",
      "\u001b[1m\u001b[94mnbdev_preview\u001b[0m                   Preview docs locally\n",
      "\u001b[1m\u001b[94mnbdev_pypi\u001b[0m                      Create and upload Python package to PyPI\n",
      "\u001b[1m\u001b[94mnbdev_quarto\u001b[0m                    Create Quarto docs and README.md\n",
      "\u001b[1m\u001b[94mnbdev_readme\u001b[0m                    Render README.md from index.ipynb\n",
      "\u001b[1m\u001b[94mnbdev_release_both\u001b[0m              Release both conda and PyPI packages\n",
      "\u001b[1m\u001b[94mnbdev_release_gh\u001b[0m                Calls `nbdev_changelog`, lets you edit the result, then pushes to git and calls `nbdev_release_git`\n",
      "\u001b[1m\u001b[94mnbdev_release_git\u001b[0m               Tag and create a release in GitHub for the current version\n",
      "\u001b[1m\u001b[94mnbdev_sidebar\u001b[0m                   Create sidebar.yml\n",
      "\u001b[1m\u001b[94mnbdev_test\u001b[0m                      Test in parallel notebooks matching `path`, passing along `flags`\n",
      "\u001b[1m\u001b[94mnbdev_trust\u001b[0m                     Trust notebooks matching `fname`\n",
      "\u001b[1m\u001b[94mnbdev_update\u001b[0m                    Propagate change in modules matching `fname` to notebooks that created them\n"
     ]
    }
   ],
   "source": [
    "!{sys.prefix}/bin/nbdev_help"
   ]
  },
  {
   "cell_type": "markdown",
   "metadata": {},
   "source": [
    "* `nbdev_new`. It is creating the structure and files such as settings.ini.\n",
    "* from base environment we can start `jupyter notebook`. It is advised to install nb_extensions (`pip install jupyter_contrib_nbextensions`), and activate TOC2. Open `00_core.ipynb` with `dataset_tools` kernel. Rename `00_core.ipynb` --> `00_container.ipynb`"
   ]
  },
  {
   "cell_type": "markdown",
   "metadata": {},
   "source": [
    "## and `#| ` prefix in notebooks as well"
   ]
  },
  {
   "cell_type": "markdown",
   "metadata": {},
   "source": [
    "Jeremy explains then what are `#|` used by quarto and nbdev.\n",
    "\n",
    "And for example `#| hide` will allow to be executed but hide in your documentation.\n",
    "\n",
    "Actually from a single notebook, you have 3 usages:\n",
    "* the notebook by itself -  all cells are executed, whatever are the prefix `#|` that you display on cells\n",
    "* the python file -  only the cells with `#| export` will be published in a python file referenced as `#| default_exp <name of python file>`. A new file is genreated when `nbdev_export` is called.\n",
    "* the documentation - all cells are used, except the one started with `#| hide`. Seems to be dynamically generated (when `nbdev_preview` is running?). `#| export` are handled specifically: if you have import, nothing is displayed. If you have code, definitions and docstrings are exported, and arguments as well."
   ]
  },
  {
   "cell_type": "markdown",
   "metadata": {},
   "source": [
    "There is an easy way to describe arguments of a function.\n",
    "\n",
    "Just make some indentation with comments such as in\n",
    "\n",
    "```python\n",
    "    def __init__(self, \n",
    "                 cle : str, # la clé du container\n",
    "                 dataset : pd.DataFrame = None, # le dataset\n",
    "                 colonnes_a_masquer : list = [], # les colonnes à masquer\n",
    "                 colonnes_a_conserver : list = [] # les colonnes qui ne seront pas transformées\n",
    "                ):\n",
    "```"
   ]
  },
  {
   "cell_type": "markdown",
   "metadata": {},
   "source": [
    "### show_doc"
   ]
  },
  {
   "cell_type": "markdown",
   "metadata": {},
   "source": [
    "and we can directly see the effect of it by calling `show_doc` (`show_doc(Container)`). You can even call show_doc on code not written with nbdev, or not even written by you."
   ]
  },
  {
   "cell_type": "code",
   "execution_count": 17,
   "metadata": {
    "ExecuteTime": {
     "end_time": "2022-09-12T09:01:42.139428Z",
     "start_time": "2022-09-12T09:01:41.974851Z"
    }
   },
   "outputs": [
    {
     "name": "stderr",
     "output_type": "stream",
     "text": [
      "/home/guillaume/miniconda/envs/dataset_tools/lib/python3.9/site-packages/fastcore/docscrape.py:225: UserWarning: Unknown section See Also\n",
      "  else: warn(msg)\n",
      "/home/guillaume/miniconda/envs/dataset_tools/lib/python3.9/site-packages/fastcore/docscrape.py:225: UserWarning: Unknown section Examples\n",
      "  else: warn(msg)\n"
     ]
    },
    {
     "data": {
      "text/markdown": [
       "---\n",
       "\n",
       "### DataFrame\n",
       "\n",
       ">      DataFrame (data=None, index:Axes|None=None, columns:Axes|None=None,\n",
       ">                 dtype:Dtype|None=None, copy:bool|None=None)\n",
       "\n",
       "Two-dimensional, size-mutable, potentially heterogeneous tabular data.\n",
       "\n",
       "Data structure also contains labeled axes (rows and columns).\n",
       "Arithmetic operations align on both row and column labels. Can be\n",
       "thought of as a dict-like container for Series objects. The primary\n",
       "pandas data structure.\n",
       "\n",
       "|    | **Type** | **Default** | **Details** |\n",
       "| -- | -------- | ----------- | ----------- |\n",
       "| data | NoneType | None | Dict can contain Series, arrays, constants, dataclass or list-like objects. If<br>data is a dict, column order follows insertion-order. If a dict contains Series<br>which have an index defined, it is aligned by its index.<br><br>.. versionchanged:: 0.25.0<br>   If data is a list of dicts, column order follows insertion-order. |\n",
       "| index | Axes \\| None | None | Index to use for resulting frame. Will default to RangeIndex if<br>no indexing information part of input data and no index provided. |\n",
       "| columns | Axes \\| None | None | Column labels to use for resulting frame when data does not have them,<br>defaulting to RangeIndex(0, 1, 2, ..., n). If data contains column labels,<br>will perform column selection instead. |\n",
       "| dtype | Dtype \\| None | None | Data type to force. Only a single dtype is allowed. If None, infer. |\n",
       "| copy | bool \\| None | None | Copy data from inputs.<br>For dict data, the default of None behaves like ``copy=True``.  For DataFrame<br>or 2d ndarray input, the default of None behaves like ``copy=False``.<br><br>.. versionchanged:: 1.3.0 |"
      ],
      "text/plain": [
       "---\n",
       "\n",
       "### DataFrame\n",
       "\n",
       ">      DataFrame (data=None, index:Axes|None=None, columns:Axes|None=None,\n",
       ">                 dtype:Dtype|None=None, copy:bool|None=None)\n",
       "\n",
       "Two-dimensional, size-mutable, potentially heterogeneous tabular data.\n",
       "\n",
       "Data structure also contains labeled axes (rows and columns).\n",
       "Arithmetic operations align on both row and column labels. Can be\n",
       "thought of as a dict-like container for Series objects. The primary\n",
       "pandas data structure.\n",
       "\n",
       "|    | **Type** | **Default** | **Details** |\n",
       "| -- | -------- | ----------- | ----------- |\n",
       "| data | NoneType | None | Dict can contain Series, arrays, constants, dataclass or list-like objects. If<br>data is a dict, column order follows insertion-order. If a dict contains Series<br>which have an index defined, it is aligned by its index.<br><br>.. versionchanged:: 0.25.0<br>   If data is a list of dicts, column order follows insertion-order. |\n",
       "| index | Axes \\| None | None | Index to use for resulting frame. Will default to RangeIndex if<br>no indexing information part of input data and no index provided. |\n",
       "| columns | Axes \\| None | None | Column labels to use for resulting frame when data does not have them,<br>defaulting to RangeIndex(0, 1, 2, ..., n). If data contains column labels,<br>will perform column selection instead. |\n",
       "| dtype | Dtype \\| None | None | Data type to force. Only a single dtype is allowed. If None, infer. |\n",
       "| copy | bool \\| None | None | Copy data from inputs.<br>For dict data, the default of None behaves like ``copy=True``.  For DataFrame<br>or 2d ndarray input, the default of None behaves like ``copy=False``.<br><br>.. versionchanged:: 1.3.0 |"
      ]
     },
     "execution_count": 17,
     "metadata": {},
     "output_type": "execute_result"
    }
   ],
   "source": [
    "from nbdev.showdoc import *\n",
    "import pandas as pd\n",
    "show_doc(pd.DataFrame)"
   ]
  },
  {
   "cell_type": "markdown",
   "metadata": {},
   "source": [
    "### unit testing"
   ]
  },
  {
   "cell_type": "markdown",
   "metadata": {},
   "source": [
    "# Gitlab integration\n"
   ]
  },
  {
   "cell_type": "markdown",
   "metadata": {},
   "source": [
    "because this is the platform we use at Michelin, I will need to make it work with our internal gitlab instance.\n",
    "\n",
    "There is on-going work to make it happen:\n",
    "\n",
    "* from Hamel Husain - enhancement request [Support gitlab](https://github.com/fastai/nbdev/issues/945)\n",
    "* and from fastai community in forum: [Nbdev and Gitlab (source links)](https://forums.fast.ai/t/nbdev-and-gitlab-source-links/98867), [Example: nbdev on Gitlab](https://forums.fast.ai/t/example-nbdev-on-gitlab/98890)"
   ]
  },
  {
   "cell_type": "code",
   "execution_count": null,
   "metadata": {},
   "outputs": [],
   "source": []
  }
 ],
 "metadata": {
  "kernelspec": {
   "display_name": "dataset_tools",
   "language": "python",
   "name": "dataset_tools"
  },
  "language_info": {
   "codemirror_mode": {
    "name": "ipython",
    "version": 3
   },
   "file_extension": ".py",
   "mimetype": "text/x-python",
   "name": "python",
   "nbconvert_exporter": "python",
   "pygments_lexer": "ipython3",
   "version": "3.9.13"
  },
  "toc": {
   "base_numbering": 1,
   "nav_menu": {},
   "number_sections": true,
   "sideBar": true,
   "skip_h1_title": false,
   "title_cell": "Table of Contents",
   "title_sidebar": "Contents",
   "toc_cell": false,
   "toc_position": {
    "height": "calc(100% - 180px)",
    "left": "10px",
    "top": "150px",
    "width": "367.198px"
   },
   "toc_section_display": true,
   "toc_window_display": true
  }
 },
 "nbformat": 4,
 "nbformat_minor": 4
}
