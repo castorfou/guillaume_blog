{
 "cells": [
  {
   "cell_type": "markdown",
   "metadata": {},
   "source": [
    "# Setup ubuntu box with fastai\n",
    "> \"list of actions to get a fastai workstation ready\"\n",
    "- show_tags: true\n",
    "- toc: true\n",
    "- branch: master\n",
    "- badges: false\n",
    "- comments: true\n",
    "- categories: [fastai, cuda, linux]"
   ]
  },
  {
   "cell_type": "markdown",
   "metadata": {},
   "source": [
    "## Install miniconda"
   ]
  },
  {
   "cell_type": "markdown",
   "metadata": {},
   "source": [
    "Get [miniconda Linux installer](https://docs.conda.io/en/latest/miniconda.html).\n",
    "\n",
    "Check sha256sum: `sha256sum Miniconda3-latest-Linux-x86_64.sh`\n",
    "\n",
    "Run install: `./Miniconda3-latest-Linux-x86_64.sh -p $HOME/miniconda3`"
   ]
  },
  {
   "cell_type": "markdown",
   "metadata": {},
   "source": [
    "## Install fastai\n"
   ]
  },
  {
   "cell_type": "markdown",
   "metadata": {
    "ExecuteTime": {
     "end_time": "2020-09-23T07:42:04.889665Z",
     "start_time": "2020-09-23T07:42:04.876639Z"
    }
   },
   "source": [
    "```bash\n",
    "conda create -n fastai python=3.8\n",
    "conda activate fastai\n",
    "conda install -c fastai -c pytorch fastai\n",
    "```"
   ]
  },
  {
   "cell_type": "markdown",
   "metadata": {},
   "source": [
    "## Install jupyter within fastai environment"
   ]
  },
  {
   "cell_type": "markdown",
   "metadata": {},
   "source": [
    "```bash\n",
    "conda activate fastai\n",
    "conda install jupyter\n",
    "```"
   ]
  },
  {
   "cell_type": "markdown",
   "metadata": {},
   "source": [
    "## Test fastai installation (valid for v1)"
   ]
  },
  {
   "cell_type": "markdown",
   "metadata": {},
   "source": [
    "With fastai v1, there was an easy way to check installation:\n",
    "```bash\n",
    "conda activate fastai\n",
    "python -m fastai.utils.show_install\n",
    "```"
   ]
  },
  {
   "cell_type": "markdown",
   "metadata": {},
   "source": [
    "## get git repo to learn from fastai"
   ]
  },
  {
   "cell_type": "markdown",
   "metadata": {},
   "source": [
    "From git folder,\n",
    "```bash\n",
    "git clone https://github.com/fastai/fastai\n",
    "```"
   ]
  },
  {
   "cell_type": "markdown",
   "metadata": {},
   "source": [
    "## Test fastai v2 installation"
   ]
  },
  {
   "cell_type": "markdown",
   "metadata": {},
   "source": [
    "From python environment:\n",
    "\n",
    "```python\n",
    "from fastai.vision.all import *\n",
    "```\n"
   ]
  },
  {
   "cell_type": "markdown",
   "metadata": {},
   "source": [
    "From jupyter notebook"
   ]
  },
  {
   "cell_type": "code",
   "execution_count": 1,
   "metadata": {
    "ExecuteTime": {
     "end_time": "2020-09-23T09:18:47.491918Z",
     "start_time": "2020-09-23T09:18:47.407917Z"
    }
   },
   "outputs": [],
   "source": [
    "from fastai.vision.all import *"
   ]
  },
  {
   "cell_type": "markdown",
   "metadata": {},
   "source": [
    "## Install nvidia drivers for ubuntu"
   ]
  },
  {
   "cell_type": "markdown",
   "metadata": {},
   "source": [
    "I tried by downloading a driver from nvidia website. But I was unable to install it (`nvidia-drm-drv.c:662:44: error: 'DRIVER_PRIME' undeclared here (not in a function); did you mean 'DRIVER_PCI_DMA'?`)"
   ]
  },
  {
   "cell_type": "markdown",
   "metadata": {},
   "source": [
    "`sudo ubuntu-drivers autoinstall`\n",
    "\n",
    "then rebooting fixed the issue."
   ]
  },
  {
   "cell_type": "markdown",
   "metadata": {},
   "source": [
    "## Run courses from fastai github repo"
   ]
  },
  {
   "cell_type": "markdown",
   "metadata": {},
   "source": [
    "just run `fastai/dev_nbs/course/lesson1-pets.ipynb`"
   ]
  },
  {
   "cell_type": "markdown",
   "metadata": {},
   "source": [
    "And everything is just fined ;)"
   ]
  },
  {
   "cell_type": "markdown",
   "metadata": {},
   "source": [
    "### install nbdev"
   ]
  },
  {
   "cell_type": "markdown",
   "metadata": {},
   "source": [
    "This is for rendering reasons: \n",
    "To get a prettier result with hyperlinks to source code and documentation, install nbdev: `pip install nbdev`"
   ]
  },
  {
   "cell_type": "code",
   "execution_count": 1,
   "metadata": {
    "collapsed": true
   },
   "outputs": [
    {
     "name": "stdout",
     "output_type": "stream",
     "text": [
      "Collecting nbdev\n",
      "  Downloading nbdev-1.0.18-py3-none-any.whl (57 kB)\n",
      "\u001b[K     |████████████████████████████████| 57 kB 1.5 MB/s eta 0:00:01\n",
      "\u001b[?25hRequirement already satisfied: fastcore>=1.0.5 in /home/explore/miniconda3/envs/fastai/lib/python3.8/site-packages (from nbdev) (1.0.13)\n",
      "Requirement already satisfied: packaging in /home/explore/miniconda3/envs/fastai/lib/python3.8/site-packages (from nbdev) (20.4)\n",
      "Requirement already satisfied: jupyter-client in /home/explore/miniconda3/envs/fastai/lib/python3.8/site-packages (from nbdev) (6.1.6)\n",
      "Requirement already satisfied: nbconvert<6 in /home/explore/miniconda3/envs/fastai/lib/python3.8/site-packages (from nbdev) (5.6.1)\n",
      "Requirement already satisfied: nbformat>=4.4.0 in /home/explore/miniconda3/envs/fastai/lib/python3.8/site-packages (from nbdev) (5.0.7)\n",
      "Collecting fastscript>=1.0.0\n",
      "  Downloading fastscript-1.0.0-py3-none-any.whl (11 kB)\n",
      "Requirement already satisfied: pyyaml in /home/explore/miniconda3/envs/fastai/lib/python3.8/site-packages (from nbdev) (5.3.1)\n",
      "Requirement already satisfied: pip in /home/explore/miniconda3/envs/fastai/lib/python3.8/site-packages (from nbdev) (20.2.2)\n",
      "Requirement already satisfied: ipykernel in /home/explore/miniconda3/envs/fastai/lib/python3.8/site-packages (from nbdev) (5.3.4)\n",
      "Requirement already satisfied: pyparsing>=2.0.2 in /home/explore/miniconda3/envs/fastai/lib/python3.8/site-packages (from packaging->nbdev) (2.4.7)\n",
      "Requirement already satisfied: six in /home/explore/miniconda3/envs/fastai/lib/python3.8/site-packages (from packaging->nbdev) (1.15.0)\n",
      "Requirement already satisfied: pyzmq>=13 in /home/explore/miniconda3/envs/fastai/lib/python3.8/site-packages (from jupyter-client->nbdev) (19.0.2)\n",
      "Requirement already satisfied: tornado>=4.1 in /home/explore/miniconda3/envs/fastai/lib/python3.8/site-packages (from jupyter-client->nbdev) (6.0.4)\n",
      "Requirement already satisfied: python-dateutil>=2.1 in /home/explore/miniconda3/envs/fastai/lib/python3.8/site-packages (from jupyter-client->nbdev) (2.8.1)\n",
      "Requirement already satisfied: traitlets in /home/explore/miniconda3/envs/fastai/lib/python3.8/site-packages (from jupyter-client->nbdev) (4.3.3)\n",
      "Requirement already satisfied: jupyter-core>=4.6.0 in /home/explore/miniconda3/envs/fastai/lib/python3.8/site-packages (from jupyter-client->nbdev) (4.6.3)\n",
      "Requirement already satisfied: pandocfilters>=1.4.1 in /home/explore/miniconda3/envs/fastai/lib/python3.8/site-packages (from nbconvert<6->nbdev) (1.4.2)\n",
      "Requirement already satisfied: pygments in /home/explore/miniconda3/envs/fastai/lib/python3.8/site-packages (from nbconvert<6->nbdev) (2.7.1)\n",
      "Requirement already satisfied: mistune<2,>=0.8.1 in /home/explore/miniconda3/envs/fastai/lib/python3.8/site-packages (from nbconvert<6->nbdev) (0.8.4)\n",
      "Requirement already satisfied: defusedxml in /home/explore/miniconda3/envs/fastai/lib/python3.8/site-packages (from nbconvert<6->nbdev) (0.6.0)\n",
      "Requirement already satisfied: bleach in /home/explore/miniconda3/envs/fastai/lib/python3.8/site-packages (from nbconvert<6->nbdev) (3.2.1)\n",
      "Requirement already satisfied: jinja2>=2.4 in /home/explore/miniconda3/envs/fastai/lib/python3.8/site-packages (from nbconvert<6->nbdev) (2.11.2)\n",
      "Requirement already satisfied: testpath in /home/explore/miniconda3/envs/fastai/lib/python3.8/site-packages (from nbconvert<6->nbdev) (0.4.4)\n",
      "Requirement already satisfied: entrypoints>=0.2.2 in /home/explore/miniconda3/envs/fastai/lib/python3.8/site-packages (from nbconvert<6->nbdev) (0.3)\n",
      "Requirement already satisfied: jsonschema!=2.5.0,>=2.4 in /home/explore/miniconda3/envs/fastai/lib/python3.8/site-packages (from nbformat>=4.4.0->nbdev) (3.0.2)\n",
      "Requirement already satisfied: ipython-genutils in /home/explore/miniconda3/envs/fastai/lib/python3.8/site-packages (from nbformat>=4.4.0->nbdev) (0.2.0)\n",
      "Requirement already satisfied: ipython>=5.0.0 in /home/explore/miniconda3/envs/fastai/lib/python3.8/site-packages (from ipykernel->nbdev) (7.18.1)\n",
      "Requirement already satisfied: decorator in /home/explore/miniconda3/envs/fastai/lib/python3.8/site-packages (from traitlets->jupyter-client->nbdev) (4.4.2)\n",
      "Requirement already satisfied: webencodings in /home/explore/miniconda3/envs/fastai/lib/python3.8/site-packages (from bleach->nbconvert<6->nbdev) (0.5.1)\n",
      "Requirement already satisfied: MarkupSafe>=0.23 in /home/explore/miniconda3/envs/fastai/lib/python3.8/site-packages (from jinja2>=2.4->nbconvert<6->nbdev) (1.1.1)\n",
      "Requirement already satisfied: pyrsistent>=0.14.0 in /home/explore/miniconda3/envs/fastai/lib/python3.8/site-packages (from jsonschema!=2.5.0,>=2.4->nbformat>=4.4.0->nbdev) (0.17.3)\n",
      "Requirement already satisfied: attrs>=17.4.0 in /home/explore/miniconda3/envs/fastai/lib/python3.8/site-packages (from jsonschema!=2.5.0,>=2.4->nbformat>=4.4.0->nbdev) (20.2.0)\n",
      "Requirement already satisfied: setuptools in /home/explore/miniconda3/envs/fastai/lib/python3.8/site-packages (from jsonschema!=2.5.0,>=2.4->nbformat>=4.4.0->nbdev) (49.6.0.post20200814)\n",
      "Requirement already satisfied: backcall in /home/explore/miniconda3/envs/fastai/lib/python3.8/site-packages (from ipython>=5.0.0->ipykernel->nbdev) (0.2.0)\n",
      "Requirement already satisfied: pexpect>4.3; sys_platform != \"win32\" in /home/explore/miniconda3/envs/fastai/lib/python3.8/site-packages (from ipython>=5.0.0->ipykernel->nbdev) (4.8.0)\n",
      "Requirement already satisfied: pickleshare in /home/explore/miniconda3/envs/fastai/lib/python3.8/site-packages (from ipython>=5.0.0->ipykernel->nbdev) (0.7.5)\n",
      "Requirement already satisfied: jedi>=0.10 in /home/explore/miniconda3/envs/fastai/lib/python3.8/site-packages (from ipython>=5.0.0->ipykernel->nbdev) (0.17.2)\n",
      "Requirement already satisfied: prompt-toolkit!=3.0.0,!=3.0.1,<3.1.0,>=2.0.0 in /home/explore/miniconda3/envs/fastai/lib/python3.8/site-packages (from ipython>=5.0.0->ipykernel->nbdev) (3.0.7)\n",
      "Requirement already satisfied: ptyprocess>=0.5 in /home/explore/miniconda3/envs/fastai/lib/python3.8/site-packages (from pexpect>4.3; sys_platform != \"win32\"->ipython>=5.0.0->ipykernel->nbdev) (0.6.0)\n",
      "Requirement already satisfied: parso<0.8.0,>=0.7.0 in /home/explore/miniconda3/envs/fastai/lib/python3.8/site-packages (from jedi>=0.10->ipython>=5.0.0->ipykernel->nbdev) (0.7.0)\n",
      "Requirement already satisfied: wcwidth in /home/explore/miniconda3/envs/fastai/lib/python3.8/site-packages (from prompt-toolkit!=3.0.0,!=3.0.1,<3.1.0,>=2.0.0->ipython>=5.0.0->ipykernel->nbdev) (0.2.5)\n",
      "Installing collected packages: fastscript, nbdev\n",
      "Successfully installed fastscript-1.0.0 nbdev-1.0.18\n"
     ]
    }
   ],
   "source": [
    "!pip install nbdev"
   ]
  },
  {
   "cell_type": "code",
   "execution_count": null,
   "metadata": {},
   "outputs": [],
   "source": []
  }
 ],
 "metadata": {
  "kernelspec": {
   "display_name": "Python 3",
   "language": "python",
   "name": "python3"
  },
  "language_info": {
   "codemirror_mode": {
    "name": "ipython",
    "version": 3
   },
   "file_extension": ".py",
   "mimetype": "text/x-python",
   "name": "python",
   "nbconvert_exporter": "python",
   "pygments_lexer": "ipython3",
   "version": "3.8.2"
  },
  "toc": {
   "base_numbering": 1,
   "nav_menu": {},
   "number_sections": true,
   "sideBar": true,
   "skip_h1_title": false,
   "title_cell": "Table of Contents",
   "title_sidebar": "Contents",
   "toc_cell": false,
   "toc_position": {},
   "toc_section_display": true,
   "toc_window_display": false
  },
  "varInspector": {
   "cols": {
    "lenName": 16,
    "lenType": 16,
    "lenVar": 40
   },
   "kernels_config": {
    "python": {
     "delete_cmd_postfix": "",
     "delete_cmd_prefix": "del ",
     "library": "var_list.py",
     "varRefreshCmd": "print(var_dic_list())"
    },
    "r": {
     "delete_cmd_postfix": ") ",
     "delete_cmd_prefix": "rm(",
     "library": "var_list.r",
     "varRefreshCmd": "cat(var_dic_list()) "
    }
   },
   "types_to_exclude": [
    "module",
    "function",
    "builtin_function_or_method",
    "instance",
    "_Feature"
   ],
   "window_display": false
  }
 },
 "nbformat": 4,
 "nbformat_minor": 4
}
