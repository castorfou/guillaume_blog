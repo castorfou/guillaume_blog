{
 "cells": [
  {
   "cell_type": "markdown",
   "metadata": {},
   "source": [
    "# \"SSL: CERTIFICATE_VERIFY_FAILED\"\n",
    "> \"have to rely on corporate certificate server\"\n",
    "- show_tags: true\n",
    "- toc: true\n",
    "- branch: master\n",
    "- badges: false\n",
    "- comments: true\n",
    "- categories: [jupyter]\n",
    "- image: images/icons/jupyter.png"
   ]
  },
  {
   "cell_type": "markdown",
   "metadata": {},
   "source": [
    "# Description of the problem"
   ]
  },
  {
   "cell_type": "markdown",
   "metadata": {},
   "source": [
    "From time to time when using network function, I have this kind of errors:\n",
    "\n",
    "```python\n",
    "Traceback (most recent call last):\n",
    "  File \"/home/guillaume/miniconda/envs/dataset_tools/lib/python3.9/urllib/request.py\", line 1346, in do_open\n",
    "    h.request(req.get_method(), req.selector, req.data, headers,\n",
    "  File \"/home/guillaume/miniconda/envs/dataset_tools/lib/python3.9/http/client.py\", line 1285, in request\n",
    "    self._send_request(method, url, body, headers, encode_chunked)\n",
    "  File \"/home/guillaume/miniconda/envs/dataset_tools/lib/python3.9/http/client.py\", line 1331, in _send_request\n",
    "    self.endheaders(body, encode_chunked=encode_chunked)\n",
    "  File \"/home/guillaume/miniconda/envs/dataset_tools/lib/python3.9/http/client.py\", line 1280, in endheaders\n",
    "    self._send_output(message_body, encode_chunked=encode_chunked)\n",
    "  File \"/home/guillaume/miniconda/envs/dataset_tools/lib/python3.9/http/client.py\", line 1040, in _send_output\n",
    "    self.send(msg)\n",
    "  File \"/home/guillaume/miniconda/envs/dataset_tools/lib/python3.9/http/client.py\", line 980, in send\n",
    "    self.connect()\n",
    "  File \"/home/guillaume/miniconda/envs/dataset_tools/lib/python3.9/http/client.py\", line 1454, in connect\n",
    "    self.sock = self._context.wrap_socket(self.sock,\n",
    "  File \"/home/guillaume/miniconda/envs/dataset_tools/lib/python3.9/ssl.py\", line 501, in wrap_socket\n",
    "    return self.sslsocket_class._create(\n",
    "  File \"/home/guillaume/miniconda/envs/dataset_tools/lib/python3.9/ssl.py\", line 1041, in _create\n",
    "    self.do_handshake()\n",
    "  File \"/home/guillaume/miniconda/envs/dataset_tools/lib/python3.9/ssl.py\", line 1310, in do_handshake\n",
    "    self._sslobj.do_handshake()\n",
    "ssl.SSLCertVerificationError: [SSL: CERTIFICATE_VERIFY_FAILED] certificate verify failed: self signed certificate in certificate chain (_ssl.c:1129)\n",
    "```"
   ]
  },
  {
   "cell_type": "markdown",
   "metadata": {},
   "source": [
    "# Context"
   ]
  },
  {
   "cell_type": "markdown",
   "metadata": {},
   "source": [
    "My company uses some ssl interceptor and it has to be considered as a cert autority.\n",
    "\n"
   ]
  },
  {
   "cell_type": "markdown",
   "metadata": {},
   "source": [
    "# Solution\n",
    "\n",
    "from [https://stackoverflow.com/questions/51390968/python-ssl-certificate-verify-error](https://stackoverflow.com/questions/51390968/python-ssl-certificate-verify-error)"
   ]
  },
  {
   "cell_type": "markdown",
   "metadata": {},
   "source": [
    "where certifcates are kept"
   ]
  },
  {
   "cell_type": "code",
   "execution_count": 25,
   "metadata": {
    "execution": {
     "iopub.execute_input": "2022-09-06T17:10:59.132720Z",
     "iopub.status.busy": "2022-09-06T17:10:59.132439Z",
     "iopub.status.idle": "2022-09-06T17:10:59.140296Z",
     "shell.execute_reply": "2022-09-06T17:10:59.139080Z",
     "shell.execute_reply.started": "2022-09-06T17:10:59.132698Z"
    },
    "tags": []
   },
   "outputs": [
    {
     "data": {
      "text/plain": [
       "'/home/guillaume/miniconda/envs/dataset_tools/lib/python3.9/site-packages/certifi/cacert.pem'"
      ]
     },
     "execution_count": 25,
     "metadata": {},
     "output_type": "execute_result"
    }
   ],
   "source": [
    "import certifi\n",
    "pem_path = certifi.where() \n",
    "pem_path"
   ]
  },
  {
   "cell_type": "markdown",
   "metadata": {},
   "source": [
    "get company certificates"
   ]
  },
  {
   "cell_type": "code",
   "execution_count": 26,
   "metadata": {
    "execution": {
     "iopub.execute_input": "2022-09-06T17:11:00.048400Z",
     "iopub.status.busy": "2022-09-06T17:11:00.048129Z",
     "iopub.status.idle": "2022-09-06T17:11:00.074663Z",
     "shell.execute_reply": "2022-09-06T17:11:00.072680Z",
     "shell.execute_reply.started": "2022-09-06T17:11:00.048374Z"
    },
    "tags": []
   },
   "outputs": [
    {
     "data": {
      "text/plain": [
       "['/tmp/tmp.0V7L0xu2a5']"
      ]
     },
     "execution_count": 26,
     "metadata": {},
     "output_type": "execute_result"
    }
   ],
   "source": [
    "tmpdir = !mktemp -d\n",
    "tmpdir"
   ]
  },
  {
   "cell_type": "code",
   "execution_count": 27,
   "metadata": {
    "execution": {
     "iopub.execute_input": "2022-09-06T17:11:00.465177Z",
     "iopub.status.busy": "2022-09-06T17:11:00.464896Z",
     "iopub.status.idle": "2022-09-06T17:11:02.322799Z",
     "shell.execute_reply": "2022-09-06T17:11:02.319123Z",
     "shell.execute_reply.started": "2022-09-06T17:11:00.465143Z"
    },
    "tags": []
   },
   "outputs": [
    {
     "name": "stdout",
     "output_type": "stream",
     "text": [
      "Cloning into '/tmp/tmp.0V7L0xu2a5'...\n",
      "remote: Enumerating objects: 87, done.\u001b[K\n",
      "remote: Total 87 (delta 0), reused 0 (delta 0), pack-reused 87\u001b[K\n",
      "Receiving objects: 100% (87/87), 78.90 KiB | 1.55 MiB/s, done.\n",
      "Resolving deltas: 100% (26/26), done.\n"
     ]
    }
   ],
   "source": [
    "!git clone git@gitlab.michelin.com:DEV/bib-certificates.git {tmpdir[0]}"
   ]
  },
  {
   "cell_type": "code",
   "execution_count": 41,
   "metadata": {
    "execution": {
     "iopub.execute_input": "2022-09-06T17:18:44.823212Z",
     "iopub.status.busy": "2022-09-06T17:18:44.822955Z",
     "iopub.status.idle": "2022-09-06T17:18:44.949535Z",
     "shell.execute_reply": "2022-09-06T17:18:44.948154Z",
     "shell.execute_reply.started": "2022-09-06T17:18:44.823191Z"
    },
    "tags": []
   },
   "outputs": [
    {
     "name": "stdout",
     "output_type": "stream",
     "text": [
      "-rw-r--r-- 1 guillaume guillaume 1606 Sep  6 19:11 /tmp/tmp.0V7L0xu2a5/cert_M_X5C_aze-cn-sslfwd-trust-ca.pem\n",
      "-rw-r--r-- 1 guillaume guillaume 1606 Sep  6 19:11 /tmp/tmp.0V7L0xu2a5/cert_M_X5C_rnh-ac-sslfwd-trust-ca.pem\n",
      "-rw-r--r-- 1 guillaume guillaume 1606 Sep  6 19:11 /tmp/tmp.0V7L0xu2a5/cert_M_X5C_rnh-eu-sslfwd-trust-ca.pem\n",
      "-rw-r--r-- 1 guillaume guillaume 1606 Sep  6 19:11 /tmp/tmp.0V7L0xu2a5/cert_M_X5C_rnh-na-sslfwd-trust-ca.pem\n",
      "-rw-r--r-- 1 guillaume guillaume 1602 Sep  6 19:11 /tmp/tmp.0V7L0xu2a5/cert_M_X5C_sase-mob-sslfwd-trust-ca.pem\n",
      "-rw-r--r-- 1 guillaume guillaume 1602 Sep  6 19:11 /tmp/tmp.0V7L0xu2a5/cert_M_X5C_sase-net-sslfwd-trust-ca.pem\n"
     ]
    }
   ],
   "source": [
    "!ls -l {tmpdir[0]}/*trust-ca.pem"
   ]
  },
  {
   "cell_type": "code",
   "execution_count": 37,
   "metadata": {
    "execution": {
     "iopub.execute_input": "2022-09-06T17:17:11.556937Z",
     "iopub.status.busy": "2022-09-06T17:17:11.556645Z",
     "iopub.status.idle": "2022-09-06T17:17:12.314653Z",
     "shell.execute_reply": "2022-09-06T17:17:12.313305Z",
     "shell.execute_reply.started": "2022-09-06T17:17:11.556917Z"
    },
    "tags": []
   },
   "outputs": [],
   "source": [
    "import os\n",
    "\n",
    "for filename in os.listdir(tmpdir[0]):\n",
    "    if filename.endswith(\"trust-ca.pem\"): \n",
    "         # print(os.path.join(directory, filename))\n",
    "        !cat {os.path.join(tmpdir[0], filename)} >> {pem_path}\n",
    "        continue\n",
    "    else:\n",
    "        continue"
   ]
  },
  {
   "cell_type": "markdown",
   "metadata": {},
   "source": [
    "# Validate it works"
   ]
  },
  {
   "cell_type": "code",
   "execution_count": 38,
   "metadata": {
    "execution": {
     "iopub.execute_input": "2022-09-06T17:17:17.881109Z",
     "iopub.status.busy": "2022-09-06T17:17:17.880802Z",
     "iopub.status.idle": "2022-09-06T17:17:18.656236Z",
     "shell.execute_reply": "2022-09-06T17:17:18.655110Z",
     "shell.execute_reply.started": "2022-09-06T17:17:17.881087Z"
    },
    "tags": []
   },
   "outputs": [
    {
     "name": "stderr",
     "output_type": "stream",
     "text": [
      "/tmp/ipykernel_2003/2808005746.py:2: DeprecationWarning: cafile, capath and cadefault are deprecated, use a custom context instead.\n",
      "  with urllib.request.urlopen('http://python.org/', cafile=certifi.where()) as response:\n"
     ]
    }
   ],
   "source": [
    "import urllib.request\n",
    "with urllib.request.urlopen('http://python.org/', cafile=certifi.where()) as response:\n",
    "   html = response.read()"
   ]
  },
  {
   "cell_type": "code",
   "execution_count": 40,
   "metadata": {
    "execution": {
     "iopub.execute_input": "2022-09-06T17:18:26.333707Z",
     "iopub.status.busy": "2022-09-06T17:18:26.333372Z",
     "iopub.status.idle": "2022-09-06T17:18:26.342020Z",
     "shell.execute_reply": "2022-09-06T17:18:26.341052Z",
     "shell.execute_reply.started": "2022-09-06T17:18:26.333686Z"
    },
    "tags": []
   },
   "outputs": [
    {
     "data": {
      "text/plain": [
       "b'<!doctype html>\\n<!--[if lt IE 7]>   <html class=\"no-js ie6 lt-ie7 lt-ie8 lt-ie9\">   <![endif]-->\\n<!-'"
      ]
     },
     "execution_count": 40,
     "metadata": {},
     "output_type": "execute_result"
    }
   ],
   "source": [
    "html[:100]"
   ]
  },
  {
   "cell_type": "markdown",
   "metadata": {},
   "source": [
    "and from a command-line\n",
    "\n",
    "```bash\n",
    "export SSL_CERT_FILE='/home/guillaume/miniconda/envs/dataset_tools/lib/python3.9/site-packages/certifi/cacert.pem'\n",
    "nbdev_new\n",
    "```"
   ]
  },
  {
   "cell_type": "markdown",
   "metadata": {},
   "source": [
    "# Integration in WSL2"
   ]
  },
  {
   "cell_type": "markdown",
   "metadata": {},
   "source": [
    "I will modify SSL cert of my (base) environment.\n",
    "\n",
    "and add export `SSL_CERT_FILE` in `.bashrc`"
   ]
  },
  {
   "cell_type": "code",
   "execution_count": 3,
   "metadata": {},
   "outputs": [
    {
     "name": "stdout",
     "output_type": "stream",
     "text": [
      "echo \"configure SSL cert v1\"\r\n",
      "\r\n",
      "export SSL_CERT_FILE=`python -c 'import certifi;print(certifi.where())'`\r\n",
      "\r\n",
      "tee -a ~/.bashrc << EOF\r\n",
      "export SSL_CERT_FILE=$SSL_CERT_FILE\r\n",
      "EOF\r\n",
      "\r\n",
      "export TMPDIR=`mktemp -d`\r\n",
      "git clone git@gitlab.michelin.com:DEV/bib-certificates.git $TMPDIR\r\n",
      "cd $TMPDIR\r\n",
      "cat *trust-ca.pem >> $SSL_CERT_FILE\r\n",
      "\r\n",
      "if [ -e \"/.cfg\" ]; then\r\n",
      "\t\tconfig='/usr/bin/git --git-dir=/.cfg/ --work-tree=/'\r\n",
      "\t\t$config add ~/.bashrc\r\n",
      "\t\t$config commit -m'export certificates for commandline'\r\n",
      "\t\t$config push\t\t\r\n",
      "fi"
     ]
    }
   ],
   "source": [
    "!cat ../files/setup_wsl_02_install_python_conda_part3.sh"
   ]
  },
  {
   "cell_type": "code",
   "execution_count": null,
   "metadata": {},
   "outputs": [],
   "source": []
  }
 ],
 "metadata": {
  "kernelspec": {
   "display_name": "dataset_tools",
   "language": "python",
   "name": "dataset_tools"
  },
  "language_info": {
   "codemirror_mode": {
    "name": "ipython",
    "version": 3
   },
   "file_extension": ".py",
   "mimetype": "text/x-python",
   "name": "python",
   "nbconvert_exporter": "python",
   "pygments_lexer": "ipython3",
   "version": "3.9.13"
  },
  "toc": {
   "base_numbering": 1,
   "nav_menu": {},
   "number_sections": true,
   "sideBar": true,
   "skip_h1_title": false,
   "title_cell": "Table of Contents",
   "title_sidebar": "Contents",
   "toc_cell": false,
   "toc_position": {},
   "toc_section_display": true,
   "toc_window_display": true
  }
 },
 "nbformat": 4,
 "nbformat_minor": 4
}
