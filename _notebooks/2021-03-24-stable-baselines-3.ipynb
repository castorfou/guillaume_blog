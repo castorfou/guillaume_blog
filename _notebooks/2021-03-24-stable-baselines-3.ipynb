{
 "cells": [
  {
   "cell_type": "markdown",
   "id": "measured-annotation",
   "metadata": {},
   "source": [
    "# \"Stable baselines 3 - 1st steps\"\n",
    "> \"installation, 1st experimentations\"\n",
    "- show_tags: true\n",
    "- toc: true\n",
    "- branch: master\n",
    "- badges: false\n",
    "- comments: true\n",
    "- categories: [reinforcement learning, pytorch, sb3]\n",
    "- image: https://stable-baselines3.readthedocs.io/en/master/_static/logo.png"
   ]
  },
  {
   "cell_type": "markdown",
   "id": "introductory-interval",
   "metadata": {},
   "source": [
    "# What is stable baselines 3 (sb3)\n",
    "\n",
    "I have just read about this new release. This is a complete rewrite of stable baselines 2, without any reference to tensorflow, and based on pytorch (>1.4+).\n",
    "\n",
    "There is a lot of running implementations of RL algorithms, based on gym.\n",
    "A very good introduction in this [blog entry](https://araffin.github.io/post/sb3/)"
   ]
  },
  {
   "cell_type": "markdown",
   "id": "important-walnut",
   "metadata": {},
   "source": [
    "[Stable-Baselines3: Reliable Reinforcement Learning Implementations | Antonin Raffin | Homepage](https://araffin.github.io/post/sb3/)\n",
    "\n",
    "**Links**\n",
    "\n",
    "- GitHub repository: [https://github.com/DLR-RM/stable-baselines3](https://github.com/DLR-RM/stable-baselines3)\n",
    "\n",
    "- Documentation: [https://stable-baselines3.readthedocs.io/](https://stable-baselines3.readthedocs.io/)\n",
    "\n",
    "- RL Baselines3 Zoo: [https://github.com/DLR-RM/rl-baselines3-zoo](https://github.com/DLR-RM/rl-baselines3-zoo)\n",
    "\n",
    "- Contrib: [https://github.com/Stable-Baselines-Team/stable-baselines3-contrib](https://github.com/Stable-Baselines-Team/stable-baselines3-contrib)\n",
    "\n",
    "- RL Tutorial: [https://github.com/araffin/rl-tutorial-jnrr19](https://github.com/araffin/rl-tutorial-jnrr19)\n",
    "\n"
   ]
  },
  {
   "cell_type": "markdown",
   "id": "answering-temple",
   "metadata": {},
   "source": [
    "# My installation"
   ]
  },
  {
   "cell_type": "markdown",
   "id": "hungarian-integrity",
   "metadata": {},
   "source": [
    "Standard installation\n",
    "```bash\n",
    "conda create --name stablebaselines3 python=3.7\n",
    "conda activate stablebaselines3\n",
    "pip install stable-baselines3[extra]\n",
    "conda install -c conda-forge jupyter_contrib_nbextensions\n",
    "conda install nb_conda\n",
    "```"
   ]
  },
  {
   "cell_type": "code",
   "execution_count": 5,
   "id": "relevant-signal",
   "metadata": {
    "ExecuteTime": {
     "end_time": "2021-03-25T15:37:14.202848Z",
     "start_time": "2021-03-25T15:37:13.332841Z"
    }
   },
   "outputs": [
    {
     "name": "stdout",
     "output_type": "stream",
     "text": [
      "# packages in environment at /home/explore/miniconda3/envs/stablebaselines3:\r\n",
      "#\r\n",
      "# Name                    Version                   Build  Channel\r\n",
      "_libgcc_mutex             0.1                        main  \r\n",
      "_pytorch_select           0.1                       cpu_0  \r\n",
      "absl-py                   0.12.0                   pypi_0    pypi\r\n",
      "atari-py                  0.2.6                    pypi_0    pypi\r\n",
      "attrs                     20.3.0             pyhd3deb0d_0    conda-forge\r\n",
      "backcall                  0.2.0              pyh9f0ad1d_0    conda-forge\r\n",
      "backports                 1.0                        py_2    conda-forge\r\n",
      "backports.functools_lru_cache 1.6.1                      py_0    conda-forge\r\n",
      "blas                      1.0                         mkl  \r\n",
      "bleach                    3.3.0              pyh44b312d_0    conda-forge\r\n",
      "box2d                     2.3.10                   pypi_0    pypi\r\n",
      "box2d-py                  2.3.8                    pypi_0    pypi\r\n",
      "ca-certificates           2021.1.19            h06a4308_1  \r\n",
      "cachetools                4.2.1                    pypi_0    pypi\r\n",
      "certifi                   2020.12.5        py37h06a4308_0  \r\n",
      "cffi                      1.14.5           py37h261ae71_0  \r\n",
      "chardet                   4.0.0                    pypi_0    pypi\r\n",
      "cloudpickle               1.6.0                    pypi_0    pypi\r\n",
      "cudatoolkit               11.0.221             h6bb024c_0  \r\n",
      "cycler                    0.10.0                   pypi_0    pypi\r\n",
      "decorator                 4.4.2                      py_0    conda-forge\r\n",
      "defusedxml                0.7.1              pyhd8ed1ab_0    conda-forge\r\n",
      "entrypoints               0.3             pyhd8ed1ab_1003    conda-forge\r\n",
      "fire                      0.4.0              pyh44b312d_0    conda-forge\r\n",
      "freetype                  2.10.4               h5ab3b9f_0  \r\n",
      "future                    0.18.2                   pypi_0    pypi\r\n",
      "google-auth               1.28.0                   pypi_0    pypi\r\n",
      "google-auth-oauthlib      0.4.3                    pypi_0    pypi\r\n",
      "grpcio                    1.36.1                   pypi_0    pypi\r\n",
      "gym                       0.18.0                   pypi_0    pypi\r\n",
      "icu                       58.2              hf484d3e_1000    conda-forge\r\n",
      "idna                      2.10                     pypi_0    pypi\r\n",
      "importlib-metadata        3.7.3            py37h89c1867_0    conda-forge\r\n",
      "intel-openmp              2019.4                      243  \r\n",
      "ipykernel                 5.5.0            py37h888b3d9_1    conda-forge\r\n",
      "ipython                   7.21.0           py37h888b3d9_0    conda-forge\r\n",
      "ipython_genutils          0.2.0                      py_1    conda-forge\r\n",
      "jedi                      0.18.0           py37h89c1867_2    conda-forge\r\n",
      "jinja2                    2.11.3             pyh44b312d_0    conda-forge\r\n",
      "jpeg                      9b                   h024ee3a_2  \r\n",
      "jsonschema                3.2.0              pyhd8ed1ab_3    conda-forge\r\n",
      "jupyter_client            6.1.12             pyhd8ed1ab_0    conda-forge\r\n",
      "jupyter_contrib_core      0.3.3                      py_2    conda-forge\r\n",
      "jupyter_contrib_nbextensions 0.5.1              pyhd8ed1ab_2    conda-forge\r\n",
      "jupyter_core              4.7.1            py37h89c1867_0    conda-forge\r\n",
      "jupyter_highlight_selected_word 0.2.0           py37h89c1867_1002    conda-forge\r\n",
      "jupyter_latex_envs        1.4.6           pyhd8ed1ab_1002    conda-forge\r\n",
      "jupyter_nbextensions_configurator 0.4.1            py37h89c1867_2    conda-forge\r\n",
      "kiwisolver                1.3.1                    pypi_0    pypi\r\n",
      "lcms2                     2.11                 h396b838_0  \r\n",
      "ld_impl_linux-64          2.33.1               h53a641e_7  \r\n",
      "libffi                    3.3                  he6710b0_2  \r\n",
      "libgcc-ng                 9.1.0                hdf63c60_0  \r\n",
      "libmklml                  2019.0.5                      0  \r\n",
      "libpng                    1.6.37               hbc83047_0  \r\n",
      "libsodium                 1.0.18               h36c2ea0_1    conda-forge\r\n",
      "libstdcxx-ng              9.1.0                hdf63c60_0  \r\n",
      "libtiff                   4.2.0                h85742a9_0  \r\n",
      "libuv                     1.40.0               h7b6447c_0  \r\n",
      "libwebp-base              1.2.0                h27cfd23_0  \r\n",
      "libxml2                   2.9.10               hb55368b_3  \r\n",
      "libxslt                   1.1.34               hc22bd24_0  \r\n",
      "lxml                      4.6.3            py37h9120a33_0  \r\n",
      "lz4-c                     1.9.3                h2531618_0  \r\n",
      "markdown                  3.3.4                    pypi_0    pypi\r\n",
      "markupsafe                1.1.1            py37hb5d75c8_2    conda-forge\r\n",
      "matplotlib                3.3.4                    pypi_0    pypi\r\n",
      "mistune                   0.8.4           py37h4abf009_1002    conda-forge\r\n",
      "mkl                       2020.2                      256  \r\n",
      "mkl-service               2.3.0            py37he8ac12f_0  \r\n",
      "mkl_fft                   1.3.0            py37h54f3939_0  \r\n",
      "mkl_random                1.1.1            py37h0573a6f_0  \r\n",
      "nb_conda                  2.2.1                    py37_0  \r\n",
      "nb_conda_kernels          2.3.1            py37h06a4308_0  \r\n",
      "nbconvert                 5.6.1            py37hc8dfbb8_1    conda-forge\r\n",
      "nbformat                  5.1.2              pyhd8ed1ab_1    conda-forge\r\n",
      "ncurses                   6.2                  he6710b0_1  \r\n",
      "ninja                     1.10.2           py37hff7bd54_0  \r\n",
      "notebook                  5.7.10           py37hc8dfbb8_0    conda-forge\r\n",
      "numpy                     1.20.1                   pypi_0    pypi\r\n",
      "numpy-base                1.19.2           py37hfa32c7d_0  \r\n",
      "oauthlib                  3.1.0                    pypi_0    pypi\r\n",
      "olefile                   0.46                     py37_0  \r\n",
      "opencv-python             4.5.1.48                 pypi_0    pypi\r\n",
      "openssl                   1.1.1j               h27cfd23_0  \r\n",
      "packaging                 20.9               pyh44b312d_0    conda-forge\r\n",
      "pandas                    1.2.3                    pypi_0    pypi\r\n",
      "pandoc                    2.12                 h7f98852_0    conda-forge\r\n",
      "pandocfilters             1.4.2                      py_1    conda-forge\r\n",
      "parso                     0.8.1              pyhd8ed1ab_0    conda-forge\r\n",
      "pexpect                   4.8.0              pyh9f0ad1d_2    conda-forge\r\n",
      "pickleshare               0.7.5                   py_1003    conda-forge\r\n",
      "pillow                    7.2.0                    pypi_0    pypi\r\n",
      "pip                       21.0.1           py37h06a4308_0  \r\n",
      "prometheus_client         0.9.0              pyhd3deb0d_0    conda-forge\r\n",
      "prompt-toolkit            3.0.18             pyha770c72_0    conda-forge\r\n",
      "protobuf                  3.15.6                   pypi_0    pypi\r\n",
      "psutil                    5.8.0                    pypi_0    pypi\r\n",
      "ptyprocess                0.7.0              pyhd3deb0d_0    conda-forge\r\n",
      "pyasn1                    0.4.8                    pypi_0    pypi\r\n",
      "pyasn1-modules            0.2.8                    pypi_0    pypi\r\n",
      "pycparser                 2.20                       py_2  \r\n",
      "pyglet                    1.5.0                    pypi_0    pypi\r\n",
      "pygments                  2.8.1              pyhd8ed1ab_0    conda-forge\r\n",
      "pyparsing                 2.4.7              pyh9f0ad1d_0    conda-forge\r\n",
      "pyrsistent                0.17.3           py37h4abf009_1    conda-forge\r\n",
      "python                    3.7.10               hdb3f193_0  \r\n",
      "python-dateutil           2.8.1                      py_0    conda-forge\r\n",
      "python_abi                3.7                     1_cp37m    conda-forge\r\n",
      "pytorch                   1.7.1           py3.7_cuda11.0.221_cudnn8.0.5_0    pytorch\r\n",
      "pytz                      2021.1                   pypi_0    pypi\r\n",
      "pyyaml                    5.3.1            py37hb5d75c8_1    conda-forge\r\n",
      "pyzmq                     19.0.2           py37hac76be4_2    conda-forge\r\n",
      "readline                  8.1                  h27cfd23_0  \r\n",
      "requests                  2.25.1                   pypi_0    pypi\r\n",
      "requests-oauthlib         1.3.0                    pypi_0    pypi\r\n",
      "rsa                       4.7.2                    pypi_0    pypi\r\n",
      "scipy                     1.6.1                    pypi_0    pypi\r\n",
      "send2trash                1.5.0                      py_0    conda-forge\r\n",
      "setuptools                52.0.0           py37h06a4308_0  \r\n",
      "six                       1.15.0             pyh9f0ad1d_0    conda-forge\r\n",
      "sqlite                    3.35.2               hdfb4753_0  \r\n",
      "stable-baselines3         1.0                      pypi_0    pypi\r\n",
      "tensorboard               2.4.1                    pypi_0    pypi\r\n",
      "tensorboard-plugin-wit    1.8.0                    pypi_0    pypi\r\n",
      "termcolor                 1.1.0            py37h06a4308_1  \r\n",
      "terminado                 0.9.3            py37h89c1867_0    conda-forge\r\n",
      "testpath                  0.4.4                      py_0    conda-forge\r\n",
      "tk                        8.6.10               hbc83047_0  \r\n",
      "torchaudio                0.7.2                      py37    pytorch\r\n",
      "torchvision               0.8.2                py37_cu110    pytorch\r\n",
      "tornado                   6.1              py37h4abf009_0    conda-forge\r\n",
      "traitlets                 5.0.5                      py_0    conda-forge\r\n",
      "typing-extensions         3.7.4.3                       0  \r\n",
      "typing_extensions         3.7.4.3                    py_0    conda-forge\r\n",
      "urllib3                   1.26.4                   pypi_0    pypi\r\n",
      "wcwidth                   0.2.5              pyh9f0ad1d_2    conda-forge\r\n",
      "webencodings              0.5.1                      py_1    conda-forge\r\n",
      "werkzeug                  1.0.1                    pypi_0    pypi\r\n",
      "wheel                     0.36.2             pyhd3eb1b0_0  \r\n",
      "xz                        5.2.5                h7b6447c_0  \r\n",
      "yaml                      0.2.5                h516909a_0    conda-forge\r\n",
      "zeromq                    4.3.4                h2531618_0  \r\n",
      "zipp                      3.4.1              pyhd8ed1ab_0    conda-forge\r\n",
      "zlib                      1.2.11               h7b6447c_3  \r\n",
      "zstd                      1.4.5                h9ceee32_0  \r\n"
     ]
    }
   ],
   "source": [
    "!conda list"
   ]
  },
  {
   "cell_type": "markdown",
   "id": "instant-split",
   "metadata": {
    "heading_collapsed": true
   },
   "source": [
    "# SB3 tutorials"
   ]
  },
  {
   "cell_type": "code",
   "execution_count": null,
   "id": "frozen-dublin",
   "metadata": {
    "ExecuteTime": {
     "end_time": "2021-03-25T08:46:04.406020Z",
     "start_time": "2021-03-25T08:44:44.531596Z"
    },
    "hidden": true
   },
   "outputs": [],
   "source": [
    "import gym\n",
    "\n",
    "from stable_baselines3 import A2C\n",
    "from stable_baselines3.common.monitor import Monitor\n",
    "from stable_baselines3.common.callbacks import CheckpointCallback, EvalCallback\n",
    "\n",
    "# Save a checkpoint every 1000 steps\n",
    "checkpoint_callback = CheckpointCallback(save_freq=5000, save_path=\"/home/explore/git/guillaume/stable_baselines_3/logs/\",\n",
    "                                         name_prefix=\"rl_model\")\n",
    "\n",
    "# Evaluate the model periodically\n",
    "# and auto-save the best model and evaluations\n",
    "# Use a monitor wrapper to properly report episode stats\n",
    "eval_env = Monitor(gym.make(\"LunarLander-v2\"))\n",
    "# Use deterministic actions for evaluation\n",
    "eval_callback = EvalCallback(eval_env, best_model_save_path=\"/home/explore/git/guillaume/stable_baselines_3/logs/\",\n",
    "                             log_path=\"/home/explore/git/guillaume/stable_baselines_3/logs/\", eval_freq=2000,\n",
    "                             deterministic=True, render=False)\n",
    "\n",
    "# Train an agent using A2C on LunarLander-v2\n",
    "model = A2C(\"MlpPolicy\", \"LunarLander-v2\", verbose=1)\n",
    "model.learn(total_timesteps=20000, callback=[checkpoint_callback, eval_callback])\n",
    "\n",
    "# Retrieve and reset the environment\n",
    "env = model.get_env()\n",
    "obs = env.reset()\n",
    "\n",
    "# Query the agent (stochastic action here)\n",
    "action, _ = model.predict(obs, deterministic=False)"
   ]
  },
  {
   "cell_type": "markdown",
   "id": "liquid-cookbook",
   "metadata": {
    "heading_collapsed": true
   },
   "source": [
    "# Issues and fix"
   ]
  },
  {
   "cell_type": "markdown",
   "id": "opening-soviet",
   "metadata": {
    "hidden": true
   },
   "source": [
    "**CUDA error: CUBLAS_STATUS_INTERNAL_ERROR**"
   ]
  },
  {
   "cell_type": "markdown",
   "id": "controlled-concept",
   "metadata": {
    "hidden": true
   },
   "source": [
    "Downgrade pytorch to 1.7.1 \n",
    "\n",
    "to avoid `RuntimeError: CUDA error: CUBLAS_STATUS_INTERNAL_ERROR when calling cublasCreate(handle)`\n",
    "\n",
    "```bash\n",
    "pip install torch==1.7.1\n",
    "```"
   ]
  },
  {
   "cell_type": "markdown",
   "id": "regulation-account",
   "metadata": {
    "hidden": true
   },
   "source": [
    "**RuntimeError: CUDA error: invalid device function**"
   ]
  },
  {
   "cell_type": "code",
   "execution_count": 1,
   "id": "afraid-ethernet",
   "metadata": {
    "ExecuteTime": {
     "end_time": "2021-03-25T08:13:49.478091Z",
     "start_time": "2021-03-25T08:13:49.327901Z"
    },
    "hidden": true
   },
   "outputs": [
    {
     "name": "stdout",
     "output_type": "stream",
     "text": [
      "Thu Mar 25 09:13:49 2021       \r\n",
      "+-----------------------------------------------------------------------------+\r\n",
      "| NVIDIA-SMI 450.102.04   Driver Version: 450.102.04   CUDA Version: 11.0     |\r\n",
      "|-------------------------------+----------------------+----------------------+\r\n",
      "| GPU  Name        Persistence-M| Bus-Id        Disp.A | Volatile Uncorr. ECC |\r\n",
      "| Fan  Temp  Perf  Pwr:Usage/Cap|         Memory-Usage | GPU-Util  Compute M. |\r\n",
      "|                               |                      |               MIG M. |\r\n",
      "|===============================+======================+======================|\r\n",
      "|   0  Quadro RTX 4000     Off  | 00000000:01:00.0  On |                  N/A |\r\n",
      "| N/A   41C    P5    18W /  N/A |   2104MiB /  7982MiB |     32%      Default |\r\n",
      "|                               |                      |                  N/A |\r\n",
      "+-------------------------------+----------------------+----------------------+\r\n",
      "                                                                               \r\n",
      "+-----------------------------------------------------------------------------+\r\n",
      "| Processes:                                                                  |\r\n",
      "|  GPU   GI   CI        PID   Type   Process name                  GPU Memory |\r\n",
      "|        ID   ID                                                   Usage      |\r\n",
      "|=============================================================================|\r\n",
      "|    0   N/A  N/A      1153      G   /usr/lib/xorg/Xorg                162MiB |\r\n",
      "|    0   N/A  N/A      1904      G   /usr/lib/xorg/Xorg                268MiB |\r\n",
      "|    0   N/A  N/A      2076      G   /usr/bin/gnome-shell              403MiB |\r\n",
      "|    0   N/A  N/A      2697      G   ...gAAAAAAAAA --shared-files       54MiB |\r\n",
      "|    0   N/A  N/A      7220      G   ...AAAAAAAAA= --shared-files       84MiB |\r\n",
      "|    0   N/A  N/A     57454      G   /usr/lib/firefox/firefox            2MiB |\r\n",
      "|    0   N/A  N/A     59274      C   ...ablebaselines3/bin/python     1051MiB |\r\n",
      "+-----------------------------------------------------------------------------+\r\n"
     ]
    }
   ],
   "source": [
    "!nvidia-smi"
   ]
  },
  {
   "cell_type": "markdown",
   "id": "linear-savage",
   "metadata": {
    "hidden": true
   },
   "source": [
    "CUDA version is 11.0 on my workstation."
   ]
  },
  {
   "cell_type": "code",
   "execution_count": 2,
   "id": "about-combining",
   "metadata": {
    "ExecuteTime": {
     "end_time": "2021-03-25T08:26:50.487508Z",
     "start_time": "2021-03-25T08:26:50.374864Z"
    },
    "hidden": true
   },
   "outputs": [
    {
     "name": "stdout",
     "output_type": "stream",
     "text": [
      "nvcc: NVIDIA (R) Cuda compiler driver\r\n",
      "Copyright (c) 2005-2019 NVIDIA Corporation\r\n",
      "Built on Sun_Jul_28_19:07:16_PDT_2019\r\n",
      "Cuda compilation tools, release 10.1, V10.1.243\r\n"
     ]
    }
   ],
   "source": [
    "!nvcc --version"
   ]
  },
  {
   "cell_type": "code",
   "execution_count": 4,
   "id": "dedicated-collapse",
   "metadata": {
    "ExecuteTime": {
     "end_time": "2021-03-25T08:46:19.654343Z",
     "start_time": "2021-03-25T08:46:15.568070Z"
    },
    "hidden": true
   },
   "outputs": [
    {
     "name": "stdout",
     "output_type": "stream",
     "text": [
      "Collecting package metadata (current_repodata.json): done\n",
      "Solving environment: done\n",
      "\n",
      "# All requested packages already installed.\n",
      "\n"
     ]
    }
   ],
   "source": [
    "!conda install pytorch==1.7.1 torchvision==0.8.2 torchaudio==0.7.2 cudatoolkit=11.0 -c pytorch"
   ]
  },
  {
   "cell_type": "markdown",
   "id": "vertical-continuity",
   "metadata": {
    "hidden": true
   },
   "source": [
    "Everything seems fine after these updates."
   ]
  },
  {
   "cell_type": "markdown",
   "id": "sacred-entry",
   "metadata": {},
   "source": [
    "# Stable baselines 3 user guide"
   ]
  },
  {
   "cell_type": "markdown",
   "id": "insured-clinic",
   "metadata": {},
   "source": [
    "There is an impressive documentation associated with stable baselines 3.\n",
    "[Quickstart](https://stable-baselines3.readthedocs.io/en/master/guide/quickstart.html)"
   ]
  },
  {
   "cell_type": "markdown",
   "id": "reflected-athletics",
   "metadata": {},
   "source": [
    "## Tips and tricks"
   ]
  },
  {
   "cell_type": "markdown",
   "id": "downtown-poison",
   "metadata": {},
   "source": [
    "This [page](https://stable-baselines3.readthedocs.io/en/master/guide/rl_tips.html) covers general advice about RL (where to start, which algorithm to choose, how to evaluate an algorithm, …), as well as tips and tricks when using a custom environment or implementing an RL algorithm.\n",
    "\n",
    "* Be familiar with RL, see [resource](https://stable-baselines3.readthedocs.io/en/master/guide/rl.html) page\n",
    "* read SB3 documentation\n",
    "* do the [tutorial](https://github.com/araffin/rl-tutorial-jnrr19/tree/sb3)\n",
    "\n",
    "**Tune hyperparameters**\n",
    "RL zoo is introduced. It contains some hyperparameter optimization.\n",
    "\n",
    "**RL evaluation**\n",
    "We suggest you reading [Deep Reinforcement Learning that Matters](https://arxiv.org/abs/1709.06560) for a good discussion about RL evaluation.\n",
    "\n",
    "**which algorithm to choose**\n",
    "1st criteria is discrete vs continuous actions. And 2nd is capacity to parallelize training.\n",
    "\n",
    "\n",
    "*Discrete Actions*\n",
    " \n",
    "* Discrete Actions - Single Process\n",
    "\n",
    "`DQN` with extensions (double DQN, prioritized replay, …) are the recommended algorithms. We notably provide `QR-DQN` in our [contrib repo](https://stable-baselines3.readthedocs.io/en/master/guide/sb3_contrib.html#sb3-contrib). `DQN` is usually slower to train (regarding wall clock time) but is the most sample efficient (because of its replay buffer).\n",
    "\n",
    "* Discrete Actions - Multiprocessed\n",
    " \n",
    "You should give a try to `PPO` or `A2C`.\n",
    " \n",
    "*Continuous Actions*\n",
    " \n",
    "* Continuous Actions - Single Process\n",
    " \n",
    "Current State Of The Art (SOTA) algorithms are `SAC`, `TD3` and `TQC` (available in our [contrib repo](https://stable-baselines3.readthedocs.io/en/master/guide/sb3_contrib.html#sb3-contrib)). Please use the hyperparameters in the [RL zoo](https://github.com/DLR-RM/rl-baselines3-zoo) for best results.\n",
    " \n",
    "* Continuous Actions - Multiprocessed\n",
    " \n",
    "Take a look at `PPO` or `A2C`. Again, don’t forget to take the hyperparameters from the [RL zoo](https://github.com/DLR-RM/rl-baselines3-zoo) for continuous actions problems (cf _Bullet_ envs).\n",
    "\n",
    "\n",
    "**Creating a custom env**\n",
    "\n",
    "multiple times there are advices about normalizing: observation and action space. A good practice is to rescale your actions to lie in [-1, 1]. This does not limit you as you can easily rescale the action inside the environment\n",
    "\n",
    "**tips and tricks to reproduce a RL paper**\n",
    "\n",
    "[Reinforcement Learning Tips and Tricks — Stable Baselines3 1.1.0a1 documentation](https://stable-baselines3.readthedocs.io/en/master/guide/rl_tips.html)\n",
    "\n",
    "> A personal pick (by @araffin) for environments with gradual difficulty in RL with continuous actions:\n",
    "> \n",
    "> 1.  Pendulum (easy to solve)\n",
    ">     \n",
    "> 2.  HalfCheetahBullet (medium difficulty with local minima and shaped reward)\n",
    ">     \n",
    "> 3.  BipedalWalkerHardcore (if it works on that one, then you can have a cookie)\n",
    ">     \n",
    "> \n",
    "> in RL with discrete actions:\n",
    "> \n",
    "> 1.  CartPole-v1 (easy to be better than random agent, harder to achieve maximal performance)\n",
    ">     \n",
    "> 2.  LunarLander\n",
    ">     \n",
    "> 3.  Pong (one of the easiest Atari game)\n",
    ">     \n",
    "> 4.  other Atari games (e.g. Breakout)"
   ]
  },
  {
   "cell_type": "markdown",
   "id": "scheduled-inventory",
   "metadata": {},
   "source": [
    "## Resource page"
   ]
  },
  {
   "cell_type": "markdown",
   "id": "ordinary-guess",
   "metadata": {},
   "source": [
    "[Reinforcement Learning Resources — Stable Baselines3 1.1.0a1 documentation](https://stable-baselines3.readthedocs.io/en/master/guide/rl.html)\n",
    "\n",
    "Stable-Baselines3 assumes that you already understand the basic concepts of Reinforcement Learning (RL).\n",
    " \n",
    "However, if you want to learn about RL, there are several good resources to get started:\n",
    " \n",
    "-   [OpenAI Spinning Up](https://spinningup.openai.com/en/latest/)\n",
    "     \n",
    "-   [David Silver’s course](http://www0.cs.ucl.ac.uk/staff/d.silver/web/Teaching.html)\n",
    "     \n",
    "-   [Lilian Weng’s blog](https://lilianweng.github.io/lil-log/2018/04/08/policy-gradient-algorithms.html)\n",
    "     \n",
    "-   [Berkeley’s Deep RL Bootcamp](https://sites.google.com/view/deep-rl-bootcamp/lectures)\n",
    "     \n",
    "-   [Berkeley’s Deep Reinforcement Learning course](http://rail.eecs.berkeley.edu/deeprlcourse/)\n",
    "    \n",
    "-   [More resources](https://github.com/dennybritz/reinforcement-learning)"
   ]
  },
  {
   "cell_type": "markdown",
   "id": "improving-voluntary",
   "metadata": {},
   "source": [
    "## Examples"
   ]
  },
  {
   "cell_type": "markdown",
   "id": "packed-ethernet",
   "metadata": {},
   "source": [
    "I will run these examples in [01 -hands-on.ipynb](https://github.com/castorfou/handson_stablebaselines3/blob/main/01%20-%20hands-on.ipynb) from [handson\\_stablebaselines3](https://github.com/castorfou/handson_stablebaselines3)"
   ]
  },
  {
   "cell_type": "markdown",
   "id": "southeast-floating",
   "metadata": {},
   "source": [
    "**DQN lunarlander**\n",
    "![](../images/lunar_module.gif)\n",
    "\n",
    "My module is never landing :(\n",
    "\n",
    "Note: animated gif created with [peek](https://github.com/phw/peek).\n"
   ]
  },
  {
   "cell_type": "markdown",
   "id": "passing-ivory",
   "metadata": {},
   "source": [
    "**PPO with multiprocessing cartpole**\n",
    "\n",
    "![](../images/cartpole_ppo.gif)"
   ]
  },
  {
   "cell_type": "markdown",
   "id": "atomic-brooklyn",
   "metadata": {},
   "source": [
    "**Monitor training using callback**"
   ]
  },
  {
   "cell_type": "markdown",
   "id": "cloudy-premiere",
   "metadata": {},
   "source": [
    "This could be useful when you want to monitor training, for instance display live learning curves in Tensorboard (or in [Visdom](https://github.com/fossasia/visdom)) or save the best agent.\n",
    "\n",
    "![](../images/sb3_learning.png)"
   ]
  },
  {
   "cell_type": "markdown",
   "id": "greatest-abuse",
   "metadata": {},
   "source": [
    "**Atari game such as pong (A2C with 6 envt) or breakout**"
   ]
  },
  {
   "cell_type": "markdown",
   "id": "quiet-reset",
   "metadata": {},
   "source": [
    "![](../images/sb3_pong.gif)"
   ]
  },
  {
   "cell_type": "markdown",
   "id": "retained-tourist",
   "metadata": {},
   "source": [
    "Here the list of valid gym atari environments: https://gym.openai.com/envs/#atari"
   ]
  },
  {
   "cell_type": "markdown",
   "id": "actual-conference",
   "metadata": {},
   "source": [
    "![sb3_breakout.gif](../images/sb3_breakout.gif)"
   ]
  },
  {
   "cell_type": "markdown",
   "id": "nearby-finance",
   "metadata": {},
   "source": [
    "**pybullet** \n",
    "\n",
    "This is a SDK to real-time collision detection and multi-physics simulation for VR, games, visual effects, robotics, machine learning etc.\n",
    "\n",
    "https://github.com/bulletphysics/bullet3/\n",
    "\n",
    "![](https://camo.githubusercontent.com/0f979f7423e65c1bd31659d153b6b2a59d3fd83896bafb96f7c3f80e3f7f1ee1/68747470733a2f2f707962756c6c65742e6f72672f776f726470726573732f77702d636f6e74656e742f75706c6f6164732f323031392f30332f63726f707065642d707962756c6c65742e706e67)\n",
    "\n",
    "We need to install it: `pip install pybullet`\n",
    "\n",
    "I don't have rendering capacity when playing with it. Because robotic is far from my need, I will skip on this one"
   ]
  },
  {
   "cell_type": "markdown",
   "id": "acquired-airport",
   "metadata": {},
   "source": [
    "**Hindsight Experience Replay (HER)**\n",
    "\n",
    "using [Highway-Env](https://github.com/eleurent/highway-env) \n",
    "\n",
    "installation with `pip install highway-env`\n",
    "\n",
    "After 1h15m of training, some 1st results:\n",
    "\n",
    "![](../images/sb3_parking.gif)"
   ]
  },
  {
   "cell_type": "markdown",
   "id": "rough-standing",
   "metadata": {},
   "source": [
    "And after that some technical stuff such as:\n",
    "* Learning Rate Schedule: start with high value and reduce it as learning goes\n",
    "* Advanced Saving and Loading: how to easily create a test environment to evaluate an agent periodically, use a policy independently from a model (and how to save it, load it) and save/load a replay buffer.\n",
    "* Accessing and modifying model parameters: These functions are useful when you need to e.g. evaluate large set of models with same network structure, visualize different layers of the network or modify parameters manually.\n",
    "* Record a video or make a gif\n",
    "\n",
    "**Make a GIF of a Trained Agent**\n",
    "\n",
    "`pip install imageio`\n",
    "\n",
    "and this time the lander is getting closer to moon but not at all between flags.\n",
    "![](../images/lander_a2c.gif)"
   ]
  },
  {
   "cell_type": "code",
   "execution_count": null,
   "id": "grateful-twelve",
   "metadata": {},
   "outputs": [],
   "source": []
  }
 ],
 "metadata": {
  "kernelspec": {
   "display_name": "Python [conda env:stablebaselines3]",
   "language": "python",
   "name": "conda-env-stablebaselines3-py"
  },
  "language_info": {
   "codemirror_mode": {
    "name": "ipython",
    "version": 3
   },
   "file_extension": ".py",
   "mimetype": "text/x-python",
   "name": "python",
   "nbconvert_exporter": "python",
   "pygments_lexer": "ipython3",
   "version": "3.7.10"
  },
  "toc": {
   "base_numbering": 1,
   "nav_menu": {},
   "number_sections": true,
   "sideBar": true,
   "skip_h1_title": false,
   "title_cell": "Table of Contents",
   "title_sidebar": "Contents",
   "toc_cell": false,
   "toc_position": {},
   "toc_section_display": true,
   "toc_window_display": true
  }
 },
 "nbformat": 4,
 "nbformat_minor": 5
}
