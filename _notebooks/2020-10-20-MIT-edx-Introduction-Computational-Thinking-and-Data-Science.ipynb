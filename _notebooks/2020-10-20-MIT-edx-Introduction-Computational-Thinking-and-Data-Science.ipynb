{
 "cells": [
  {
   "cell_type": "markdown",
   "metadata": {},
   "source": [
    "# edX MIT 6.00.2x Introduction to Computational Thinking and Data Science \n",
    "> about the UNIT 1\n",
    "- show_tags: true\n",
    "- toc: true\n",
    "- branch: master\n",
    "- badges: false\n",
    "- comments: true\n",
    "- categories: [edx, mit, data science, python]"
   ]
  },
  {
   "cell_type": "markdown",
   "metadata": {},
   "source": [
    "# MIT courses at edX"
   ]
  },
  {
   "cell_type": "markdown",
   "metadata": {},
   "source": [
    "Last summer I have been following a 1st MIT course on python programming. Not that I would need this knowledge but as for [Polytechnique courses](https://www.polytechnique.edu/elearning/fr), I like their way to explain knowledge foundations. Teachers from these schools tend to go back to deep roots, and provide clear and somtimes illuminating examples to help us understand concepts."
   ]
  },
  {
   "cell_type": "markdown",
   "metadata": {},
   "source": [
    "About 6 years ago I have completed a [Probability introduction from Ecole Polythechnique](https://www.polytechnique.edu/elearning/fr/aleatoire-une-introduction-aux-probabilit%C3%A9s-partie-1). That was great. I had always been hermeticly closed to probability and statistics. For a reason I don't understand, it is not being teached in CPGE (which is a two-or-three-year intensive full-time course preparing top high school graduates for the entrance examination of French engineering and business schools, this is just after high school). It means last time I was exposed to probability was in high school, and probably in engineering school as well but on a light way.\n",
    "\n",
    "That would be great to give back a look to these courses."
   ]
  },
  {
   "cell_type": "markdown",
   "metadata": {},
   "source": [
    "## [MIT 6.00.1x](https://www.edx.org/course/introduction-to-computer-science-and-programming-7) - Introduction to Computer Science and Programming Using Python"
   ]
  },
  {
   "cell_type": "markdown",
   "metadata": {},
   "source": [
    "Unfortunately I registered in September when only a couple of weeks were left to complete this 9-week course. And because I didn't upgrade to a Verified Certificate, I lost access to materials and progress. It cut when my progress was about 38%.\n",
    "\n",
    "I like Eric Grimson's style. He is calm and has his own way to explain some advanced subjects.\n",
    "\n",
    "Next session is planned on Jan 27, 2021. That would be a good idea to complete this course."
   ]
  },
  {
   "cell_type": "markdown",
   "metadata": {},
   "source": [
    "## [MIT 6.00.2x](https://courses.edx.org/courses/course-v1:MITx+6.00.2x+3T2020/course/) - Introduction to Computational Thinking and Data Science\n"
   ]
  },
  {
   "cell_type": "markdown",
   "metadata": {},
   "source": [
    "For this one I have registered on time. And I have purchased the Verified Certificate.\n",
    "\n",
    "Here is the full course program and dates:\n",
    "\n",
    "![alt text](../images/MIT_6.00.2x_courses.png \"MIT 6.00.2x courses\")"
   ]
  },
  {
   "cell_type": "markdown",
   "metadata": {},
   "source": [
    "1st lectures are interesting. As said before I like to be back to roots of problems. And on that matter I expect to get a full overview.\n",
    "\n",
    "Lecture 4 should be released in the coming at the end of October. cannot wait to resume these sessions."
   ]
  },
  {
   "cell_type": "markdown",
   "metadata": {},
   "source": [
    "As a matter of comparaison with gan specialization from coursera+openAI, I like better the interactions with students offered by openAI. They use slack as a platform to support these interactions and I think it is a smart move."
   ]
  },
  {
   "cell_type": "code",
   "execution_count": null,
   "metadata": {},
   "outputs": [],
   "source": []
  }
 ],
 "metadata": {
  "kernelspec": {
   "display_name": "Python [conda env:fastai]",
   "language": "python",
   "name": "conda-env-fastai-py"
  },
  "language_info": {
   "codemirror_mode": {
    "name": "ipython",
    "version": 3
   },
   "file_extension": ".py",
   "mimetype": "text/x-python",
   "name": "python",
   "nbconvert_exporter": "python",
   "pygments_lexer": "ipython3",
   "version": "3.7.5"
  },
  "toc": {
   "base_numbering": 1,
   "nav_menu": {},
   "number_sections": true,
   "sideBar": true,
   "skip_h1_title": false,
   "title_cell": "Table of Contents",
   "title_sidebar": "Contents",
   "toc_cell": false,
   "toc_position": {},
   "toc_section_display": true,
   "toc_window_display": true
  },
  "varInspector": {
   "cols": {
    "lenName": 16,
    "lenType": 16,
    "lenVar": 40
   },
   "kernels_config": {
    "python": {
     "delete_cmd_postfix": "",
     "delete_cmd_prefix": "del ",
     "library": "var_list.py",
     "varRefreshCmd": "print(var_dic_list())"
    },
    "r": {
     "delete_cmd_postfix": ") ",
     "delete_cmd_prefix": "rm(",
     "library": "var_list.r",
     "varRefreshCmd": "cat(var_dic_list()) "
    }
   },
   "types_to_exclude": [
    "module",
    "function",
    "builtin_function_or_method",
    "instance",
    "_Feature"
   ],
   "window_display": false
  }
 },
 "nbformat": 4,
 "nbformat_minor": 4
}
