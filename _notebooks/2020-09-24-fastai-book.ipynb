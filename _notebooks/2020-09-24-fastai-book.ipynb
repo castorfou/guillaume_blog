{
 "cells": [
  {
   "cell_type": "markdown",
   "metadata": {},
   "source": [
    "# Fastai book Deep Learning for Coders with fastai and Pytorch\n",
    "> \"description of my learning environment, following fastai reco\"\n",
    "- show_tags: true\n",
    "- toc: true\n",
    "- branch: master\n",
    "- badges: false\n",
    "- comments: true\n",
    "- categories: [fastai, jupyter, fastbook]"
   ]
  },
  {
   "cell_type": "markdown",
   "metadata": {},
   "source": [
    "# Paper version of fastai book"
   ]
  },
  {
   "cell_type": "markdown",
   "metadata": {},
   "source": [
    "Of course the 1st tep is to purchase this great book:\n",
    "\n",
    "![alt text](../images/fastai_book_thumb.png \"Great Book!\")\n",
    "\n"
   ]
  },
  {
   "cell_type": "markdown",
   "metadata": {},
   "source": [
    "I have liked what Jeremy Howard said about why this is important to purchase it (in [video 1](https://course.fast.ai/videos/?lesson=1)). Fastai is offering full access to the book as notebooks. So that we can run all codes from them. "
   ]
  },
  {
   "cell_type": "markdown",
   "metadata": {},
   "source": [
    "# Get notebook version of fastai book"
   ]
  },
  {
   "cell_type": "markdown",
   "metadata": {},
   "source": [
    "```bash\n",
    "~/git/guillaume$ git clone https://github.com/fastai/fastbook.git\n",
    "``` "
   ]
  },
  {
   "cell_type": "markdown",
   "metadata": {},
   "source": [
    "![alt text](../images/fastbook_jupyter.png \"Great Book!\")\n",
    "\n",
    "I have now a perfect combo between paper book and notebooks."
   ]
  },
  {
   "cell_type": "markdown",
   "metadata": {},
   "source": [
    "# Video courses based on fastai book"
   ]
  },
  {
   "cell_type": "markdown",
   "metadata": {},
   "source": [
    "Rachel Thomas and Jeremy Howard have done some great videos about learning fastai (and pytorch). \n",
    "\n",
    "They tend to do it every year. But this year is quite special due to fastai book.\n",
    "\n",
    "Here are all the 1st 7 videos: https://course.fast.ai/videos/?lesson=1"
   ]
  },
  {
   "cell_type": "markdown",
   "metadata": {},
   "source": [
    "# Fastai forums"
   ]
  },
  {
   "cell_type": "markdown",
   "metadata": {},
   "source": [
    "This is the natural source of information and interactions with other students.\n",
    "\n",
    "There is a category **Part 1 (2020)** which seems perfect: https://forums.fast.ai/c/part1-v4/46"
   ]
  },
  {
   "cell_type": "markdown",
   "metadata": {},
   "source": [
    "# Personal git organization"
   ]
  },
  {
   "cell_type": "markdown",
   "metadata": {},
   "source": [
    "```bash\n",
    "~/git/guillaume$ ll\n",
    "fastai/                 <-- from https://github.com/fastai/fastai \n",
    "fastai_experiments/     <-- I will keep all experiments I will do here\n",
    "fastbook/               <-- from https://github.com/fastai/fastbook.git \n",
    "guillaume_blog/         <-- from git@github.com:castorfou/guillaume_blog.git\n",
    "```\n",
    "\n"
   ]
  },
  {
   "cell_type": "markdown",
   "metadata": {},
   "source": [
    "`fastai_experiments` likely to have 1 notebook per chapter or video."
   ]
  },
  {
   "cell_type": "markdown",
   "metadata": {},
   "source": [
    "## update jupyter to include extensions (toc, ...)"
   ]
  },
  {
   "cell_type": "markdown",
   "metadata": {},
   "source": [
    "`conda install -c conda-forge jupyter_contrib_nbextensions`"
   ]
  },
  {
   "cell_type": "markdown",
   "metadata": {},
   "source": [
    "![alt text](../images/TOC.png \"jupyter extension table of content\")\n",
    "I like table of content, others are quite usefull as well (scratchpad, ExecuteTime...)."
   ]
  },
  {
   "cell_type": "markdown",
   "metadata": {},
   "source": [
    "## Install some libraries to run book examples"
   ]
  },
  {
   "cell_type": "markdown",
   "metadata": {},
   "source": [
    "`conda install -c fastai fastbook`"
   ]
  },
  {
   "cell_type": "markdown",
   "metadata": {},
   "source": [
    "It will install graphviz, nbdev, and other libraries.\n",
    "\n",
    "And most of them can be loaded by calling `from utils import *`"
   ]
  },
  {
   "cell_type": "markdown",
   "metadata": {},
   "source": [
    "## Launch jupyter notebook and start expermenting"
   ]
  },
  {
   "cell_type": "markdown",
   "metadata": {},
   "source": [
    "```bash\n",
    "cd ~/git/guillaume\n",
    "conda activate fastai\n",
    "jupyter notebook\n",
    "```\n",
    "\n",
    "And launch several tabs at: [blog entries](http://localhost:8888/tree/guillaume_blog/_notebooks), [fastai experiments](http://localhost:8888/tree/fastai_experiments), [fastai courses](http://localhost:8888/notebooks/fastai/dev_nbs/course) and [fastai videos](https://course.fast.ai/videos/)."
   ]
  },
  {
   "cell_type": "markdown",
   "metadata": {},
   "source": [
    "And I keep track of progress with git. "
   ]
  },
  {
   "cell_type": "code",
   "execution_count": null,
   "metadata": {},
   "outputs": [],
   "source": []
  }
 ],
 "metadata": {
  "kernelspec": {
   "display_name": "Python 3",
   "language": "python",
   "name": "python3"
  },
  "language_info": {
   "codemirror_mode": {
    "name": "ipython",
    "version": 3
   },
   "file_extension": ".py",
   "mimetype": "text/x-python",
   "name": "python",
   "nbconvert_exporter": "python",
   "pygments_lexer": "ipython3",
   "version": "3.8.2"
  },
  "toc": {
   "base_numbering": 1,
   "nav_menu": {},
   "number_sections": true,
   "sideBar": true,
   "skip_h1_title": false,
   "title_cell": "Table of Contents",
   "title_sidebar": "Contents",
   "toc_cell": false,
   "toc_position": {},
   "toc_section_display": true,
   "toc_window_display": true
  }
 },
 "nbformat": 4,
 "nbformat_minor": 4
}
