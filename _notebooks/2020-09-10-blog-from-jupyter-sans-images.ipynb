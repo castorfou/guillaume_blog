{
 "cells": [
  {
   "cell_type": "markdown",
   "metadata": {},
   "source": [
    "# Blog from jupyter notebook\n",
    "\n",
    "- title: \"Blog from jupyter notebook\"\n",
    "- description: \"how to setup fastpages to blog from jupyter notebook\"\n",
    "- show_tags: true\n",
    "- toc: true\n",
    "- branch: master\n",
    "- badges: false\n",
    "- comments: true\n",
    "- categories: [fastpages, jupyter, notebooks]"
   ]
  },
  {
   "cell_type": "markdown",
   "metadata": {},
   "source": [
    "That will be great if I can simply write blog entries using Jupyter Notebook.\n",
    "\n",
    "I usually paste inner images into jupyter cells. But this [feature](https://github.com/fastai/fastpages/issues/415) is not available yet into fastpages. So for the moment I won't include images into these posts."
   ]
  },
  {
   "cell_type": "markdown",
   "metadata": {},
   "source": [
    "That way I could simply use markdown and insert images\n",
    "\n",
    "And directly see rendered impact before commiting and pushing to my blog."
   ]
  },
  {
   "cell_type": "markdown",
   "metadata": {},
   "source": [
    "## get local repo from github"
   ]
  },
  {
   "cell_type": "markdown",
   "metadata": {},
   "source": [
    "As I am behind a proxy most of my time when working from office, the easiest way for me is to work from [WSL](https://en.wikipedia.org/wiki/Windows_Subsystem_for_Linux).\n"
   ]
  },
  {
   "cell_type": "markdown",
   "metadata": {},
   "source": [
    "### WSL"
   ]
  },
  {
   "cell_type": "markdown",
   "metadata": {},
   "source": [
    "I won't detail how to install WSL on Windows.\n",
    "\n",
    "I use ubuntu images (18.04) on my PC."
   ]
  },
  {
   "cell_type": "markdown",
   "metadata": {},
   "source": [
    "### set unset proxy in WSL"
   ]
  },
  {
   "cell_type": "markdown",
   "metadata": {},
   "source": [
    "I have just added some bash commands at the end of my `.bashrc` file."
   ]
  },
  {
   "cell_type": "markdown",
   "metadata": {},
   "source": [
    "```bash\n",
    "# Set Proxy\n",
    "function setproxy() {\n",
    "    export {http,https,ftp}_proxy=\"http://<my proxy ip address>:80\"\n",
    "    export {HTTP,HTTPS,FTP}_PROXY=\"http://<my proxy ip address>:80\"\n",
    "}\n",
    "\n",
    "# Unset Proxy\n",
    "function unsetproxy() {\n",
    "    unset {http,https,ftp}_proxy\n",
    "    unset {HTTP,HTTPS,FTP}_PROXY\n",
    "}\n",
    "```"
   ]
  },
  {
   "cell_type": "markdown",
   "metadata": {},
   "source": [
    "### git clone castorfou.github.io"
   ]
  },
  {
   "cell_type": "markdown",
   "metadata": {},
   "source": [
    "I keep most of my local repos under `~/git/`"
   ]
  },
  {
   "cell_type": "markdown",
   "metadata": {
    "ExecuteTime": {
     "end_time": "2020-09-10T06:28:09.079955Z",
     "start_time": "2020-09-10T06:28:09.074674Z"
    }
   },
   "source": [
    "```bash\n",
    "cd ~/git\n",
    "setproxy\n",
    "git clone https://github.com/castorfou/castorfou.github.io.git\n",
    "```"
   ]
  },
  {
   "cell_type": "markdown",
   "metadata": {},
   "source": [
    "## create a blog entry with Jupyter Notebook"
   ]
  },
  {
   "cell_type": "markdown",
   "metadata": {},
   "source": [
    "## commit and push to github"
   ]
  },
  {
   "cell_type": "markdown",
   "metadata": {},
   "source": [
    "```bash\n",
    "(base) guillaume@LL11LPC0PQARQ:~$ cd git\n",
    "(base) guillaume@LL11LPC0PQARQ:~/git$ cd castorfou.github.io/\n",
    "(base) guillaume@LL11LPC0PQARQ:~/git/castorfou.github.io$ git add .\n",
    "(base) guillaume@LL11LPC0PQARQ:~/git/castorfou.github.io$ git commit -m 'new blog entry: blog from jupyter'\n",
    "[master 6b7460a] new blog entry: blog from jupyter\n",
    " 4 files changed, 516 insertions(+)\n",
    " create mode 100644 _posts/.ipynb_checkpoints/2020-09-10-blog-from-jupyter-checkpoint.ipynb\n",
    " create mode 100644 _posts/2020-09-10-blog-from-jupyter.ipynb\n",
    " create mode 100644 _posts/2020-09-10-blog-from-jupyter.py\n",
    " create mode 100644 _posts/Untitled.txt\n",
    "(base) guillaume@LL11LPC0PQARQ:~/git/castorfou.github.io$ git push\n",
    "fatal: unable to access 'https://github.com/castorfou/castorfou.github.io.git/': gnutls_handshake() failed: The TLS connection was non-properly terminated.\n",
    "```"
   ]
  },
  {
   "cell_type": "markdown",
   "metadata": {},
   "source": [
    "### error: gnutls_handshake() failed: The TLS connection was non-properly terminated."
   ]
  },
  {
   "cell_type": "markdown",
   "metadata": {},
   "source": [
    "Just googling this error gives some insight: https://github.community/t/unable-to-push-to-repo-gnutls-handshake-failed/885\n",
    "\n",
    "It is likely some local firewell issue. \n",
    "\n",
    "{% include alert.html text=\"To be fixed later\" %}"
   ]
  },
  {
   "cell_type": "markdown",
   "metadata": {},
   "source": [
    "### switch to mobile wifi without need of proxy"
   ]
  },
  {
   "cell_type": "markdown",
   "metadata": {},
   "source": [
    "```bash\n",
    "(base) guillaume@LL11LPC0PQARQ:~/git/castorfou.github.io$ unsetproxy\n",
    "(base) guillaume@LL11LPC0PQARQ:~/git/castorfou.github.io$ git push\n",
    "Username for 'https://github.com': castorfou\n",
    "Password for 'https://castorfou@github.com':\n",
    "Counting objects: 7, done.\n",
    "Delta compression using up to 8 threads.\n",
    "Compressing objects: 100% (6/6), done.\n",
    "Writing objects: 100% (7/7), 141.26 KiB | 10.09 MiB/s, done.\n",
    "Total 7 (delta 1), reused 0 (delta 0)\n",
    "remote: Resolving deltas: 100% (1/1), completed with 1 local object.\n",
    "remote:\n",
    "remote: GitHub found 3 vulnerabilities on castorfou/castorfou.github.io's default branch (2 high, 1 moderate). To find out more, visit:\n",
    "remote:      https://github.com/castorfou/castorfou.github.io/network/alerts\n",
    "remote:\n",
    "To https://github.com/castorfou/castorfou.github.io.git\n",
    "   6adeb02..6b7460a  master -> master\n",
    "```"
   ]
  },
  {
   "cell_type": "markdown",
   "metadata": {},
   "source": [
    "## check entries into blog"
   ]
  },
  {
   "cell_type": "markdown",
   "metadata": {},
   "source": [
    "### double entries"
   ]
  },
  {
   "cell_type": "markdown",
   "metadata": {},
   "source": [
    "Double entries: one for the notebook (.ipynb) and one for the auto python export (.py).\n",
    "I will have to update my jupyter settings to avoid this python file creation.\n",
    "In the meantime I can just delete the python file, and commit.\n",
    "\n",
    "{% include alert.html text=\"Change settings of jupyter + `.gitignore` to avoid these double entries\" %}\n"
   ]
  },
  {
   "cell_type": "markdown",
   "metadata": {},
   "source": [
    "### cannot open notebook into browser"
   ]
  },
  {
   "cell_type": "markdown",
   "metadata": {},
   "source": [
    "Clicking just ask me to download the notebook, it doesn't display it into the browser."
   ]
  },
  {
   "cell_type": "markdown",
   "metadata": {},
   "source": [
    "### checking .gitignore"
   ]
  },
  {
   "cell_type": "markdown",
   "metadata": {
    "ExecuteTime": {
     "end_time": "2020-09-10T07:17:52.493981Z",
     "start_time": "2020-09-10T07:17:52.488840Z"
    }
   },
   "source": [
    "Just by looking into `.gitignore`, there is an interesting entry:\n",
    "``` \n",
    "*.swp\n",
    "~*\n",
    "*~\n",
    "_site\n",
    ".sass-cache\n",
    ".jekyll-cache\n",
    ".jekyll-metadata\n",
    "vendor\n",
    "_notebooks/.ipynb_checkpoints\n",
    "```\n",
    "\n",
    "Wait what is in this last line.\n",
    "\n",
    "Let's create `_notebooks` directory and move my notebook in that directory."
   ]
  },
  {
   "cell_type": "markdown",
   "metadata": {},
   "source": [
    "### notebooks from _notebooks not rendered"
   ]
  },
  {
   "cell_type": "markdown",
   "metadata": {},
   "source": [
    "No entries, I guess there is some additional settings to do...\n",
    "\n",
    "{% include alert.html text=\"Why notebooks are not rendered by Jekyl\" %}"
   ]
  },
  {
   "cell_type": "markdown",
   "metadata": {},
   "source": [
    "### test entry from md using local repo"
   ]
  },
  {
   "cell_type": "markdown",
   "metadata": {},
   "source": [
    "There is no problem with that.\n",
    "\n",
    "Creating a local md file in `_posts`then pushing to github is creating the right entry blog.\n",
    "\n"
   ]
  },
  {
   "cell_type": "markdown",
   "metadata": {},
   "source": [
    "### following fastpages [troubleshooting guide](https://github.com/fastai/fastpages/blob/master/_fastpages_docs/TROUBLESHOOTING.md)"
   ]
  },
  {
   "cell_type": "markdown",
   "metadata": {},
   "source": [
    "#### upgrade fastpages"
   ]
  },
  {
   "cell_type": "markdown",
   "metadata": {},
   "source": [
    "Try the automated upgrade as described in https://github.com/fastai/fastpages/blob/master/_fastpages_docs/UPGRADE.md\n",
    "\n",
    "Unfortunately I don't see \n",
    "\n",
    "I have to follow the manual upgrade."
   ]
  },
  {
   "cell_type": "markdown",
   "metadata": {},
   "source": [
    "#### [manual fastpages upgrade](https://github.com/fastai/fastpages/blob/master/_fastpages_docs/UPGRADE.md#manual-upgrade)"
   ]
  },
  {
   "cell_type": "markdown",
   "metadata": {
    "ExecuteTime": {
     "end_time": "2020-09-11T06:20:37.394670Z",
     "start_time": "2020-09-11T06:20:37.389139Z"
    }
   },
   "source": [
    "I am surprised because the 1st step from manual upgrade is to copy the fastpages repo. It is what I did 2 days ago. I doubt having an outdated version of fastpages."
   ]
  },
  {
   "cell_type": "markdown",
   "metadata": {},
   "source": [
    "### fastai forum: [fastpages category](https://forums.fast.ai/c/fastai-users/nbdev/48)"
   ]
  },
  {
   "cell_type": "markdown",
   "metadata": {},
   "source": [
    "I will browse through [nbdev & faspages category](https://forums.fast.ai/c/fastai-users/nbdev/48) in fastai forums. I should see people with the same issue."
   ]
  },
  {
   "cell_type": "markdown",
   "metadata": {},
   "source": [
    "I have created an entry, into fastai forums: [Fastpages - cannot see build process of GitHub Actions](https://forums.fast.ai/t/fastpages-cannot-see-build-process-of-github-actions/78719)"
   ]
  },
  {
   "cell_type": "markdown",
   "metadata": {},
   "source": [
    "And quite immediately Hamel Hussain answered guiding to the write direction:\n",
    "\n",
    "I misread the Settings instruction: my github repo should explicitely *NOT* include my github username and I did exactly the opposite.\n",
    "\n",
    "\n",
    "{% include alert.html text=\"I have to create a new repo: guillaume_blog\" %}"
   ]
  },
  {
   "cell_type": "markdown",
   "metadata": {},
   "source": [
    "### nothing visible from Actions tab"
   ]
  },
  {
   "cell_type": "markdown",
   "metadata": {},
   "source": [
    "And another surprising subject: at github in Actions tab. I have a kind of default page. I expect something like an execution journal of Actions.\n"
   ]
  },
  {
   "cell_type": "markdown",
   "metadata": {},
   "source": [
    "### Page build failure\n",
    "\n",
    "Received a notification by email:\n",
    "\n"
   ]
  },
  {
   "cell_type": "markdown",
   "metadata": {},
   "source": [
    "The page build failed for the `master` branch with the following error:\n",
    "\n",
    "Page build failed. For more information, see https://docs.github.com/github/working-with-github-pages/troubleshooting-jekyll-build-errors-for-github-pages-sites#troubleshooting-build-errors.\n",
    "\n",
    "For information on troubleshooting Jekyll see:\n",
    "\n",
    "  https://docs.github.com/articles/troubleshooting-jekyll-builds\n",
    "\n",
    "If you have any questions you can submit a request on the Contact GitHub page at https://support.github.com/contact?repo_id=293820308&page_build_id=202240535\n"
   ]
  },
  {
   "cell_type": "markdown",
   "metadata": {},
   "source": [
    "## Move to another repo"
   ]
  },
  {
   "cell_type": "markdown",
   "metadata": {},
   "source": [
    "### repo creation"
   ]
  },
  {
   "cell_type": "markdown",
   "metadata": {},
   "source": [
    "It was just a matter of creating a new repo: \n"
   ]
  },
  {
   "cell_type": "markdown",
   "metadata": {},
   "source": [
    "### actions monitoring"
   ]
  },
  {
   "cell_type": "markdown",
   "metadata": {},
   "source": [
    "Monitoring is effective\n"
   ]
  },
  {
   "cell_type": "markdown",
   "metadata": {},
   "source": [
    "### merge pull request"
   ]
  },
  {
   "cell_type": "markdown",
   "metadata": {},
   "source": [
    "#### actions around ssh keys"
   ]
  },
  {
   "cell_type": "markdown",
   "metadata": {
    "ExecuteTime": {
     "end_time": "2020-09-11T12:46:12.985532Z",
     "start_time": "2020-09-11T12:46:12.980431Z"
    }
   },
   "source": [
    "Following the steps:\n",
    "- Create keys using [ssh utility](https://8gwifi.org/sshfunctions.jsp)\n",
    "- Enter Secret Key\n",
    "- Enter Deploy Key\n",
    "    "
   ]
  },
  {
   "cell_type": "markdown",
   "metadata": {},
   "source": [
    "#### merge PR"
   ]
  },
  {
   "cell_type": "markdown",
   "metadata": {
    "ExecuteTime": {
     "end_time": "2020-09-11T12:51:13.116369Z",
     "start_time": "2020-09-11T12:51:13.111285Z"
    }
   },
   "source": [
    "There are conflicts to be fixed before that."
   ]
  },
  {
   "cell_type": "markdown",
   "metadata": {},
   "source": [
    "### And it works: [https://castorfou.github.io/guillaume_blog/](https://castorfou.github.io/guillaume_blog/)"
   ]
  },
  {
   "cell_type": "markdown",
   "metadata": {},
   "source": [
    "## Get local repo"
   ]
  },
  {
   "cell_type": "markdown",
   "metadata": {},
   "source": [
    "```\n",
    "cd ~/git\n",
    "unsetproxy\n",
    "git clone https://github.com/castorfou/guillaume_blog.git\n",
    "```\n"
   ]
  },
  {
   "cell_type": "code",
   "execution_count": null,
   "metadata": {},
   "outputs": [],
   "source": []
  }
 ],
 "metadata": {
  "kernelspec": {
   "display_name": "Python 3",
   "language": "python",
   "name": "python3"
  },
  "language_info": {
   "codemirror_mode": {
    "name": "ipython",
    "version": 3
   },
   "file_extension": ".py",
   "mimetype": "text/x-python",
   "name": "python",
   "nbconvert_exporter": "python",
   "pygments_lexer": "ipython3",
   "version": "3.8.2"
  },
  "toc": {
   "base_numbering": 1,
   "nav_menu": {},
   "number_sections": true,
   "sideBar": true,
   "skip_h1_title": false,
   "title_cell": "Table of Contents",
   "title_sidebar": "Contents",
   "toc_cell": false,
   "toc_position": {
    "height": "calc(100% - 180px)",
    "left": "10px",
    "top": "150px",
    "width": "345.188px"
   },
   "toc_section_display": true,
   "toc_window_display": true
  },
  "varInspector": {
   "cols": {
    "lenName": 16,
    "lenType": 16,
    "lenVar": 40
   },
   "kernels_config": {
    "python": {
     "delete_cmd_postfix": "",
     "delete_cmd_prefix": "del ",
     "library": "var_list.py",
     "varRefreshCmd": "print(var_dic_list())"
    },
    "r": {
     "delete_cmd_postfix": ") ",
     "delete_cmd_prefix": "rm(",
     "library": "var_list.r",
     "varRefreshCmd": "cat(var_dic_list()) "
    }
   },
   "types_to_exclude": [
    "module",
    "function",
    "builtin_function_or_method",
    "instance",
    "_Feature"
   ],
   "window_display": false
  }
 },
 "nbformat": 4,
 "nbformat_minor": 4
}
