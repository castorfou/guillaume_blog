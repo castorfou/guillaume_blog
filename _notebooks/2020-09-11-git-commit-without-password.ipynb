{
 "cells": [
  {
   "cell_type": "markdown",
   "metadata": {},
   "source": [
    "# Git push to github without password\n",
    "> \"how to move from https to git to push to github, using ssh keys to authenticate\"\n",
    "\n",
    "- show_tags: true\n",
    "- toc: true\n",
    "- branch: master\n",
    "- badges: false\n",
    "- comments: true\n",
    "- categories: [git]\n",
    "- image: images/git.png"
   ]
  },
  {
   "cell_type": "markdown",
   "metadata": {
    "ExecuteTime": {
     "end_time": "2020-09-11T16:29:08.882437Z",
     "start_time": "2020-09-11T16:29:08.877507Z"
    }
   },
   "source": [
    "By default everytime I push to github, I have a prompt asking for password.\n",
    "\n",
    "```bash\n",
    "(xgboost) guillaume@LL11LPC0PQARQ:~/git/guillaume_blog$ git push\n",
    "Username for 'https://github.com': castorfou\n",
    "Password for 'https://castorfou@github.com': \n",
    "Everything up-to-date\n",
    "```\n"
   ]
  },
  {
   "cell_type": "markdown",
   "metadata": {},
   "source": [
    "Would be great if I could leverage ssh keys to authenticate."
   ]
  },
  {
   "cell_type": "markdown",
   "metadata": {},
   "source": [
    "## Update remote from https to ssh"
   ]
  },
  {
   "cell_type": "markdown",
   "metadata": {},
   "source": [
    "From [https://stackoverflow.com/questions/14762034/push-to-github-without-a-password-using-ssh-key](https://stackoverflow.com/questions/14762034/push-to-github-without-a-password-using-ssh-key), \n",
    "\n",
    "```\n",
    "For example, a GitHub project like Git will have an HTTPS URL:\n",
    "\n",
    "https://github.com/<Username>/<Project>.git\n",
    "And the SSH one:\n",
    "\n",
    "git@github.com:<Username>/<Project>.git\n",
    "You can do:\n",
    "\n",
    "git remote set-url origin git@github.com:<Username>/<Project>.git\n",
    "to change the URL.\n",
    "```\n"
   ]
  },
  {
   "cell_type": "markdown",
   "metadata": {},
   "source": [
    "In my case I have\n",
    "\n",
    "```bash\n",
    "(xgboost) guillaume@LL11LPC0PQARQ:~/git/guillaume_blog$ git remote -v\n",
    "origin  https://github.com/castorfou/guillaume_blog.git (fetch)\n",
    "origin  https://github.com/castorfou/guillaume_blog.git (push)\n",
    "```\n",
    "\n"
   ]
  },
  {
   "cell_type": "markdown",
   "metadata": {},
   "source": [
    "I have just to modify:\n",
    "\n",
    "```\n",
    "git remote set-url origin git@github.com:castorfou/guillaume_blog.git\n",
    "```\n"
   ]
  },
  {
   "cell_type": "markdown",
   "metadata": {},
   "source": [
    "## Results"
   ]
  },
  {
   "cell_type": "markdown",
   "metadata": {},
   "source": [
    "It looks like working:\n",
    "    \n",
    "```\n",
    "(xgboost) guillaume@LL11LPC0PQARQ:~/git/guillaume_blog$ git push\n",
    "Counting objects: 4, done.\n",
    "Delta compression using up to 8 threads.\n",
    "Compressing objects: 100% (4/4), done.\n",
    "Writing objects: 100% (4/4), 1.59 KiB | 812.00 KiB/s, done.\n",
    "Total 4 (delta 2), reused 0 (delta 0)\n",
    "remote: Resolving deltas: 100% (2/2), completed with 2 local objects.\n",
    "To github.com:castorfou/guillaume_blog.git\n",
    "   4013108..ae78b99  master -> master\n",
    "```"
   ]
  },
  {
   "cell_type": "markdown",
   "metadata": {},
   "source": [
    "## Drawback: doesn't work behing a firewall"
   ]
  },
  {
   "cell_type": "markdown",
   "metadata": {},
   "source": [
    "{% include alert.html text=\"To find a solution to use a proxy\" %}"
   ]
  },
  {
   "cell_type": "markdown",
   "metadata": {},
   "source": [
    "Here are 2 ways to be tested: \n",
    "https://stackoverflow.com/questions/1728934/accessing-a-git-repository-via-ssh-behind-a-firewall\n",
    "https://stackoverflow.com/questions/18604719/how-to-configure-git-to-clone-repo-from-github-behind-a-proxy-server?noredirect=1&lq=1"
   ]
  },
  {
   "cell_type": "code",
   "execution_count": null,
   "metadata": {},
   "outputs": [],
   "source": []
  }
 ],
 "metadata": {
  "kernelspec": {
   "display_name": "Python 3",
   "language": "python",
   "name": "python3"
  },
  "language_info": {
   "codemirror_mode": {
    "name": "ipython",
    "version": 3
   },
   "file_extension": ".py",
   "mimetype": "text/x-python",
   "name": "python",
   "nbconvert_exporter": "python",
   "pygments_lexer": "ipython3",
   "version": "3.8.2"
  },
  "toc": {
   "base_numbering": 1,
   "nav_menu": {},
   "number_sections": true,
   "sideBar": true,
   "skip_h1_title": false,
   "title_cell": "Table of Contents",
   "title_sidebar": "Contents",
   "toc_cell": false,
   "toc_position": {},
   "toc_section_display": true,
   "toc_window_display": false
  },
  "varInspector": {
   "cols": {
    "lenName": 16,
    "lenType": 16,
    "lenVar": 40
   },
   "kernels_config": {
    "python": {
     "delete_cmd_postfix": "",
     "delete_cmd_prefix": "del ",
     "library": "var_list.py",
     "varRefreshCmd": "print(var_dic_list())"
    },
    "r": {
     "delete_cmd_postfix": ") ",
     "delete_cmd_prefix": "rm(",
     "library": "var_list.r",
     "varRefreshCmd": "cat(var_dic_list()) "
    }
   },
   "types_to_exclude": [
    "module",
    "function",
    "builtin_function_or_method",
    "instance",
    "_Feature"
   ],
   "window_display": false
  }
 },
 "nbformat": 4,
 "nbformat_minor": 4
}
