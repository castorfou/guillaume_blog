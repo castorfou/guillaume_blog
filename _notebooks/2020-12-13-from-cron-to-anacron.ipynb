{
 "cells": [
  {
   "cell_type": "markdown",
   "metadata": {},
   "source": [
    "# \"From cron to anacron\"\n",
    "> \"execute recurrent scripts with anacron to deal with missed jobs (system off)\"\n",
    "- show_tags: true\n",
    "- toc: true\n",
    "- branch: master\n",
    "- badges: false\n",
    "- comments: true\n",
    "- categories: [ubuntu, cron]"
   ]
  },
  {
   "cell_type": "markdown",
   "metadata": {},
   "source": [
    "# Current config\n",
    "\n",
    "I run `generate_plots.sh` daily at 9:30 AM.\n",
    "However what happens if my PC is off at that time, will have to wait another uptime at 9:30 AM.\n",
    "\n",
    "Solution is to move from cron to anacron.\n",
    "\n",
    "From https://www.putorius.net/cron-vs-anacron.html:\n",
    "\n",
    "![alt text](../images/cron_vs_anacron.png \"Cron vs Anacron!\")"
   ]
  },
  {
   "cell_type": "markdown",
   "metadata": {},
   "source": [
    "# Anacron as user\n",
    "\n",
    "Anacron is already setup on ubuntu. Actually cron.daily is managed by anacron therefore everything under `/etc/cron.daily` is run even if your system was off at the time by crontab.\n",
    "\n",
    "But it is true for root, and has to be setup for users."
   ]
  },
  {
   "cell_type": "markdown",
   "metadata": {},
   "source": [
    "I will follow these recommandations: https://askubuntu.com/a/235090"
   ]
  },
  {
   "cell_type": "markdown",
   "metadata": {},
   "source": [
    "## .anacron folders\n",
    "\n",
    "Create a `.anacron` folder in your home directory and in it two subfolders, `etc` and `spool`"
   ]
  },
  {
   "cell_type": "code",
   "execution_count": 1,
   "metadata": {
    "ExecuteTime": {
     "end_time": "2020-12-13T09:51:10.909178Z",
     "start_time": "2020-12-13T09:51:10.800376Z"
    }
   },
   "outputs": [],
   "source": [
    "!mkdir -p ~/.anacron/{etc,spool}"
   ]
  },
  {
   "cell_type": "markdown",
   "metadata": {},
   "source": [
    "## anacrontab\n",
    "\n",
    "Create a new file `~/.anacron/etc/anacrontab` with the following content:\n",
    "\n",
    "``` bash\n",
    "# ~/.anacron/etc/anacrontab: configuration file for anacron\n",
    "\n",
    "# See anacron(8) and anacrontab(5) for details.\n",
    "\n",
    "SHELL=/bin/bash\n",
    "PATH=/usr/local/sbin:/usr/local/bin:/sbin:/bin:/usr/sbin:/usr/bin:/home/explore/miniconda3/bin:/home/explore/miniconda3/condabin:/home/explore/.local/bin:/usr/local/sbin:/usr/local/bin:/usr/sbin:/usr/bin:/sbin:/bin:/usr/games:/usr/local/games:/snap/bin\n",
    "\n",
    "# period  delay  job-identifier  command\n",
    "1         10     squeezebox         ~/git/guillaume/squeezebox/generate_plots.sh\n",
    "``` "
   ]
  },
  {
   "cell_type": "markdown",
   "metadata": {},
   "source": [
    "## start anacron"
   ]
  },
  {
   "cell_type": "markdown",
   "metadata": {},
   "source": [
    "Add the following line to your crontab using `crontab -e`:\n",
    "\n",
    "``` bash\n",
    "@hourly /usr/sbin/anacron -s -t $HOME/.anacron/etc/anacrontab -S $HOME/.anacron/spool\n",
    "```\n",
    "\n",
    "And remove squeezebox entry from crontab."
   ]
  },
  {
   "cell_type": "code",
   "execution_count": 2,
   "metadata": {
    "ExecuteTime": {
     "end_time": "2020-12-13T09:57:29.534907Z",
     "start_time": "2020-12-13T09:57:29.425155Z"
    }
   },
   "outputs": [
    {
     "name": "stdout",
     "output_type": "stream",
     "text": [
      "# NVIDIA SDK Manager updater\r\n",
      "# NVIDIA SDK Manager updater\r\n",
      "0 12 */7 * * /bin/bash /home/explore/.nvsdkm/.updater/updater.sh\r\n",
      "#30 9 * * * ~/git/guillaume/squeezebox/generate_plots.sh\r\n",
      "@hourly /usr/sbin/anacron -s -t $HOME/.anacron/etc/anacrontab -S $HOME/.anacron/spool\r\n"
     ]
    }
   ],
   "source": [
    "!crontab -l"
   ]
  },
  {
   "cell_type": "code",
   "execution_count": null,
   "metadata": {},
   "outputs": [],
   "source": []
  }
 ],
 "metadata": {
  "kernelspec": {
   "display_name": "Python [conda env:squeezebox]",
   "language": "python",
   "name": "conda-env-squeezebox-py"
  },
  "language_info": {
   "codemirror_mode": {
    "name": "ipython",
    "version": 3
   },
   "file_extension": ".py",
   "mimetype": "text/x-python",
   "name": "python",
   "nbconvert_exporter": "python",
   "pygments_lexer": "ipython3",
   "version": "3.7.9"
  },
  "toc": {
   "base_numbering": 1,
   "nav_menu": {},
   "number_sections": true,
   "sideBar": true,
   "skip_h1_title": false,
   "title_cell": "Table of Contents",
   "title_sidebar": "Contents",
   "toc_cell": false,
   "toc_position": {},
   "toc_section_display": true,
   "toc_window_display": true
  }
 },
 "nbformat": 4,
 "nbformat_minor": 4
}
