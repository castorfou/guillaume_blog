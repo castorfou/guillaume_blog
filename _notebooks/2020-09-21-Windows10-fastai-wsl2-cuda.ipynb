{
 "cells": [
  {
   "cell_type": "markdown",
   "metadata": {},
   "source": [
    "# Fastai on WSL 2 with Cuda\n",
    "> \"how to **NOT** get an operational corporate workstation with windows 10, cuda, wsl2, fastai, pytorch...\"\n",
    "- show_tags: true\n",
    "- toc: true\n",
    "- branch: master\n",
    "- badges: false\n",
    "- comments: true\n",
    "- categories: [WSL, fastai, WSL2, cuda]"
   ]
  },
  {
   "cell_type": "markdown",
   "metadata": {},
   "source": [
    "\n",
    "This is based on what is explained in\n",
    "https://forums.fast.ai/t/fastai-on-wsl-2-ubuntu-0-7-0-or-any-version/76651"
   ]
  },
  {
   "cell_type": "markdown",
   "metadata": {},
   "source": [
    "## install update of nvidia drivers"
   ]
  },
  {
   "cell_type": "markdown",
   "metadata": {},
   "source": [
    "Based on [Deep Learning Course Forums\n",
    "Platform: Windows 10 using WSL2 w/GPU\n",
    "fastai users\n",
    "](https://forums.fast.ai/t/platform-windows-10-using-wsl2-w-gpu/73521)"
   ]
  },
  {
   "cell_type": "markdown",
   "metadata": {},
   "source": [
    "- create nvidia account\n",
    "- download quadro driver from https://developer.nvidia.com/cuda/wsl/download (460.15)\n",
    "- install\n"
   ]
  },
  {
   "cell_type": "markdown",
   "metadata": {
    "ExecuteTime": {
     "end_time": "2020-09-21T14:00:34.766333Z",
     "start_time": "2020-09-21T14:00:24.239809Z"
    }
   },
   "source": [
    "```bash\n",
    "(xgboost) guillaume@LL11LPC0PQARQ:~/git/guillaume_blog$ nvidia-smi.exe\n",
    "Mon Sep 21 16:00:46 2020\n",
    "+-----------------------------------------------------------------------------+\n",
    "| NVIDIA-SMI 460.15       Driver Version: 460.15       CUDA Version: 11.1     |\n",
    "|-------------------------------+----------------------+----------------------+\n",
    "| GPU  Name            TCC/WDDM | Bus-Id        Disp.A | Volatile Uncorr. ECC |\n",
    "| Fan  Temp  Perf  Pwr:Usage/Cap|         Memory-Usage | GPU-Util  Compute M. |\n",
    "|===============================+======================+======================|\n",
    "|   0  Quadro M1000M      WDDM  | 00000000:01:00.0  On |                  N/A |\n",
    "| N/A   59C    P0    N/A /  N/A |    905MiB /  4096MiB |      0%      Default |\n",
    "+-------------------------------+----------------------+----------------------+\n",
    "\n",
    "```"
   ]
  },
  {
   "cell_type": "markdown",
   "metadata": {},
   "source": [
    "## install of WSL2 and convert existing images"
   ]
  },
  {
   "cell_type": "markdown",
   "metadata": {},
   "source": [
    "Open a PowerShell window as an Administrator\n",
    "\n",
    "Run wsl --set-default-version 2"
   ]
  },
  {
   "cell_type": "markdown",
   "metadata": {},
   "source": [
    "### update KB\n",
    "\n",
    "{% include alert.html text=\"--set-default-version 2 is not a valid option. KB4566116 should be installed\" %}\n",
    "\n",
    "This can be downloaded from [Catalog Microsoft Update](http://www.catalog.update.microsoft.com/Search.aspx?q=KB4566116)"
   ]
  },
  {
   "cell_type": "markdown",
   "metadata": {},
   "source": [
    "### update kernel version"
   ]
  },
  {
   "cell_type": "markdown",
   "metadata": {},
   "source": [
    "If you see this message after running the command: WSL 2 requires an update to its kernel component. For information please visit https://aka.ms/wsl2kernel. You still need to install the MSI Linux kernel update package."
   ]
  },
  {
   "cell_type": "markdown",
   "metadata": {},
   "source": [
    "Download from https://docs.microsoft.com/en-us/windows/wsl/install-win10#step-4---download-the-linux-kernel-update-package"
   ]
  },
  {
   "cell_type": "markdown",
   "metadata": {},
   "source": [
    "### set default WSL to be version 2"
   ]
  },
  {
   "cell_type": "markdown",
   "metadata": {},
   "source": [
    "```\n",
    "PS C:\\WINDOWS\\system32> wsl --set-default-version 2\n",
    "```"
   ]
  },
  {
   "cell_type": "markdown",
   "metadata": {},
   "source": [
    "### convert existing images\n"
   ]
  },
  {
   "cell_type": "markdown",
   "metadata": {},
   "source": [
    "```\n",
    "PS C:\\WINDOWS\\system32> wsl --list --verbose\n",
    "  NAME            STATE           VERSION\n",
    "* Ubuntu-18.04    Running         1\n",
    "PS C:\\WINDOWS\\system32> wsl --set-version Ubuntu-18.04 2\n",
    "La conversion est en cours. Cette opération peut prendre quelques minutes...\n",
    "Pour plus d’informations sur les différences de clés avec WSL 2, visitez https://aka.ms/wsl2\n",
    "La conversion est terminée.\n",
    "```\n",
    "\n",
    "It took a while (~1 hour) for my unique ubuntu image.\n"
   ]
  },
  {
   "cell_type": "markdown",
   "metadata": {},
   "source": [
    "And at the end it has worked.\n",
    "\n",
    "```\n",
    "PS C:\\WINDOWS\\system32> wsl --list --verbose\n",
    "  NAME            STATE           VERSION\n",
    "* Ubuntu-18.04    Stopped         2\n",
    "```\n"
   ]
  },
  {
   "cell_type": "markdown",
   "metadata": {},
   "source": [
    "## install of nvidia drivers under ubuntu"
   ]
  },
  {
   "cell_type": "markdown",
   "metadata": {},
   "source": [
    "[Installation instructions)(https://developer.nvidia.com/cuda-downloads?target_os=Linux&target_arch=x86_64&target_distro=Ubuntu&target_version=1804&target_type=deblocal)\n",
    "\n",
    "```bash\n",
    "wget https://developer.download.nvidia.com/compute/cuda/repos/ubuntu1804/x86_64/cuda-ubuntu1804.pin\n",
    "sudo mv cuda-ubuntu1804.pin /etc/apt/preferences.d/cuda-repository-pin-600\n",
    "wget https://developer.download.nvidia.com/compute/cuda/11.0.3/local_installers/cuda-repo-ubuntu1804-11-0-local_11.0.3-450.51.06-1_amd64.deb\n",
    "sudo dpkg -i cuda-repo-ubuntu1804-11-0-local_11.0.3-450.51.06-1_amd64.deb\n",
    "sudo apt-key add /var/cuda-repo-ubuntu1804-11-0-local/7fa2af80.pub\n",
    "sudo apt-get update\n",
    "sudo apt-get -y install cuda\n",
    "```\n"
   ]
  },
  {
   "cell_type": "code",
   "execution_count": 3,
   "metadata": {
    "ExecuteTime": {
     "end_time": "2020-09-21T16:10:38.844488Z",
     "start_time": "2020-09-21T16:10:38.721429Z"
    }
   },
   "outputs": [
    {
     "name": "stdout",
     "output_type": "stream",
     "text": [
      "CUDA Version 11.0.228\r\n"
     ]
    }
   ],
   "source": [
    "!cat /usr/local/cuda/version.txt"
   ]
  },
  {
   "cell_type": "code",
   "execution_count": 3,
   "metadata": {
    "ExecuteTime": {
     "end_time": "2020-09-22T10:15:27.714558Z",
     "start_time": "2020-09-22T10:15:27.591879Z"
    }
   },
   "outputs": [
    {
     "name": "stdout",
     "output_type": "stream",
     "text": [
      "[/usr/local/cuda/samples/4_Finance/BlackScholes/BlackScholes] - Starting...\r\n",
      "CUDA error at ../../common/inc/helper_cuda.h:777 code=35(cudaErrorInsufficientDriver) \"cudaGetDeviceCount(&device_count)\" \r\n"
     ]
    }
   ],
   "source": [
    "!/usr/local/cuda/samples/4_Finance/BlackScholes/BlackScholes"
   ]
  },
  {
   "cell_type": "markdown",
   "metadata": {},
   "source": [
    "There is an error when launching CUDA samples. Googling that error maybe my video card is running on low driver version?"
   ]
  },
  {
   "cell_type": "markdown",
   "metadata": {},
   "source": [
    "I have posted on nvidia (cuda+wsl) forum: https://forums.developer.nvidia.com/t/cuda-sample-throwing-error/142537/18"
   ]
  },
  {
   "cell_type": "markdown",
   "metadata": {},
   "source": [
    "(update 09-22: it is not possible to have cuda on wsl2 if not in Windows Insider build from Dev Channel. (20145 or higher))\n",
    "\n",
    "{% include alert.html text=\"because I am in version 1909 (**18363**.1049), it won't work for me. ;(\" %}"
   ]
  },
  {
   "cell_type": "markdown",
   "metadata": {},
   "source": [
    "### cuda for WSL"
   ]
  },
  {
   "cell_type": "markdown",
   "metadata": {
    "ExecuteTime": {
     "end_time": "2020-09-22T10:12:47.857131Z",
     "start_time": "2020-09-22T10:12:47.852515Z"
    }
   },
   "source": [
    "Here is a link that could be interesting: https://docs.nvidia.com/cuda/wsl-user-guide/index.html"
   ]
  },
  {
   "cell_type": "markdown",
   "metadata": {},
   "source": [
    "According to this, I should not have installed cuda but cuda-toolkit. \n",
    "`Do not choose the cuda, cuda-11-0, or cuda-drivers meta-packages under WSL 2 since these packages will result in an attempt to install the Linux NVIDIA driver under WSL 2.`\n",
    "\n",
    "Is it causing my issue?\n",
    "```bash\n",
    "apt-get install -y cuda-toolkit-11-0\n",
    "```"
   ]
  },
  {
   "cell_type": "code",
   "execution_count": 4,
   "metadata": {
    "ExecuteTime": {
     "end_time": "2020-09-22T10:17:56.156373Z",
     "start_time": "2020-09-22T10:17:56.037053Z"
    }
   },
   "outputs": [
    {
     "name": "stdout",
     "output_type": "stream",
     "text": [
      "nvcc: NVIDIA (R) Cuda compiler driver\r\n",
      "Copyright (c) 2005-2020 NVIDIA Corporation\r\n",
      "Built on Wed_Jul_22_19:09:09_PDT_2020\r\n",
      "Cuda compilation tools, release 11.0, V11.0.221\r\n",
      "Build cuda_11.0_bu.TC445_37.28845127_0\r\n"
     ]
    }
   ],
   "source": [
    "!/usr/local/cuda/bin/nvcc --version"
   ]
  },
  {
   "cell_type": "markdown",
   "metadata": {},
   "source": [
    "## install a new distro (ubuntu 20.04)"
   ]
  },
  {
   "cell_type": "markdown",
   "metadata": {},
   "source": [
    "Because I cannot use windows store, I have to manually install https://docs.microsoft.com/fr-fr/windows/wsl/install-manual"
   ]
  },
  {
   "cell_type": "markdown",
   "metadata": {},
   "source": [
    "Installation by just launching Ubuntu_2004.2020.424.0_x64.appx.\n",
    "\n",
    "I have now 2 distros, \n",
    "```\n",
    "PS C:\\WINDOWS\\system32> wsl --list -v\n",
    "  NAME            STATE           VERSION\n",
    "* Ubuntu-18.04    Running         2\n",
    "  Ubuntu-20.04    Running         2\n",
    "```"
   ]
  },
  {
   "cell_type": "markdown",
   "metadata": {},
   "source": [
    "## WSL2 and network"
   ]
  },
  {
   "cell_type": "markdown",
   "metadata": {},
   "source": [
    "There is a change of network architecture between WSL 1 and WSL 2.\n",
    "In WSL 2, a new network interface is available: \n",
    "\n",
    "```\n",
    "Carte Ethernet vEthernet (WSL) :\n",
    "\n",
    "   Suffixe DNS propre à la connexion. . . :\n",
    "   Adresse IPv6 de liaison locale. . . . .: \n",
    "   Adresse IPv4. . . . . . . . . . . . . .: 192.168.81.193\n",
    "   Masque de sous-réseau. . . . . . . . . : 255.255.255.240\n",
    "   Passerelle par défaut. . . . . . . . . :\n",
    "```\n"
   ]
  },
  {
   "cell_type": "markdown",
   "metadata": {},
   "source": [
    "### Revert image to WSL1 to get back network access"
   ]
  },
  {
   "cell_type": "markdown",
   "metadata": {},
   "source": [
    "```\n",
    "PS C:\\WINDOWS\\system32> wsl --set-version Ubuntu-18.04 1\n",
    "La conversion est en cours. Cette opération peut prendre quelques minutes...\n",
    "La conversion est terminée.\n",
    "```\n",
    "\n",
    "```\n",
    "PS C:\\WINDOWS\\system32> wsl --list -v\n",
    "  NAME            STATE           VERSION\n",
    "* Ubuntu-18.04    Stopped         1\n",
    "  Ubuntu-20.04    Stopped         2\n",
    "```\n"
   ]
  },
  {
   "cell_type": "markdown",
   "metadata": {},
   "source": [
    "## access to linux files from windows"
   ]
  },
  {
   "cell_type": "markdown",
   "metadata": {
    "ExecuteTime": {
     "end_time": "2020-09-22T12:52:08.887844Z",
     "start_time": "2020-09-22T12:52:08.872270Z"
    }
   },
   "source": [
    "For running state distros:\n",
    "\n",
    "Files are available at `\\\\wsl$\\`.\n",
    "\n",
    "For stopped state distros:\n",
    "\n",
    "Files are available at `C:\\Users\\<users>\\AppData\\Local\\Packages\\CanonicalGroupLimited.Ubuntu*\\LocalState\\rootfs`"
   ]
  },
  {
   "cell_type": "markdown",
   "metadata": {},
   "source": [
    "## some usefull wsl commands"
   ]
  },
  {
   "cell_type": "markdown",
   "metadata": {},
   "source": [
    "**List distros**"
   ]
  },
  {
   "cell_type": "code",
   "execution_count": null,
   "metadata": {
    "ExecuteTime": {
     "end_time": "2021-04-08T08:58:10.160497Z",
     "start_time": "2021-04-08T08:58:09.910036Z"
    }
   },
   "outputs": [],
   "source": [
    "!wsl --list --verbose"
   ]
  },
  {
   "cell_type": "markdown",
   "metadata": {},
   "source": [
    "```bash\n",
    "  NAME            STATE           VERSION\n",
    "\n",
    "* Ubuntu-18.04    Running         1\n",
    "\n",
    "  Ubuntu-20.04    Stopped         2\n",
    "```"
   ]
  },
  {
   "cell_type": "markdown",
   "metadata": {},
   "source": [
    "**Stop a distro**"
   ]
  },
  {
   "cell_type": "code",
   "execution_count": 2,
   "metadata": {
    "ExecuteTime": {
     "end_time": "2021-04-08T08:57:48.052051Z",
     "start_time": "2021-04-08T08:57:47.779662Z"
    }
   },
   "outputs": [],
   "source": [
    "!wsl --terminate Ubuntu-18.04"
   ]
  },
  {
   "cell_type": "markdown",
   "metadata": {},
   "source": [
    "**Update dns settings**\n",
    "\n",
    "as explained [here](https://superuser.com/questions/1533291/how-do-i-change-the-dns-settings-for-wsl2)\n",
    "\n",
    "just switch from `generateResolvConf = true` to `generateResolvConf = false` in `/etc/wsl.conf` and edit `/etc/resolv.conf`\n"
   ]
  },
  {
   "cell_type": "markdown",
   "metadata": {},
   "source": [
    "But still have issues, mainly I think linked to Symantec Endpoint protection."
   ]
  },
  {
   "cell_type": "markdown",
   "metadata": {},
   "source": [
    "## Workaround network issue with WSL2"
   ]
  },
  {
   "cell_type": "markdown",
   "metadata": {},
   "source": [
    "https://github.com/sakai135/wsl-vpnkit"
   ]
  },
  {
   "cell_type": "markdown",
   "metadata": {},
   "source": [
    "### installation setup"
   ]
  },
  {
   "cell_type": "markdown",
   "metadata": {},
   "source": [
    "#### vpnkit\n",
    "\n",
    "install [docker](https://hub.docker.com/editions/community/docker-ce-desktop-windows/) for windows\n",
    "\n",
    "install genisoimage in ubuntu (from http://archive.ubuntu.com/ubuntu/pool/main/c/cdrkit/genisoimage_1.1.11-3.1ubuntu1_amd64.deb)\n",
    "\n",
    "install vpnkit\n",
    "```bash\n",
    "isoinfo -i /mnt/c/Program\\ Files/Docker/Docker/resources/wsl/docker-for-wsl.iso -R -x /containers/services/vpnkit-tap-vsockd/lower/sbin/vpnkit-tap-vsockd > ./vpnkit-tap-vsockd\n",
    "chmod +x vpnkit-tap-vsockd\n",
    "sudo mv vpnkit-tap-vsockd /sbin/vpnkit-tap-vsockd\n",
    "sudo chown root:root /sbin/vpnkit-tap-vsockd\n",
    "```"
   ]
  },
  {
   "cell_type": "markdown",
   "metadata": {},
   "source": [
    "#### npiperelay\n",
    "\n",
    "install unzip in ubuntu (from http://archive.ubuntu.com/ubuntu/pool/main/u/unzip/unzip_6.0-25ubuntu1_amd64.deb)\n",
    "\n",
    "download npiprelay (from https://github.com/jstarks/npiperelay/releases/download/v0.1.0/npiperelay_windows_amd64.zip\n",
    ")\n",
    "\n",
    "install npiprelay\n",
    "```bash\n",
    "unzip npiperelay_windows_amd64.zip npiperelay.exe\n",
    "rm npiperelay_windows_amd64.zip\n",
    "mkdir -p /mnt/c/bin\n",
    "mv npiperelay.exe /mnt/c/bin/\n",
    "sudo ln -s /mnt/c/bin/npiperelay.exe /usr/local/bin/npiperelay.exe\n",
    "```\n"
   ]
  },
  {
   "cell_type": "markdown",
   "metadata": {},
   "source": [
    "#### socat\n",
    "\n",
    "install socat in ubuntu (from http://archive.ubuntu.com/ubuntu/pool/main/s/socat/socat_1.7.3.3-2_amd64.deb)"
   ]
  },
  {
   "cell_type": "markdown",
   "metadata": {},
   "source": [
    "#### Configure DNS for WSL\n",
    "Disable WSL from generating and overwriting `/etc/resolv.conf`.\n",
    "\n",
    "```bash\n",
    "sudo tee /etc/wsl.conf <<EOL\n",
    "[network]\n",
    "generateResolvConf = false\n",
    "EOL\n",
    "```\n",
    "Manually set DNS servers to use when not running this script. 1.1.1.1 is provided as an example.\n",
    "\n",
    "```bash\n",
    "sudo tee /etc/resolv.conf <<EOL\n",
    "nameserver 1.1.1.1\n",
    "EOL\n",
    "```"
   ]
  },
  {
   "cell_type": "markdown",
   "metadata": {},
   "source": [
    "#### wsl-vpnkit\n",
    "\n",
    "from https://github.com/sakai135/wsl-vpnkit/archive/refs/heads/main.zip\n",
    "\n",
    "unzip ~/git/wsl-vpnkit-main.zip -d ~/Applications/wsl-vpnkit"
   ]
  },
  {
   "cell_type": "markdown",
   "metadata": {},
   "source": [
    "### execution\n",
    "\n",
    "```bash\n",
    "~/Applications/wsl-vpnkit/wsl-vpnkit-main$ sudo ./wsl-vpnkit\n",
    "```"
   ]
  },
  {
   "cell_type": "markdown",
   "metadata": {},
   "source": [
    "### proxychains\n",
    "\n",
    "I can now use proxychains and everything works beautifully ;)"
   ]
  },
  {
   "cell_type": "markdown",
   "metadata": {},
   "source": [
    "### clean from local deb install to ubuntu repo"
   ]
  },
  {
   "cell_type": "markdown",
   "metadata": {
    "ExecuteTime": {
     "end_time": "2021-04-09T12:20:02.788609Z",
     "start_time": "2021-04-09T12:20:02.680454Z"
    }
   },
   "source": [
    "```bash\n",
    "~/git$ ls *.deb\n",
    "genisoimage_1.1.11-3.1ubuntu1_amd64.deb                proxychains_3.1-8.1_all.deb\n",
    "libproxychains3_3.1-8.1_amd64.deb                      socat_1.7.3.3-2_amd64.deb\n",
    "net-tools_1.60+git20180626.aebd88e-1ubuntu1_amd64.deb  unzip_6.0-25ubuntu1_amd64.deb\n",
    "```"
   ]
  },
  {
   "cell_type": "markdown",
   "metadata": {},
   "source": [
    "```bash\n",
    "sudo apt remove genisoimage  net-tools  socat unzip\n",
    "sudo proxychains apt install genisoimage libproxychains3 net-tools proxychains socat unzip\n",
    "```"
   ]
  },
  {
   "cell_type": "markdown",
   "metadata": {},
   "source": [
    "I don't exactly see how to do it with proxychains."
   ]
  },
  {
   "cell_type": "code",
   "execution_count": null,
   "metadata": {},
   "outputs": [],
   "source": []
  }
 ],
 "metadata": {
  "kernelspec": {
   "display_name": "Python 3",
   "language": "python",
   "name": "python3"
  },
  "language_info": {
   "codemirror_mode": {
    "name": "ipython",
    "version": 3
   },
   "file_extension": ".py",
   "mimetype": "text/x-python",
   "name": "python",
   "nbconvert_exporter": "python",
   "pygments_lexer": "ipython3",
   "version": "3.7.5"
  },
  "toc": {
   "base_numbering": 1,
   "nav_menu": {},
   "number_sections": true,
   "sideBar": true,
   "skip_h1_title": false,
   "title_cell": "Table of Contents",
   "title_sidebar": "Contents",
   "toc_cell": false,
   "toc_position": {
    "height": "calc(100% - 180px)",
    "left": "10px",
    "top": "150px",
    "width": "384px"
   },
   "toc_section_display": true,
   "toc_window_display": true
  },
  "varInspector": {
   "cols": {
    "lenName": 16,
    "lenType": 16,
    "lenVar": 40
   },
   "kernels_config": {
    "python": {
     "delete_cmd_postfix": "",
     "delete_cmd_prefix": "del ",
     "library": "var_list.py",
     "varRefreshCmd": "print(var_dic_list())"
    },
    "r": {
     "delete_cmd_postfix": ") ",
     "delete_cmd_prefix": "rm(",
     "library": "var_list.r",
     "varRefreshCmd": "cat(var_dic_list()) "
    }
   },
   "types_to_exclude": [
    "module",
    "function",
    "builtin_function_or_method",
    "instance",
    "_Feature"
   ],
   "window_display": false
  }
 },
 "nbformat": 4,
 "nbformat_minor": 4
}
