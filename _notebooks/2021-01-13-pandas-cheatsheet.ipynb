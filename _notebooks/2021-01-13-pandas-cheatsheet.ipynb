{
 "cells": [
  {
   "cell_type": "markdown",
   "metadata": {},
   "source": [
    "# \"pandas cheatsheet\"\n",
    "> \"so much different ways to do something with pandas, ...\"\n",
    "- show_tags: true\n",
    "- toc: true\n",
    "- branch: master\n",
    "- badges: false\n",
    "- comments: true\n",
    "- categories: [pandas, cheatsheet]\n",
    "- image: https://learn-the-web.algonquindesign.ca/images/icon-cheat-sheet.svg"
   ]
  },
  {
   "cell_type": "markdown",
   "metadata": {},
   "source": [
    "# Data Manipulation with pandas"
   ]
  },
  {
   "cell_type": "markdown",
   "metadata": {},
   "source": [
    "## Transforming Data"
   ]
  },
  {
   "cell_type": "markdown",
   "metadata": {},
   "source": [
    "### Introducing DataFrames\n",
    "\n",
    "```python\n",
    "# Exploring a DataFrame: .head()\n",
    "dogs.head()\n",
    "\n",
    "# Exploring a DataFrame: .info()\n",
    "dogs.info()\n",
    "\n",
    "# Exploring a DataFrame: .shape\n",
    "dogs.shape\n",
    "\n",
    "# Exploring a DataFrame: .describe()\n",
    "dogs.describe()\n",
    "\n",
    "# Components of a DataFrame: .values\n",
    "dogs.values\n",
    "\n",
    "# Components of a DataFrame: .columns and .index\n",
    "dogs.columns\n",
    "\n",
    "dogs.index\n",
    "```"
   ]
  },
  {
   "cell_type": "markdown",
   "metadata": {},
   "source": [
    "### Sorting and subsetting\n",
    "\n",
    "```python\n",
    "#Sorting by multiple variables\n",
    "dogs.sort_values([\"weight_kg\", \"height_cm\"], ascending=[True, False])\n",
    "\n",
    "#Subsetting based on dates\n",
    "dogs[dogs[\"date_of_birth\"] > \"2015-01-01\"]\n",
    "\n",
    "#Subsetting based on multiple conditions\n",
    "is_lab = dogs[\"breed\"] == \"Labrador\"\n",
    "is_brown = dogs[\"color\"] == \"Brown\"\n",
    "dogs[is_lab & is_brown]\n",
    "dogs[ (dogs[\"breed\"] == \"Labrador\") & (dogs[\"color\"] == \"Brown\") ]\n",
    "\n",
    "#Subsetting using .isin()\n",
    "is_black_or_brown = dogs[\"color\"].isin([\"Black\", \"Brown\"])\n",
    "dogs[is_black_or_brown]\n",
    "```"
   ]
  },
  {
   "cell_type": "markdown",
   "metadata": {},
   "source": [
    "### New columns\n",
    "\n",
    "```python\n",
    "# Adding a new column\n",
    "dogs[\"height_m\"] = dogs[\"height_cm\"] / 100\n",
    "\n",
    "```"
   ]
  },
  {
   "cell_type": "markdown",
   "metadata": {},
   "source": [
    "## Aggregating Data"
   ]
  },
  {
   "cell_type": "markdown",
   "metadata": {},
   "source": [
    "### Summary statistics\n",
    "\n",
    "```python\n",
    "#Summarizing numerical data\n",
    "dogs[\"height_cm\"].mean()\n",
    "\n",
    ".median() , .mode()\n",
    ".min() , .max()\n",
    ".var() , .std()\n",
    ".sum()\n",
    ".quantile()\n",
    "\n",
    "#The .agg() method\n",
    "def pct30(column):\n",
    "return column.quantile(0.3)\n",
    "dogs[\"weight_kg\"].agg(pct30)\n",
    "\n",
    "#Multiple summaries\n",
    "def pct40(column):\n",
    "return column.quantile(0.4)\n",
    "dogs[\"weight_kg\"].agg([pct30, pct40])\n",
    "\n",
    "#Cumulative sum\n",
    "dogs[\"weight_kg\"].cumsum()\n",
    "\n",
    "#Cumulative statistics\n",
    ".cummax()\n",
    ".cummin()\n",
    ".cumprod()\n",
    "``` "
   ]
  },
  {
   "cell_type": "markdown",
   "metadata": {},
   "source": [
    "### Counting\n",
    "\n",
    "```python\n",
    "#Dropping duplicate names\n",
    "vet_visits.drop_duplicates(subset=\"name\")\n",
    "\n",
    "#Dropping duplicate pairs\n",
    "unique_dogs = vet_visits.drop_duplicates(subset=[\"name\", \"breed\"])\n",
    "\n",
    "#Counting\n",
    "unique_dogs[\"breed\"].value_counts(sort=True)\n",
    "```"
   ]
  },
  {
   "cell_type": "markdown",
   "metadata": {},
   "source": [
    "### Grouped summary statistics\n",
    "\n",
    "```python\n",
    "\n",
    "#Summaries by group\n",
    "dogs[dogs[\"color\"] == \"Black\"][\"weight_kg\"].mean()\n",
    "dogs[dogs[\"color\"] == \"Brown\"][\"weight_kg\"].mean()\n",
    "\n",
    "#Grouped summaries\n",
    "dogs.groupby(\"color\")[\"weight_kg\"].mean()\n",
    "\n",
    "#Multiple grouped summaries\n",
    "dogs.groupby(\"color\")[\"weight_kg\"].agg([min, max, sum])\n",
    "\n",
    "#Grouping by multiple variables\n",
    "dogs.groupby([\"color\", \"breed\"])[\"weight_kg\"].mean()\n",
    "\n",
    "#Many groups, many summaries\n",
    "dogs.groupby([\"color\", \"breed\"])[[\"weight_kg\", \"height_cm\"]].mean()\n",
    "```"
   ]
  },
  {
   "cell_type": "markdown",
   "metadata": {},
   "source": [
    "### Pivot tables\n",
    "\n",
    "```python\n",
    "\n",
    "#pivot table\n",
    "dogs.pivot_table(values=\"weight_kg\",index=\"color\")\n",
    "\n",
    "#Different statistics\n",
    "import numpy as np\n",
    "dogs.pivot_table(values=\"weight_kg\", index=\"color\", aggfunc=np.median)\n",
    "\n",
    "#Multiple statistics\n",
    "dogs.pivot_table(values=\"weight_kg\", index=\"color\", aggfunc=[np.mean, np.median])\n",
    "\n",
    "#Pivot on two variables\n",
    "dogs.groupby([\"color\", \"breed\"])[\"weight_kg\"].mean()\n",
    "dogs.pivot_table(values=\"weight_kg\", index=\"color\", columns=\"breed\")\n",
    "\n",
    "#Filling missing values in pivot tables\n",
    "dogs.pivot_table(values=\"weight_kg\", index=\"color\", columns=\"breed\", fill_value=0)\n",
    "\n",
    "# Summing with pivot tables\n",
    "dogs.pivot_table(values=\"weight_kg\", index=\"color\", columns=\"breed\",\n",
    "fill_value=0, margins=True)\n",
    "\n",
    "```"
   ]
  },
  {
   "cell_type": "markdown",
   "metadata": {},
   "source": [
    "## Slicing and Indexing"
   ]
  },
  {
   "cell_type": "markdown",
   "metadata": {},
   "source": [
    "### Explicit indexes\n",
    "\n",
    "```python\n",
    "\n",
    "# Setting a column as the index\n",
    "dogs_ind = dogs.set_index(\"name\")\n",
    "\n",
    "# Removing an index\n",
    "dogs_ind.reset_index()\n",
    "\n",
    "# Dropping an index\n",
    "dogs_ind.reset_index(drop=True)\n",
    "\n",
    "# Indexes make subsetting simpler\n",
    "dogs[dogs[\"name\"].isin([\"Bella\", \"Stella\"])]\n",
    "# versus\n",
    "dogs_ind.loc[[\"Bella\", \"Stella\"]]\n",
    "\n",
    "# Multi-level indexes a.k.a. hierarchical indexes\n",
    "dogs_ind3 = dogs.set_index([\"breed\", \"color\"])\n",
    "\n",
    "# Subset the outer level with a list\n",
    "dogs_ind3.loc[[\"Labrador\", \"Chihuahua\"]]\n",
    "\n",
    "# Subset inner levels with a list of tuples\n",
    "dogs_ind3.loc[[(\"Labrador\", \"Brown\"), (\"Chihuahua\", \"Tan\")]]\n",
    "\n",
    "# Sorting by index values\n",
    "dogs_ind3.sort_index()\n",
    "\n",
    "# Controlling sort_index\n",
    "dogs_ind3.sort_index(level=[\"color\", \"breed\"], ascending=[True, False])\n",
    "\n",
    "```"
   ]
  },
  {
   "cell_type": "markdown",
   "metadata": {},
   "source": [
    "### Slicing and subsetting with .loc and .iloc\n",
    "\n",
    "```python\n",
    "\n",
    "# Sort the index before you slice\n",
    "dogs_srt = dogs.set_index([\"breed\", \"color\"]).sort_index()\n",
    "\n",
    "# Slicing the outer index level\n",
    "dogs_srt.loc[\"Chow Chow\":\"Poodle\"]\n",
    "\n",
    "# Slicing the inner index levels correctly\n",
    "dogs_srt.loc[(\"Labrador\", \"Brown\"):(\"Schnauzer\", \"Grey\")]\n",
    "\n",
    "# Slicing columns\n",
    "dogs_srt.loc[:, \"name\":\"height_cm\"]\n",
    "\n",
    "# Slice twice\n",
    "dogs_srt.loc[\n",
    "(\"Labrador\", \"Brown\"):(\"Schnauzer\", \"Grey\"),\n",
    "\"name\":\"height_cm\"]\n",
    "\n",
    "# Dog days\n",
    "dogs = dogs.set_index(\"date_of_birth\").sort_index()\n",
    "\n",
    "# Slicing by dates\n",
    "# Get dogs with date_of_birth between 2014-08-25 and 2016-09-16\n",
    "dogs.loc[\"2014-08-25\":\"2016-09-16\"]\n",
    "\n",
    "# Slicing by partial dates\n",
    "# Get dogs with date_of_birth between 2014-01-01 and 2016-12-31\n",
    "dogs.loc[\"2014\":\"2016\"]\n",
    "\n",
    "# Subsetting by row/column number\n",
    "print(dogs.iloc[2:5, 1:4])\n",
    "\n",
    "```"
   ]
  },
  {
   "cell_type": "markdown",
   "metadata": {},
   "source": [
    "### Working with pivot tables\n",
    "\n",
    "```python\n",
    "\n",
    "# Pivoting the dog pack\n",
    "dogs_height_by_breed_vs_color = dog_pack.pivot_table(\n",
    "\"height_cm\", index=\"breed\", columns=\"color\")\n",
    "\n",
    "# The axis argument\n",
    "dogs_height_by_breed_vs_color.mean(axis=\"index\")\n",
    "\n",
    "# Calculating summary stats across columns\n",
    "dogs_height_by_breed_vs_color.mean(axis=\"columns\")\n",
    "\n",
    "```"
   ]
  },
  {
   "cell_type": "markdown",
   "metadata": {},
   "source": [
    "## Creating and Visualizing DataFrames"
   ]
  },
  {
   "cell_type": "markdown",
   "metadata": {},
   "source": [
    "### Visualizing your data\n",
    "\n",
    "```python\n",
    "\n",
    "# Histograms\n",
    "import matplotlib.pyplot as plt\n",
    "dog_pack[\"height_cm\"].hist(bins=20)\n",
    "\n",
    "# Bar plots\n",
    "avg_weight_by_breed = dog_pack.groupby(\"breed\")[\"weight_kg\"].mean()\n",
    "avg_weight_by_breed.plot(kind=\"bar\", title=\"Mean Weight by Dog Breed\")\n",
    "\n",
    "# Line plots\n",
    "sully.head()\n",
    "sully.plot(x=\"date\", y=\"weight_kg\", kind=\"line\")\n",
    "\n",
    "# Rotating axis labels\n",
    "sully.plot(x=\"date\", y=\"weight_kg\", kind=\"line\", rot=45)\n",
    "\n",
    "# Scatter plots\n",
    "dog_pack.plot(x=\"height_cm\", y=\"weight_kg\", kind=\"scatter\")\n",
    "\n",
    "# Layering plots\n",
    "dog_pack[dog_pack[\"sex\"]==\"F\"][\"height_cm\"].hist()\n",
    "dog_pack[dog_pack[\"sex\"]==\"M\"][\"height_cm\"].hist()\n",
    "\n",
    "# Add a legend\n",
    "plt.legend([\"F\", \"M\"])\n",
    "\n",
    "# Transparency\n",
    "dog_pack[dog_pack[\"sex\"]==\"F\"][\"height_cm\"].hist(alpha=0.7)\n",
    "dog_pack[dog_pack[\"sex\"]==\"M\"][\"height_cm\"].hist(alpha=0.7)\n",
    "plt.legend([\"F\", \"M\"])\n",
    "```"
   ]
  },
  {
   "cell_type": "markdown",
   "metadata": {},
   "source": [
    "### Missing values\n",
    "\n",
    "```python\n",
    "\n",
    "# Detecting missing values\n",
    "dogs.isna()\n",
    "\n",
    "# Detecting any missing values\n",
    "dogs.isna().any()\n",
    "\n",
    "# Counting missing values\n",
    "dogs.isna().sum()\n",
    "\n",
    "# Plotting missing values\n",
    "import matplotlib.pyplot as plt\n",
    "dogs.isna().sum().plot(kind=\"bar\")\n",
    "plt.show()\n",
    "\n",
    "# Removing rows containing missing values\n",
    "dogs.dropna()\n",
    "\n",
    "# Replacing missing values\n",
    "dogs.fillna(0)\n",
    "\n",
    "```"
   ]
  },
  {
   "cell_type": "markdown",
   "metadata": {},
   "source": [
    "### Reading and writing CSVs\n",
    "\n",
    "```python\n",
    "\n",
    "# CSV to DataFrame\n",
    "import pandas as pd\n",
    "new_dogs = pd.read_csv(\"new_dogs.csv\")\n",
    "\n",
    "# DataFrame to CSV\n",
    "new_dogs.to_csv(\"new_dogs_with_bmi.csv\")\n",
    "\n",
    "# CSV to dataframe parsing dates, and having date as index\n",
    "climate_change = pd.read_csv(prefix+'climate_change.csv', parse_dates=['date'], index_col='date')\n",
    "```"
   ]
  },
  {
   "cell_type": "markdown",
   "metadata": {},
   "source": [
    "# Joining data with pandas"
   ]
  },
  {
   "cell_type": "markdown",
   "metadata": {
    "heading_collapsed": true
   },
   "source": [
    "## Data merging basics"
   ]
  },
  {
   "cell_type": "markdown",
   "metadata": {
    "hidden": true
   },
   "source": [
    "### Inner join\n",
    "\n",
    "```python\n",
    "# Inner join\n",
    "wards_census = wards.merge(census, on='ward')\n",
    "\n",
    "# Suffixes\n",
    "wards_census = wards.merge(census, on='ward', suffixes=('_ward','_cen'))\n",
    "\n",
    "```"
   ]
  },
  {
   "cell_type": "markdown",
   "metadata": {
    "hidden": true
   },
   "source": [
    "### One-to-many relationships\n",
    "\n",
    "```python\n",
    "\n",
    "# One-to-many example\n",
    "ward_licenses = wards.merge(licenses, on='ward', suffixes=('_ward','_lic'))\n",
    "```"
   ]
  },
  {
   "cell_type": "markdown",
   "metadata": {
    "hidden": true
   },
   "source": [
    "### Merging multiple DataFrames\n",
    "\n",
    "```python\n",
    "# Single merge\n",
    "grants.merge(licenses, on=['address','zip'])\n",
    "\n",
    "# Merging multiple tables\n",
    "grants_licenses_ward = grants.merge(licenses, on=['address','zip']) \\\n",
    ".merge(wards, on='ward', suffixes=('_bus','_ward'))\n",
    "\n",
    "\n",
    "# Plot Results\n",
    "import matplotlib.pyplot as plt\n",
    "grant_licenses_ward.groupby('ward').agg('sum').plot(kind='bar', y='grant')\n",
    "\n",
    "\n",
    "```"
   ]
  },
  {
   "cell_type": "markdown",
   "metadata": {
    "heading_collapsed": true
   },
   "source": [
    "## Merging Tables With Different Join Types"
   ]
  },
  {
   "cell_type": "markdown",
   "metadata": {
    "hidden": true
   },
   "source": [
    "### Left join\n",
    "\n",
    "```python\n",
    "\n",
    "# Merge with left join\n",
    "movies_taglines = movies.merge(taglines, on='id', how='left')\n",
    "\n",
    "```"
   ]
  },
  {
   "cell_type": "markdown",
   "metadata": {
    "hidden": true
   },
   "source": [
    "### Other joins\n",
    "\n",
    "```python\n",
    "\n",
    "# Merge with right join\n",
    "tv_movies = movies.merge(tv_genre, how='right',\n",
    "left_on='id', right_on='movie_id')\n",
    "\n",
    "# Merge with outer join\n",
    "family_comedy = family.merge(comedy, on='movie_id', how='outer',\n",
    "suffixes=('_fam', '_com'))\n",
    "```"
   ]
  },
  {
   "cell_type": "markdown",
   "metadata": {
    "hidden": true
   },
   "source": [
    "### Merging a table to itself\n",
    "\n",
    "```python\n",
    "\n",
    "# Merging a table to itself\n",
    "original_sequels = sequels.merge(sequels, left_on='sequel', right_on='id',\n",
    "suffixes=('_org','_seq'))\n",
    "\n",
    "```"
   ]
  },
  {
   "cell_type": "markdown",
   "metadata": {
    "hidden": true
   },
   "source": [
    "### Merging on indexes\n",
    "\n",
    "```python\n",
    "\n",
    "# Setting an index\n",
    "movies = pd.read_csv('tmdb_movies.csv', index_col=['id'])\n",
    "\n",
    "# Merging on index\n",
    "movies_taglines = movies.merge(taglines, on='id', how='left')\n",
    "\n",
    "# MultiIndex merge\n",
    "samuel_casts = samuel.merge(casts, on=['movie_id','cast_id'])\n",
    "\n",
    "# Index merge with left_on and right_on\n",
    "movies_genres = movies.merge(movie_to_genres, left_on='id', left_index=True,\n",
    "right_on='movie_id', right_index=True)\n",
    "```"
   ]
  },
  {
   "cell_type": "markdown",
   "metadata": {
    "heading_collapsed": true
   },
   "source": [
    "## Advanced Merging and Concatenating"
   ]
  },
  {
   "cell_type": "markdown",
   "metadata": {
    "hidden": true
   },
   "source": [
    "### Filtering joins\n",
    "\n",
    "```python\n",
    "\n",
    "###########\n",
    "# semi-join\n",
    "\n",
    "# Step 1 - semi-join\n",
    "genres_tracks = genres.merge(top_tracks, on='gid')\n",
    "\n",
    "# Step 2 - semi-join\n",
    "genres['gid'].isin(genres_tracks['gid'])\n",
    "\n",
    "# Step 3 - semi-join\n",
    "genres_tracks = genres.merge(top_tracks, on='gid')\n",
    "top_genres = genres[genres['gid'].isin(genres_tracks['gid'])]\n",
    "\n",
    "###########\n",
    "# anti-join\n",
    "\n",
    "# Step 1 - anti-join\n",
    "genres_tracks = genres.merge(top_tracks, on='gid', how='left', indicator=True)\n",
    "\n",
    "# Step 2 - anti-join\n",
    "gid_list = genres_tracks.loc[genres_tracks['_merge'] == 'left_only', 'gid']\n",
    "\n",
    "# Step 3 - anti-join\n",
    "genres_tracks = genres.merge(top_tracks, on='gid', how='left', indicator=True)\n",
    "gid_list = genres_tracks.loc[genres_tracks['_merge'] == 'left_only','gid']\n",
    "non_top_genres = genres[genres['gid'].isin(gid_list)]\n",
    "\n",
    "```"
   ]
  },
  {
   "cell_type": "markdown",
   "metadata": {
    "hidden": true
   },
   "source": [
    "### Concatenate DataFrames together vertically\n",
    "\n",
    "```python\n",
    "# Basic concatenation\n",
    "pd.concat([inv_jan, inv_feb, inv_mar])\n",
    "\n",
    "# Ignoring the index\n",
    "pd.concat([inv_jan, inv_feb, inv_mar],\n",
    "ignore_index=True)\n",
    "\n",
    "# Setting labels to original tables\n",
    "pd.concat([inv_jan, inv_feb, inv_mar],\n",
    "ignore_index=False,\n",
    "keys=['jan','feb','mar'])\n",
    "\n",
    "# Concatenate tables with different column names\n",
    "pd.concat([inv_jan, inv_feb],\n",
    "sort=True)\n",
    "\n",
    "# Concatenate tables with different column names\n",
    "pd.concat([inv_jan, inv_feb],\n",
    "join='inner')\n",
    "\n",
    "# Append the tables\n",
    "inv_jan.append([inv_feb, inv_mar],\n",
    "ignore_index=True, \n",
    "sort=True)\n",
    "```"
   ]
  },
  {
   "cell_type": "markdown",
   "metadata": {
    "hidden": true
   },
   "source": [
    "### Verifying integrity\n",
    "\n",
    "```python\n",
    "\n",
    "# Validating merges\n",
    ".merge(validate=None) :\n",
    "Checks if merge is of specified type\n",
    "'one_to_one'\n",
    "'one_to_many'\n",
    "'many_to_one'\n",
    "'many_to_many'\n",
    "\n",
    "# Merge validate: one_to_one\n",
    "tracks.merge(specs, on='tid',\n",
    "validate='one_to_one')\n",
    "\n",
    "# Merge validate: one_to_many\n",
    "albums.merge(tracks, on='aid',\n",
    "validate='one_to_many')\n",
    "\n",
    "# Verifying concatenations\n",
    ".concat(verify_integrity=False) :\n",
    "Check whether the new concatenated index contains duplicates\n",
    "Default value is False\n",
    "\n",
    "```"
   ]
  },
  {
   "cell_type": "markdown",
   "metadata": {
    "heading_collapsed": true
   },
   "source": [
    "## Merging Ordered and Time-Series Data"
   ]
  },
  {
   "cell_type": "markdown",
   "metadata": {
    "hidden": true
   },
   "source": [
    "### Using merge_ordered()\n",
    "\n",
    "```python\n",
    "# Merging stock data\n",
    "import pandas as pd\n",
    "pd.merge_ordered(appl, mcd, on='date', suffixes=('_aapl','_mcd'))\n",
    "\n",
    "# Forward fill example\n",
    "pd.merge_ordered(appl, mcd, on='date',\n",
    "suffixes=('_aapl','_mcd'),\n",
    "fill_method='ffill')\n",
    "```"
   ]
  },
  {
   "cell_type": "markdown",
   "metadata": {
    "hidden": true
   },
   "source": [
    "### Using merge_asof()\n",
    "\n",
    "```python\n",
    "\n",
    "# merge_asof() example\n",
    "pd.merge_asof(visa, ibm, on='date_time',\n",
    "suffixes=('_visa','_ibm'))\n",
    "\n",
    "# merge_asof() example with direction\n",
    "pd.merge_asof(visa, ibm, on=['date_time'],\n",
    "suffixes=('_visa','_ibm'),\n",
    "direction='forward')\n",
    "```"
   ]
  },
  {
   "cell_type": "markdown",
   "metadata": {
    "hidden": true
   },
   "source": [
    "### Selecting data with .query()\n",
    "\n",
    "```python\n",
    "\n",
    "# Querying on a single condition\n",
    "stocks.query('nike >= 90')\n",
    "\n",
    "# Querying on a multiple conditions, \"and\", \"or\"\n",
    "stocks.query('nike > 90 and disney < 140')\n",
    "stocks.query('nike > 96 or disney < 98')\n",
    "\n",
    "# Using .query() to select text\n",
    "stocks_long.query('stock==\"disney\" or (stock==\"nike\" and close < 90)')\n",
    "```"
   ]
  },
  {
   "cell_type": "markdown",
   "metadata": {
    "hidden": true
   },
   "source": [
    "### Reshaping data with .melt()\n",
    "\n",
    "```python\n",
    "\n",
    "# Example of .melt()\n",
    "social_fin_tall = social_fin.melt(id_vars=['financial','company'])\n",
    "\n",
    "# Melting with value_vars\n",
    "social_fin_tall = social_fin.melt(id_vars=['financial','company'],\n",
    "value_vars=['2018','2017'])\n",
    "\n",
    "# Melting with column names\n",
    "social_fin_tall = social_fin.melt(id_vars=['financial','company'],\n",
    "value_vars=['2018','2017'],\n",
    "var_name=['year'], value_name='dollars')\n",
    "```"
   ]
  },
  {
   "cell_type": "code",
   "execution_count": null,
   "metadata": {
    "hidden": true
   },
   "outputs": [],
   "source": []
  }
 ],
 "metadata": {
  "kernelspec": {
   "display_name": "Python [conda env:datacamp]",
   "language": "python",
   "name": "conda-env-datacamp-py"
  },
  "language_info": {
   "codemirror_mode": {
    "name": "ipython",
    "version": 3
   },
   "file_extension": ".py",
   "mimetype": "text/x-python",
   "name": "python",
   "nbconvert_exporter": "python",
   "pygments_lexer": "ipython3",
   "version": "3.7.9"
  },
  "toc": {
   "base_numbering": 1,
   "nav_menu": {},
   "number_sections": true,
   "sideBar": true,
   "skip_h1_title": false,
   "title_cell": "Table of Contents",
   "title_sidebar": "Contents",
   "toc_cell": false,
   "toc_position": {},
   "toc_section_display": true,
   "toc_window_display": true
  }
 },
 "nbformat": 4,
 "nbformat_minor": 4
}
